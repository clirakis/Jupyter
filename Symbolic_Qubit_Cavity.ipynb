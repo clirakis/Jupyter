{
 "cells": [
  {
   "cell_type": "markdown",
   "id": "fc67d176-98dc-4c54-889e-1adcb1cee4e6",
   "metadata": {},
   "source": [
    "<br> \n",
    "<table>\n",
    "    <tr>\n",
    "        <th> Modified </th>\n",
    "        <th> By </th>\n",
    "        <th> Reason </th>\n",
    "    </tr>\n",
    "    <tr>\n",
    "        <td> 21-Jan-25</td>\n",
    "        <td> CBL </td>\n",
    "        <td> Original </td>\n",
    "    </tr>\n",
    "</table>\n",
    "<hr> \n",
    "<a href=\"https://notebook.community/rouxinol/HybridSystem/Simulation%20-%20CPW-Filter-qubit/.ipynb_checkpoints/SimPSI%20-%20Qubit-Cavity%20Dispersive%20limit-checkpoint\"> Reference Web Page </a>\n",
    "<br> \n",
    "<a href=\"http://jrjohansson.github.io/computing.html\"> Github for QC course. </a>\n",
    "<br> \n",
    "<a href=\"http://sympsi.github.io/\"> Old Sympy</a> does not work with Python3. \n",
    "<br> \n",
    "<a href=\"https://github.com/cgranade/qutip-notebooks\"> c Granade QuTiP notebooks</a> seems very old. \n",
    "<a href=\"https://github.com/qutip\"> Modern QuTiP repository. </a>\n",
    "<hr> \n",
    "\n",
    "\n",
    "<H1> Symbolic derivation qubit-cavity Hamiltonian </H1>\n",
    "\n",
    "Based on: <a href=\"http://jrjohansson.github.io\"> J. R. Johansson </a> (robert@riken.jp), and Eunjong Kim.\n",
    "<H1>Setup modules</H1>"
   ]
  },
  {
   "cell_type": "code",
   "execution_count": 2,
   "id": "e59573c8-da2e-4cab-86fb-a2f44457a8b3",
   "metadata": {},
   "outputs": [
    {
     "ename": "ModuleNotFoundError",
     "evalue": "No module named 'sympsi'",
     "output_type": "error",
     "traceback": [
      "\u001b[0;31m---------------------------------------------------------------------------\u001b[0m",
      "\u001b[0;31mModuleNotFoundError\u001b[0m                       Traceback (most recent call last)",
      "Cell \u001b[0;32mIn[2], line 2\u001b[0m\n\u001b[1;32m      1\u001b[0m \u001b[38;5;28;01mfrom\u001b[39;00m \u001b[38;5;21;01msympy\u001b[39;00m \u001b[38;5;28;01mimport\u001b[39;00m \u001b[38;5;241m*\u001b[39m\n\u001b[0;32m----> 2\u001b[0m \u001b[38;5;28;01mfrom\u001b[39;00m \u001b[38;5;21;01msympsi\u001b[39;00m \u001b[38;5;28;01mimport\u001b[39;00m \u001b[38;5;241m*\u001b[39m\n\u001b[1;32m      3\u001b[0m \u001b[38;5;28;01mfrom\u001b[39;00m \u001b[38;5;21;01msympsi\u001b[39;00m\u001b[38;5;21;01m.\u001b[39;00m\u001b[38;5;21;01mboson\u001b[39;00m \u001b[38;5;28;01mimport\u001b[39;00m \u001b[38;5;241m*\u001b[39m\n\u001b[1;32m      4\u001b[0m \u001b[38;5;28;01mfrom\u001b[39;00m \u001b[38;5;21;01msympsi\u001b[39;00m\u001b[38;5;21;01m.\u001b[39;00m\u001b[38;5;21;01mpauli\u001b[39;00m \u001b[38;5;28;01mimport\u001b[39;00m \u001b[38;5;241m*\u001b[39m\n",
      "\u001b[0;31mModuleNotFoundError\u001b[0m: No module named 'sympsi'"
     ]
    }
   ],
   "source": [
    "from sympy import *\n",
    "from sympsi import *\n",
    "from sympsi.boson import *\n",
    "from sympsi.pauli import *\n",
    "init_printing()"
   ]
  },
  {
   "cell_type": "code",
   "execution_count": null,
   "id": "9d6ed63a-e5d4-48ff-953e-1cb340b99a0c",
   "metadata": {},
   "outputs": [],
   "source": []
  }
 ],
 "metadata": {
  "kernelspec": {
   "display_name": "Python 3 (ipykernel)",
   "language": "python",
   "name": "python3"
  },
  "language_info": {
   "codemirror_mode": {
    "name": "ipython",
    "version": 3
   },
   "file_extension": ".py",
   "mimetype": "text/x-python",
   "name": "python",
   "nbconvert_exporter": "python",
   "pygments_lexer": "ipython3",
   "version": "3.12.8"
  }
 },
 "nbformat": 4,
 "nbformat_minor": 5
}
