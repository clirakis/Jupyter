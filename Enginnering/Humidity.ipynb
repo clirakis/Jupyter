{
 "cells": [
  {
   "cell_type": "markdown",
   "id": "2bc4d82d-84b1-4034-9910-73bd21424f43",
   "metadata": {},
   "source": [
    "<H1> Relative Humidity Calculations </H1> <br> \n",
    " What is the interaction between Temperature and Humidity?<br> \n",
    "<hr> \n",
    "<H2>Modification history </H2>\n",
    "<table>\n",
    "    <tr>\n",
    "        <th> Modified </th>\n",
    "        <th> BY </th>\n",
    "        <th> Reason </th>\n",
    "    </tr>\n",
    "    <tr>\n",
    "        <td> 15-Jan-25</td>\n",
    "        <td> CBL </td>\n",
    "        <td> Original </td>\n",
    "    </tr>\n",
    "    <tr>\n",
    "        <td> 08-Aug-25</td>\n",
    "        <td> CBL </td>\n",
    "        <td> Added in wet bulb method </td>\n",
    "    </tr>\n",
    "</table>\n",
    "\n",
    "<hr> \n",
    "<H2> References </H2> \n",
    "<UL>\n",
    "    <li><a href = \"https://journals.ametsoc.org/view/journals/apme/57/6/jamc-d-17-0334.1.xml\"> Basic </a> </li>\n",
    "    <li> <a href = \"https://engineering.stackexchange.com/questions/50698/how-do-i-compute-the-saturation-temperature-of-liquid-water\"> Basic EQ </a> </li>\n",
    "    <li> <a href = \"https://www.wikihow.com/Calculate-Humidity\"> Calculate Humidity</a> </li>\n",
    "    <li> <a href = \"https://www.weather.gov/media/epz/wxcalc/vaporPressure.pdf\"> weather Vapor Pressure </a></li>\n",
    "    <li> \"Marks' Standard Handbook for Mechanical Engineers\", Eighth Edition, pp. 4-28 through 4-45</li>\n",
    "    <li> <a href = \"http://python.hydrology-amsterdam.nl/moduledoc/index.html\"> Netherlands Hydrology </a></li>\n",
    "    <li> <a href = \"https://github.com/Kirubaharan/hydrology/blob/master/checkdam/meteolib.py\"> Github for above. </a></li>\n",
    "    <li> <a href=\"https://www.1728.org/relhum.htm\"> Wet Bulb </a></li>\n",
    "</UL>\n",
    "<hr>\n",
    "<H2> Notes to reader </H2>\n",
    "First, when you look at my definitions, you will see that I try to create headers for each \"def\". These are using the format called out by doxygen. These notebooks are always designed to be pulled out as stand alone python, and as such should be as carefully documented as possible. <br> \n",
    "\n",
    "Many times, there will be markdown cells explaining the thought process or internal monologs and discussing results. \n",
    "<hr>\n",
    "From Marks' handbook the following are defined:<br> \n",
    "<UL>\n",
    "    <li> Modal Humidity: f is the mass of the water vapor in mols/mol $f = {{p_v}\\over{p_a}} = ({{P_v}\\over{p_t}}-p_v$)</li>\n",
    "    <li> Specific humidity: ${W = f\\over{1.61}}$ where W is the mass of the water vapor per mass of air</li>\n",
    "    <li> Notation:\n",
    "        <ul> \n",
    "            <li> a - air </li>\n",
    "            <li> v - vapor </li>\n",
    "            <li> m - mixture </li>\n",
    "            <li> f - Modal humidity </li>\n",
    "            <li> d and w apply to dry and wet bulb measurements. </li>\n",
    "        </ul>\n",
    "    </li>\n",
    "    <li> Relative Humidity: $ r = {{p_v}\\over{p_d}}$ </li>\n",
    "    <li> Specific Humidity: $ W = {{p_v}\\over{1.61(p_t-p_v)}}$ mass/mass dry air</li>\n",
    "</UL>"
   ]
  },
  {
   "cell_type": "code",
   "execution_count": 1,
   "id": "bbd82ad6-bb26-45b5-a3e2-5e3054ca477a",
   "metadata": {},
   "outputs": [],
   "source": [
    "import numpy as np\n",
    "import matplotlib.pyplot as plt\n",
    "import scipy.constants as konst\n",
    "import math"
   ]
  },
  {
   "cell_type": "markdown",
   "id": "cb16f37f-f39f-4a86-a90f-6121662a98e2",
   "metadata": {},
   "source": [
    "<H1> Antoine Equaton </H1>\n",
    "<a href = \"https://en.wikipedia.org/wiki/Antoine_equation\"> Reference </a> <br> \n",
    "Form<br>\n",
    "$T = {B\\over{A-log_{10}(p)}} - C$\n",
    "<br> \n",
    "inverted: <br> \n",
    "$P = 10^{(A - {B\\over{(T+C)}})}$"
   ]
  },
  {
   "cell_type": "code",
   "execution_count": 2,
   "id": "c69b4e1e-852a-4fc8-a9d8-048ac122d2ae",
   "metadata": {},
   "outputs": [],
   "source": [
    "class Antoine():\n",
    "    def __init__(self):\n",
    "        self.__Water__ = True\n",
    "        self.A = 8.07131\n",
    "        self.B =   1730.63\n",
    "        self.C =    233.426\n",
    "        \n",
    "    def SetType(self, Type = True):\n",
    "        self.__Water__ = Type\n",
    "        if(Type):\n",
    "            print (\"Type set to Water!\")\n",
    "            # Water {1:100} C\n",
    "            self.A =    8.07131\n",
    "            self.B = 1730.63\n",
    "            self.C =  233.426\n",
    "        else:\n",
    "            print (\"Type set to Ethanol\")\n",
    "            # Ethanol {-57:80}C\n",
    "            self.A =    8.20417\n",
    "            self.B = 1642.89\n",
    "            self.C = 230.300\n",
    "            \n",
    "    def Temperature(self, P):\n",
    "         \"\"\"\n",
    "         from pressure \n",
    "         @param P - pressure in mm of Mercury or Torr\n",
    "         \"\"\"\n",
    "         T = self.B/(self.A - np.log10(P)) - self.C\n",
    "         return T\n",
    "         \n",
    "    def Pressure(self, T):\n",
    "        \"\"\"\n",
    "        @param T - temperature in degrees C\n",
    "        @returns vapor pressure in torr \n",
    "    \n",
    "        Ref: https://en.wikipedia.org/wiki/Antoine_equation\n",
    "        \"\"\"\n",
    "        #TK = T + 273.15\n",
    "        res = self.A - (self.B/(T+self.C))\n",
    "        P = np.power(10.0,res) # in mm of Mercury\n",
    "        return P\n",
    "\n",
    "    def __str__(self):\n",
    "        \"\"\"\n",
    "        Overloaded print function\n",
    "        \"\"\"\n",
    "        return f\"Antoine(Water=','{self.__Water__}', ' A = ', '{self.A}', ' B = ', '{self.B}', ' C = ', '{self.C}')\""
   ]
  },
  {
   "cell_type": "code",
   "execution_count": 3,
   "id": "559c5533-9133-479a-90cc-39523f56e5a9",
   "metadata": {},
   "outputs": [
    {
     "name": "stdout",
     "output_type": "stream",
     "text": [
      "Type set to Ethanol\n",
      "Antoine(Water=','False', ' A = ', '8.20417', ' B = ', '1642.89', ' C = ', '230.3')\n",
      "Antoine for:  760.0  Torr Result =  78.31920077673254\n",
      "Antoine for:  20  C. Result =  760.0\n"
     ]
    }
   ],
   "source": [
    "# test\n",
    "T  = 20    # C\n",
    "P0 = 760.0 # Torr\n",
    "CA = Antoine()\n",
    "CA.SetType(False)\n",
    "print(CA)\n",
    "T0 = CA.Temperature(P0)\n",
    "print('Antoine for: ', P0, ' Torr Result = ', T0 )\n",
    "\n",
    "print('Antoine for: ', T, ' C. Result = ', CA.Pressure(T0))"
   ]
  },
  {
   "cell_type": "code",
   "execution_count": 4,
   "id": "8b9ba187-47c7-4066-b313-152e6b24a780",
   "metadata": {},
   "outputs": [],
   "source": [
    "def VaporPressure1(T):\n",
    "    \"\"\"\n",
    "    @param T - temperature in degrees C\n",
    "    @returns vapor pressure in mb or hectoPascal (hPa)\n",
    "    What specifically this is for depends on the temperature passed in. It can be:\n",
    "    Dewpoint Temperture\n",
    "    or\n",
    "    Air Temperature\n",
    "    Ref: https://www.wikihow.com/Calculate-Humidity\n",
    "    \"\"\"\n",
    "    ir = (7.5*T)/(237.3+T)      # intermediate result, power of 10 \n",
    "    VP = 6.11 * np.power(10.0, ir)\n",
    "    return VP"
   ]
  },
  {
   "cell_type": "code",
   "execution_count": 5,
   "id": "e8edd22e-f06b-417e-b8f4-3c1595242003",
   "metadata": {},
   "outputs": [],
   "source": [
    "def RH(T,T_s):\n",
    "    \"\"\"\n",
    "    @param T   - Current air temperature\n",
    "    @param T_s - Saturation Temperature\n",
    "    @return - calculate the relative humidity in percent\n",
    "    \"\"\"\n",
    "    e  = VaporPressure1(T_s)   # actual vapor pressure based on current air temperature\n",
    "    es = VaporPressure1(T)     # saturation vapor pressure based on saturation temperature (Dew Point)\n",
    "    print(\"E: \", e, \" Es: \", es)\n",
    "    return e/es * 100.0"
   ]
  },
  {
   "cell_type": "code",
   "execution_count": 91,
   "id": "61f93727-4e0a-4db1-bdb0-378c3468c88f",
   "metadata": {},
   "outputs": [
    {
     "name": "stdout",
     "output_type": "stream",
     "text": [
      "E:  21.078038922721873  Es:  41.09732670444891\n",
      "RH:  51.288102202618724\n"
     ]
    }
   ],
   "source": [
    "# check work\n",
    "Ta  = 29.44\n",
    "Tdp = 18.33\n",
    "print(\"RH: \", RH(Ta, Tdp))\n",
    "# check!"
   ]
  },
  {
   "cell_type": "code",
   "execution_count": 14,
   "id": "5c445585-d3a5-4e7f-8b44-b56be82e8507",
   "metadata": {},
   "outputs": [],
   "source": [
    "def WetBulb(T_d, T_w):\n",
    "    \"\"\"\n",
    "    Determine relative humidity using the wet bulb method. \n",
    "    Reference: https://www.1728.org/relhum.htm\n",
    "    @param T_d - dry bulb temperature in C\n",
    "    @param T_w - wet bulb temperature in C\n",
    "    \"\"\"\n",
    "    N = 0.6687451584\n",
    "    e_d = 6.112 * np.exp((17.502*T_d)/(240.97+T_d))\n",
    "    print (\"ED: \", e_d)\n",
    "    e_w = 6.112 * np.exp((17.502*T_w)/(240.97+T_w))\n",
    "    print(\"EW: \", e_w)\n",
    "    RH = (e_w - N * (1+0.00115*T_w) * (T_d-T_w))/e_d * 100\n",
    "    return RH"
   ]
  },
  {
   "cell_type": "code",
   "execution_count": 15,
   "id": "956e3498-bd66-4c75-b3a8-063f7d15fca4",
   "metadata": {},
   "outputs": [
    {
     "name": "stdout",
     "output_type": "stream",
     "text": [
      "ED:  23.372442325987585\n",
      "EW:  17.045428679572332\n",
      "Wet bulb measurement:  58.376542029112976  %\n"
     ]
    }
   ],
   "source": [
    "# Check work. \n",
    "Td = 20\n",
    "Tw = 15\n",
    "print (\"Wet bulb measurement: \", WetBulb(Td, Tw), \" %\")"
   ]
  },
  {
   "cell_type": "markdown",
   "id": "3a596b56-4a71-4bcf-8f6e-f633c4b5a8be",
   "metadata": {},
   "source": [
    "Goff-Gratch Equation for Water <br> \n",
    "Ref: <a href=\"https://resources.wolframcloud.com/FormulaRepository/resources/GoffGratch-Equation-for-Water\"> Goff-Gratch</a> <br> \n",
    "${ln(P_w(0.000986923/hPa))\\over {ln(10)}} = -1.3816 10^{-7 } (10^{11.344(T({-0.00267989\\over{K}})+1)}-1) + 0.0081328(10^{-3.49149({373.15K\\over{T}}-1)}) - 7.90298({373.15K\\over{T}} - 1) + 2.18367 ln({373.15K\\over{T}})$\n",
    "<br> \n",
    "If you look down in this Wolfram example, you will see a closed form solution. "
   ]
  },
  {
   "cell_type": "code",
   "execution_count": 103,
   "id": "63234f73-6813-48d1-ae20-2340c1f34e92",
   "metadata": {},
   "outputs": [],
   "source": [
    "class GoffGratch():\n",
    "    def __init__(self):\n",
    "        self.__Tsteam__ = 373.15  # Kelvin\n",
    "        self.__est__    = 1013.25 # hPa\n",
    "        \n",
    "    def One(self, TC):\n",
    "        \"\"\"\n",
    "        reference: https://en.wikipedia.org/wiki/Goff%E2%80%93Gratch_equation\n",
    "        @param TC - temperature in C\n",
    "        @returns Saturation vapor pressure in bar.  \n",
    "\n",
    "        The equation works in kelvin. \n",
    "        Also, this works for non-ice (near phase change) conditions. This is simplified relative \n",
    "        to the Wolfram example. Not quite sure how to invert this. \n",
    "        \"\"\"\n",
    "        # Convert input temperature from C to K. \n",
    "        T = 273.15 + TC       # 0C = 273.15K\n",
    "        R = self.__Tsteam__/T \n",
    "        \n",
    "        Term1 = -1.381610e-7 * (np.power(10, 11.344*(T * -0.00267989)+1.0) - 1.0)\n",
    "        Term2 =  0.0081328   * (np.power(10,-3.49149*(R-1.0)))\n",
    "        Term3 = -7.90298     * (R - 1.0)\n",
    "        Term4 =  2.18367     * np.log(R)\n",
    "\n",
    "        Pwl   = (Term1 + Term2 + Term3 + Term4) * np.log(10.0)/0.000986923\n",
    "        pws   = np.power(10, Pwl)\n",
    "\n",
    "        # 1 hPa = 0.001 bar 1Pa = 1N/m^2\n",
    "        pws = pws/1000.0 # convert to bar\n",
    "        return pws\n",
    "        \n",
    "    def Two(self, TC):\n",
    "        \"\"\"\n",
    "        reference: https://resources.wolframcloud.com/FormulaRepository/resources/GoffGratch-Equation-for-Water\n",
    "        @param TC - temperature in C\n",
    "        @returns Saturation vapor pressure in bar.  \n",
    "\n",
    "        The equation works in kelvin. \n",
    "        Also, this works for non-ice (near phase change) conditions. This is simplified relative \n",
    "        to the Wolfram example. OUTPUT of Wolfram Solver\n",
    "        \"\"\"\n",
    "        # Convert C to K. \n",
    "        T = 273.15 + TC     # 0C = 273.15K\n",
    "\n",
    "        Term1 =  -1.3816e-7 * (np.power(10.0, 11.344 * (1.0 - 0.00267989*T)) - 1.0)\n",
    "        print('Term 1 ', Term1)\n",
    "        Term2 =  2.18367   * np.log(Tsteam/T)\n",
    "        print('Term 2 ', Term2)\n",
    "        Term3 = -7.90298   * (Tsteam/T - 1.0)\n",
    "        print('Term 3 ', Term3)\n",
    "\n",
    "        rv = Term1 + Term2 + Term3\n",
    "        return rv\n",
    "        \n",
    "    def Three(self):\n",
    "        print('testme')\n"
   ]
  },
  {
   "cell_type": "markdown",
   "id": "6a475a94-a82f-48a4-a270-5f90ec3ba0b9",
   "metadata": {},
   "source": [
    "<a href=\"https://www.omnicalculator.com/chemistry/vapour-pressure-of-water\"> online calculator <a>"
   ]
  },
  {
   "cell_type": "code",
   "execution_count": 105,
   "id": "c57fefa4-f7e2-4c50-98a5-c4b54c3f3812",
   "metadata": {},
   "outputs": [
    {
     "name": "stdout",
     "output_type": "stream",
     "text": [
      "testme\n"
     ]
    }
   ],
   "source": [
    "# Quick Check\n",
    "T = 21    # C\n",
    "GG = GoffGratch()\n",
    "GG.Three()\n",
    "#svp = GG.One(T)\n",
    "#print(' GG Result: ', svp)"
   ]
  },
  {
   "cell_type": "code",
   "execution_count": 12,
   "id": "b24d4967-301b-4e24-ac9c-c08a7578acb5",
   "metadata": {},
   "outputs": [
    {
     "ename": "ValueError",
     "evalue": "x, y, and format string must not be None",
     "output_type": "error",
     "traceback": [
      "\u001b[0;31m---------------------------------------------------------------------------\u001b[0m",
      "\u001b[0;31mValueError\u001b[0m                                Traceback (most recent call last)",
      "Cell \u001b[0;32mIn[12], line 5\u001b[0m\n\u001b[1;32m      3\u001b[0m T \u001b[38;5;241m=\u001b[39m np\u001b[38;5;241m.\u001b[39marange(\u001b[38;5;241m20\u001b[39m,\u001b[38;5;241m100\u001b[39m,\u001b[38;5;241m1\u001b[39m) \n\u001b[1;32m      4\u001b[0m pws \u001b[38;5;241m=\u001b[39m GoffGratch(T)\n\u001b[0;32m----> 5\u001b[0m \u001b[43mplt\u001b[49m\u001b[38;5;241;43m.\u001b[39;49m\u001b[43mplot\u001b[49m\u001b[43m(\u001b[49m\u001b[43mT\u001b[49m\u001b[43m,\u001b[49m\u001b[43mpws\u001b[49m\u001b[43m)\u001b[49m\n\u001b[1;32m      6\u001b[0m plt\u001b[38;5;241m.\u001b[39mgrid()\n",
      "File \u001b[0;32m~/.envJupyter/lib/python3.9/site-packages/matplotlib/pyplot.py:3794\u001b[0m, in \u001b[0;36mplot\u001b[0;34m(scalex, scaley, data, *args, **kwargs)\u001b[0m\n\u001b[1;32m   3786\u001b[0m \u001b[38;5;129m@_copy_docstring_and_deprecators\u001b[39m(Axes\u001b[38;5;241m.\u001b[39mplot)\n\u001b[1;32m   3787\u001b[0m \u001b[38;5;28;01mdef\u001b[39;00m \u001b[38;5;21mplot\u001b[39m(\n\u001b[1;32m   3788\u001b[0m     \u001b[38;5;241m*\u001b[39margs: \u001b[38;5;28mfloat\u001b[39m \u001b[38;5;241m|\u001b[39m ArrayLike \u001b[38;5;241m|\u001b[39m \u001b[38;5;28mstr\u001b[39m,\n\u001b[0;32m   (...)\u001b[0m\n\u001b[1;32m   3792\u001b[0m     \u001b[38;5;241m*\u001b[39m\u001b[38;5;241m*\u001b[39mkwargs,\n\u001b[1;32m   3793\u001b[0m ) \u001b[38;5;241m-\u001b[39m\u001b[38;5;241m>\u001b[39m \u001b[38;5;28mlist\u001b[39m[Line2D]:\n\u001b[0;32m-> 3794\u001b[0m     \u001b[38;5;28;01mreturn\u001b[39;00m \u001b[43mgca\u001b[49m\u001b[43m(\u001b[49m\u001b[43m)\u001b[49m\u001b[38;5;241;43m.\u001b[39;49m\u001b[43mplot\u001b[49m\u001b[43m(\u001b[49m\n\u001b[1;32m   3795\u001b[0m \u001b[43m        \u001b[49m\u001b[38;5;241;43m*\u001b[39;49m\u001b[43margs\u001b[49m\u001b[43m,\u001b[49m\n\u001b[1;32m   3796\u001b[0m \u001b[43m        \u001b[49m\u001b[43mscalex\u001b[49m\u001b[38;5;241;43m=\u001b[39;49m\u001b[43mscalex\u001b[49m\u001b[43m,\u001b[49m\n\u001b[1;32m   3797\u001b[0m \u001b[43m        \u001b[49m\u001b[43mscaley\u001b[49m\u001b[38;5;241;43m=\u001b[39;49m\u001b[43mscaley\u001b[49m\u001b[43m,\u001b[49m\n\u001b[1;32m   3798\u001b[0m \u001b[43m        \u001b[49m\u001b[38;5;241;43m*\u001b[39;49m\u001b[38;5;241;43m*\u001b[39;49m\u001b[43m(\u001b[49m\u001b[43m{\u001b[49m\u001b[38;5;124;43m\"\u001b[39;49m\u001b[38;5;124;43mdata\u001b[39;49m\u001b[38;5;124;43m\"\u001b[39;49m\u001b[43m:\u001b[49m\u001b[43m \u001b[49m\u001b[43mdata\u001b[49m\u001b[43m}\u001b[49m\u001b[43m \u001b[49m\u001b[38;5;28;43;01mif\u001b[39;49;00m\u001b[43m \u001b[49m\u001b[43mdata\u001b[49m\u001b[43m \u001b[49m\u001b[38;5;129;43;01mis\u001b[39;49;00m\u001b[43m \u001b[49m\u001b[38;5;129;43;01mnot\u001b[39;49;00m\u001b[43m \u001b[49m\u001b[38;5;28;43;01mNone\u001b[39;49;00m\u001b[43m \u001b[49m\u001b[38;5;28;43;01melse\u001b[39;49;00m\u001b[43m \u001b[49m\u001b[43m{\u001b[49m\u001b[43m}\u001b[49m\u001b[43m)\u001b[49m\u001b[43m,\u001b[49m\n\u001b[1;32m   3799\u001b[0m \u001b[43m        \u001b[49m\u001b[38;5;241;43m*\u001b[39;49m\u001b[38;5;241;43m*\u001b[39;49m\u001b[43mkwargs\u001b[49m\u001b[43m,\u001b[49m\n\u001b[1;32m   3800\u001b[0m \u001b[43m    \u001b[49m\u001b[43m)\u001b[49m\n",
      "File \u001b[0;32m~/.envJupyter/lib/python3.9/site-packages/matplotlib/axes/_axes.py:1779\u001b[0m, in \u001b[0;36mAxes.plot\u001b[0;34m(self, scalex, scaley, data, *args, **kwargs)\u001b[0m\n\u001b[1;32m   1536\u001b[0m \u001b[38;5;250m\u001b[39m\u001b[38;5;124;03m\"\"\"\u001b[39;00m\n\u001b[1;32m   1537\u001b[0m \u001b[38;5;124;03mPlot y versus x as lines and/or markers.\u001b[39;00m\n\u001b[1;32m   1538\u001b[0m \n\u001b[0;32m   (...)\u001b[0m\n\u001b[1;32m   1776\u001b[0m \u001b[38;5;124;03m(``'green'``) or hex strings (``'#008000'``).\u001b[39;00m\n\u001b[1;32m   1777\u001b[0m \u001b[38;5;124;03m\"\"\"\u001b[39;00m\n\u001b[1;32m   1778\u001b[0m kwargs \u001b[38;5;241m=\u001b[39m cbook\u001b[38;5;241m.\u001b[39mnormalize_kwargs(kwargs, mlines\u001b[38;5;241m.\u001b[39mLine2D)\n\u001b[0;32m-> 1779\u001b[0m lines \u001b[38;5;241m=\u001b[39m [\u001b[38;5;241m*\u001b[39m\u001b[38;5;28mself\u001b[39m\u001b[38;5;241m.\u001b[39m_get_lines(\u001b[38;5;28mself\u001b[39m, \u001b[38;5;241m*\u001b[39margs, data\u001b[38;5;241m=\u001b[39mdata, \u001b[38;5;241m*\u001b[39m\u001b[38;5;241m*\u001b[39mkwargs)]\n\u001b[1;32m   1780\u001b[0m \u001b[38;5;28;01mfor\u001b[39;00m line \u001b[38;5;129;01min\u001b[39;00m lines:\n\u001b[1;32m   1781\u001b[0m     \u001b[38;5;28mself\u001b[39m\u001b[38;5;241m.\u001b[39madd_line(line)\n",
      "File \u001b[0;32m~/.envJupyter/lib/python3.9/site-packages/matplotlib/axes/_base.py:296\u001b[0m, in \u001b[0;36m_process_plot_var_args.__call__\u001b[0;34m(self, axes, data, *args, **kwargs)\u001b[0m\n\u001b[1;32m    294\u001b[0m     this \u001b[38;5;241m+\u001b[39m\u001b[38;5;241m=\u001b[39m args[\u001b[38;5;241m0\u001b[39m],\n\u001b[1;32m    295\u001b[0m     args \u001b[38;5;241m=\u001b[39m args[\u001b[38;5;241m1\u001b[39m:]\n\u001b[0;32m--> 296\u001b[0m \u001b[38;5;28;01myield from\u001b[39;00m \u001b[38;5;28;43mself\u001b[39;49m\u001b[38;5;241;43m.\u001b[39;49m\u001b[43m_plot_args\u001b[49m\u001b[43m(\u001b[49m\n\u001b[1;32m    297\u001b[0m \u001b[43m    \u001b[49m\u001b[43maxes\u001b[49m\u001b[43m,\u001b[49m\u001b[43m \u001b[49m\u001b[43mthis\u001b[49m\u001b[43m,\u001b[49m\u001b[43m \u001b[49m\u001b[43mkwargs\u001b[49m\u001b[43m,\u001b[49m\u001b[43m \u001b[49m\u001b[43mambiguous_fmt_datakey\u001b[49m\u001b[38;5;241;43m=\u001b[39;49m\u001b[43mambiguous_fmt_datakey\u001b[49m\u001b[43m)\u001b[49m\n",
      "File \u001b[0;32m~/.envJupyter/lib/python3.9/site-packages/matplotlib/axes/_base.py:447\u001b[0m, in \u001b[0;36m_process_plot_var_args._plot_args\u001b[0;34m(self, axes, tup, kwargs, return_kwargs, ambiguous_fmt_datakey)\u001b[0m\n\u001b[1;32m    444\u001b[0m \u001b[38;5;66;03m# Don't allow any None value; these would be up-converted to one\u001b[39;00m\n\u001b[1;32m    445\u001b[0m \u001b[38;5;66;03m# element array of None which causes problems downstream.\u001b[39;00m\n\u001b[1;32m    446\u001b[0m \u001b[38;5;28;01mif\u001b[39;00m \u001b[38;5;28many\u001b[39m(v \u001b[38;5;129;01mis\u001b[39;00m \u001b[38;5;28;01mNone\u001b[39;00m \u001b[38;5;28;01mfor\u001b[39;00m v \u001b[38;5;129;01min\u001b[39;00m tup):\n\u001b[0;32m--> 447\u001b[0m     \u001b[38;5;28;01mraise\u001b[39;00m \u001b[38;5;167;01mValueError\u001b[39;00m(\u001b[38;5;124m\"\u001b[39m\u001b[38;5;124mx, y, and format string must not be None\u001b[39m\u001b[38;5;124m\"\u001b[39m)\n\u001b[1;32m    449\u001b[0m kw \u001b[38;5;241m=\u001b[39m {}\n\u001b[1;32m    450\u001b[0m \u001b[38;5;28;01mfor\u001b[39;00m prop_name, val \u001b[38;5;129;01min\u001b[39;00m \u001b[38;5;28mzip\u001b[39m((\u001b[38;5;124m'\u001b[39m\u001b[38;5;124mlinestyle\u001b[39m\u001b[38;5;124m'\u001b[39m, \u001b[38;5;124m'\u001b[39m\u001b[38;5;124mmarker\u001b[39m\u001b[38;5;124m'\u001b[39m, \u001b[38;5;124m'\u001b[39m\u001b[38;5;124mcolor\u001b[39m\u001b[38;5;124m'\u001b[39m),\n\u001b[1;32m    451\u001b[0m                           (linestyle, marker, color)):\n",
      "\u001b[0;31mValueError\u001b[0m: x, y, and format string must not be None"
     ]
    },
    {
     "data": {
      "image/png": "[encoded data removed]",
      "text/plain": [
       "<Figure size 640x480 with 1 Axes>"
      ]
     },
     "metadata": {},
     "output_type": "display_data"
    }
   ],
   "source": [
    "# Test result\n",
    "# T in C from 0-100\n",
    "T = np.arange(20,100,1) \n",
    "pws = GoffGratch(T)\n",
    "plt.plot(T,pws)\n",
    "plt.grid()"
   ]
  },
  {
   "cell_type": "code",
   "execution_count": 19,
   "id": "1bf976dd-e83c-4cdf-88cc-e5c5beae9347",
   "metadata": {},
   "outputs": [
    {
     "data": {
      "image/png": "[encoded data removed]",
      "text/plain": [
       "<Figure size 640x480 with 1 Axes>"
      ]
     },
     "metadata": {},
     "output_type": "display_data"
    }
   ],
   "source": [
    "# do a RH plot\n",
    "T = np.arange(0,100,1) \n",
    "TI = T + 273.15 # offset to Kelvin at 0C\n",
    "pws = GoffGratch(TI)\n",
    "pp  = VaporPressure1(T)\n",
    "RH  = pp/pws * 100\n",
    "plt.plot(T,pp, pws)\n",
    "plt.grid()\n",
    "# oy these are the same. "
   ]
  },
  {
   "cell_type": "code",
   "execution_count": null,
   "id": "2b573f15-de1a-4188-9dd2-5890d8ca8485",
   "metadata": {},
   "outputs": [],
   "source": []
  }
 ],
 "metadata": {
  "kernelspec": {
   "display_name": "Python 3 (ipykernel)",
   "language": "python",
   "name": "python3"
  },
  "language_info": {
   "codemirror_mode": {
    "name": "ipython",
    "version": 3
   },
   "file_extension": ".py",
   "mimetype": "text/x-python",
   "name": "python",
   "nbconvert_exporter": "python",
   "pygments_lexer": "ipython3",
   "version": "3.13.5"
  }
 },
 "nbformat": 4,
 "nbformat_minor": 5
}
