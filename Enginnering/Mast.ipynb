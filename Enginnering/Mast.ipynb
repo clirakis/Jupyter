{
 "cells": [
  {
   "cell_type": "markdown",
   "id": "67aa090f-2e47-4e4e-92aa-a6c3ca93ec69",
   "metadata": {},
   "source": [
    "<H1> Mast</H1> <br> \n",
    "Deterine mast diameter as function of height and load based on a hollow tube. <br> \n",
    "<hr> \n",
    "<H2>Modification history </H2><br> \n",
    "25-May-24   CBL Original <br> \n",
    "<hr> \n",
    "<H2> References </H2> \n",
    "<ul>\n",
    "    <li> <a href=\"https://en.m.wikipedia.org/wiki/Section_modulus\"> Section Modulus </a> </li>\n",
    "    <li> <a href=\"https://www.physicsforums.com/threads/calculate-deflection-for-aluminium-tube-beam-inertia-mass-d.1009958/\"> deflection </a</li>\n",
    "    <li> <a href=\"http://nguyen.hong.hai.free.fr/EBOOKS/SCIENCE%20AND%20ENGINEERING/MECANIQUE/THEORIE%20DE%20BASE/Roark's%20Formulas%20For%20Stress%20And%20Strain.pdf\"> Stress and Strain </a></li>\n",
    "    <li> <a href=\"https://www.engineersedge.com/calculators/section_square_case_12.htm\" > TUBE Equations </li>\n",
    "    <li> <a href=\"https://www.youtube.com/watch?v=MvBqCeZllpQ\"> Video</a></li>\n",
    "    <li> <a href=\"https://www.ilearnengineering.com/civil/what-is-a-cantilever-beam-and-how-can-we-calculate-its-deflection\" > Cantilever beam</a></li>\n",
    "</ul>\n",
    "<hr> \n",
    "<H2> Equations </H2>\n",
    "<H3> Hollow tube deflection </H3>\n",
    "$ Deflection = {{WL^3}\\over{4EI}}$ <br> \n",
    "Where: <br> \n",
    "<ul>\n",
    "    <li> W = Load</li>\n",
    "    <li> L = length </li>\n",
    "    <li> E = Young's modulus</li>\n",
    "    <li> I = Moment of inertia </li>\n",
    "</ul>\n",
    "<H3> Moment of Inertia </H3>\n",
    "$ I = {M\\over 2} ({R_1}^2 + {R_2}^2) $ <br> \n",
    "Where: <br> \n",
    "<ul>\n",
    "    <li> M = mass</li>\n",
    "    <li> $R_1$ = bore radius</li>\n",
    "    <li> $R_2$ = Tube radius </li>\n",
    "</ul>"
   ]
  },
  {
   "cell_type": "code",
   "execution_count": 1,
   "id": "16a9592b-af17-46ed-b75f-7761684d93c2",
   "metadata": {},
   "outputs": [],
   "source": [
    "# includes\n",
    "import numpy as np\n",
    "import matplotlib.pyplot as plt\n",
    "import math"
   ]
  },
  {
   "cell_type": "code",
   "execution_count": 9,
   "id": "c5e460ff-0210-4be0-b6c6-347924f961f1",
   "metadata": {},
   "outputs": [],
   "source": [
    "def AreaMoment(OD, ID):\n",
    "    \"\"\"\n",
    "    @param OD - outer diameter of pipe \n",
    "    @param ID - inner diameter of pipe \n",
    "    Returns Area moment of inertia section properties. in units^4 \n",
    "    TESTED: 31-May-24\n",
    "    \"\"\"\n",
    "    rv = np.pi * (np.power(OD,4) - np.power(ID,4))/64\n",
    "    return rv"
   ]
  },
  {
   "cell_type": "code",
   "execution_count": 12,
   "id": "79563cac-563f-42d7-869f-36b773bf0e73",
   "metadata": {},
   "outputs": [],
   "source": [
    "def SectionModulus(OD, ID):\n",
    "    \"\"\"\n",
    "    @param OD - outer diameter of pipe\n",
    "    @param ID - inner diameter of pipe\n",
    "    Returns Section modulus in units^3\n",
    "    TESTED: 31-May-24\n",
    "    \"\"\"\n",
    "    rv = np.pi * (np.power(OD,4) - np.power(ID,4))/(32*OD)\n",
    "    return rv"
   ]
  },
  {
   "cell_type": "code",
   "execution_count": 19,
   "id": "1b1996fc-5a59-4461-bc53-9bfacda1f453",
   "metadata": {},
   "outputs": [],
   "source": [
    "def RadiusOfGyration(OD, ID):\n",
    "    \"\"\"\n",
    "    @param OD - outer diameter of pipe\n",
    "    @param ID - inner diameter of pipe\n",
    "    Returns Radius of gyration in units\n",
    "    TESTED: 31-May-24\n",
    "    \"\"\"\n",
    "    rv = np.sqrt(np.power(OD,2) + np.power(ID,2))/4\n",
    "    return rv"
   ]
  },
  {
   "cell_type": "code",
   "execution_count": 24,
   "id": "2dbfaac5-5155-47ec-aa52-6b5496bbc5a6",
   "metadata": {},
   "outputs": [],
   "source": [
    "def TArea(OD, ID):\n",
    "    \"\"\"\n",
    "    @param OD - outer diameter of pipe\n",
    "    @param ID - inner diameter of pipe\n",
    "    Returns Area in units^2\n",
    "    TESTED: 31-May-24\n",
    "    \"\"\"\n",
    "    rv = np.pi*(np.power(OD,2) - np.power(ID,2))/4\n",
    "    return rv"
   ]
  },
  {
   "cell_type": "code",
   "execution_count": 16,
   "id": "9b0ca950-6baf-4eab-a45e-11fab7a384da",
   "metadata": {},
   "outputs": [],
   "source": [
    "def Inertia(Mass, R1, R2):\n",
    "    \"\"\"\n",
    "    Return the moment of inertia of a hollow tube.  Return value is kg m^2\n",
    "    @param Mass - mass of tube (kg)\n",
    "    @param R1 - Inner radius (m)\n",
    "    @param R2 - Outer radius (m) \n",
    "    Returns Inertia in kg m^2\n",
    "    \"\"\"\n",
    "    I = 0.5*Mass*(np.power(R1,2)+np.power(R2,2))\n",
    "    return I"
   ]
  },
  {
   "cell_type": "code",
   "execution_count": 67,
   "id": "48f68120-73ac-458a-a8b0-247466f46cf0",
   "metadata": {},
   "outputs": [],
   "source": [
    "def Deflection2(X, Force, Length, Youngs, OD, ID):\n",
    "    I = AreaMoment(OD, ID)\n",
    "    return Force/(6*Youngs*I)*np.power(X,2)*(3*Length-X)"
   ]
  },
  {
   "cell_type": "code",
   "execution_count": 63,
   "id": "239728a0-3b66-4515-a3c5-bcd81400101c",
   "metadata": {},
   "outputs": [],
   "source": [
    "def Deflection(X, Force, Length, Youngs, OD, ID):\n",
    "    \"\"\"\n",
    "    Return the deflection in m at the top of the mast given: \n",
    "    @param X - distance along beam of length L. \n",
    "    @param Force in Newtons at X\n",
    "    @param Length in meters of mast\n",
    "    @param Youngs - Youngs modulus in GPa \n",
    "    Returns deflection in m assuming one end is fixed and the other free. \n",
    "    \"\"\"\n",
    "    I = AreaMoment(OD, ID)\n",
    "    print(\"Area moment: \", np.power(X,3))\n",
    "    Deflection = Force/(6*Youngs*I) * (-1.0*np.power(X,3.0) + 3*np.power(Length,2)*X - 2*np.power(Length,3)) \n",
    "    return Deflection"
   ]
  },
  {
   "cell_type": "code",
   "execution_count": null,
   "id": "f47db20f-8ba0-4e2f-bc0f-d9aebcf5fdba",
   "metadata": {},
   "outputs": [],
   "source": []
  },
  {
   "cell_type": "code",
   "execution_count": null,
   "id": "7deaa7f4-754d-4b03-b773-529dfc74089f",
   "metadata": {},
   "outputs": [],
   "source": []
  },
  {
   "cell_type": "code",
   "execution_count": 61,
   "id": "10069c59-5e1a-4ad5-8d20-b5c297b79b2c",
   "metadata": {},
   "outputs": [
    {
     "name": "stdout",
     "output_type": "stream",
     "text": [
      "OD:  25.4  ID:  22.224999999999998\n",
      "Area Moment:  8455.017673929566\n",
      "Section Modulus:  665.7494231440603\n",
      "Radius of gyration:  8.437678238858128\n",
      "Area:  118.7595654134761\n"
     ]
    }
   ],
   "source": [
    "#\n",
    "# Section Modulus aluminum\n",
    "# Getting data from online metals: https://www.onlinemetals.com/en/buy/aluminum-round-tube-6061\n",
    "OD = 1.0 *25.4        # mm \n",
    "Wall   = 0.125 *25.4  # mm\n",
    "ID = OD - Wall\n",
    "print(\"OD: \", OD, \" ID: \", ID)\n",
    "MArea = AreaMoment(OD, ID)\n",
    "print(\"Area Moment: \", MArea)\n",
    "SM = SectionModulus(OD, ID)\n",
    "print(\"Section Modulus: \", SM)\n",
    "RG = RadiusOfGyration(OD,ID)\n",
    "print(\"Radius of gyration: \", RG)\n",
    "A = TArea(OD, ID)\n",
    "print(\"Area: \", A)"
   ]
  },
  {
   "cell_type": "code",
   "execution_count": 70,
   "id": "4638eaa0-5e24-4890-ba8b-ab03ad691407",
   "metadata": {},
   "outputs": [
    {
     "name": "stdout",
     "output_type": "stream",
     "text": [
      "XS:  0.00018803597857133762  m^2\n",
      "Deflection:  321454.7483267224\n"
     ]
    }
   ],
   "source": [
    "#\n",
    "# test for T6061 aluminum\n",
    "# Getting data from online metals: https://www.onlinemetals.com/en/buy/aluminum-round-tube-6061\n",
    "OD      = 6.0 * 0.0254        # inches converted to meters\n",
    "Wall    = 0.125 * 0.0254\n",
    "ID      = OD - Wall\n",
    "Length  = 10.0\n",
    "Density = 2.7 # value in g/cm^3 \n",
    "Density = Density * 1.0e-3 * 1.0e6 # convert to kg/m^3\n",
    "Youngs  = 68.9 # GPa  - Pascal is in N/m^2\n",
    "CrossSection = TArea(OD/2, ID/2)\n",
    "print (\"XS: \", CrossSection, \" m^2\")\n",
    "Force   = 1.0 * 9.8    # Newtons, 10kG of mass\n",
    "#X = np.arange(0.1, 10.0, 0.1)\n",
    "X = 1.0\n",
    "Def     = Deflection2(X, Force, Length, Youngs, OD, ID)\n",
    "print(\"Deflection: \", Def)\n",
    "#plt.plot(X, Def)\n",
    "#plt.grid()"
   ]
  },
  {
   "cell_type": "code",
   "execution_count": null,
   "id": "10bb9b64-af0d-47b0-8940-669089f94e55",
   "metadata": {},
   "outputs": [],
   "source": []
  }
 ],
 "metadata": {
  "kernelspec": {
   "display_name": "Python 3 (ipykernel)",
   "language": "python",
   "name": "python3"
  },
  "language_info": {
   "codemirror_mode": {
    "name": "ipython",
    "version": 3
   },
   "file_extension": ".py",
   "mimetype": "text/x-python",
   "name": "python",
   "nbconvert_exporter": "python",
   "pygments_lexer": "ipython3",
   "version": "3.12.8"
  }
 },
 "nbformat": 4,
 "nbformat_minor": 5
}
