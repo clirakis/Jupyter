{
 "cells": [
  {
   "cell_type": "code",
   "execution_count": 1,
   "id": "5859f675",
   "metadata": {},
   "outputs": [],
   "source": [
    "import numpy as np\n",
    "import matplotlib.pyplot as plt\n",
    "from scipy import signal\n",
    "import scipy.io.wavfile"
   ]
  },
  {
   "cell_type": "markdown",
   "id": "08a4b36c",
   "metadata": {},
   "source": [
    "<hr>\n",
    "Modified   By   Reason <br>\n",
    "14-Jan-23  CBL  Original, https://swharden.com/blog/2020-09-23-signal-filtering-in-python/ <br>\n",
    "Testing my c code.\n",
    "<hr>"
   ]
  },
  {
   "cell_type": "code",
   "execution_count": 3,
   "id": "c1e2ffd3",
   "metadata": {},
   "outputs": [
    {
     "name": "stdout",
     "output_type": "stream",
     "text": [
      "a:  [ 1.         -3.18063855  3.86119435 -2.11215536  0.43826514]\n",
      "b:  [0.0004166 0.0016664 0.0024996 0.0016664 0.0004166]\n"
     ]
    },
    {
     "data": {
      "text/plain": [
       "'\\nfiltfilt - \\nb (N,) array_like\\na (N,) array_like\\nx array_like, The array of data to be filtered.\\n'"
      ]
     },
     "execution_count": 3,
     "metadata": {},
     "output_type": "execute_result"
    }
   ],
   "source": [
    "\"\"\"\n",
    " apply a 3-pole lowpass filter at 0.1x Nyquist frequency\n",
    " butter arguments: \n",
    " NPoles\n",
    " Wn <array_like>  The critical frequency or frequencies.\n",
    " btype{‘lowpass’, ‘highpass’, ‘bandpass’, ‘bandstop’}\n",
    " analog bool\n",
    " output{‘ba’, ‘zpk’, ‘sos’}\n",
    " \n",
    " returns\n",
    " b,a <ndarray, ndarray> Numerator (b) and denominator (a) polynomials of the IIR filter. \n",
    "    Only returned if output='ba'.\n",
    "    \n",
    "    For lowpass and highpass filters, Wn is a scalar; for bandpass and bandstop filters, Wn is a length-2 sequence.\n",
    "    For a Butterworth filter, this is the point at which the gain drops to 1/sqrt(2) that of the passband \n",
    "       (the “-3 dB point”). For digital filters, if fs is not specified, Wn units are normalized from 0 to 1, \n",
    "       where 1 is the Nyquist frequency \n",
    "       (Wn is thus in half cycles / sample and defined as 2*critical frequencies / fs). \n",
    "       If fs is specified, Wn is in the same units as fs.\n",
    "\n",
    "    The second argument here is 0.1 for lowpass and is 0.1*fs\n",
    "\n",
    "\"\"\"\n",
    "b, a = scipy.signal.butter(4, 0.1)\n",
    "print(\"a: \", a)\n",
    "print(\"b: \", b)\n",
    "\"\"\"\n",
    "filtfilt - \n",
    "b (N,) array_like\n",
    "a (N,) array_like\n",
    "x array_like, The array of data to be filtered.\n",
    "\"\"\"\n",
    "#filtered = scipy.signal.filtfilt(b, a, data)\n"
   ]
  },
  {
   "cell_type": "markdown",
   "id": "507996e2",
   "metadata": {},
   "source": [
    "The second argument passed into the butter method customizes the cut-off frequency of the Butterworth filter. This value (Wn) is a number between 0 and 1 representing the fraction of the Nyquist frequency to use for the filter. Note that Nyquist frequency is half of the sample rate. As this fraction increases, the cutoff frequency increases. You can get fancy and express this value as 2 * Hz / sample rate."
   ]
  },
  {
   "cell_type": "markdown",
   "id": "19c04784",
   "metadata": {},
   "source": [
    "Low-pass and high-pass filters can be selected simply by customizing the third argument passed into the filter. The second argument indicates frequency (as fraction of Nyquist frequency, half the sample rate). Passing a list of two values in for the second argument allows for band-pass filtering of a signal."
   ]
  },
  {
   "cell_type": "code",
   "execution_count": null,
   "id": "f6e6883a",
   "metadata": {},
   "outputs": [],
   "source": []
  }
 ],
 "metadata": {
  "kernelspec": {
   "display_name": "Python 3 (ipykernel)",
   "language": "python",
   "name": "python3"
  },
  "language_info": {
   "codemirror_mode": {
    "name": "ipython",
    "version": 3
   },
   "file_extension": ".py",
   "mimetype": "text/x-python",
   "name": "python",
   "nbconvert_exporter": "python",
   "pygments_lexer": "ipython3",
   "version": "3.10.6"
  }
 },
 "nbformat": 4,
 "nbformat_minor": 5
}
