{
 "cells": [
  {
   "cell_type": "code",
   "execution_count": null,
   "metadata": {},
   "outputs": [],
   "source": [
    "#### import numpy as np\n",
    "import pandas as pd\n",
    "import matplotlib.pyplot as plt\n",
    "# seaborne is a statistical plotting package \n",
    "# https://seaborn.pydata.org/\n",
    "import seaborn as sns \n",
    "#sns.set(sytle=\"darkgrid\")\n",
    "# use grid layout functions. \n",
    "import matplotlib.gridspec as gridspec\n",
    "# a bunch of ueful functions for plotting data https://matplotlib.org/stable/api/mlab_api.html\n",
    "import matplotlib.mlab as mlab\n",
    "# \n",
    "# 27-Dec-21  CBL state space modeling of classical processes.\n",
    "#\n",
    "\n",
    "# Time step\n",
    "dt = 0.05\n",
    "ts = np.arange(0,10,dt)  # give me a set of time points with spacing dt. \n",
    "#\n",
    "# Matrix to describe the process\n",
    "# \n",
    "# Initial Position, make sure that it is a numpy style array and not a python list. \n",
    "X0 = np.array([0, 0, 0], dtype=np.float)\n",
    "# Velocity (could be speed and heading theta = 90-H)\n",
    "V0 = np.array([1.0, 0, 0], dtype=np.float)\n",
    "# Acceleration\n",
    "A0 = np.array([1.0, 0.0, 0.0], dtype=np.float)\n",
    "# 9x9 state matrix.\n",
    "# Initial starting matrix\n",
    "P0 = np.array([[X0[0],V0[0],A0[0]],\n",
    "               [X0[1],V0[1],A0[1]],\n",
    "               [X0[2],V0[2],A0[2]]], dtype=np.float)\n",
    "# Time array, how does the system advance with time?\n",
    "PT = np.array([[1.0,dt,dt*dt],\n",
    "     [1.0,dt,dt*dt],\n",
    "     [1.0,dt,dt*dt]], dtype=np.float)\n",
    "# And the matrix to advance the state of the position vector \n",
    "PA = np.multiply(P0,PT)  # element by element multiply.\n",
    "XA = np.eye(9,9)"
   ]
  },
  {
   "cell_type": "code",
   "execution_count": 125,
   "metadata": {},
   "outputs": [
    {
     "data": {
      "text/plain": [
       "array([[0.    , 0.05  , 0.0025],\n",
       "       [0.    , 0.    , 0.    ],\n",
       "       [0.    , 0.    , 0.    ]])"
      ]
     },
     "execution_count": 125,
     "metadata": {},
     "output_type": "execute_result"
    }
   ],
   "source": [
    "# Advance the state space matrix. \n",
    "# Current States setup\n",
    "X = np.array([0,0,0], dtype=np.float)\n",
    "P = np.array(P0)\n",
    "# Each step the position and velocity may change depending on previous state. \n",
    "#\n",
    "# Advance system state\n",
    "#P = np.multiply(P0,PA)\n",
    "#P = P+PA*P\n",
    "PA\n",
    "#X = X + X*P\n",
    "#X"
   ]
  },
  {
   "cell_type": "code",
   "execution_count": null,
   "metadata": {},
   "outputs": [],
   "source": []
  },
  {
   "cell_type": "code",
   "execution_count": null,
   "metadata": {},
   "outputs": [],
   "source": []
  }
 ],
 "metadata": {
  "kernelspec": {
   "display_name": "Python 3",
   "language": "python",
   "name": "python3"
  },
  "language_info": {
   "codemirror_mode": {
    "name": "ipython",
    "version": 3
   },
   "file_extension": ".py",
   "mimetype": "text/x-python",
   "name": "python",
   "nbconvert_exporter": "python",
   "pygments_lexer": "ipython3",
   "version": "3.6.9"
  }
 },
 "nbformat": 4,
 "nbformat_minor": 2
}
