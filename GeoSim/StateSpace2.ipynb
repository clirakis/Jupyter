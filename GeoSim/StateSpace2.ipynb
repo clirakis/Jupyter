{
 "cells": [
  {
   "cell_type": "code",
   "execution_count": 20,
   "metadata": {},
   "outputs": [],
   "source": [
    "import numpy as np\n",
    "import pandas as pd\n",
    "import matplotlib.pyplot as plt\n",
    "# seaborne is a statistical plotting package \n",
    "# https://seaborn.pydata.org/\n",
    "import seaborn as sns \n",
    "#sns.set(sytle=\"darkgrid\")\n",
    "# use grid layout functions. \n",
    "import matplotlib.gridspec as gridspec\n",
    "# a bunch of ueful functions for plotting data https://matplotlib.org/stable/api/mlab_api.html\n",
    "import matplotlib.mlab as mlab\n",
    "# \n",
    "# 27-Dec-21  CBL state space modeling of classical processes.\n",
    "#\n",
    "\n",
    "# Time step\n",
    "dt = 0.05\n",
    "#\n",
    "# Matrix to describe the process\n",
    "# \n",
    "# Initial Position, make sure that it is a numpy style array and not a python list. \n",
    "X0 = np.array([0, 0, 0], dtype=np.float)\n",
    "# Velocity (could be speed and heading theta = 90-H)\n",
    "V0 = np.array([1.0, 0, 0], dtype=np.float)\n",
    "# Acceleration\n",
    "A0 = np.array([1.0, 0.0, 0.0], dtype=np.float)\n",
    "#\n",
    "# 9x9 state matrix advance the state\n",
    "# Use matrix because it does matrix math. \n",
    "# arrays do element by element multiplication with the operator *\n",
    "# Could use array and then use the np.dot(A,B) operator\n",
    "#\n",
    "P = np.matrix([\n",
    "            [1.0, 0.0, 0.0,  dt, 0.0, 0.0, dt*dt,   0.0,   0.0],\n",
    "            [0.0, 1.0, 0.0, 0.0,  dt, 0.0,   0.0, dt*dt,   0.0],\n",
    "            [0.0, 0.0, 1.0, 0.0, 0.0,  dt,   0.0,   0.0, dt*dt],\n",
    "            [0.0, 0.0, 0.0, 1.0, 0.0, 0.0,    dt,   0.0,   0.0],\n",
    "            [0.0, 0.0, 0.0, 0.0, 1.0, 0.0,   0.0,    dt,   0.0],\n",
    "            [0.0, 0.0, 0.0, 0.0, 0.0, 1.0,   0.0,   0.0,    dt],\n",
    "            [0.0, 0.0, 0.0, 0.0, 0.0, 0.0,   1.0,   0.0,   0.0],\n",
    "            [0.0, 0.0, 0.0, 0.0, 0.0, 0.0,   0.0,   1.0,   0.0],\n",
    "            [0.0, 0.0, 0.0, 0.0, 0.0, 0.0,   0.0,   0.0,   1.0]],dtype=float)"
   ]
  },
  {
   "cell_type": "code",
   "execution_count": 32,
   "metadata": {},
   "outputs": [],
   "source": [
    "# redo this cell to reinitialize the initial conditions on X. \n",
    "# Initialize full X vector\n",
    "# while I use this format here, I suppose I could have it as a row array and do a transpose. \n",
    "#\n",
    "X = np.matrix([[X0[0]], [X0[1]], [X0[2]], [V0[0]], [V0[1]], [V0[2]], [A0[0]], [A0[1]], [A0[2]]], dtype=float)"
   ]
  },
  {
   "cell_type": "code",
   "execution_count": 33,
   "metadata": {},
   "outputs": [
    {
     "data": {
      "text/plain": [
       "matrix([[0.0525],\n",
       "        [0.    ],\n",
       "        [0.    ],\n",
       "        [1.05  ],\n",
       "        [0.    ],\n",
       "        [0.    ],\n",
       "        [1.    ],\n",
       "        [0.    ],\n",
       "        [0.    ]])"
      ]
     },
     "execution_count": 33,
     "metadata": {},
     "output_type": "execute_result"
    }
   ],
   "source": [
    "# repeat this cell for continued advancement of the state. \n",
    "X = P*X\n",
    "X"
   ]
  },
  {
   "cell_type": "code",
   "execution_count": null,
   "metadata": {},
   "outputs": [],
   "source": []
  }
 ],
 "metadata": {
  "kernelspec": {
   "display_name": "Python 3",
   "language": "python",
   "name": "python3"
  },
  "language_info": {
   "codemirror_mode": {
    "name": "ipython",
    "version": 3
   },
   "file_extension": ".py",
   "mimetype": "text/x-python",
   "name": "python",
   "nbconvert_exporter": "python",
   "pygments_lexer": "ipython3",
   "version": "3.6.9"
  }
 },
 "nbformat": 4,
 "nbformat_minor": 2
}
