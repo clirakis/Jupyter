{
 "cells": [
  {
   "cell_type": "markdown",
   "id": "475e430e-d6d8-43a2-88e2-a5b7808e64fa",
   "metadata": {},
   "source": [
    "<H1>RNG</H1> \n",
    "Use a single qubit (or multiples) to create a series of random numbers. Going to try out a number of ideas. <br> \n",
    "<ol>\n",
    "    <li> just sample a series of qubits without initialization</li>\n",
    "    <li> initalize to ground state and allow $T_2$ (shorter than $T_1$) to evolve, ie do a Hadamard then a X or Y rotation</li>\n",
    "</ol>\n",
    "<hr>\n",
    "<H2>Modification history </H2><br> \n",
    "<table>\n",
    "    <tr>\n",
    "        <th> Modified </th>\n",
    "        <th> By </th>\n",
    "        <th> Reason </th>\n",
    "    </tr>\n",
    "    <tr> \n",
    "        <td> 20-Aug-25 </td>\n",
    "        <td> CBL </td> \n",
    "        <td> Original </td>\n",
    "    </tr>\n",
    "</table>\n",
    "<hr> \n",
    "<H2> References </H2> \n",
    "<a href=\"https://docs.quantum.ibm.com/guides/install-qiskit\"> Install Qikit </a> <br> \n",
    "<a href=\"https://docs.quantum.ibm.com/guides/hello-world\"> qiskit hello world </a> <br> \n",
    "<a href=\"https://qiskit-community.github.io/qiskit-dynamics/\"> Qiskit dynamics</a> <br> \n",
    "<a href=\"https://pypi.org/project/qiskit/\"> Pypi qiskit page</a> <br> \n",
    "<a href=\"https://docs.quantum.ibm.com/api/qiskit/visualization\"> Visualization</a> <br> \n",
    "<hr>\n",
    "<H2> Notes </H2>\n",
    "Hit every cell in order to get this to work. I may be overloaded on imports. This was a first pass. <br> \n",
    "If you want to run this on a real processor, you need to apply for an account and get a token. <br> \n",
    "This example uses the AER simulator package. <br> \n",
    "I am using the sampler rather than the estimator in this case. The estimator returns individual expection values. The sampler will return the value of each shot. \n",
    "\n",
    "<br> "
   ]
  },
  {
   "cell_type": "code",
   "execution_count": 1,
   "id": "81d9ab80-b3b6-4c02-8be5-23ac7e43d8fb",
   "metadata": {},
   "outputs": [],
   "source": [
    "# my standard includes\n",
    "import numpy as np\n",
    "import matplotlib.pyplot as plt\n",
    "import math\n",
    "import scipy.constants as const\n",
    "# Qiskit imports\n",
    "from qiskit import QuantumCircuit, QuantumRegister, ClassicalRegister\n",
    "from qiskit.circuit import Parameter\n",
    "from qiskit_aer import AerSimulator\n",
    "from qiskit_aer.primitives import SamplerV2\n",
    "from qiskit.quantum_info import SparsePauliOp\n",
    "from qiskit.quantum_info import Pauli\n",
    "from scipy.spatial.transform import Rotation as R\n",
    "\n",
    "import struct"
   ]
  },
  {
   "cell_type": "markdown",
   "id": "3944d747-044c-45f4-beb7-a4cca7e2f055",
   "metadata": {},
   "source": [
    "<H1> Basic Concepts </H1>\n",
    "Placing a qubit into a superposition state and then measuring it, should be a real random distribution 50% distribition of 1 and 0. We can either\n",
    "make a number of measurements on a single qubit and then make a binary string of arbitrary length OR select a number of qubits that are independent\n",
    "and do the same operation on all of them to make a string. The length of the single string or width of the circuit will determine the integer number size. If\n",
    "we call L the string length then the number sequence will be {0:$2^L$}. <br> \n",
    "Code description: \n",
    "<ul>\n",
    "    <li> nqbit - number of qubits needed to run the experiment. </li>\n",
    "    <li> ncbit - number of classical bits needed - this is a register to put the results in. </li>\n",
    "    <li> creg - a classical register to collect the results. </li>\n",
    "    <li> qreg - the register of quantum bits that will be run on a simulator or back end. </li>\n",
    "    <li> nshots - number of measurements to be made per point or number of times to perform the experiment. </li>\n",
    "    <li> qc - The quantum circuit. </li>\n",
    "    <li> sampler - permits the system to know that we want to run this circiut multiple times and collect the results. (gives a lot of information to runtime.)</li>\n",
    "</ul>"
   ]
  },
  {
   "cell_type": "markdown",
   "id": "daae9c8c-300d-4861-bfb5-f91ececd8e10",
   "metadata": {},
   "source": [
    "<H1> Setup </H1>\n",
    "The code below sets up the overall system to run. It should be pretty well inline documented below. "
   ]
  },
  {
   "cell_type": "code",
   "execution_count": 2,
   "id": "93a5e9b3-75bd-4b39-b2c8-3ce5af886e65",
   "metadata": {},
   "outputs": [],
   "source": [
    "# instantiate the AER simulator\n",
    "# with an account, you can specify a backend error model based off of one of the IBM systems if desired.\n",
    "# \n",
    "sim = AerSimulator()\n",
    "# Define the number of quantum bits. For this problem (double slit) we can use a single qubit and use\n",
    "# the superposition to calculate the phase of the complete system. \n",
    "nqbit     = 1\n",
    "# for using the sampler, we need some clasical bits to store the output data\n",
    "ncbit     = 1\n",
    "# Create the actual registers. \n",
    "creg = ClassicalRegister(ncbit, 'cbit')\n",
    "qreg = QuantumRegister(nqbit)\n",
    "# Create a very simple quantum circuit.\n",
    "# https://docs.quantum.ibm.com/api/qiskit/qiskit.circuit.QuantumCircuit\n",
    "# Here we tell the circuit that we want to use the quantum and classical registers we created above. \n",
    "qc   = QuantumCircuit(qreg, creg)\n",
    "# Create an estimator - this gives the expectation value of each system. \n",
    "# the number of shots is the number of times that the experiment is replicated to produce statistics. \n",
    "# In the estimator, you specify the precision instead, this is the default and can be overriden in \n",
    "# the estimator run command. Default precision is 0\n",
    "#\n",
    "# reference: https://quantum.cloud.ibm.com/docs/en/api/qiskit-ibm-runtime/sampler-v2\n",
    "#\n",
    "sampler = SamplerV2()"
   ]
  },
  {
   "cell_type": "markdown",
   "id": "bd1f26d4-811d-4fb6-984e-7c102c0f7a58",
   "metadata": {},
   "source": [
    "<H2> Create the quantum circuit </H2>\n",
    "This assumes that the resources have been previously allocated. <br> \n",
    "The Hadamard gate puts the qubit into the state ${1\\over {\\sqrt{2}}}(\\ket{0} + \\ket{1})$"
   ]
  },
  {
   "cell_type": "code",
   "execution_count": 3,
   "id": "ff7b7640-b02a-4582-b3db-bd04612d6225",
   "metadata": {},
   "outputs": [
    {
     "data": {
      "image/png": "[encoded data removed]",
      "text/plain": [
       "<Figure size 304.525x200.667 with 1 Axes>"
      ]
     },
     "execution_count": 3,
     "metadata": {},
     "output_type": "execute_result"
    }
   ],
   "source": [
    "# Apply a hadamard on qubit 0 - this creates equal path case, superposition\n",
    "# The Hadamard gate can also be expressed as a 90º rotation around the Y-axis, followed by a 180º around the X-axis. \n",
    "#\n",
    "qc.h(0)\n",
    "# finally perform a measurement\n",
    "# qubit 0 results stored in classical register 0\n",
    "qc_measured = qc.measure(0, 0)\n",
    "# And make a pretty picture of the circuit.\n",
    "qc.draw(output='mpl')"
   ]
  },
  {
   "cell_type": "code",
   "execution_count": 4,
   "id": "7f3c5e04-5efa-47de-8f9d-cf39d85b77a3",
   "metadata": {},
   "outputs": [],
   "source": [
    "# Tell the sampler how you want to do the program. \n",
    "# qc is the quantum circuit\n",
    "# The following reference has a very good example on how to use this. \n",
    "# https://quantum.cloud.ibm.com/docs/en/api/qiskit/qiskit.primitives.StatevectorSampler\n",
    "# scroll down to the example where the 'pub' is created. \n",
    "#\n",
    "# pub stands for Primitive unified bloc\n",
    "# multiple pubs may be submitted. \n",
    "# details on pubs - https://quantum.cloud.ibm.com/docs/en/guides/primitive-input-output\n",
    "#\n",
    "# details on options - https://quantum.cloud.ibm.com/docs/en/guides/specify-runtime-options\n",
    "#\n",
    "# estimator pubs\n",
    "# quantum circuit\n",
    "# A list of one or more observables: [ObservableArrayLike, Pauli, SparsePauliOp, PauliList, str]\n",
    "# Collection of parameter objects, in this case theta\n",
    "# \n",
    "# Need to introduce the number of shots in this system. \n",
    "#\n",
    "# lets say I want to use this single qubit to generate a series of 16 bit numbers. Then I want the number of shots to \n",
    "# be evenly divisable by 16\n",
    "BitLength = 16\n",
    "DesiredNumbers = 100\n",
    "NShots = DesiredNumbers * BitLength\n",
    "# Run the job\n",
    "job = sampler.run([qc],shots=NShots)\n",
    "# get the results\n",
    "result = job.result()[0] # only 1 qubit"
   ]
  },
  {
   "cell_type": "code",
   "execution_count": 5,
   "id": "35014e18-0014-4efb-996f-34bd05b0f6e9",
   "metadata": {},
   "outputs": [
    {
     "data": {
      "text/plain": [
       "{'0': 854, '1': 746}"
      ]
     },
     "execution_count": 5,
     "metadata": {},
     "output_type": "execute_result"
    }
   ],
   "source": [
    "# show the count distribution\n",
    "result.data['cbit'].get_counts()\n",
    "#counts = result.data.get_counts() "
   ]
  },
  {
   "cell_type": "code",
   "execution_count": 6,
   "id": "a89256ed-4086-4a94-bc5e-906de9b4da2f",
   "metadata": {},
   "outputs": [],
   "source": [
    "def bit2N(s):\n",
    "    \"\"\"\n",
    "    helper function, create a number of arbitrary length depending on input list. \n",
    "    @param s - input string, need 8 input bits to produce one byte\n",
    "    \"\"\"\n",
    "    rv = 0\n",
    "    for i in range(len(s)):\n",
    "        rv = rv + s[i] * np.power(2,i)\n",
    "    return rv"
   ]
  },
  {
   "cell_type": "code",
   "execution_count": 7,
   "id": "bfc6d587-66ba-49b8-b5ee-3650bfd90bd3",
   "metadata": {},
   "outputs": [],
   "source": [
    "# get the individual shot data\n",
    "shot_data = result.data['cbit'].array"
   ]
  },
  {
   "cell_type": "code",
   "execution_count": 8,
   "id": "48e84ce7-5a94-4014-bece-ac6e89ade903",
   "metadata": {},
   "outputs": [],
   "source": [
    "div = np.split(shot_data, DesiredNumbers)"
   ]
  },
  {
   "cell_type": "code",
   "execution_count": 10,
   "id": "420481ff-1778-433a-8519-25642af51b41",
   "metadata": {},
   "outputs": [
    {
     "name": "stdout",
     "output_type": "stream",
     "text": [
      "[26174]\n"
     ]
    }
   ],
   "source": [
    "x = div[1]\n",
    "print(bit2N(x))"
   ]
  },
  {
   "cell_type": "code",
   "execution_count": 12,
   "id": "cf3138c5-3842-4384-8150-7c98548bb465",
   "metadata": {},
   "outputs": [
    {
     "name": "stderr",
     "output_type": "stream",
     "text": [
      "/var/folders/14/9z9f9pnd13v8hyxk9rn_htc40000gn/T/ipykernel_92405/32935730.py:4: DeprecationWarning: Conversion of an array with ndim > 0 to a scalar is deprecated, and will error in future. Ensure you extract a single element from your array before performing this operation. (Deprecated NumPy 1.25.)\n",
      "  xy[i] = bit2N(div[i])\n"
     ]
    },
    {
     "data": {
      "text/plain": [
       "(array([ 9., 10., 12.,  6.,  6.,  9., 13.,  7., 16., 12.]),\n",
       " array([  209. ,  6727.3, 13245.6, 19763.9, 26282.2, 32800.5, 39318.8,\n",
       "        45837.1, 52355.4, 58873.7, 65392. ]),\n",
       " <BarContainer object of 10 artists>)"
      ]
     },
     "execution_count": 12,
     "metadata": {},
     "output_type": "execute_result"
    },
    {
     "data": {
      "image/png": "[encoded data removed]",
      "text/plain": [
       "<Figure size 640x480 with 1 Axes>"
      ]
     },
     "metadata": {},
     "output_type": "display_data"
    }
   ],
   "source": [
    "L = len(div)\n",
    "xy = np.zeros(L)\n",
    "for i in range(L):\n",
    "    xy[i] = bit2N(div[i])\n",
    "plt.hist(xy)"
   ]
  },
  {
   "cell_type": "code",
   "execution_count": 17,
   "id": "71bb21b5-66c6-47d3-81da-5d7b0402eac2",
   "metadata": {},
   "outputs": [],
   "source": [
    "def SaveNumbers(x):\n",
    "    fd = open('numbers.txt','w')\n",
    "    for n in x:\n",
    "        fd.write(str(n))\n",
    "    fd.close()"
   ]
  },
  {
   "cell_type": "code",
   "execution_count": 18,
   "id": "ac057511-2526-4429-9143-ba71a2c54b8d",
   "metadata": {},
   "outputs": [],
   "source": [
    "SaveNumbers(xy)"
   ]
  },
  {
   "cell_type": "code",
   "execution_count": null,
   "id": "1da8f3b6-0ad1-4e7f-a957-fc299791b32e",
   "metadata": {},
   "outputs": [],
   "source": []
  }
 ],
 "metadata": {
  "kernelspec": {
   "display_name": "Python 3 (ipykernel)",
   "language": "python",
   "name": "python3"
  },
  "language_info": {
   "codemirror_mode": {
    "name": "ipython",
    "version": 3
   },
   "file_extension": ".py",
   "mimetype": "text/x-python",
   "name": "python",
   "nbconvert_exporter": "python",
   "pygments_lexer": "ipython3",
   "version": "3.13.5"
  }
 },
 "nbformat": 4,
 "nbformat_minor": 5
}
