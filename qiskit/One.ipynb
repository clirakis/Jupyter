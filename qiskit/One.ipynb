{
 "cells": [
  {
   "cell_type": "markdown",
   "id": "475e430e-d6d8-43a2-88e2-a5b7808e64fa",
   "metadata": {},
   "source": [
    "<H1>One</H1> \n",
    "First Qiskit program. \n",
    "<hr>\n",
    "<H2>Modification history </H2><br> \n",
    "<table>\n",
    "    <tr>\n",
    "        <th> Modified </th>\n",
    "        <th> By </th>\n",
    "        <th> Reason </th>\n",
    "    </tr>\n",
    "    <tr> \n",
    "        <td> 21-Mar-25 </td>\n",
    "        <td> CBL </td> \n",
    "        <td> Original </td>\n",
    "    </tr>\n",
    "</table>\n",
    "<hr> \n",
    "<H2> References </H2> \n",
    "<a href=\"https://docs.quantum.ibm.com/guides/install-qiskit\"> Install Qikit </a> <br> \n",
    "<a href=\"https://docs.quantum.ibm.com/guides/hello-world\"> qiskit hello world </a> <br> \n",
    "<a href=\"https://qiskit-community.github.io/qiskit-dynamics/\"> Qiskit dynamics</a> <br> \n",
    "<a href=\"https://pypi.org/project/qiskit/\"> Pypi qiskit page</a> <br> \n",
    "<a href=\"https://docs.quantum.ibm.com/api/qiskit/visualization\"> Visualization</a> <br> \n",
    "<H2> Notes </H2>\n",
    "<br> "
   ]
  },
  {
   "cell_type": "code",
   "execution_count": 17,
   "id": "81d9ab80-b3b6-4c02-8be5-23ac7e43d8fb",
   "metadata": {},
   "outputs": [],
   "source": [
    "# my standard includes\n",
    "import numpy as np\n",
    "import matplotlib.pyplot as plt\n",
    "import math\n",
    "import scipy.constants as const\n",
    "#\n",
    "from qiskit import QuantumCircuit\n",
    "from qiskit.primitives import StatevectorSampler\n",
    "from qiskit.quantum_info import SparsePauliOp\n",
    "from qiskit.transpiler import generate_preset_pass_manager\n",
    "from qiskit_ibm_runtime import EstimatorV2 as Estimator"
   ]
  },
  {
   "cell_type": "code",
   "execution_count": 3,
   "id": "29b6f437-a992-4476-a7ce-51221a963af0",
   "metadata": {},
   "outputs": [
    {
     "name": "stdout",
     "output_type": "stream",
     "text": [
      "     ┌───┐┌────────┐          \n",
      "q_0: ┤ H ├┤ P(π/2) ├──■────■──\n",
      "     └───┘└────────┘┌─┴─┐  │  \n",
      "q_1: ───────────────┤ X ├──┼──\n",
      "                    └───┘┌─┴─┐\n",
      "q_2: ────────────────────┤ X ├\n",
      "                         └───┘\n"
     ]
    }
   ],
   "source": [
    "# Create a GHZ State, from the website. \n",
    "qc = QuantumCircuit(3)    \n",
    "qc.h(0)             # generate superposition\n",
    "qc.p(np.pi / 2, 0)  # add quantum phase\n",
    "qc.cx(0, 1)         # 0th-qubit-Controlled-NOT gate on 1st qubit\n",
    "qc.cx(0, 2)         # 0th-qubit-Controlled-NOT gate on 2nd qubit\n",
    "print(qc)"
   ]
  },
  {
   "cell_type": "code",
   "execution_count": 4,
   "id": "310c1ced-60bc-48fd-97cd-f53b36a49b75",
   "metadata": {},
   "outputs": [
    {
     "data": {
      "image/png": "[encoded data removed]",
      "text/plain": [
       "<Figure size 454.719x284.278 with 1 Axes>"
      ]
     },
     "execution_count": 4,
     "metadata": {},
     "output_type": "execute_result"
    }
   ],
   "source": [
    "qc.draw(output='mpl')"
   ]
  },
  {
   "cell_type": "code",
   "execution_count": 6,
   "id": "8a2f8908-707d-4836-b8a5-99932bab6a10",
   "metadata": {},
   "outputs": [],
   "source": [
    "# 2. Add the classical output in the form of measurement of all qubits\n",
    "qc_measured = qc.measure_all(inplace=False)"
   ]
  },
  {
   "cell_type": "code",
   "execution_count": 8,
   "id": "767f7cea-42b6-4011-bb47-d6a25fbd162b",
   "metadata": {},
   "outputs": [
    {
     "data": {
      "image/png": "[encoded data removed]",
      "text/plain": [
       "<Figure size 831.22x367.889 with 1 Axes>"
      ]
     },
     "execution_count": 8,
     "metadata": {},
     "output_type": "execute_result"
    }
   ],
   "source": [
    "qc_measured.draw(output='mpl')"
   ]
  },
  {
   "cell_type": "code",
   "execution_count": 9,
   "id": "73788a02-e5a5-4f19-bcb0-76f1d2dcb895",
   "metadata": {},
   "outputs": [
    {
     "name": "stdout",
     "output_type": "stream",
     "text": [
      " > Counts: {'111': 504, '000': 496}\n"
     ]
    }
   ],
   "source": [
    "# 3. Execute using the Sampler primitive\n",
    "sampler = StatevectorSampler()\n",
    "job = sampler.run([qc_measured], shots=1000)\n",
    "result = job.result()\n",
    "print(f\" > Counts: {result[0].data[\"meas\"].get_counts()}\")"
   ]
  },
  {
   "cell_type": "code",
   "execution_count": 11,
   "id": "69eb2300-fb5c-4a5b-ab81-fffce44898f9",
   "metadata": {},
   "outputs": [
    {
     "name": "stdout",
     "output_type": "stream",
     "text": [
      " > Expectation values: 4.0000894614661915\n"
     ]
    }
   ],
   "source": [
    "# 2. Define the observable to be measured \n",
    "from qiskit.quantum_info import SparsePauliOp\n",
    "operator = SparsePauliOp.from_list([(\"XXY\", 1), (\"XYX\", 1), (\"YXX\", 1), (\"YYY\", -1)])\n",
    "# 3. Execute using the Estimator primitive\n",
    "from qiskit.primitives import StatevectorEstimator\n",
    "estimator = StatevectorEstimator()\n",
    "job = estimator.run([(qc, operator)], precision=1e-3)\n",
    "result = job.result()\n",
    "print(f\" > Expectation values: {result[0].data.evs}\")"
   ]
  },
  {
   "cell_type": "code",
   "execution_count": 12,
   "id": "38e61353-1435-43ef-b9d9-550551dfc956",
   "metadata": {},
   "outputs": [
    {
     "name": "stdout",
     "output_type": "stream",
     "text": [
      "SparsePauliOp(['XXY', 'XYX', 'YXX', 'YYY'],\n",
      "              coeffs=[ 1.+0.j,  1.+0.j,  1.+0.j, -1.+0.j])\n"
     ]
    }
   ],
   "source": [
    "print(operator)"
   ]
  },
  {
   "cell_type": "code",
   "execution_count": null,
   "id": "dfff127c-d1e5-4207-bbe5-6d79f874cc22",
   "metadata": {},
   "outputs": [],
   "source": []
  }
 ],
 "metadata": {
  "kernelspec": {
   "display_name": "Python 3 (ipykernel)",
   "language": "python",
   "name": "python3"
  },
  "language_info": {
   "codemirror_mode": {
    "name": "ipython",
    "version": 3
   },
   "file_extension": ".py",
   "mimetype": "text/x-python",
   "name": "python",
   "nbconvert_exporter": "python",
   "pygments_lexer": "ipython3",
   "version": "3.13.2"
  }
 },
 "nbformat": 4,
 "nbformat_minor": 5
}
