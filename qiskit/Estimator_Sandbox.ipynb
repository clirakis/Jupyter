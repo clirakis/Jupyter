{
 "cells": [
  {
   "cell_type": "markdown",
   "id": "80fb2a00-ed3d-4c17-ace7-8ac011e7e2b7",
   "metadata": {},
   "source": [
    "<H1>Estimator </H1>\n",
    "<a href=\"https://quantum.cloud.ibm.com/docs/en/api/qiskit/primitives#overview-of-estimatorv2\"> Estimator V2 </a>\n",
    "<hr> \n",
    "<H2>Modification history </H2><br> \n",
    "<table>\n",
    "    <tr>\n",
    "        <th> Modified </th>\n",
    "        <th> By </th>\n",
    "        <th> Reason </th>\n",
    "    </tr>\n",
    "    <tr> \n",
    "        <td> 08-Jul-25 </td>\n",
    "        <td> CBL </td> \n",
    "        <td> Looking at using AER and Estimator </td>\n",
    "    </tr>\n",
    "    <tr> \n",
    "        <td> 23-Jul-25 </td>\n",
    "        <td> CBL </td> \n",
    "        <td> Deep dive on pauli operators and theta </td>\n",
    "    </tr>\n",
    "</table>\n",
    "<hr> \n",
    "<H2> References </H2> \n",
    "<a href=\"https://docs.quantum.ibm.com/guides/install-qiskit\"> Install Qikit </a> <br> \n",
    "<a href=\"https://docs.quantum.ibm.com/guides/hello-world\"> qiskit hello world </a> <br> \n",
    "<a href=\"https://qiskit-community.github.io/qiskit-dynamics/\"> Qiskit dynamics</a> <br> \n",
    "<a href=\"https://pypi.org/project/qiskit/\"> pypi qiskit page</a> <br> \n",
    "<a href=\"https://docs.quantum.ibm.com/api/qiskit/visualization\"> Visualization</a> <br> \n",
    "<a href=\"https://pypi.org/project/qiskit-aer/\"> qiskit aer pypi</a> <br>\n",
    "<a href=\"https://quantum.cloud.ibm.com/docs/en/api/qiskit\"> qiskit aer documentation </a>\n",
    "<br> \n",
    "<a href=\"https://quantum.cloud.ibm.com/docs/en/api/qiskit/qiskit.circuit.library.RealAmplitudes\">Real Amplitudes - kind of important details here.</a>\n",
    "<hr>\n",
    "<H2> Notes </H2>\n",
    "No simulator called out.\n",
    "<br> \n",
    "<hr>"
   ]
  },
  {
   "cell_type": "code",
   "execution_count": 7,
   "id": "e93e7b21-dc40-487e-b816-041a8deac092",
   "metadata": {},
   "outputs": [],
   "source": [
    "from qiskit.primitives import StatevectorEstimator as Estimator\n",
    "# Updated from example. \n",
    "from qiskit.circuit.library import real_amplitudes\n",
    "from qiskit.quantum_info import SparsePauliOp\n",
    "import numpy as np"
   ]
  },
  {
   "cell_type": "markdown",
   "id": "683dc40c-217d-493b-96db-5681cff584fb",
   "metadata": {},
   "source": [
    "<H1> Estimator Operation </H1>\n",
    "What we are trying to do is use a Hamiltonian of Pauli operations and then change the phase. \n",
    "<br> \n",
    "$\\bra{\\Psi}H\\ket{\\Psi}$"
   ]
  },
  {
   "cell_type": "code",
   "execution_count": 3,
   "id": "28968246-fe21-4006-a253-8e222da3b1f3",
   "metadata": {},
   "outputs": [],
   "source": [
    "# Create the 'wavefunction', in this case 2 qubits. We are telling the system \n",
    "# that we want real, as opposed to complex, amplitudes returned. \n",
    "# reps is the number of times this iterative circuit is repeated. \n",
    "# this is really a convience function combining many operations into a single call \n",
    "psi1 = real_amplitudes(num_qubits=2, reps=2)\n",
    "# two reps requires and 2 qubits requires 6 total angles. (3 rotations, one on each qubit.)\n",
    "psi2 = real_amplitudes(num_qubits=2, reps=3)\n",
    "#\n",
    "# A selection of possible Hamiltonians to use. Each is a list with an Amplitude or associated weight, not sure\n",
    "# what the weight does yet. \n",
    "#\n",
    "H1 = SparsePauliOp.from_list([(\"II\", 1), (\"IZ\", 2), (\"XI\", 3)])\n",
    "H2 = SparsePauliOp.from_list([(\"IZ\", 1)])\n",
    "H3 = SparsePauliOp.from_list([(\"ZI\", 1), (\"ZZ\", 1)])\n",
    "# \n",
    "# And a multitude of angles. \n",
    "#\n",
    "theta1 = [0, 1, 1, 2, 3, 5]\n",
    "theta2 = [0, 1, 1, 2, 3, 5, 8, 13]\n",
    "theta3 = [1, 2, 3, 4, 5, 6]\n",
    "# Create the estimmator \n",
    "estimator = Estimator()"
   ]
  },
  {
   "cell_type": "code",
   "execution_count": 2,
   "id": "db1f8001-eb42-42d8-9099-04daf6d78744",
   "metadata": {},
   "outputs": [
    {
     "name": "stdout",
     "output_type": "stream",
     "text": [
      "The primitive-job finished with result PrimitiveResult([PubResult(data=DataBin(evs=np.ndarray(<shape=(1,), dtype=float64>), stds=np.ndarray(<shape=(1,), dtype=float64>), shape=(1,)), metadata={'target_precision': 0.0, 'circuit_metadata': {}})], metadata={'version': 2})\n"
     ]
    }
   ],
   "source": [
    "# \n",
    "# calculate [ <psi1(theta1)|H1|psi1(theta1)> ]\n",
    "job = estimator.run([(psi1, H1, [theta1])])\n",
    "job_result = job.result() # It will block until the job finishes.\n",
    "print(f\"The primitive-job finished with result {job_result}\")"
   ]
  },
  {
   "cell_type": "code",
   "execution_count": 11,
   "id": "eecd64bf-43bc-41d5-b853-e96a6850cd0b",
   "metadata": {},
   "outputs": [
    {
     "data": {
      "text/plain": [
       "['_FIELDS',\n",
       " '_FIELD_TYPES',\n",
       " '_RESTRICTED_NAMES',\n",
       " '_SHAPE',\n",
       " '__abstractmethods__',\n",
       " '__annotations__',\n",
       " '__class__',\n",
       " '__class_getitem__',\n",
       " '__contains__',\n",
       " '__delattr__',\n",
       " '__dict__',\n",
       " '__dir__',\n",
       " '__doc__',\n",
       " '__eq__',\n",
       " '__firstlineno__',\n",
       " '__format__',\n",
       " '__ge__',\n",
       " '__getattribute__',\n",
       " '__getitem__',\n",
       " '__getstate__',\n",
       " '__gt__',\n",
       " '__hash__',\n",
       " '__init__',\n",
       " '__init_subclass__',\n",
       " '__iter__',\n",
       " '__le__',\n",
       " '__len__',\n",
       " '__lt__',\n",
       " '__module__',\n",
       " '__ne__',\n",
       " '__new__',\n",
       " '__non_callable_proto_members__',\n",
       " '__parameters__',\n",
       " '__protocol_attrs__',\n",
       " '__reduce__',\n",
       " '__reduce_ex__',\n",
       " '__repr__',\n",
       " '__setattr__',\n",
       " '__sizeof__',\n",
       " '__slots__',\n",
       " '__static_attributes__',\n",
       " '__str__',\n",
       " '__subclasshook__',\n",
       " '__weakref__',\n",
       " '_abc_impl',\n",
       " '_data',\n",
       " '_is_protocol',\n",
       " '_is_runtime_protocol',\n",
       " '_shape',\n",
       " 'evs',\n",
       " 'items',\n",
       " 'keys',\n",
       " 'ndim',\n",
       " 'shape',\n",
       " 'size',\n",
       " 'stds',\n",
       " 'values']"
      ]
     },
     "execution_count": 11,
     "metadata": {},
     "output_type": "execute_result"
    }
   ],
   "source": [
    "dir(job_result[0].data)"
   ]
  },
  {
   "cell_type": "code",
   "execution_count": 30,
   "id": "23cc1653-3084-421d-82cc-f922c2cff509",
   "metadata": {},
   "outputs": [
    {
     "data": {
      "text/plain": [
       "array([1.55555728])"
      ]
     },
     "execution_count": 30,
     "metadata": {},
     "output_type": "execute_result"
    }
   ],
   "source": [
    "job_result[0].data.evs"
   ]
  },
  {
   "cell_type": "code",
   "execution_count": 15,
   "id": "274c6e35-e7f6-4bbd-89f4-5bc2f87e7d3f",
   "metadata": {},
   "outputs": [
    {
     "name": "stdout",
     "output_type": "stream",
     "text": [
      "Result:  [1.]\n"
     ]
    }
   ],
   "source": [
    "# lets try some other stuff. \n",
    "# psi is the combined result. when completing the dot product, not intermediate \n",
    "# densities. \n",
    "#\n",
    "H2 = SparsePauliOp.from_list([(\"IZ\", 1)])\n",
    "H0 = SparsePauliOp.from_list([(\"II\", 1)])\n",
    "# \n",
    "# And a multitude of angles. \n",
    "#\n",
    "# Layout is qubit 0, then qubit 1 etc and repeating for the number of reps+1 (unless supress final is sepecified.)\n",
    "# the angles are around the y axis \n",
    "# see printout below. \n",
    "#\n",
    "theta0 = [np.pi/2, 0, np.pi/2, 0, 0, 0]\n",
    "# \n",
    "# calculate [ <psi1(theta1)|H1|psi1(theta1)> ]\n",
    "# do we need to specify theta?, apparently yes\n",
    "# why 6 operations??\n",
    "#\n",
    "job = estimator.run([(psi1, H0, [theta0])])\n",
    "job_result = job.result() # It will block until the job finishes.\n",
    "print(\"Result: \", job_result[0].data.evs)"
   ]
  },
  {
   "cell_type": "code",
   "execution_count": 12,
   "id": "51133b78-e590-4614-9c35-920851661e61",
   "metadata": {},
   "outputs": [
    {
     "name": "stdout",
     "output_type": "stream",
     "text": [
      "     ┌──────────┐     ┌──────────┐     ┌──────────┐\n",
      "q_0: ┤ Ry(θ[0]) ├──■──┤ Ry(θ[2]) ├──■──┤ Ry(θ[4]) ├\n",
      "     ├──────────┤┌─┴─┐├──────────┤┌─┴─┐├──────────┤\n",
      "q_1: ┤ Ry(θ[1]) ├┤ X ├┤ Ry(θ[3]) ├┤ X ├┤ Ry(θ[5]) ├\n",
      "     └──────────┘└───┘└──────────┘└───┘└──────────┘\n"
     ]
    }
   ],
   "source": [
    "print(psi1)"
   ]
  },
  {
   "cell_type": "code",
   "execution_count": 16,
   "id": "7df3991f-0fdd-412c-bc68-d9d7b391a06e",
   "metadata": {},
   "outputs": [
    {
     "name": "stdout",
     "output_type": "stream",
     "text": [
      "SparsePauliOp(['II'],\n",
      "              coeffs=[1.+0.j])\n"
     ]
    }
   ],
   "source": [
    "print(H0)"
   ]
  },
  {
   "cell_type": "code",
   "execution_count": 30,
   "id": "de3c807a-fa3c-4a39-9bab-08b3e09a47a9",
   "metadata": {},
   "outputs": [
    {
     "name": "stdout",
     "output_type": "stream",
     "text": [
      "     ┌──────────┐     \n",
      "q_0: ┤ Ry(θ[0]) ├──■──\n",
      "     ├──────────┤┌─┴─┐\n",
      "q_1: ┤ Ry(θ[1]) ├┤ X ├\n",
      "     └──────────┘└───┘\n"
     ]
    }
   ],
   "source": [
    "# lets make an even simplier circuit. \n",
    "#\n",
    "psi0 = real_amplitudes(num_qubits=2, reps=1, skip_final_rotation_layer=True)\n",
    "print(psi0)"
   ]
  },
  {
   "cell_type": "code",
   "execution_count": 43,
   "id": "98e833db-61ea-42a6-a702-f8569cee42b7",
   "metadata": {},
   "outputs": [
    {
     "name": "stdout",
     "output_type": "stream",
     "text": [
      "Result:  [0.70710678]\n"
     ]
    }
   ],
   "source": [
    "theta = [np.pi/4,0]\n",
    "job = estimator.run([(psi0, H2, [theta])])\n",
    "job_result = job.result() # It will block until the job finishes.\n",
    "print(\"Result: \", job_result[0].data.evs)"
   ]
  },
  {
   "cell_type": "code",
   "execution_count": 35,
   "id": "22b5a60e-6e7c-4b55-acba-7f5bb5be5218",
   "metadata": {},
   "outputs": [
    {
     "name": "stdout",
     "output_type": "stream",
     "text": [
      "SparsePauliOp(['IZ'],\n",
      "              coeffs=[1.+0.j])\n"
     ]
    }
   ],
   "source": [
    "print(H2)"
   ]
  },
  {
   "cell_type": "code",
   "execution_count": null,
   "id": "81f3f247-b3bf-4bab-9ba3-9442c69093db",
   "metadata": {},
   "outputs": [],
   "source": []
  }
 ],
 "metadata": {
  "kernelspec": {
   "display_name": "Python 3 (ipykernel)",
   "language": "python",
   "name": "python3"
  },
  "language_info": {
   "codemirror_mode": {
    "name": "ipython",
    "version": 3
   },
   "file_extension": ".py",
   "mimetype": "text/x-python",
   "name": "python",
   "nbconvert_exporter": "python",
   "pygments_lexer": "ipython3",
   "version": "3.13.5"
  }
 },
 "nbformat": 4,
 "nbformat_minor": 5
}
