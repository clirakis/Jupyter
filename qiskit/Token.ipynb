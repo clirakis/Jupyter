{
 "cells": [
  {
   "cell_type": "code",
   "execution_count": null,
   "id": "bdb0083b-6b0a-41c9-a09a-3e0a8df51b4f",
   "metadata": {},
   "outputs": [],
   "source": [
    "# This I got from the following webpage: \n",
    "# https://quantum.ibm.com/\n",
    "# after logging in. I don't know if I need to get a new one everytime. \n",
    "#\n",
    "from qiskit_ibm_runtime import QiskitRuntimeService\n",
    "\n",
    "service = QiskitRuntimeService(\n",
    "    channel='ibm_quantum',\n",
    "    instance='ibm-q/open/main',\n",
    "    token='131a9be70eb0a6f35a2f39733d514bd0651c07bf972efd30821e7227a87832c98181612f711f63fda8a199bbde4f5dc1952b93657c380cef4d8b3024aa7cf077'\n",
    ")\n",
    "\n",
    "# Or save your credentials on disk.\n",
    "# QiskitRuntimeService.save_account(channel='ibm_quantum', instance='ibm-q/open/main', token='131a9be70eb0a6f35a2f39733d514bd0651c07bf972efd30821e7227a87832c98181612f711f63fda8a199bbde4f5dc1952b93657c380cef4d8b3024aa7cf077')"
   ]
  }
 ],
 "metadata": {
  "kernelspec": {
   "display_name": "Python 3 (ipykernel)",
   "language": "python",
   "name": "python3"
  },
  "language_info": {
   "codemirror_mode": {
    "name": "ipython",
    "version": 3
   },
   "file_extension": ".py",
   "mimetype": "text/x-python",
   "name": "python",
   "nbconvert_exporter": "python",
   "pygments_lexer": "ipython3",
   "version": "3.13.3"
  }
 },
 "nbformat": 4,
 "nbformat_minor": 5
}
