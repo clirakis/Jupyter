{
 "cells": [
  {
   "cell_type": "code",
   "execution_count": 3,
   "id": "a5d82f9c",
   "metadata": {},
   "outputs": [],
   "source": [
    "# Physics Problems 1\n",
    "import numpy as np\n",
    "import matplotlib.pyplot as plt\n",
    "import math\n",
    "import scipy.constants   as konst"
   ]
  },
  {
   "cell_type": "markdown",
   "id": "ca967706",
   "metadata": {},
   "source": [
    "Modified    By    Reason\n",
    "--------    --    ------\n",
    "04-July-23  CBL   Original, non-reltavistic scope deflection problem"
   ]
  },
  {
   "cell_type": "markdown",
   "id": "da98307a",
   "metadata": {},
   "source": [
    "Take this one step further, can we predict the deflection based on the potential? <br>\n",
    "$ F = {q_{e}} V$ where V is the electric field in volts per meter. This gives the acceleration as: <br> \n",
    "$a = {{q_{e}}\\over{m_{e}}} V$ <br> \n",
    "Good discussion of this here: <br> \n",
    "https://www.yorku.ca/marko/PHYS2211/Lab2 <br>\n",
    "https://nvlpubs.nist.gov/nistpubs/jres/72C/jresv72Cn2p117_A1b.pdf <br>\n",
    "https://mysite.du.edu/~etuttle/electron/elect29.htm <br>\n",
    "<hr>"
   ]
  },
  {
   "cell_type": "code",
   "execution_count": 24,
   "id": "078c2156",
   "metadata": {},
   "outputs": [],
   "source": [
    "class Scope:\n",
    "    def __init__(self, tube_length, Acc_Volt):\n",
    "        \"\"\"\n",
    "        define a simple oscilliscope \n",
    "        @param tube_length - overall accelerating length of tube in meters. \n",
    "        @param Acc_Volt    - accelerating voltage\n",
    "        \"\"\"\n",
    "        self.Volts       = Acc_Volt\n",
    "        self.Length      = tube_length\n",
    "        self.YAfter      = 0.5 * tube_length\n",
    "        self.Speed       = self.Calc_Speed()\n",
    "        self.def_length  = 0.02  # meters\n",
    "        self.def_spacing = 0.002 # meters\n",
    "        \n",
    "    def Calc_Speed(self):\n",
    "        \"\"\" \n",
    "        return the velocity of an electron given the accelerating voltage \n",
    "        \"\"\"\n",
    "        self.E = self.Volts/self.Length # applied electric field\n",
    "        # Force is qE\n",
    "        # divide by m to get acceleration\n",
    "        self.acceleration = konst.e * self.E/konst.m_e\n",
    "\n",
    "        # potential is mah = 1/2 mv^2\n",
    "        speed = np.sqrt(2.0*self.acceleration/self.Length)\n",
    "        return speed\n",
    "\n",
    "    def Deflection(self,Volts_Y):\n",
    "        \"\"\" \n",
    "        Calculate deflection in m based on deflection plate length and applied voltage.\n",
    "        This is non-relatavistic calculation, the electron speeds really do make \n",
    "        this a relativistic problem. \n",
    "        \"\"\"\n",
    "        V0_Y          = 0.0                              # initial velocity, set to zero\n",
    "        E_Deflection  = Volts_Y/self.def_spacing         # Volts/meter\n",
    "        A_Y           = konst.e/konst.m_e * E_Deflection # meters/s^2\n",
    "        dt            = self.def_length/self.Speed  # time between plates in seconds\n",
    "        #print(\"dt: \", dt)\n",
    "        VY = V0_Y + A_Y * dt     # meters per second\n",
    "        Y  = 0.5 * A_Y * np.power(dt,2.0)  # meters\n",
    "        #print(\"E_Y field: \", E_Deflection, \" V/m, resulting acceleration: \",f\"{A_Y:.3}\", \" m/s^2\")\n",
    "        #print(\"Y Velocity is: \", f\"{VY:.3}  Displacement in Y is: \", Y)\n",
    "        self.theta = np.arctan2(VY,self.Speed)   # radians \n",
    "\n",
    "        return Y\n",
    "    \n",
    "    def Project(self):\n",
    "        Y_Screen =  self.YAfter * np.tan(self.theta) # meters\n",
    "        return Y_Screen\n",
    "    \n",
    "    def Print(self):\n",
    "        \"\"\" \n",
    "        print out resulting values\n",
    "        \"\"\"\n",
    "        print(\"Electron speed m/s: \",f\"{self.Speed:.3}\")  # seems about right\n",
    "        print(\"Deflection plate definition, length: \", self.def_length, \" (m) spacing: \",\n",
    "            self.def_spacing, \"(m)\" )\n"
   ]
  },
  {
   "cell_type": "code",
   "execution_count": 25,
   "id": "ab78201e",
   "metadata": {},
   "outputs": [
    {
     "name": "stdout",
     "output_type": "stream",
     "text": [
      "Electron speed m/s:  3.13e+07\n",
      "Deflection plate definition, length:  0.02  (m) spacing:  0.002 (m)\n"
     ]
    }
   ],
   "source": [
    "# define a scope \n",
    "scope = Scope(0.6, 1000)\n",
    "scope.Print()\n",
    "vy = 100.0 # volts\n",
    "Y  = scope.Deflection(vy) "
   ]
  },
  {
   "cell_type": "code",
   "execution_count": 27,
   "id": "d9114e85",
   "metadata": {},
   "outputs": [
    {
     "data": {
      "text/plain": [
       "Text(0.5, 0, 'Applied voltage')"
      ]
     },
     "execution_count": 27,
     "metadata": {},
     "output_type": "execute_result"
    },
    {
     "data": {
      "image/png": "[encoded data removed]",
      "text/plain": [
       "<Figure size 432x288 with 1 Axes>"
      ]
     },
     "metadata": {
      "needs_background": "light"
     },
     "output_type": "display_data"
    }
   ],
   "source": [
    "VY = np.arange(10.0, 500.0, 10.0)\n",
    "Y  = scope.Deflection(VY)\n",
    "YP = scope.Project() # project the full length of the scope tube.\n",
    "plt.plot(VY,YP)\n",
    "plt.grid()\n",
    "plt.ylabel('Deflection (m)')\n",
    "plt.xlabel('Applied voltage')"
   ]
  },
  {
   "cell_type": "markdown",
   "id": "4faf9228",
   "metadata": {},
   "source": [
    "This all seems in the ballpark. Can use the scope to measure e/m ratio as a lab. "
   ]
  },
  {
   "cell_type": "code",
   "execution_count": null,
   "id": "cc37f7b4",
   "metadata": {},
   "outputs": [],
   "source": []
  }
 ],
 "metadata": {
  "kernelspec": {
   "display_name": "Python 3 (ipykernel)",
   "language": "python",
   "name": "python3"
  },
  "language_info": {
   "codemirror_mode": {
    "name": "ipython",
    "version": 3
   },
   "file_extension": ".py",
   "mimetype": "text/x-python",
   "name": "python",
   "nbconvert_exporter": "python",
   "pygments_lexer": "ipython3",
   "version": "3.10.6"
  }
 },
 "nbformat": 4,
 "nbformat_minor": 5
}
