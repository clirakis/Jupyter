{
 "cells": [
  {
   "cell_type": "code",
   "execution_count": 2,
   "id": "a5d82f9c",
   "metadata": {},
   "outputs": [],
   "source": [
    "# Physics Problems 1\n",
    "import numpy as np\n",
    "import matplotlib.pyplot as plt\n",
    "import math\n",
    "import scipy.constants   as konst"
   ]
  },
  {
   "cell_type": "markdown",
   "id": "ca967706",
   "metadata": {},
   "source": [
    "Modified    By    Reason\n",
    "--------    --    ------\n",
    "04-July-23  CBL   Original, solving and writing up problems from Haliday and Resnick \n",
    "                  Second printing April 1967"
   ]
  },
  {
   "cell_type": "markdown",
   "id": "c3375f8d",
   "metadata": {},
   "source": [
    "Page 75 of Part 1&2 textbook. Problem number 6. Show that the horizontal range of a projectile of velocity $V_0$ and angle $\\theta_0$ is <br> \n",
    "$R = ({{V_{0}^2}\\over{g}})sin(2\\theta_{0})$\n",
    "<hr> \n",
    "Reduce to X-Y problem<br> \n",
    "$V_{X}=V_{0}cos(\\theta_{0}) $ <br> \n",
    "$V_{Y}=V_{0}sin(\\theta_{0}) - gt $ where g is the gravitational acceleration <br>\n",
    "at maximum height $V_0 = 0$ therefore: <br>\n",
    "$V_{0}sin(\\theta_{0}) = gt $ or $t={V_{0}sin(\\theta_{0})\\over{g}}$ <br> \n",
    "The distance traveled by the projectile is given by: <br> \n",
    "$R=V_{0}cos(\\theta_{0})t $ substituting t (total flight time is 2t) we have: <br>\n",
    "$R={2{V_{0}^2}cos(\\theta_{0}) sin(\\theta_{0})\\over{g}}$ <br> \n",
    "Using the trigonometric identity $sin(2\\theta) = 2 sin(\\theta)cos(theta)$ we get: <br>\n",
    "$R = ({{V_{0}^2}\\over{g}})sin(2\\theta_{0})$"
   ]
  },
  {
   "cell_type": "code",
   "execution_count": 3,
   "id": "8ef06d74",
   "metadata": {},
   "outputs": [],
   "source": [
    "def VelocityAndAngle(V0, theta):\n",
    "    \"\"\"\n",
    "    execute the above problem.\n",
    "    \"\"\"\n",
    "    return np.power(V0,2.0)/konst.g * np.sin(2*theta)"
   ]
  },
  {
   "cell_type": "code",
   "execution_count": 30,
   "id": "a2a7c7d8",
   "metadata": {},
   "outputs": [],
   "source": [
    "class Trajectory:\n",
    "    def __init__(self,VX,VZ):\n",
    "        \"\"\"\n",
    "        Initialize the trajectory class using initial VX and VY\n",
    "        assume meters per second in. Also assume in a gravitational field. \n",
    "        \"\"\"\n",
    "        self.VX = VX\n",
    "        self.VZ = VZ\n",
    "        self.Reset()\n",
    "       \n",
    "    def Reset(self):\n",
    "        self.t0 = 0\n",
    "        self.X0 = 0\n",
    "        self.Z0 = 0\n",
    "         \n",
    "    def XZFromTime(self,t):\n",
    "        \"\"\"\n",
    "        return X,Y values in meters given t. \n",
    "        \"\"\"\n",
    "        dt = t-self.t0\n",
    "        X = self.X0 + self.VX*dt\n",
    "        Z = self.Z0 + self.VZ*dt - 0.5*konst.g*np.power(dt,2.0)\n",
    "        self.VZ = self.VZ - konst.g*dt\n",
    "        self.X0 = X\n",
    "        self.Z0 = Z\n",
    "        self.t0 = t\n",
    "        return X,Z"
   ]
  },
  {
   "cell_type": "code",
   "execution_count": 38,
   "id": "7556c341",
   "metadata": {},
   "outputs": [
    {
     "data": {
      "text/plain": [
       "Text(0.5, 0, 'Radial Distance(m)')"
      ]
     },
     "execution_count": 38,
     "metadata": {},
     "output_type": "execute_result"
    },
    {
     "data": {
      "image/png": "[encoded data removed]",
      "text/plain": [
       "<Figure size 432x288 with 1 Axes>"
      ]
     },
     "metadata": {
      "needs_background": "light"
     },
     "output_type": "display_data"
    }
   ],
   "source": [
    "# Make a plot\n",
    "t = np.arange(0,3.0,.1)\n",
    "V0 = 20.0 # meters per second\n",
    "angle = np.deg2rad(45.0)\n",
    "XZStep = Trajectory(V0*np.cos(angle),V0*np.sin(angle))\n",
    "X,Z = XZStep.XZFromTime(t)\n",
    "plt.plot(X,Z)\n",
    "plt.grid()\n",
    "plt.ylabel(\"Altitude (m)\")\n",
    "plt.xlabel(\"Radial Distance(m)\")"
   ]
  },
  {
   "cell_type": "markdown",
   "id": "0bdcfe8f",
   "metadata": {},
   "source": [
    "Problem 13, page 75 <br> \n",
    "Cathode ray tube, an electron beam of 1.0e9 cm/s passes through horizontal plates 2cm long with a downward force of 1.0e17cm/s^2, <br> \n",
    "<ol>\n",
    "    <li> what is the vertial displacement after exiting the 2 cm plates? </li>\n",
    "    <li> what is Vx and Vy as it exits the plate assembly? </li>\n",
    "</ol> \n",
    "<hr>"
   ]
  },
  {
   "cell_type": "code",
   "execution_count": 56,
   "id": "658d6d7d",
   "metadata": {},
   "outputs": [
    {
     "name": "stdout",
     "output_type": "stream",
     "text": [
      "dt:  2e-09\n",
      "Y Velocity is:  -2e+08  Displacement in Y is:  0.2\n"
     ]
    }
   ],
   "source": [
    "V0_X = 1.0e9  # cm/s\n",
    "V0_Y = 0.0    # cm/s\n",
    "Plate_Length = 2.0 # cm\n",
    "A_Y  = 1.0e17 #cm/s^2\n",
    "# determine the length of time in the field. V0_X should remain unchanged. \n",
    "dt = Plate_Length/V0_X\n",
    "print(\"dt: \", dt)\n",
    "VY = V0_Y - A_Y * dt\n",
    "Y  = 0.5 * A_Y * np.power(dt,2.0)\n",
    "print(\"Y Velocity is: \", f\"{VY:.3}  Displacement in Y is: \", Y)"
   ]
  }
 ],
 "metadata": {
  "kernelspec": {
   "display_name": "Python 3 (ipykernel)",
   "language": "python",
   "name": "python3"
  },
  "language_info": {
   "codemirror_mode": {
    "name": "ipython",
    "version": 3
   },
   "file_extension": ".py",
   "mimetype": "text/x-python",
   "name": "python",
   "nbconvert_exporter": "python",
   "pygments_lexer": "ipython3",
   "version": "3.11.6"
  }
 },
 "nbformat": 4,
 "nbformat_minor": 5
}
