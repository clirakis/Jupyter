{
 "cells": [
  {
   "cell_type": "code",
   "execution_count": 1,
   "metadata": {},
   "outputs": [],
   "source": [
    "#\n",
    "# Proj learning\n",
    "#\n",
    "#\n",
    "import numpy as np\n",
    "import matplotlib.pyplot as plt\n",
    "from pyproj import Proj\n",
    "from pyproj import Geod"
   ]
  },
  {
   "cell_type": "markdown",
   "metadata": {},
   "source": [
    "<hr>\n",
    "Modified    BY  Reason <br> \n",
    "22-Jan-22   CBL Original <br>\n",
    "<hr>\n",
    "References: <br>\n",
    " https://en.wikipedia.org/wiki/Geographic_coordinate_conversion#From_geodetic_to_ECEF_coordinates \n",
    " <br>\n",
    "https://pyproj4.github.io/pyproj/stable/\n",
    "<br>\n",
    "https://pyproj4.github.io/pyproj/stable/examples.html\n",
    "<br>\n",
    "https://proj.org/faq.html#what-is-the-best-format-for-describing-coordinate-reference-systems\n",
    "<hr>\n",
    "Now try calculating geodesic information. "
   ]
  },
  {
   "cell_type": "code",
   "execution_count": 2,
   "metadata": {},
   "outputs": [
    {
     "name": "stdout",
     "output_type": "stream",
     "text": [
      "Zone= 19.0\n"
     ]
    }
   ],
   "source": [
    "# Calculate UTM zone\n",
    "Latitude  = 41.5\n",
    "Longitude = -71.316\n",
    "Zone = Longitude + 180.0 # in degrees\n",
    "Zone = np.ceil(Zone/6.0)\n",
    "print (\"Zone=\",Zone)\n",
    "#\n",
    "# https://coordinates-converter.com/en/decimal/41.499976,-71.315992?karte=OpenStreetMap&zoom=8\n",
    "#\n",
    "# Lat = 41.5, Lon = -71.316\n",
    "#\n",
    "# Zone: 19\n",
    "# False Easting: 306694.305\n",
    "# False Northing: 4596851.081"
   ]
  },
  {
   "cell_type": "code",
   "execution_count": 3,
   "metadata": {},
   "outputs": [
    {
     "data": {
      "text/plain": [
       "'x=306693.709 y=4596853.764'"
      ]
     },
     "execution_count": 3,
     "metadata": {},
     "output_type": "execute_result"
    }
   ],
   "source": [
    "p = Proj(proj='utm',zone=Zone,ellps='WGS84') # use kwargs\n",
    "x,y = p(Longitude, Latitude)\n",
    "'x=%9.3f y=%11.3f' % (x,y)"
   ]
  },
  {
   "cell_type": "code",
   "execution_count": 4,
   "metadata": {},
   "outputs": [
    {
     "data": {
      "text/plain": [
       "'lon= -71.316 lat=41.500'"
      ]
     },
     "execution_count": 4,
     "metadata": {},
     "output_type": "execute_result"
    }
   ],
   "source": [
    "'lon=%8.3f lat=%5.3f' % p(x,y,inverse=True)"
   ]
  },
  {
   "cell_type": "code",
   "execution_count": 5,
   "metadata": {},
   "outputs": [
    {
     "name": "stdout",
     "output_type": "stream",
     "text": [
      "Difference:  2.748105193722538  m\n"
     ]
    }
   ],
   "source": [
    "dr = np.sqrt(np.power(x-306694.305,2.0)+np.power(y-4596851.081,2.0))\n",
    "print(\"Difference: \",dr,\" m\")"
   ]
  },
  {
   "cell_type": "markdown",
   "metadata": {},
   "source": [
    "This is self consistent, but differs from the online tool. "
   ]
  },
  {
   "cell_type": "code",
   "execution_count": 6,
   "metadata": {},
   "outputs": [
    {
     "name": "stdout",
     "output_type": "stream",
     "text": [
      "4.93\n"
     ]
    }
   ],
   "source": [
    "# Not sure how this is done\n",
    "print(p.proj_version)"
   ]
  },
  {
   "cell_type": "code",
   "execution_count": 8,
   "metadata": {},
   "outputs": [],
   "source": [
    "# https://pyproj4.github.io/pyproj/stable/api/geod.html\n",
    "g = Geod(ellps='clrk66')\n",
    "# replicate example first"
   ]
  },
  {
   "cell_type": "code",
   "execution_count": 16,
   "metadata": {},
   "outputs": [],
   "source": [
    "# specify the lat/lons of some cities.\n",
    "newport_lat=41.5; newport_lon=-71.316\n",
    "boston_lat = 42.+(15./60.); boston_lon = -71.-(7./60.)\n",
    "portland_lat = 45.+(31./60.); portland_lon = -123.-(41./60.)\n",
    "newyork_lat = 40.+(47./60.); newyork_lon = -73.-(58./60.)\n",
    "london_lat = 51.+(32./60.); london_lon = -(5./60.)"
   ]
  },
  {
   "cell_type": "code",
   "execution_count": 11,
   "metadata": {},
   "outputs": [
    {
     "data": {
      "text/plain": [
       "'-66.531 75.654 4164192.708'"
      ]
     },
     "execution_count": 11,
     "metadata": {},
     "output_type": "execute_result"
    }
   ],
   "source": [
    "# compute forward and back azimuths, plus distance\n",
    "# between Boston and Portland.\n",
    "az12,az21,dist = g.inv(boston_lon,boston_lat,portland_lon,portland_lat)\n",
    "f\"{az12:.3f} {az21:.3f} {dist:.3f}\"\n",
    "#\n",
    "#'-66.531 75.654 4164192.708'\n",
    "#"
   ]
  },
  {
   "cell_type": "code",
   "execution_count": 12,
   "metadata": {},
   "outputs": [
    {
     "data": {
      "text/plain": [
       "'45.517 -123.683 75.654'"
      ]
     },
     "execution_count": 12,
     "metadata": {},
     "output_type": "execute_result"
    }
   ],
   "source": [
    "# compute latitude, longitude and back azimuth of Portland,\n",
    "# given Boston lat/lon, forward azimuth and distance to Portland.\n",
    "endlon, endlat, backaz = g.fwd(boston_lon, boston_lat, az12, dist)\n",
    "f\"{endlat:.3f} {endlon:.3f} {backaz:.3f}\"\n",
    "#\n",
    "# '45.517 -123.683 75.654'\n",
    "#"
   ]
  },
  {
   "cell_type": "code",
   "execution_count": 15,
   "metadata": {},
   "outputs": [],
   "source": [
    "# compute the azimuths, distances from New York to several\n",
    "# cities (pass a list)\n",
    "lons1 = 3*[newyork_lon]; lats1 = 3*[newyork_lat]\n",
    "lons2 = [boston_lon, portland_lon, london_lon]\n",
    "lats2 = [boston_lat, portland_lat, london_lat]\n",
    "az12,az21,dist = g.inv(lons1,lats1,lons2,lats2)\n",
    "for faz, baz, d in list(zip(az12,az21,dist)):\n",
    "    f\"{faz:7.3f} {baz:8.3f} {d:12.3f}\"\n",
    "#' 54.663 -123.448   288303.720'\n",
    "#'-65.463   79.342  4013037.318'\n",
    "#' 51.254  -71.576  5579916.651'"
   ]
  },
  {
   "cell_type": "code",
   "execution_count": 14,
   "metadata": {},
   "outputs": [
    {
     "data": {
      "text/plain": [
       "'-66.531 75.654 4164192.708'"
      ]
     },
     "execution_count": 14,
     "metadata": {},
     "output_type": "execute_result"
    }
   ],
   "source": [
    "g2 = Geod('+ellps=clrk66') # use proj4 style initialization string\n",
    "az12,az21,dist = g2.inv(boston_lon,boston_lat,portland_lon,portland_lat)\n",
    "f\"{az12:.3f} {az21:.3f} {dist:.3f}\"\n",
    "#'-66.531 75.654 4164192.708'"
   ]
  },
  {
   "cell_type": "code",
   "execution_count": 18,
   "metadata": {},
   "outputs": [
    {
     "data": {
      "text/plain": [
       "'-168.698 11.169 84929.556'"
      ]
     },
     "execution_count": 18,
     "metadata": {},
     "output_type": "execute_result"
    }
   ],
   "source": [
    "# compute forward and back azimuths, plus distance\n",
    "# between Boston and Newport\n",
    "az12,az21,dist = g.inv(boston_lon,boston_lat,newport_lon,newport_lat)\n",
    "f\"{az12:.3f} {az21:.3f} {dist:.3f}\""
   ]
  },
  {
   "cell_type": "code",
   "execution_count": 19,
   "metadata": {},
   "outputs": [
    {
     "name": "stdout",
     "output_type": "stream",
     "text": [
      "Distance from Newport to Boston:  52.772762947227065  Miles\n"
     ]
    }
   ],
   "source": [
    "# convert distance to miles\n",
    "conv_fac = 0.621371\n",
    "print(\"Distance from Newport to Boston: \", dist/1000.0*conv_fac, \" Miles\")"
   ]
  },
  {
   "cell_type": "code",
   "execution_count": 20,
   "metadata": {},
   "outputs": [
    {
     "data": {
      "text/plain": [
       "'-108.804 69.452 236333.503'"
      ]
     },
     "execution_count": 20,
     "metadata": {},
     "output_type": "execute_result"
    }
   ],
   "source": [
    "# and newport to NY\n",
    "az12,az21,dist = g.inv(newport_lon,newport_lat,newyork_lon,newyork_lat)\n",
    "f\"{az12:.3f} {az21:.3f} {dist:.3f}\""
   ]
  },
  {
   "cell_type": "code",
   "execution_count": 21,
   "metadata": {},
   "outputs": [
    {
     "name": "stdout",
     "output_type": "stream",
     "text": [
      "Distance from Newport to NY:  146.85078519995002  Miles\n"
     ]
    }
   ],
   "source": [
    "# convert distance to miles\n",
    "print(\"Distance from Newport to NY: \", dist/1000.0*conv_fac, \" Miles\")"
   ]
  },
  {
   "cell_type": "code",
   "execution_count": 23,
   "metadata": {},
   "outputs": [
    {
     "data": {
      "text/plain": [
       "252.0"
      ]
     },
     "execution_count": 23,
     "metadata": {},
     "output_type": "execute_result"
    }
   ],
   "source": [
    "360.0-108"
   ]
  },
  {
   "cell_type": "code",
   "execution_count": null,
   "metadata": {},
   "outputs": [],
   "source": []
  }
 ],
 "metadata": {
  "kernelspec": {
   "display_name": "Python 3",
   "language": "python",
   "name": "python3"
  },
  "language_info": {
   "codemirror_mode": {
    "name": "ipython",
    "version": 3
   },
   "file_extension": ".py",
   "mimetype": "text/x-python",
   "name": "python",
   "nbconvert_exporter": "python",
   "pygments_lexer": "ipython3",
   "version": "3.6.9"
  }
 },
 "nbformat": 4,
 "nbformat_minor": 2
}
