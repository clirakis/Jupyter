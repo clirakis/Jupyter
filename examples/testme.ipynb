{
 "cells": [
  {
   "cell_type": "code",
   "execution_count": 1,
   "metadata": {},
   "outputs": [
    {
     "name": "stdout",
     "output_type": "stream",
     "text": [
      "Our Initial Array:  ['1.1' '2.2' '3.3' '4.4']\n",
      "Original type: <class 'numpy.str_'>\n",
      "Our Final Array:  [1.1 2.2 3.3 4.4]\n",
      "Final type: <class 'numpy.float64'>\n"
     ]
    }
   ],
   "source": [
    "import numpy as np\n",
    "# Initialize our array\n",
    "# Note, once again, that this is of type String\n",
    "# Non-NumPy arrays can be used\n",
    "initialArray = np.array([\"1.1\", \"2.2\", \"3.3\", \"4.4\"])\n",
    "  \n",
    "# Print our initial array\n",
    "print(\"Our Initial Array: \", str(initialArray))\n",
    "print(\"Original type: \" + str(type(initialArray[0])))\n",
    "  \n",
    "# Actual conversion of array\n",
    "# Note that we utilize np.float64 as the finalize data type\n",
    "finalArray = np.asarray(initialArray, dtype = np.float64, \n",
    "                        order ='C')\n",
    "  \n",
    "# Print our converted array\n",
    "print(\"Our Final Array: \", str(finalArray))\n",
    "print(\"Final type: \" + str(type(finalArray[0])))"
   ]
  },
  {
   "cell_type": "code",
   "execution_count": null,
   "metadata": {},
   "outputs": [],
   "source": []
  }
 ],
 "metadata": {
  "kernelspec": {
   "display_name": "Python 3",
   "language": "python",
   "name": "python3"
  },
  "language_info": {
   "codemirror_mode": {
    "name": "ipython",
    "version": 3
   },
   "file_extension": ".py",
   "mimetype": "text/x-python",
   "name": "python",
   "nbconvert_exporter": "python",
   "pygments_lexer": "ipython3",
   "version": "3.6.9"
  }
 },
 "nbformat": 4,
 "nbformat_minor": 2
}
