{
 "cells": [
  {
   "cell_type": "code",
   "execution_count": 2,
   "metadata": {},
   "outputs": [],
   "source": [
    "#\n",
    "# Proj learning\n",
    "#\n",
    "# https://en.wikipedia.org/wiki/Geographic_coordinate_conversion#From_geodetic_to_ECEF_coordinates\n",
    "# https://pyproj4.github.io/pyproj/stable/\n",
    "# https://pyproj4.github.io/pyproj/stable/examples.html\n",
    "# https://proj.org/faq.html#what-is-the-best-format-for-describing-coordinate-reference-systems\n",
    "#\n",
    "import numpy as np\n",
    "import matplotlib.pyplot as plt\n",
    "from pyproj import Proj"
   ]
  },
  {
   "cell_type": "markdown",
   "metadata": {},
   "source": [
    "<hr>\n",
    "Modified    BY  Reason <br> \n",
    "22-Jan-22   CBL Original <br>\n",
    "<hr>"
   ]
  },
  {
   "cell_type": "code",
   "execution_count": 4,
   "metadata": {},
   "outputs": [
    {
     "data": {
      "text/plain": [
       "'x=4803788.481 y=6097662.686'"
      ]
     },
     "execution_count": 4,
     "metadata": {},
     "output_type": "execute_result"
    }
   ],
   "source": [
    "p = Proj(proj='utm',zone=10,ellps='WGS84') # use kwargs\n",
    "x,y = p(-71.316,41.5)\n",
    "'x=%9.3f y=%11.3f' % (x,y)"
   ]
  },
  {
   "cell_type": "code",
   "execution_count": 5,
   "metadata": {},
   "outputs": [
    {
     "data": {
      "text/plain": [
       "'lon= -71.316 lat=41.500'"
      ]
     },
     "execution_count": 5,
     "metadata": {},
     "output_type": "execute_result"
    }
   ],
   "source": [
    "'lon=%8.3f lat=%5.3f' % p(x,y,inverse=True)"
   ]
  },
  {
   "cell_type": "code",
   "execution_count": 6,
   "metadata": {},
   "outputs": [
    {
     "name": "stdout",
     "output_type": "stream",
     "text": [
      "<pyproj.Proj object at 0x7f4279b1c348>\n"
     ]
    }
   ],
   "source": [
    "print(p)"
   ]
  },
  {
   "cell_type": "code",
   "execution_count": 16,
   "metadata": {},
   "outputs": [
    {
     "data": {
      "text/plain": [
       "'x=  -59.804 y=      0.000 z=-6378054.488'"
      ]
     },
     "execution_count": 16,
     "metadata": {},
     "output_type": "execute_result"
    }
   ],
   "source": [
    "# create another projection, ECEF\n",
    "#ecef = Proj(proj='geocent',zone=10,ellps='WGS84')\n",
    "ecef = Proj(proj='geocent', ellps='WGS84', datum='WGS84')\n",
    "lla = Proj(proj='latlong', ellps='WGS84', datum='WGS84')\n",
    "#x,y,z = ecef(-71.316,41.5,0.0)\n",
    "x,y,z = pyproj.transform(ecef, lla, 41.5, -71.316, 00.0, radians=False)\n",
    "'x=%9.3f y=%11.3f z=%11.3f' % (x,y,z)\n",
    "#lon, lat, alt = pyproj.transform(ecef, lla, x, y, z, radians=True)\n",
    "#print(np.rad2deg(lat),\" \", np.rad2deg(lon), \" \", z)\n",
    "# THIS IS WRONG!\n",
    "# \n",
    "# http://www.sysense.com/products/ecef_lla_converter/index.html\n",
    "# Input 41.5, -71.316, 32.0\n",
    "# output: 1532547.72, -4531884.04, 4204193.46"
   ]
  },
  {
   "cell_type": "code",
   "execution_count": null,
   "metadata": {},
   "outputs": [],
   "source": []
  },
  {
   "cell_type": "code",
   "execution_count": null,
   "metadata": {},
   "outputs": [],
   "source": []
  }
 ],
 "metadata": {
  "kernelspec": {
   "display_name": "Python 3",
   "language": "python",
   "name": "python3"
  },
  "language_info": {
   "codemirror_mode": {
    "name": "ipython",
    "version": 3
   },
   "file_extension": ".py",
   "mimetype": "text/x-python",
   "name": "python",
   "nbconvert_exporter": "python",
   "pygments_lexer": "ipython3",
   "version": "3.6.9"
  }
 },
 "nbformat": 4,
 "nbformat_minor": 2
}
