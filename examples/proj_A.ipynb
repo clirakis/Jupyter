{
 "cells": [
  {
   "cell_type": "code",
   "execution_count": 2,
   "metadata": {},
   "outputs": [],
   "source": [
    "#\n",
    "# Proj learning\n",
    "#\n",
    "#\n",
    "import numpy as np\n",
    "import matplotlib.pyplot as plt\n",
    "from pyproj import Proj\n",
    "import pyproj"
   ]
  },
  {
   "cell_type": "markdown",
   "metadata": {},
   "source": [
    "<hr>\n",
    "Modified    BY  Reason <br> \n",
    "22-Jan-22   CBL Original <br>\n",
    "<hr>\n",
    "References: <br>\n",
    " https://en.wikipedia.org/wiki/Geographic_coordinate_conversion#From_geodetic_to_ECEF_coordinates \n",
    " <br>\n",
    "https://pyproj4.github.io/pyproj/stable/\n",
    "<br>\n",
    "https://pyproj4.github.io/pyproj/stable/examples.html\n",
    "<br>\n",
    "https://proj.org/faq.html#what-is-the-best-format-for-describing-coordinate-reference-systems\n",
    "<hr>\n",
    "Notes: 22-Jan-22, Ok my version of Proj is 4.9.3 15-Aug-2016, The latestest release is 8.2.1. Not sure how I get this fixed on my linux box.<br>\n",
    "Ok the bottom line is that on Ubuntu, only proj4 is supported. <br> \n",
    "Look at this page: https://proj.org/install.html <br> \n",
    "It is recommending using conda to install the latest version. "
   ]
  },
  {
   "cell_type": "code",
   "execution_count": 27,
   "metadata": {},
   "outputs": [
    {
     "name": "stdout",
     "output_type": "stream",
     "text": [
      "['Geod', 'Proj', '__builtins__', '__cached__', '__doc__', '__file__', '__loader__', '__name__', '__package__', '__path__', '__spec__', '__version__', '_convertback', '_copytobuffer', '_copytobuffer_return_scalar', '_dict2string', '_proj', 'array', 'datadir', 'math', 'os', 'pj_ellps', 'pj_list', 'pyproj_datadir', 'set_datapath', 'string_types', 'sys', 'test', 'transform']\n"
     ]
    }
   ],
   "source": [
    "print(dir(pyproj))"
   ]
  },
  {
   "cell_type": "code",
   "execution_count": 3,
   "metadata": {},
   "outputs": [
    {
     "name": "stdout",
     "output_type": "stream",
     "text": [
      "Zone= 19.0\n"
     ]
    }
   ],
   "source": [
    "# Calculate UTM zone\n",
    "Latitude  = 41.5\n",
    "Longitude = -71.316\n",
    "Zone = Longitude + 180.0 # in degrees\n",
    "Zone = np.ceil(Zone/6.0)\n",
    "print (\"Zone=\",Zone)\n",
    "#\n",
    "# https://coordinates-converter.com/en/decimal/41.499976,-71.315992?karte=OpenStreetMap&zoom=8\n",
    "#\n",
    "# Lat = 41.5, Lon = -71.316\n",
    "#\n",
    "# Zone: 19\n",
    "# False Easting: 306694.305\n",
    "# False Northing: 4596851.081"
   ]
  },
  {
   "cell_type": "code",
   "execution_count": 21,
   "metadata": {},
   "outputs": [
    {
     "name": "stdout",
     "output_type": "stream",
     "text": [
      "['__call__', '__class__', '__delattr__', '__dict__', '__dir__', '__doc__', '__eq__', '__format__', '__ge__', '__getattribute__', '__gt__', '__hash__', '__init__', '__init_subclass__', '__le__', '__lt__', '__module__', '__ne__', '__new__', '__reduce__', '__reduce_ex__', '__repr__', '__setattr__', '__sizeof__', '__str__', '__subclasshook__', '__weakref__', '_fwd', '_inv', 'is_geocent', 'is_latlong', 'proj_version', 'srs', 'to_latlong']\n"
     ]
    }
   ],
   "source": [
    "#pyproj.show_versions()\n",
    "#Proj.Print()\n",
    "print(dir(Proj))"
   ]
  },
  {
   "cell_type": "code",
   "execution_count": 25,
   "metadata": {},
   "outputs": [
    {
     "data": {
      "text/plain": [
       "'x=306693.709 y=4596853.764'"
      ]
     },
     "execution_count": 25,
     "metadata": {},
     "output_type": "execute_result"
    }
   ],
   "source": [
    "p = Proj(proj='utm',zone=Zone,ellps='WGS84') # use kwargs\n",
    "x,y = p(Longitude, Latitude)\n",
    "'x=%9.3f y=%11.3f' % (x,y)"
   ]
  },
  {
   "cell_type": "code",
   "execution_count": 6,
   "metadata": {},
   "outputs": [
    {
     "data": {
      "text/plain": [
       "'lon= -71.316 lat=41.500'"
      ]
     },
     "execution_count": 6,
     "metadata": {},
     "output_type": "execute_result"
    }
   ],
   "source": [
    "'lon=%8.3f lat=%5.3f' % p(x,y,inverse=True)"
   ]
  },
  {
   "cell_type": "code",
   "execution_count": 7,
   "metadata": {},
   "outputs": [
    {
     "name": "stdout",
     "output_type": "stream",
     "text": [
      "Difference:  2.748105193722538  m\n"
     ]
    }
   ],
   "source": [
    "dr = np.sqrt(np.power(x-306694.305,2.0)+np.power(y-4596851.081,2.0))\n",
    "print(\"Difference: \",dr,\" m\")"
   ]
  },
  {
   "cell_type": "markdown",
   "metadata": {},
   "source": [
    "This is self consistent, but differs from the online tool. "
   ]
  },
  {
   "cell_type": "code",
   "execution_count": 26,
   "metadata": {},
   "outputs": [
    {
     "name": "stdout",
     "output_type": "stream",
     "text": [
      "4.93\n"
     ]
    }
   ],
   "source": [
    "# Not sure how this is done\n",
    "print(p.proj_version)"
   ]
  },
  {
   "cell_type": "code",
   "execution_count": 9,
   "metadata": {},
   "outputs": [],
   "source": [
    "# create another projection, ECEF\n",
    "#ecef = Proj(proj='geocent',zone=10,ellps='WGS84')\n",
    "ecef = Proj(proj='geocent', ellps='WGS84', datum='WGS84')\n",
    "lla = Proj(proj='latlong', ellps='WGS84', datum='WGS84')"
   ]
  },
  {
   "cell_type": "code",
   "execution_count": 10,
   "metadata": {},
   "outputs": [
    {
     "name": "stdout",
     "output_type": "stream",
     "text": [
      "82.2128095673836   -24.887220777850917   -1069542.1723240195\n"
     ]
    }
   ],
   "source": [
    "# use the web example first. \n",
    "# https://stackoverflow.com/questions/30307311/python-pyproj-convert-ecef-to-lla\n",
    "# Example position data, should be somewhere in Germany\n",
    "x = 652954.1006\n",
    "y = 4774619.7919\n",
    "z = -2217647.7937\n",
    "#\n",
    "ecef = Proj(proj='geocent', ellps='WGS84', datum='WGS84')\n",
    "lla = Proj(proj='latlong', ellps='WGS84', datum='WGS84')\n",
    "lat, lon, alt = pyproj.transform(ecef, lla, x, y, z, radians=True)\n",
    "# \n",
    "# Lat and lon are reversed in the original example if this is supposed to be Germany\n",
    "# but this still ends up in Greenland. Z is pretty wonky. \n",
    "#\n",
    "print(np.rad2deg(lat),\" \",np.rad2deg(lon),\" \", alt)"
   ]
  },
  {
   "cell_type": "code",
   "execution_count": 11,
   "metadata": {},
   "outputs": [
    {
     "name": "stdout",
     "output_type": "stream",
     "text": [
      "-71.31599997794198   41.499999997514784   31.99699786771089\n"
     ]
    }
   ],
   "source": [
    "# Try this with a different setup of XYZ based in RI. \n",
    "# http://www.sysense.com/products/ecef_lla_converter/index.html\n",
    "# Input 41.5, -71.316, 32.0\n",
    "# output: 1532547.72, -4531884.04, 4204193.46\n",
    "x = 1532547.72\n",
    "y = -4531884.04\n",
    "z = 4204193.46\n",
    "lat, lon, alt = pyproj.transform(ecef, lla, x, y, z, radians=True)\n",
    "print(np.rad2deg(lat),\" \",np.rad2deg(lon),\" \", alt)"
   ]
  },
  {
   "cell_type": "markdown",
   "metadata": {},
   "source": [
    "This appears to be working ok. \n",
    "How about range and bearing?"
   ]
  },
  {
   "cell_type": "code",
   "execution_count": 12,
   "metadata": {},
   "outputs": [],
   "source": [
    "# First, this is said to be the newer transformer protocol. \n",
    "# Transformer is in version 3.3 and greater of pyproj. \n",
    "#transformer = pyproj.Transformer.from_crs(\n",
    "#    {\"proj\":'geocent', \"ellps\":'WGS84', \"datum\":'WGS84'},\n",
    "#    {\"proj\":'latlong', \"ellps\":'WGS84', \"datum\":'WGS84'},\n",
    "#    )\n",
    "#lon1, lat1, alt1 = transformer.transform(x,y,z,radians=False)\n",
    "#print (lat1, lon1, alt1 )"
   ]
  },
  {
   "cell_type": "code",
   "execution_count": null,
   "metadata": {},
   "outputs": [],
   "source": []
  }
 ],
 "metadata": {
  "kernelspec": {
   "display_name": "Python 3",
   "language": "python",
   "name": "python3"
  },
  "language_info": {
   "codemirror_mode": {
    "name": "ipython",
    "version": 3
   },
   "file_extension": ".py",
   "mimetype": "text/x-python",
   "name": "python",
   "nbconvert_exporter": "python",
   "pygments_lexer": "ipython3",
   "version": "3.6.9"
  }
 },
 "nbformat": 4,
 "nbformat_minor": 2
}
