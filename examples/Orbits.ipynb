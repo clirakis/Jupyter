{
 "cells": [
  {
   "cell_type": "markdown",
   "id": "1f2992a1",
   "metadata": {},
   "source": [
    "<hr>\n",
    "04-Feb-23       CBL       Original - experiment with orbital calculations. Classical mechanics. <br> \n",
    "<hr>\n",
    "References: <br>\n",
    "Classical Dynamics Jerry B. Marion, Academic Press, Second Edition. Starting at chapter 8 Central Force Motion.  \n",
    "<hr>"
   ]
  },
  {
   "cell_type": "code",
   "execution_count": 36,
   "id": "5b2d5a10",
   "metadata": {},
   "outputs": [],
   "source": [
    "import numpy as np\n",
    "import matplotlib.pyplot as plt\n",
    "import scipy.constants as konst"
   ]
  },
  {
   "cell_type": "code",
   "execution_count": 37,
   "id": "46bc257c",
   "metadata": {},
   "outputs": [],
   "source": [
    "# Gravitational Force\n",
    "def FGravity(r, m1, m2):\n",
    "    \"\"\"\n",
    "    @param r the radial distance between a point mass and the test mass. \n",
    "    @param m1 mass creating gravitational well. \n",
    "    @param m2 test mass\n",
    "    \"\"\"\n",
    "    F = konst.G * m1 * m2/np.power(r,2.0)\n",
    "    return F"
   ]
  },
  {
   "cell_type": "code",
   "execution_count": 38,
   "id": "ddcfae42",
   "metadata": {},
   "outputs": [
    {
     "name": "stdout",
     "output_type": "stream",
     "text": [
      "G?:  9.800747799966656\n"
     ]
    }
   ],
   "source": [
    "\"\"\"\n",
    "test case g should equal m_earth as m1 \n",
    "m_earth = 5.9736 x 10^24 kg\n",
    "r_earth = 6.3781 x 10^6\n",
    "\n",
    "Looks like I have rounding errors in the math do some of this by hand.\n",
    "take the numbers separately from the powers. \n",
    "https://en.wikipedia.org/wiki/Earth_radius\n",
    "https://en.wikipedia.org/wiki/Earth_mass\n",
    "https://en.wikipedia.org/wiki/Gravitational_constant\n",
    "\"\"\"\n",
    "m_earth = 5.9736e24\n",
    "r_earth = 6.3781e6\n",
    "print(\"G?: \", konst.G*m_earth/np.power(r_earth,2.0))"
   ]
  },
  {
   "cell_type": "markdown",
   "id": "c26cc916",
   "metadata": {},
   "source": [
    "Let us look at the potentials: <br>\n",
    "$ V(r) = U(r) + {l^2 \\over{2 \\mu r^2}}$ (eq 8.21) <br> \n",
    "where $ \\mu $ is the reduced mass given by: $\\mu = {m_1 m_2\\over{m_1 + m_2}}$ <br>\n",
    "l is the angular momentum given by: $ l = \\mu r \\dot{\\theta}$ and is constant"
   ]
  },
  {
   "cell_type": "code",
   "execution_count": 41,
   "id": "4c29e94b",
   "metadata": {},
   "outputs": [
    {
     "data": {
      "image/png": "[encoded data removed]",
      "text/plain": [
       "<Figure size 432x288 with 1 Axes>"
      ]
     },
     "metadata": {
      "needs_background": "light"
     },
     "output_type": "display_data"
    }
   ],
   "source": [
    "r = np.arange(0.1, 100, 0.5)\n",
    "mu = 1.0        # arbitrary, kg\n",
    "theta_dot = 1.0 # arbitrary, m/s\n",
    "V_ang = mu*np.power(r,2.0)*np.power(theta_dot,2.0) \n",
    "plt.semilogy(r,1.0/V_ang)\n",
    "plt.grid()"
   ]
  },
  {
   "cell_type": "code",
   "execution_count": null,
   "id": "b208cec2",
   "metadata": {},
   "outputs": [],
   "source": []
  }
 ],
 "metadata": {
  "kernelspec": {
   "display_name": "Python 3 (ipykernel)",
   "language": "python",
   "name": "python3"
  },
  "language_info": {
   "codemirror_mode": {
    "name": "ipython",
    "version": 3
   },
   "file_extension": ".py",
   "mimetype": "text/x-python",
   "name": "python",
   "nbconvert_exporter": "python",
   "pygments_lexer": "ipython3",
   "version": "3.10.6"
  }
 },
 "nbformat": 4,
 "nbformat_minor": 5
}
