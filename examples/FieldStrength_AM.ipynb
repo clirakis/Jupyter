{
 "cells": [
  {
   "cell_type": "code",
   "execution_count": 2,
   "id": "c4420b31",
   "metadata": {},
   "outputs": [],
   "source": [
    "\"\"\"\n",
    "Calculate electric field strength at a distance\n",
    "\n",
    "23-Nov-22   CBL Original\n",
    "24-Nov-22   CBL error in FS calculation\n",
    "            Set this up to be calibrated against a known AM station\n",
    "            \n",
    "References:\n",
    "https://ham.stackexchange.com/questions/10076/how-do-you-calculate-the-field-strength-at-a-given-distance\n",
    "https://www.ahsystems.com/EMC-formulas-equations/field-intensity-calculation.php\n",
    "\n",
    "Next look at the FCC field strength contours and match up.\n",
    "\"\"\"\n",
    "import numpy as np\n",
    "import matplotlib.pyplot as plt\n",
    "import math"
   ]
  },
  {
   "cell_type": "code",
   "execution_count": 3,
   "id": "7084e2d1",
   "metadata": {},
   "outputs": [],
   "source": [
    "def Watts2FS(Source, Distance):\n",
    "    \"\"\"\n",
    "    @Source   - Watts power at source\n",
    "    @Distance - vector of distances (Volts)\n",
    "    \"\"\"\n",
    "    \n",
    "    \"\"\" Propigate this, thinking of it as the Poynting vector\"\"\"\n",
    "    TestPoint       = Source/(4.0*np.pi*np.power(Distance,2.0))\n",
    "    \"\"\"\n",
    "    P=E^2/R, E = sqrt(P*R)\n",
    "    Use 377 ohms as free space impedance\n",
    "    \"\"\"\n",
    "    ReferenceImpedance = 377.0 # Ohms\n",
    "    Voltage = np.sqrt(TestPoint * ReferenceImpedance)\n",
    "    \"\"\" \n",
    "    24-Nov-22 Divide by the distance it has to be dV/ds, was V/s\n",
    "    So If I don't do dV/ds my calculation is identical. dV/ds is much smaller, but this matches the article\n",
    "    and seems to be within 1.5dB of the predicted testpoint which could be a matter of antenna gain. \n",
    "    \"\"\"\n",
    "    dV = np.diff(Voltage)\n",
    "    ds = np.diff(Distance)\n",
    "    FS = np.abs(dV/ds) # the differences are negative, but don't care\n",
    "    return Voltage[1:]"
   ]
  },
  {
   "cell_type": "code",
   "execution_count": 17,
   "id": "4389448d",
   "metadata": {},
   "outputs": [],
   "source": [
    "def Zoomer():\n",
    "    \"\"\"\n",
    "    Zoomer radio CFZM \n",
    "\n",
    "    Coordinates: 43°34′30″N 79°49′02″W\n",
    "    Distance = 546km\n",
    "    \"\"\"\n",
    "    Power = 50000.0 # Watts at transmitter. \n",
    "    Distance = np.arange(1.0, 550000,1000)\n",
    "    AntennaGain = 1.0\n",
    "    P = Power*AntennaGain\n",
    "    return P, Distance"
   ]
  },
  {
   "cell_type": "code",
   "execution_count": 18,
   "id": "7f73b0d8",
   "metadata": {},
   "outputs": [],
   "source": [
    "def Peekskill():\n",
    "    \"\"\" \n",
    "    Use the AM radio station in Peekskill, New York.\n",
    "    https://en.wikipedia.org/wiki/WLNA\n",
    "    Antenna Coordinates: 41°18′31.13″N 73°54′59.0868″W, 1.9kM from house at Cortlandt Ave\n",
    "    https://www.fcc.gov/media/radio/figure8\n",
    "    https://www.fcc.gov/media/radio/am-query\n",
    "    F = 1420KHz\n",
    "    https://transition.fcc.gov/fcc-bin/amq?list=0&facid=54852\n",
    "    https://transition.fcc.gov/Bureaus/MB/Databases/AM_DA_patterns/445bc69f439c4205a14bc1b6063ebeb7-21377.pdf\n",
    "    Primary gain is to about 155 degrees magnetic.\n",
    "    Our location is aproximately 95 degrees magnetic, kind of side lobe but definiely gain. \n",
    "    From the plot, seeing 161mV/m E field at 1kM from the antenna. (pretty strong!)\n",
    "    \"\"\"\n",
    "    \"\"\" Distance to test point\"\"\"\n",
    "    Distance = np.arange(100.0, 3000.0, 100.0)\n",
    "    \"\"\"\n",
    "    Power should go down as 1/r^2\n",
    "    \"\"\"\n",
    "    DaytimePower    = 5000.0 # Watts\n",
    "    NighttimePower  = 1000.0 # Watts\n",
    "    AntennaGain     = 2.5    # dB, don't quite know how to estimate this\n",
    "    P = NighttimePower * AntennaGain\n",
    "    return P, Distance"
   ]
  },
  {
   "cell_type": "code",
   "execution_count": 19,
   "id": "295cb0d0",
   "metadata": {},
   "outputs": [
    {
     "name": "stdout",
     "output_type": "stream",
     "text": [
      "Ratio between calculation and testpoint: []  dB  []\n"
     ]
    },
    {
     "data": {
      "image/png": "[encoded data removed]",
      "text/plain": [
       "<Figure size 432x288 with 1 Axes>"
      ]
     },
     "metadata": {
      "needs_background": "light"
     },
     "output_type": "display_data"
    }
   ],
   "source": [
    "\n",
    "\"\"\" \n",
    "Propigate this, thinking of it as the Poynting vector\n",
    "The FCC plot is calibrated for 1kW at source\n",
    "\"\"\"\n",
    "#Power,Distance = Peekskill()\n",
    "Power,Distance = Zoomer()\n",
    "FS = Watts2FS(Power, Distance)\n",
    "TestPoint = 261.0e-3   # Volts/meter at 1kM from chart\n",
    "# Where is 1kM in distance vector? \n",
    "idx = np.where(Distance==1000.0)\n",
    "ratio = TestPoint/FS[idx]\n",
    "dBOff = 10.0*np.log10(ratio)\n",
    "print(\"Ratio between calculation and testpoint:\", ratio, \" dB \", dBOff)\n",
    "\"\"\"\n",
    "Off by approximately 468, (~27dB) why? 27dB is far too much for antenna gain alone. \n",
    "\"\"\"\n",
    "plt.semilogy(Distance[1:],FS)\n",
    "plt.title(\"FS at a distance, no attenuation\")\n",
    "plt.xlabel(\"Distance(meters)\")\n",
    "plt.ylabel(\"Volts/meter\")\n",
    "plt.grid(True)"
   ]
  },
  {
   "cell_type": "code",
   "execution_count": 5,
   "id": "ade2b3ec",
   "metadata": {},
   "outputs": [
    {
     "name": "stdout",
     "output_type": "stream",
     "text": [
      "Ratio between calculation and testpoint: [1.50686645]  dB  [1.78074764]\n"
     ]
    },
    {
     "data": {
      "image/png": "[encoded data removed]",
      "text/plain": [
       "<Figure size 432x288 with 1 Axes>"
      ]
     },
     "metadata": {
      "needs_background": "light"
     },
     "output_type": "display_data"
    }
   ],
   "source": [
    "\"\"\"\n",
    "Using the ham exchange calculation\n",
    "\"\"\"\n",
    "P_T = 1000.0 # transmitter Power in watts\n",
    "G_T = 1.0    # Antenna gain\n",
    "S = P_T * G_T/(4.0*np.pi*np.power(Distance,2.0))\n",
    "E = np.sqrt(377.0*S)\n",
    "plt.semilogy(Distance, E)\n",
    "plt.title(\"secondary way of plotting E field\")\n",
    "plt.xlabel(\"Distance (Meters)\")\n",
    "plt.ylabel(\"Volts/meter\")\n",
    "plt.grid(True)\n",
    "\n",
    "idx = np.where(Distance==1000.0)\n",
    "ratio = TestPoint/E[idx]\n",
    "dBOff = 10.0*np.log10(ratio)\n",
    "print(\"Ratio between calculation and testpoint:\", ratio, \" dB \", dBOff)\n",
    "\"\"\" OK this is way closer\"\"\"\n"
   ]
  },
  {
   "cell_type": "code",
   "execution_count": null,
   "id": "c06a870d",
   "metadata": {},
   "outputs": [],
   "source": []
  }
 ],
 "metadata": {
  "kernelspec": {
   "display_name": "Python 3 (ipykernel)",
   "language": "python",
   "name": "python3"
  },
  "language_info": {
   "codemirror_mode": {
    "name": "ipython",
    "version": 3
   },
   "file_extension": ".py",
   "mimetype": "text/x-python",
   "name": "python",
   "nbconvert_exporter": "python",
   "pygments_lexer": "ipython3",
   "version": "3.10.6"
  }
 },
 "nbformat": 4,
 "nbformat_minor": 5
}
