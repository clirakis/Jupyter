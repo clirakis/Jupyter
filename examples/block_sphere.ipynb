{
 "cells": [
  {
   "cell_type": "code",
   "execution_count": 28,
   "id": "96e8c06b",
   "metadata": {},
   "outputs": [],
   "source": [
    "#\n",
    "# Example for playing with the Bloch Sphere\n",
    "#\n",
    "# https://pypi.org/project/bloch-sphere/\n",
    "# https://github.com/cduck/bloch_sphere/tree/master/examples\n",
    "#\n",
    "import numpy as np\n",
    "from bloch_sphere.animate_bloch import do_or_save_animation, AnimState\n",
    "from bloch_sphere.animate_bloch_compare import main"
   ]
  },
  {
   "cell_type": "code",
   "execution_count": 29,
   "id": "815d47a6",
   "metadata": {},
   "outputs": [],
   "source": [
    "# 04-Nov-22 CBL Original"
   ]
  },
  {
   "cell_type": "code",
   "execution_count": 30,
   "id": "137e7d09",
   "metadata": {},
   "outputs": [],
   "source": [
    "def animate(state: AnimState):\n",
    "    state.x_gate()\n",
    "    state.y_gate()\n",
    "    state.s_gate()\n",
    "    state.s_gate()\n",
    "    state.wait()  # Pause at the end"
   ]
  },
  {
   "cell_type": "code",
   "execution_count": 31,
   "id": "f8574aa0",
   "metadata": {},
   "outputs": [
    {
     "data": {
      "text/plain": [
       "<function bloch_sphere.animate_bloch.do_or_save_animation.<locals>.wrapper(func)>"
      ]
     },
     "execution_count": 31,
     "metadata": {},
     "output_type": "execute_result"
    }
   ],
   "source": [
    "do_or_save_animation('my_animation', save=False, fps=20, preview=True)"
   ]
  },
  {
   "cell_type": "code",
   "execution_count": 24,
   "id": "aa784e84",
   "metadata": {},
   "outputs": [
    {
     "data": {
      "text/plain": [
       "<function bloch_sphere.animate_bloch.do_or_save_animation.<locals>.wrapper(func)>"
      ]
     },
     "execution_count": 24,
     "metadata": {},
     "output_type": "execute_result"
    }
   ],
   "source": [
    "do_or_save_animation('my_animation', save='gif', fps=20, preview=True)"
   ]
  },
  {
   "cell_type": "code",
   "execution_count": 25,
   "id": "4e0f57cd",
   "metadata": {},
   "outputs": [
    {
     "data": {
      "image/svg+xml": [
       "<?xml version=\"1.0\" encoding=\"UTF-8\"?>\n",
       "<svg xmlns=\"http://www.w3.org/2000/svg\" xmlns:xlink=\"http://www.w3.org/1999/xlink\"\n",
       "     width=\"624\" height=\"374.4\" viewBox=\"-2.5 -1.5 5 3\">\n",
       "<defs>\n",
       "<marker markerWidth=\"4.0\" markerHeight=\"4.0\" viewBox=\"-0.1 -0.5 1.0 1.0\" orient=\"auto\" id=\"319-d0\">\n",
       "<path d=\"M-0.1,0.5 L-0.1,-0.5 L0.9,0 Z\" fill=\"black\" />\n",
       "</marker>\n",
       "<marker markerWidth=\"4.0\" markerHeight=\"4.0\" viewBox=\"-0.1 -0.5 1.0 1.0\" orient=\"auto\" id=\"319-d1\">\n",
       "<path d=\"M-0.1,0.5 L-0.1,-0.5 L0.9,0 Z\" fill=\"black\" />\n",
       "</marker>\n",
       "<marker markerWidth=\"3.0\" markerHeight=\"3.0\" viewBox=\"-0.1 -0.5 1.0 1.0\" orient=\"auto\" id=\"319-d2\">\n",
       "<path d=\"M-0.1,0.5 L-0.1,-0.5 L0.9,0 Z\" fill=\"#e00\" />\n",
       "</marker>\n",
       "</defs>\n",
       "<rect x=\"-100\" y=\"-100\" width=\"200\" height=\"200\" fill=\"white\" />\n",
       "<g>\n",
       "<path d=\"M0.17928324965978443,-0.3445657769226463 L0.21167142607829245,-0.4068128479230234\" stroke=\"black\" stroke-width=\"0.02\" />\n",
       "<path d=\"M-0.9636237383738694,-0.0734267636449945 L-1.1523247149222748,-0.08780551071486342\" stroke=\"black\" stroke-width=\"0.02\" />\n",
       "<path d=\"M0.0,0.8903223669854131 L0.0,1.0606816217906454\" stroke=\"black\" stroke-width=\"0.02\" />\n",
       "<text x=\"-0.6\" y=\"-1.2\" font-size=\"0.4\" fill=\"#c00\" text-anchor=\"end\" opacity=\"0\"><tspan x=\"-0.6\" dy=\"0.4em\">X Gate:</tspan></text>\n",
       "<path d=\"M6.938893903907228e-17,0.8903223669854131 A1.0047256871109849,0.18212709565069388,-85.64256317530416,0,0,0.17928324965978448,-0.3445657769226462 L0.1668623408500431,-0.32069394225747 A0.9287363304607109,0.16823745394807896,-85.64256317530416,0,1,-2.949029909160572e-17,0.8257977873852902 Z\" fill=\"#e1e144\" stroke=\"none\" stroke-width=\"0.002\" opacity=\"1\" />\n",
       "<path d=\"M0.17928324965978454,-0.3445657769226463 A1.0041658591922324,0.3858784841887365,-0.0,0,0,-0.9636237383738692,-0.07342676364499442 L-0.8925206711827084,-0.0680088106606793 A0.9282941066083561,0.35650786422881403,180.0,0,1,0.1668623408500432,-0.32069394225747033 Z\" fill=\"#56e\" stroke=\"none\" stroke-width=\"0.002\" opacity=\"1\" />\n",
       "<path d=\"M0.9984897278368862,0.07608350264549901 A1.0041658591922324,0.3858784841887365,-0.0,0,0,0.17928324965978454,-0.3445657769226463 L0.1668623408500432,-0.32069394225747033 A0.9282941066083561,0.35650786422881403,180.0,0,1,0.9223515230673206,0.07028187931126768 Z\" fill=\"#56e\" stroke=\"none\" stroke-width=\"0.002\" opacity=\"1\" />\n",
       "<path d=\"M-0.9636237383738696,-0.07342676364499413 A1.0008693185718753,0.9076680888751324,27.488702880068224,0,0,-2.5326962749261384e-16,0.8903223669854132 L-1.4224732503009818e-16,0.8257977873852915 A0.9256878953610954,0.8393821924873945,27.488702880068175,0,1,-0.892520671182709,-0.0680088106606794 Z\" fill=\"#9e2\" stroke=\"none\" stroke-width=\"0.002\" opacity=\"1\" />\n",
       "<path d=\"M0.1792832496597845,-0.3445657769226464 A1.0047256871109849,0.18212709565069388,-85.64256317530416,0,0,-1.0408340855860843e-17,-0.960065384067388 L3.9898639947466563e-17,-0.8854594023054738 A0.9287363304607109,0.16823745394807896,-85.64256317530416,0,1,0.16686234085004303,-0.3206939422574701 Z\" fill=\"#e1e144\" stroke=\"none\" stroke-width=\"0.002\" opacity=\"1\" />\n",
       "<path d=\"M-4.85722573273506e-17,0.8903223669854132 A1.0008693185718753,0.9076680888751324,27.488702880068224,0,0,0.9984897278368864,0.07608350264549901 L0.9223515230673208,0.07028187931126767 A0.9256878953610954,0.8393821924873945,27.488702880068175,0,1,4.85722573273506e-17,0.8257977873852915 Z\" fill=\"#9e2\" stroke=\"none\" stroke-width=\"0.002\" opacity=\"1\" />\n",
       "<g opacity=\"0\">\n",
       "<path d=\"M0.14581595759308194,-0.2802447457368357 A0.8024133852073597,0.14520644496195342,-85.64256317530416,0,1,-2.914335439641036e-16,0.7174698838543963 L-6.245004513516506e-17,0.6300915147794299 A0.7016150651342907,0.1268759543336325,-85.64256317530416,0,0,0.128660648104643,-0.24727383209348294 Z\" fill=\"#e1e144\" stroke=\"none\" stroke-width=\"0.002\" opacity=\"1\" />\n",
       "<path d=\"M-0.773600304424283,-0.05894724719475411 A0.8021281271028515,0.3077777102912172,-0.0,0,1,0.14581595759308186,-0.28024474573683567 L0.12866064810464295,-0.24727383209348303 A0.7014243457912697,0.2689696588326861,-0.0,0,0,-0.6780883138919379,-0.05166936883331391 Z\" fill=\"#56e\" stroke=\"none\" stroke-width=\"0.002\" opacity=\"1\" />\n",
       "<path d=\"M0.14581595759308186,-0.28024474573683567 A0.8021281271028515,0.3077777102912172,-0.0,0,1,0.795912000636637,0.060647366835920445 L0.69516989709142,0.05297096127268987 A0.7014243457912697,0.2689696588326861,-0.0,0,0,0.12866064810464295,-0.24727383209348303 Z\" fill=\"#56e\" stroke=\"none\" stroke-width=\"0.002\" opacity=\"1\" />\n",
       "<path d=\"M-0.7736003044242828,-0.05894724719475421 A0.8004448822172253,0.725680063720757,27.488702880068196,0,0,-2.255140518769849e-16,0.7174698838543964 L-1.249000902703301e-16,0.6300915147794303 A0.7002979780634196,0.6348045332320428,27.488702880068146,0,1,-0.6780883138919376,-0.051669368833313856 Z\" fill=\"#6a1\" stroke=\"none\" stroke-width=\"0.002\" opacity=\"1\" />\n",
       "<path d=\"M-5.204170427930421e-18,-0.7620825664698891 A0.8024133852073597,0.14520644496195342,-85.64256317530416,0,1,0.14581595759308194,-0.2802447457368357 L0.128660648104643,-0.24727383209348305 A0.7016150651342907,0.1268759543336325,-85.64256317530416,0,0,6.418476861114186e-17,-0.6642408163403459 Z\" fill=\"#e1e144\" stroke=\"none\" stroke-width=\"0.002\" opacity=\"1\" />\n",
       "<path d=\"M-2.255140518769849e-16,0.7174698838543964 A0.8004448822172253,0.725680063720757,27.488702880068196,0,0,0.7959120006366371,0.0606473668359206 L0.69516989709142,0.05297096127269002 A0.7002979780634196,0.6348045332320428,27.488702880068146,0,1,-1.249000902703301e-16,0.6300915147794303 Z\" fill=\"#9e2\" stroke=\"none\" stroke-width=\"0.002\" opacity=\"1\" />\n",
       "<path d=\"M0.11997446537963545,-0.23057979455894542 L-0.12379857710344633,0.23792938259717175\" stroke=\"black\" stroke-width=\"0.015\" marker-end=\"url(#319-d0)\" />\n",
       "<path d=\"M0.6449346752738053,0.049143108541207334 L-0.5822404620849775,-0.0443658983185811\" stroke=\"black\" stroke-width=\"0.015\" marker-end=\"url(#319-d0)\" />\n",
       "<path d=\"M8.003013197657645e-17,-0.615603469186553 L-7.047045485241126e-17,0.5420690358850826\" stroke=\"black\" stroke-width=\"0.015\" marker-end=\"url(#319-d0)\" />\n",
       "<path d=\"M2.949029909160572e-17,-0.7620825664698897 A0.8004448822172253,0.725680063720757,27.488702880068196,0,0,-0.7736003044242828,-0.05894724719475421 L-0.6780883138919376,-0.051669368833313856 A0.7002979780634196,0.6348045332320428,27.488702880068146,0,1,7.45931094670027e-17,-0.664240816340346 Z\" fill=\"#9e2\" stroke=\"none\" stroke-width=\"0.002\" opacity=\"1\" />\n",
       "<path d=\"M-2.914335439641036e-16,0.7174698838543963 A0.8024133852073597,0.14520644496195342,-85.64256317530416,0,1,-0.1682374289107217,0.32333673396759294 L-0.14580649923760763,0.2802265676548978 A0.7016150651342907,0.1268759543336325,-85.64256317530416,0,0,-6.245004513516506e-17,0.6300915147794299 Z\" fill=\"#909022\" stroke=\"none\" stroke-width=\"0.002\" opacity=\"1\" />\n",
       "<path d=\"M0.7959120006366371,0.0606473668359206 A0.8004448822172253,0.725680063720757,27.488702880068196,0,0,1.942890293094024e-16,-0.7620825664698897 L2.185751579730777e-16,-0.664240816340346 A0.7002979780634196,0.6348045332320428,27.488702880068146,0,1,0.69516989709142,0.05297096127269002 Z\" fill=\"#9e2\" stroke=\"none\" stroke-width=\"0.002\" opacity=\"1\" />\n",
       "<path d=\"M-0.16823742891072174,0.3233367339675933 A0.8021281271028515,0.3077777102912172,-0.0,0,1,-0.773600304424283,-0.05894724719475411 L-0.6780883138919379,-0.05166936883331391 A0.7014243457912697,0.2689696588326861,-0.0,0,0,-0.14580649923760775,0.28022656765489784 Z\" fill=\"#239\" stroke=\"none\" stroke-width=\"0.002\" opacity=\"1\" />\n",
       "<path d=\"M0.795912000636637,0.06064736683592052 A0.8021281271028515,0.3077777102912172,-0.0,0,1,-0.16823742891072174,0.3233367339675933 L-0.14580649923760775,0.28022656765489784 A0.7014243457912697,0.2689696588326861,-0.0,0,0,0.69516989709142,0.05297096127268994 Z\" fill=\"#56e\" stroke=\"none\" stroke-width=\"0.002\" opacity=\"1\" />\n",
       "<path d=\"M-0.1682374289107217,0.32333673396759294 A0.8024133852073597,0.14520644496195342,-85.64256317530416,0,1,-5.204170427930421e-18,-0.7620825664698891 L6.418476861114186e-17,-0.6642408163403459 A0.7016150651342907,0.1268759543336325,-85.64256317530416,0,0,-0.14580649923760763,0.2802265676548978 Z\" fill=\"#e1e144\" stroke=\"none\" stroke-width=\"0.002\" opacity=\"1\" />\n",
       "</g>\n",
       "<path d=\"M-3.122502256758253e-17,-0.9600653840673881 A1.0008693185718753,0.9076680888751324,27.488702880068224,0,0,-0.9636237383738696,-0.07342676364499413 L-0.892520671182709,-0.0680088106606794 A0.9256878953610954,0.8393821924873945,27.488702880068175,0,1,2.2551405187698492e-17,-0.8854594023054747 Z\" fill=\"#9e2\" stroke=\"none\" stroke-width=\"0.002\" opacity=\"1\" />\n",
       "<path d=\"M-0.2144180498831212,0.4120916041203868 A1.0047256871109849,0.18212709565069388,-85.64256317530416,0,0,6.938893903907228e-17,0.8903223669854131 L-2.949029909160572e-17,0.8257977873852902 A0.9287363304607109,0.16823745394807896,-85.64256317530416,0,1,-0.19688975072087142,0.3784038389195982 Z\" fill=\"#e1e144\" stroke=\"none\" stroke-width=\"0.002\" opacity=\"1\" />\n",
       "<path d=\"M0.9984897278368864,0.07608350264549901 A1.0008693185718753,0.9076680888751324,27.488702880068224,0,0,-3.122502256758253e-17,-0.9600653840673881 L2.2551405187698492e-17,-0.8854594023054747 A0.9256878953610954,0.8393821924873945,27.488702880068175,0,1,0.9223515230673208,0.07028187931126767 Z\" fill=\"#6a1\" stroke=\"none\" stroke-width=\"0.002\" opacity=\"1\" />\n",
       "<path d=\"M-0.9636237383738692,-0.07342676364499442 A1.0041658591922324,0.3858784841887365,-0.0,0,0,-0.21441804988312105,0.4120916041203868 L-0.1968897507208715,0.3784038389195986 A0.9282941066083561,0.35650786422881403,180.0,0,1,-0.8925206711827084,-0.0680088106606793 Z\" fill=\"#56e\" stroke=\"none\" stroke-width=\"0.002\" opacity=\"1\" />\n",
       "<path d=\"M-0.21441804988312105,0.4120916041203868 A1.0041658591922324,0.3858784841887365,-0.0,0,0,0.9984897278368862,0.07608350264549901 L0.9223515230673206,0.07028187931126768 A0.9282941066083561,0.35650786422881403,180.0,0,1,-0.1968897507208715,0.3784038389195986 Z\" fill=\"#239\" stroke=\"none\" stroke-width=\"0.002\" opacity=\"1\" />\n",
       "<path d=\"M-1.0408340855860843e-17,-0.960065384067388 A1.0047256871109849,0.18212709565069388,-85.64256317530416,0,0,-0.2144180498831212,0.4120916041203868 L-0.19688975072087142,0.3784038389195982 A0.9287363304607109,0.16823745394807896,-85.64256317530416,0,1,3.9898639947466563e-17,-0.8854594023054738 Z\" fill=\"#909022\" stroke=\"none\" stroke-width=\"0.002\" opacity=\"1\" />\n",
       "<path d=\"M-0.21441804988312108,0.4120916041203867 L-0.26244488923016085,0.5043947347483446\" stroke=\"black\" stroke-width=\"0.02\" marker-end=\"url(#319-d1)\" />\n",
       "<path d=\"M0.9984897278368864,0.076083502645499 L1.2025387183831648,0.0916317466376248\" stroke=\"black\" stroke-width=\"0.02\" marker-end=\"url(#319-d1)\" />\n",
       "<path d=\"M0.0,-0.9600653840673878 L0.0,-1.1611744708157232\" stroke=\"black\" stroke-width=\"0.02\" marker-end=\"url(#319-d1)\" />\n",
       "<text x=\"-0.39135396306187403\" y=\"0.7521460180472131\" font-size=\"0.2\" fill=\"black\" text-anchor=\"middle\"><tspan x=\"-0.39135396306187403\" dy=\"0.4em\">X</tspan></text>\n",
       "<text x=\"1.3565506460625272\" y=\"0.10336723732956847\" font-size=\"0.2\" fill=\"black\" text-anchor=\"middle\"><tspan x=\"1.3565506460625272\" dy=\"0.4em\">Y</tspan></text>\n",
       "<text x=\"0.0\" y=\"-1.3654844645413073\" font-size=\"0.2\" fill=\"black\" text-anchor=\"middle\"><tspan x=\"0.0\" dy=\"0.4em\">Z</tspan></text>\n",
       "<g opacity=\"0\">\n",
       "<path d=\"M0.0,-0.0 L-0.25755597644989947,0.4949986978423062\" stroke=\"#e00\" stroke-width=\"0.04\" marker-end=\"url(#319-d2)\" />\n",
       "</g>\n",
       "</g>\n",
       "</svg>"
      ],
      "text/plain": [
       "<drawSvg.drawing.Drawing at 0x7fbfa8749e10>"
      ]
     },
     "metadata": {},
     "output_type": "display_data"
    },
    {
     "ename": "LatexError",
     "evalue": "Latex compiler pdflatex not found.",
     "output_type": "error",
     "traceback": [
      "\u001b[0;31m---------------------------------------------------------------------------\u001b[0m",
      "\u001b[0;31mFileNotFoundError\u001b[0m                         Traceback (most recent call last)",
      "\u001b[0;32m~/.local/lib/python3.10/site-packages/latextools/project.py\u001b[0m in \u001b[0;36mrun_pdflatex\u001b[0;34m(self, fpath, cwd, options)\u001b[0m\n\u001b[1;32m    169\u001b[0m         \u001b[0;32mtry\u001b[0m\u001b[0;34m:\u001b[0m\u001b[0;34m\u001b[0m\u001b[0;34m\u001b[0m\u001b[0m\n\u001b[0;32m--> 170\u001b[0;31m             p = subprocess.Popen(['pdflatex', *options, fpath],\n\u001b[0m\u001b[1;32m    171\u001b[0m                                  \u001b[0mcwd\u001b[0m\u001b[0;34m=\u001b[0m\u001b[0mcwd\u001b[0m\u001b[0;34m,\u001b[0m\u001b[0;34m\u001b[0m\u001b[0;34m\u001b[0m\u001b[0m\n",
      "\u001b[0;32m/usr/lib/python3.10/subprocess.py\u001b[0m in \u001b[0;36m__init__\u001b[0;34m(self, args, bufsize, executable, stdin, stdout, stderr, preexec_fn, close_fds, shell, cwd, env, universal_newlines, startupinfo, creationflags, restore_signals, start_new_session, pass_fds, user, group, extra_groups, encoding, errors, text, umask, pipesize)\u001b[0m\n\u001b[1;32m    968\u001b[0m \u001b[0;34m\u001b[0m\u001b[0m\n\u001b[0;32m--> 969\u001b[0;31m             self._execute_child(args, executable, preexec_fn, close_fds,\n\u001b[0m\u001b[1;32m    970\u001b[0m                                 \u001b[0mpass_fds\u001b[0m\u001b[0;34m,\u001b[0m \u001b[0mcwd\u001b[0m\u001b[0;34m,\u001b[0m \u001b[0menv\u001b[0m\u001b[0;34m,\u001b[0m\u001b[0;34m\u001b[0m\u001b[0;34m\u001b[0m\u001b[0m\n",
      "\u001b[0;32m/usr/lib/python3.10/subprocess.py\u001b[0m in \u001b[0;36m_execute_child\u001b[0;34m(self, args, executable, preexec_fn, close_fds, pass_fds, cwd, env, startupinfo, creationflags, shell, p2cread, p2cwrite, c2pread, c2pwrite, errread, errwrite, restore_signals, gid, gids, uid, umask, start_new_session)\u001b[0m\n\u001b[1;32m   1844\u001b[0m                         \u001b[0merr_msg\u001b[0m \u001b[0;34m=\u001b[0m \u001b[0mos\u001b[0m\u001b[0;34m.\u001b[0m\u001b[0mstrerror\u001b[0m\u001b[0;34m(\u001b[0m\u001b[0merrno_num\u001b[0m\u001b[0;34m)\u001b[0m\u001b[0;34m\u001b[0m\u001b[0;34m\u001b[0m\u001b[0m\n\u001b[0;32m-> 1845\u001b[0;31m                     \u001b[0;32mraise\u001b[0m \u001b[0mchild_exception_type\u001b[0m\u001b[0;34m(\u001b[0m\u001b[0merrno_num\u001b[0m\u001b[0;34m,\u001b[0m \u001b[0merr_msg\u001b[0m\u001b[0;34m,\u001b[0m \u001b[0merr_filename\u001b[0m\u001b[0;34m)\u001b[0m\u001b[0;34m\u001b[0m\u001b[0;34m\u001b[0m\u001b[0m\n\u001b[0m\u001b[1;32m   1846\u001b[0m                 \u001b[0;32mraise\u001b[0m \u001b[0mchild_exception_type\u001b[0m\u001b[0;34m(\u001b[0m\u001b[0merr_msg\u001b[0m\u001b[0;34m)\u001b[0m\u001b[0;34m\u001b[0m\u001b[0;34m\u001b[0m\u001b[0m\n",
      "\u001b[0;31mFileNotFoundError\u001b[0m: [Errno 2] No such file or directory: 'pdflatex'",
      "\nDuring handling of the above exception, another exception occurred:\n",
      "\u001b[0;31mLatexError\u001b[0m                                Traceback (most recent call last)",
      "\u001b[0;32m/tmp/ipykernel_24103/343354946.py\u001b[0m in \u001b[0;36m<module>\u001b[0;34m\u001b[0m\n\u001b[0;32m----> 1\u001b[0;31m main('hzh_x', 'h,z,h'.split(','), 'x'.split(','),\n\u001b[0m\u001b[1;32m      2\u001b[0m      \u001b[0;34mr'& \\gate{H} & \\gate{Z} & \\gate{H} & \\qw & \\push{=} & & \\gate{X} & \\qw'\u001b[0m\u001b[0;34m,\u001b[0m\u001b[0;34m\u001b[0m\u001b[0;34m\u001b[0m\u001b[0m\n\u001b[1;32m      3\u001b[0m      \u001b[0;34mr'$HZH\\ket{\\psi}=X\\ket{\\psi}$'\u001b[0m\u001b[0;34m,\u001b[0m\u001b[0;34m\u001b[0m\u001b[0;34m\u001b[0m\u001b[0m\n\u001b[1;32m      4\u001b[0m      \u001b[0mmp4\u001b[0m\u001b[0;34m=\u001b[0m\u001b[0;32mFalse\u001b[0m\u001b[0;34m,\u001b[0m\u001b[0;34m\u001b[0m\u001b[0;34m\u001b[0m\u001b[0m\n\u001b[1;32m      5\u001b[0m      \u001b[0mfps\u001b[0m\u001b[0;34m=\u001b[0m\u001b[0;36m20\u001b[0m\u001b[0;34m,\u001b[0m\u001b[0;34m\u001b[0m\u001b[0;34m\u001b[0m\u001b[0m\n",
      "\u001b[0;32m~/.local/lib/python3.10/site-packages/bloch_sphere/animate_bloch_compare.py\u001b[0m in \u001b[0;36mmain\u001b[0;34m(name, gates1, gates2, circuit_qcircuit, equation_latex, mp4, fps, preview, style)\u001b[0m\n\u001b[1;32m    114\u001b[0m         \u001b[0mstate\u001b[0m\u001b[0;34m.\u001b[0m\u001b[0msphere_fade_out\u001b[0m\u001b[0;34m(\u001b[0m\u001b[0;34m)\u001b[0m\u001b[0;34m\u001b[0m\u001b[0;34m\u001b[0m\u001b[0m\n\u001b[1;32m    115\u001b[0m         \u001b[0mstate\u001b[0m\u001b[0;34m.\u001b[0m\u001b[0mwait\u001b[0m\u001b[0;34m(\u001b[0m\u001b[0;34m)\u001b[0m\u001b[0;34m\u001b[0m\u001b[0;34m\u001b[0m\u001b[0m\n\u001b[0;32m--> 116\u001b[0;31m     render_animation(name, func1, func2, circuit_qcircuit, equation_latex,\n\u001b[0m\u001b[1;32m    117\u001b[0m                      save=save, fps=fps, preview=preview, style=style)\n\u001b[1;32m    118\u001b[0m     \u001b[0mprint\u001b[0m\u001b[0;34m(\u001b[0m\u001b[0;34mf'Saved \"{name}.{save}\"'\u001b[0m\u001b[0;34m)\u001b[0m\u001b[0;34m\u001b[0m\u001b[0;34m\u001b[0m\u001b[0m\n",
      "\u001b[0;32m~/.local/lib/python3.10/site-packages/bloch_sphere/animate_bloch_compare.py\u001b[0m in \u001b[0;36mrender_animation\u001b[0;34m(name, func1, func2, circuit_qcircuit, equation_latex, save, fps, preview, style, **kwargs)\u001b[0m\n\u001b[1;32m     32\u001b[0m     \u001b[0mg\u001b[0m\u001b[0;34m.\u001b[0m\u001b[0mappend\u001b[0m\u001b[0;34m(\u001b[0m\u001b[0mdraw\u001b[0m\u001b[0;34m.\u001b[0m\u001b[0mRectangle\u001b[0m\u001b[0;34m(\u001b[0m\u001b[0;34m-\u001b[0m\u001b[0;36m0.4\u001b[0m\u001b[0;34m,\u001b[0m \u001b[0;34m-\u001b[0m\u001b[0;36m0.15\u001b[0m\u001b[0;34m,\u001b[0m \u001b[0;36m0.8\u001b[0m\u001b[0;34m,\u001b[0m \u001b[0;36m0.075\u001b[0m\u001b[0;34m,\u001b[0m \u001b[0mfill\u001b[0m\u001b[0;34m=\u001b[0m\u001b[0;34m'#000'\u001b[0m\u001b[0;34m)\u001b[0m\u001b[0;34m)\u001b[0m\u001b[0;34m\u001b[0m\u001b[0;34m\u001b[0m\u001b[0m\n\u001b[1;32m     33\u001b[0m     \u001b[0;32mif\u001b[0m \u001b[0mcircuit_qcircuit\u001b[0m\u001b[0;34m:\u001b[0m\u001b[0;34m\u001b[0m\u001b[0;34m\u001b[0m\u001b[0m\n\u001b[0;32m---> 34\u001b[0;31m         \u001b[0mcircuit_elem\u001b[0m \u001b[0;34m=\u001b[0m \u001b[0mlatextools\u001b[0m\u001b[0;34m.\u001b[0m\u001b[0mrender_qcircuit\u001b[0m\u001b[0;34m(\u001b[0m\u001b[0mcircuit_qcircuit\u001b[0m\u001b[0;34m)\u001b[0m\u001b[0;34m.\u001b[0m\u001b[0mas_svg\u001b[0m\u001b[0;34m(\u001b[0m\u001b[0;34m)\u001b[0m\u001b[0;34m\u001b[0m\u001b[0;34m\u001b[0m\u001b[0m\n\u001b[0m\u001b[1;32m     35\u001b[0m         \u001b[0mg\u001b[0m\u001b[0;34m.\u001b[0m\u001b[0mdraw\u001b[0m\u001b[0;34m(\u001b[0m\u001b[0mcircuit_elem\u001b[0m\u001b[0;34m,\u001b[0m \u001b[0mx\u001b[0m\u001b[0;34m=\u001b[0m\u001b[0;36m0\u001b[0m\u001b[0;34m,\u001b[0m \u001b[0my\u001b[0m\u001b[0;34m=\u001b[0m\u001b[0;36m2\u001b[0m\u001b[0;34m,\u001b[0m \u001b[0mcenter\u001b[0m\u001b[0;34m=\u001b[0m\u001b[0;32mTrue\u001b[0m\u001b[0;34m,\u001b[0m \u001b[0mscale\u001b[0m\u001b[0;34m=\u001b[0m\u001b[0;36m0.04\u001b[0m\u001b[0;34m)\u001b[0m\u001b[0;34m\u001b[0m\u001b[0;34m\u001b[0m\u001b[0m\n\u001b[1;32m     36\u001b[0m     \u001b[0;32mif\u001b[0m \u001b[0mequation_latex\u001b[0m\u001b[0;34m:\u001b[0m\u001b[0;34m\u001b[0m\u001b[0;34m\u001b[0m\u001b[0m\n",
      "\u001b[0;32m~/.local/lib/python3.10/site-packages/latextools/shortcuts.py\u001b[0m in \u001b[0;36mrender_qcircuit\u001b[0;34m(content, r, c, const_size, const_row, const_col, lpad, rpad, tpad, bpad, pad, commands, config, *packages)\u001b[0m\n\u001b[1;32m     66\u001b[0m         \u001b[0mq_conf\u001b[0m \u001b[0;34m+=\u001b[0m \u001b[0;34m' @!'\u001b[0m\u001b[0;34m\u001b[0m\u001b[0;34m\u001b[0m\u001b[0m\n\u001b[1;32m     67\u001b[0m     \u001b[0mcontent\u001b[0m \u001b[0;34m=\u001b[0m \u001b[0;34m'\\\\Qcircuit {} {{\\n{}\\n}}'\u001b[0m\u001b[0;34m.\u001b[0m\u001b[0mformat\u001b[0m\u001b[0;34m(\u001b[0m\u001b[0mq_conf\u001b[0m\u001b[0;34m,\u001b[0m \u001b[0mcontent\u001b[0m\u001b[0;34m.\u001b[0m\u001b[0mstrip\u001b[0m\u001b[0;34m(\u001b[0m\u001b[0;34m)\u001b[0m\u001b[0;34m)\u001b[0m\u001b[0;34m\u001b[0m\u001b[0;34m\u001b[0m\u001b[0m\n\u001b[0;32m---> 68\u001b[0;31m     return render_snippet(content,\n\u001b[0m\u001b[1;32m     69\u001b[0m         \u001b[0mpkg\u001b[0m\u001b[0;34m.\u001b[0m\u001b[0mqcircuit\u001b[0m\u001b[0;34m,\u001b[0m \u001b[0;34m*\u001b[0m\u001b[0mpackages\u001b[0m\u001b[0;34m,\u001b[0m \u001b[0mlpad\u001b[0m\u001b[0;34m=\u001b[0m\u001b[0mlpad\u001b[0m\u001b[0;34m,\u001b[0m \u001b[0mrpad\u001b[0m\u001b[0;34m=\u001b[0m\u001b[0mrpad\u001b[0m\u001b[0;34m,\u001b[0m \u001b[0mtpad\u001b[0m\u001b[0;34m=\u001b[0m\u001b[0mtpad\u001b[0m\u001b[0;34m,\u001b[0m \u001b[0mbpad\u001b[0m\u001b[0;34m=\u001b[0m\u001b[0mbpad\u001b[0m\u001b[0;34m,\u001b[0m\u001b[0;34m\u001b[0m\u001b[0;34m\u001b[0m\u001b[0m\n\u001b[1;32m     70\u001b[0m         pad=pad, commands=commands, config=config)\n",
      "\u001b[0;32m~/.local/lib/python3.10/site-packages/latextools/shortcuts.py\u001b[0m in \u001b[0;36mrender_snippet\u001b[0;34m(content, commands, lpad, rpad, tpad, bpad, pad, config, *packages)\u001b[0m\n\u001b[1;32m     38\u001b[0m     \u001b[0mcontent\u001b[0m \u001b[0;34m=\u001b[0m \u001b[0mBasicContent\u001b[0m\u001b[0;34m(\u001b[0m\u001b[0mcontent\u001b[0m\u001b[0;34m,\u001b[0m \u001b[0mpackages\u001b[0m\u001b[0;34m,\u001b[0m \u001b[0mcommands\u001b[0m\u001b[0;34m)\u001b[0m\u001b[0;34m\u001b[0m\u001b[0;34m\u001b[0m\u001b[0m\n\u001b[1;32m     39\u001b[0m     \u001b[0mproj\u001b[0m\u001b[0;34m.\u001b[0m\u001b[0madd_file\u001b[0m\u001b[0;34m(\u001b[0m\u001b[0mcontent\u001b[0m\u001b[0;34m.\u001b[0m\u001b[0mas_document\u001b[0m\u001b[0;34m(\u001b[0m\u001b[0mpath\u001b[0m\u001b[0;34m=\u001b[0m\u001b[0;34m'main.tex'\u001b[0m\u001b[0;34m,\u001b[0m \u001b[0mconfig\u001b[0m\u001b[0;34m=\u001b[0m\u001b[0mconfig\u001b[0m\u001b[0;34m)\u001b[0m\u001b[0;34m)\u001b[0m\u001b[0;34m\u001b[0m\u001b[0;34m\u001b[0m\u001b[0m\n\u001b[0;32m---> 40\u001b[0;31m     r = proj.compile_pdf(options=['-halt-on-error', '-file-line-error',\n\u001b[0m\u001b[1;32m     41\u001b[0m                                   \u001b[0;34m'-interaction'\u001b[0m\u001b[0;34m,\u001b[0m \u001b[0;34m'nonstopmode'\u001b[0m\u001b[0;34m,\u001b[0m\u001b[0;34m\u001b[0m\u001b[0;34m\u001b[0m\u001b[0m\n\u001b[1;32m     42\u001b[0m                                   '-shell-escape'])\n",
      "\u001b[0;32m~/.local/lib/python3.10/site-packages/latextools/project.py\u001b[0m in \u001b[0;36mcompile_pdf\u001b[0;34m(self, fname, tmp_dir, return_path, options, **pdf_args)\u001b[0m\n\u001b[1;32m     92\u001b[0m     def compile_pdf(self, fname='main.tex', tmp_dir=None,\n\u001b[1;32m     93\u001b[0m                     return_path=False, options=None, **pdf_args):\n\u001b[0;32m---> 94\u001b[0;31m         return self.compile_pdf_batch([fname], tmp_dir=tmp_dir,\n\u001b[0m\u001b[1;32m     95\u001b[0m                                       \u001b[0mreturn_path\u001b[0m\u001b[0;34m=\u001b[0m\u001b[0mreturn_path\u001b[0m\u001b[0;34m,\u001b[0m\u001b[0;34m\u001b[0m\u001b[0;34m\u001b[0m\u001b[0m\n\u001b[1;32m     96\u001b[0m                                       \u001b[0moptions\u001b[0m\u001b[0;34m=\u001b[0m\u001b[0moptions\u001b[0m\u001b[0;34m,\u001b[0m\u001b[0;34m\u001b[0m\u001b[0;34m\u001b[0m\u001b[0m\n",
      "\u001b[0;32m~/.local/lib/python3.10/site-packages/latextools/project.py\u001b[0m in \u001b[0;36mcompile_pdf_batch\u001b[0;34m(self, fname_list, tmp_dir, return_path, options, **pdf_args)\u001b[0m\n\u001b[1;32m    101\u001b[0m         \u001b[0;32mif\u001b[0m \u001b[0mtmp_dir\u001b[0m \u001b[0;32mis\u001b[0m \u001b[0;32mNone\u001b[0m\u001b[0;34m:\u001b[0m\u001b[0;34m\u001b[0m\u001b[0;34m\u001b[0m\u001b[0m\n\u001b[1;32m    102\u001b[0m             \u001b[0;32mwith\u001b[0m \u001b[0mtempfile\u001b[0m\u001b[0;34m.\u001b[0m\u001b[0mTemporaryDirectory\u001b[0m\u001b[0;34m(\u001b[0m\u001b[0;34m)\u001b[0m \u001b[0;32mas\u001b[0m \u001b[0mtmp_dir\u001b[0m\u001b[0;34m:\u001b[0m\u001b[0;34m\u001b[0m\u001b[0;34m\u001b[0m\u001b[0m\n\u001b[0;32m--> 103\u001b[0;31m                 return self.compile_pdf_batch(\n\u001b[0m\u001b[1;32m    104\u001b[0m                                 \u001b[0mfname_list\u001b[0m\u001b[0;34m,\u001b[0m \u001b[0mtmp_dir\u001b[0m\u001b[0;34m=\u001b[0m\u001b[0mtmp_dir\u001b[0m\u001b[0;34m,\u001b[0m\u001b[0;34m\u001b[0m\u001b[0;34m\u001b[0m\u001b[0m\n\u001b[1;32m    105\u001b[0m                                 \u001b[0mreturn_path\u001b[0m\u001b[0;34m=\u001b[0m\u001b[0mreturn_path\u001b[0m\u001b[0;34m,\u001b[0m\u001b[0;34m\u001b[0m\u001b[0;34m\u001b[0m\u001b[0m\n",
      "\u001b[0;32m~/.local/lib/python3.10/site-packages/latextools/project.py\u001b[0m in \u001b[0;36mcompile_pdf_batch\u001b[0;34m(self, fname_list, tmp_dir, return_path, options, **pdf_args)\u001b[0m\n\u001b[1;32m    114\u001b[0m                 \u001b[0mself\u001b[0m\u001b[0;34m.\u001b[0m\u001b[0mrun_pdflatex\u001b[0m\u001b[0;34m(\u001b[0m\u001b[0mfpath\u001b[0m\u001b[0;34m,\u001b[0m \u001b[0mcwd\u001b[0m\u001b[0;34m=\u001b[0m\u001b[0mtmp_dir\u001b[0m\u001b[0;34m)\u001b[0m\u001b[0;34m\u001b[0m\u001b[0;34m\u001b[0m\u001b[0m\n\u001b[1;32m    115\u001b[0m             \u001b[0;32melse\u001b[0m\u001b[0;34m:\u001b[0m\u001b[0;34m\u001b[0m\u001b[0;34m\u001b[0m\u001b[0m\n\u001b[0;32m--> 116\u001b[0;31m                 \u001b[0mself\u001b[0m\u001b[0;34m.\u001b[0m\u001b[0mrun_pdflatex\u001b[0m\u001b[0;34m(\u001b[0m\u001b[0mfpath\u001b[0m\u001b[0;34m,\u001b[0m \u001b[0mcwd\u001b[0m\u001b[0;34m=\u001b[0m\u001b[0mtmp_dir\u001b[0m\u001b[0;34m,\u001b[0m \u001b[0moptions\u001b[0m\u001b[0;34m=\u001b[0m\u001b[0moptions\u001b[0m\u001b[0;34m)\u001b[0m\u001b[0;34m\u001b[0m\u001b[0;34m\u001b[0m\u001b[0m\n\u001b[0m\u001b[1;32m    117\u001b[0m             \u001b[0mout_fname\u001b[0m \u001b[0;34m=\u001b[0m \u001b[0mself\u001b[0m\u001b[0;34m.\u001b[0m\u001b[0m_get_output_fname\u001b[0m\u001b[0;34m(\u001b[0m\u001b[0mfname\u001b[0m\u001b[0;34m,\u001b[0m \u001b[0;34m'pdf'\u001b[0m\u001b[0;34m)\u001b[0m\u001b[0;34m\u001b[0m\u001b[0;34m\u001b[0m\u001b[0m\n\u001b[1;32m    118\u001b[0m             \u001b[0mdata\u001b[0m \u001b[0;34m=\u001b[0m \u001b[0;32mNone\u001b[0m\u001b[0;34m\u001b[0m\u001b[0;34m\u001b[0m\u001b[0m\n",
      "\u001b[0;32m~/.local/lib/python3.10/site-packages/latextools/project.py\u001b[0m in \u001b[0;36mrun_pdflatex\u001b[0;34m(self, fpath, cwd, options)\u001b[0m\n\u001b[1;32m    173\u001b[0m                                  stderr=subprocess.PIPE)\n\u001b[1;32m    174\u001b[0m         \u001b[0;32mexcept\u001b[0m \u001b[0mFileNotFoundError\u001b[0m\u001b[0;34m:\u001b[0m\u001b[0;34m\u001b[0m\u001b[0;34m\u001b[0m\u001b[0m\n\u001b[0;32m--> 175\u001b[0;31m             \u001b[0;32mraise\u001b[0m \u001b[0mLatexError\u001b[0m\u001b[0;34m(\u001b[0m\u001b[0;34m'Latex compiler pdflatex not found.'\u001b[0m\u001b[0;34m)\u001b[0m\u001b[0;34m\u001b[0m\u001b[0;34m\u001b[0m\u001b[0m\n\u001b[0m\u001b[1;32m    176\u001b[0m         \u001b[0mstdout\u001b[0m\u001b[0;34m,\u001b[0m \u001b[0mstderr\u001b[0m \u001b[0;34m=\u001b[0m \u001b[0mp\u001b[0m\u001b[0;34m.\u001b[0m\u001b[0mcommunicate\u001b[0m\u001b[0;34m(\u001b[0m\u001b[0;34m)\u001b[0m\u001b[0;34m\u001b[0m\u001b[0;34m\u001b[0m\u001b[0m\n\u001b[1;32m    177\u001b[0m         \u001b[0;32mif\u001b[0m \u001b[0mp\u001b[0m\u001b[0;34m.\u001b[0m\u001b[0mreturncode\u001b[0m \u001b[0;34m!=\u001b[0m \u001b[0;36m0\u001b[0m\u001b[0;34m:\u001b[0m\u001b[0;34m\u001b[0m\u001b[0;34m\u001b[0m\u001b[0m\n",
      "\u001b[0;31mLatexError\u001b[0m: Latex compiler pdflatex not found."
     ]
    }
   ],
   "source": [
    "main('hzh_x', 'h,z,h'.split(','), 'x'.split(','),\n",
    "     r'& \\gate{H} & \\gate{Z} & \\gate{H} & \\qw & \\push{=} & & \\gate{X} & \\qw',\n",
    "     r'$HZH\\ket{\\psi}=X\\ket{\\psi}$',\n",
    "     mp4=False,\n",
    "     fps=20,\n",
    "     preview=True,\n",
    ")"
   ]
  },
  {
   "cell_type": "code",
   "execution_count": null,
   "id": "3e3febc5",
   "metadata": {},
   "outputs": [],
   "source": []
  }
 ],
 "metadata": {
  "kernelspec": {
   "display_name": "Python 3 (ipykernel)",
   "language": "python",
   "name": "python3"
  },
  "language_info": {
   "codemirror_mode": {
    "name": "ipython",
    "version": 3
   },
   "file_extension": ".py",
   "mimetype": "text/x-python",
   "name": "python",
   "nbconvert_exporter": "python",
   "pygments_lexer": "ipython3",
   "version": "3.10.6"
  }
 },
 "nbformat": 4,
 "nbformat_minor": 5
}
