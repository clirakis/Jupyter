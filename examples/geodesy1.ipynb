{
 "cells": [
  {
   "cell_type": "code",
   "execution_count": 5,
   "metadata": {},
   "outputs": [],
   "source": [
    "# Using Proj for projections\n",
    "# https://en.wikipedia.org/wiki/Geographic_coordinate_conversion#From_geodetic_to_ECEF_coordinates\n",
    "# https://pyproj4.github.io/pyproj/stable/\n",
    "# https://pyproj4.github.io/pyproj/stable/examples.html\n",
    "# https://proj.org/faq.html#what-is-the-best-format-for-describing-coordinate-reference-systems\n",
    "#\n",
    "import numpy as np\n",
    "import matplotlib.pyplot as plt\n",
    "import pyproj\n",
    "#\n",
    "# some examples use CRS which looks a lot like the original proj way of initialization. \n",
    "# However, there are online references that suggest not using CRS as the prefered way of \n",
    "# initializing the projection. \n",
    "#from pyproj import CRS\n",
    "# See https://en.wikipedia.org/wiki/Well-known_text_representation_of_coordinate_reference_systems\n",
    "#"
   ]
  },
  {
   "cell_type": "markdown",
   "metadata": {},
   "source": [
    "<hr>\n",
    "Modified    BY  Reason <br> \n",
    "22-Jan-22   CBL Original <br>\n",
    "<hr>"
   ]
  },
  {
   "cell_type": "code",
   "execution_count": 18,
   "metadata": {},
   "outputs": [
    {
     "name": "stdout",
     "output_type": "stream",
     "text": [
      "-24.887220777850917   82.2128095673836   -2217647.7937\n"
     ]
    }
   ],
   "source": [
    "# Example  ECEF position data, should be somewhere in Germany\n",
    "x = 652954.1006\n",
    "y = 4774619.7919\n",
    "z = -2217647.7937\n",
    "ecef = pyproj.Proj(proj='geocent', ellps='WGS84', datum='WGS84')\n",
    "lla = pyproj.Proj(proj='latlong', ellps='WGS84', datum='WGS84')\n",
    "lon, lat, alt = pyproj.transform(ecef, lla, x, y, z, radians=True)\n",
    "print(np.rad2deg(lat),\" \", np.rad2deg(lon), \" \", z)"
   ]
  },
  {
   "cell_type": "code",
   "execution_count": 19,
   "metadata": {},
   "outputs": [
    {
     "name": "stdout",
     "output_type": "stream",
     "text": [
      "dx 2123.4853104881477  dy -5078519.111940121  dz 7455710.525066024\n"
     ]
    }
   ],
   "source": [
    "# try LL to ECEF\n",
    "#print(lla)\n",
    "xp,yp,zp = pyproj.transform(lla, ecef, lat, lon, alt, radians=True)\n",
    "print (\"dx\", xp-x, \" dy\", yp-y, \" dz\", zp-z)\n",
    "# not sure why this isn't zero. "
   ]
  },
  {
   "cell_type": "code",
   "execution_count": null,
   "metadata": {},
   "outputs": [],
   "source": []
  }
 ],
 "metadata": {
  "kernelspec": {
   "display_name": "Python 3 (ipykernel)",
   "language": "python",
   "name": "python3"
  },
  "language_info": {
   "codemirror_mode": {
    "name": "ipython",
    "version": 3
   },
   "file_extension": ".py",
   "mimetype": "text/x-python",
   "name": "python",
   "nbconvert_exporter": "python",
   "pygments_lexer": "ipython3",
   "version": "3.10.6"
  }
 },
 "nbformat": 4,
 "nbformat_minor": 2
}
