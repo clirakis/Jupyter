{
 "cells": [
  {
   "cell_type": "code",
   "execution_count": 1,
   "metadata": {},
   "outputs": [],
   "source": [
    "import numpy as np\n",
    "import matplotlib.pyplot as plt\n",
    "import skrf as rf\n",
    "from skrf import Network\n",
    "from skrf.data import ring_slot_meas\n",
    "from skrf import plotting"
   ]
  },
  {
   "cell_type": "markdown",
   "metadata": {},
   "source": [
    "<hr>\n",
    "Modified   By   Reason <br>\n",
    "16-Jan-22  CBL  Original, https://scikit-rf.readthedocs.io/en/latest/tutorials/Circuit.html\n",
    "<hr>"
   ]
  },
  {
   "cell_type": "code",
   "execution_count": 2,
   "metadata": {},
   "outputs": [
    {
     "ename": "NameError",
     "evalue": "name 'network1' is not defined",
     "output_type": "error",
     "traceback": [
      "\u001b[0;31m---------------------------------------------------------------------------\u001b[0m",
      "\u001b[0;31mNameError\u001b[0m                                 Traceback (most recent call last)",
      "\u001b[0;32m<ipython-input-2-415cabb6a510>\u001b[0m in \u001b[0;36m<module>\u001b[0;34m()\u001b[0m\n\u001b[1;32m      1\u001b[0m connexions = [\n\u001b[0;32m----> 2\u001b[0;31m     \u001b[0;34m[\u001b[0m\u001b[0;34m(\u001b[0m\u001b[0mnetwork1\u001b[0m\u001b[0;34m,\u001b[0m \u001b[0mnetwork1_port_nb\u001b[0m\u001b[0;34m)\u001b[0m\u001b[0;34m,\u001b[0m \u001b[0;34m(\u001b[0m\u001b[0mnetwork2\u001b[0m\u001b[0;34m,\u001b[0m \u001b[0mnetwork2_port_nb\u001b[0m\u001b[0;34m)\u001b[0m\u001b[0;34m,\u001b[0m \u001b[0;34m(\u001b[0m\u001b[0mnetwork2\u001b[0m\u001b[0;34m,\u001b[0m \u001b[0mnetwork2_port_nb\u001b[0m\u001b[0;34m)\u001b[0m\u001b[0;34m,\u001b[0m \u001b[0;34m...\u001b[0m\u001b[0;34m]\u001b[0m\u001b[0;34m,\u001b[0m\u001b[0;34m\u001b[0m\u001b[0;34m\u001b[0m\u001b[0m\n\u001b[0m\u001b[1;32m      3\u001b[0m     \u001b[0;34m...\u001b[0m\u001b[0;34m\u001b[0m\u001b[0;34m\u001b[0m\u001b[0m\n\u001b[1;32m      4\u001b[0m ]\n\u001b[1;32m      5\u001b[0m connexions = [\n",
      "\u001b[0;31mNameError\u001b[0m: name 'network1' is not defined"
     ]
    }
   ],
   "source": [
    "connexions = [\n",
    "    [(network1, network1_port_nb), (network2, network2_port_nb), (network2, network2_port_nb), ...],\n",
    "    ...\n",
    "]\n",
    "connexions = [\n",
    "    [(port1, 0), (network1, 0), (network4, 0)],\n",
    "    [(network1, 1), (network2, 0), (network5, 0)],\n",
    "    [(network1, 2), (network3, 0)],\n",
    "    [(network2, 1), (network3, 1)],\n",
    "    [(network2, 2), (port2, 0)],\n",
    "    [(network5, 1), (ground1, 0)]\n",
    "]\n",
    "resulting_circuit = rf.Circuit(connexions)\n",
    "resulting_network = resulting_circuit.network"
   ]
  },
  {
   "cell_type": "code",
   "execution_count": null,
   "metadata": {},
   "outputs": [],
   "source": []
  }
 ],
 "metadata": {
  "kernelspec": {
   "display_name": "Python 3",
   "language": "python",
   "name": "python3"
  },
  "language_info": {
   "codemirror_mode": {
    "name": "ipython",
    "version": 3
   },
   "file_extension": ".py",
   "mimetype": "text/x-python",
   "name": "python",
   "nbconvert_exporter": "python",
   "pygments_lexer": "ipython3",
   "version": "3.6.9"
  }
 },
 "nbformat": 4,
 "nbformat_minor": 2
}
