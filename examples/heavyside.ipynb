{
 "cells": [
  {
   "cell_type": "markdown",
   "metadata": {},
   "source": [
    "# Time Series experiments"
   ]
  },
  {
   "cell_type": "code",
   "execution_count": 1,
   "metadata": {},
   "outputs": [],
   "source": [
    "import numpy as np\n",
    "import pandas as pd\n",
    "import matplotlib.pyplot as plt\n",
    "import seaborn as sns \n",
    "#sns.set(sytle=\"darkgrid\")"
   ]
  },
  {
   "cell_type": "markdown",
   "metadata": {},
   "source": [
    "# Here is the body of the code, example of using markdown"
   ]
  },
  {
   "cell_type": "code",
   "execution_count": 2,
   "metadata": {},
   "outputs": [
    {
     "data": {
      "image/png": "[encoded data removed]",
      "text/plain": [
       "<Figure size 432x288 with 1 Axes>"
      ]
     },
     "metadata": {},
     "output_type": "display_data"
    }
   ],
   "source": [
    "# Create a time series, arrange is (start,stop,step,dtype)\n",
    "x = np.arange(-3.0, 3.0, 0.05)  # A single cycle\n",
    "#\n",
    "# Matplotlib examples: https://pythonguides.com/matplotlib-plot-numpy-array/\n",
    "#  \n",
    "y = np.heaviside(x,0.0)\n",
    "plt.plot(x,y)\n",
    "#\n",
    "# Add Axis markers. \n",
    "#\n",
    "plt.title(\"Time Series\")\n",
    "plt.xlabel(\"X\")\n",
    "plt.ylabel(\"Amplitude (AU)\")\n",
    "#\n",
    "# Grid on (also shows other projections) https://matplotlib.org/stable/api/_as_gen/matplotlib.pyplot.grid.html\n",
    "plt.grid()\n",
    "plt.show()"
   ]
  },
  {
   "cell_type": "code",
   "execution_count": null,
   "metadata": {},
   "outputs": [],
   "source": []
  }
 ],
 "metadata": {
  "kernelspec": {
   "display_name": "Python 3",
   "language": "python",
   "name": "python3"
  },
  "language_info": {
   "codemirror_mode": {
    "name": "ipython",
    "version": 3
   },
   "file_extension": ".py",
   "mimetype": "text/x-python",
   "name": "python",
   "nbconvert_exporter": "python",
   "pygments_lexer": "ipython3",
   "version": "3.6.9"
  }
 },
 "nbformat": 4,
 "nbformat_minor": 2
}
