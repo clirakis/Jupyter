{
 "cells": [
  {
   "cell_type": "code",
   "execution_count": 1,
   "id": "b704a867",
   "metadata": {},
   "outputs": [],
   "source": [
    "\"\"\"\n",
    "Calculate Time dilation\n",
    "\n",
    "11-Jun-23   CBL Original\n",
    "\n",
    "\"\"\"\n",
    "import numpy as np\n",
    "import matplotlib.pyplot as plt\n",
    "import math"
   ]
  },
  {
   "cell_type": "markdown",
   "id": "6b25810d",
   "metadata": {},
   "source": [
    "Time dialtion is given by: <br> \n",
    "$ T = {T_{0} \\over{\\sqrt{1-\\beta^2}}} $ where $\\beta = {v \\over{c}}$"
   ]
  },
  {
   "cell_type": "code",
   "execution_count": 3,
   "id": "7123d96f",
   "metadata": {},
   "outputs": [],
   "source": [
    "def TimeDilation(T0, Beta):\n",
    "    \"\"\"\n",
    "    @param T0 - number of seconds \n",
    "    @param Beta    - relative velocity (to c)\n",
    "    \"\"\"\n",
    "    return T0/np.sqrt(1.0-np.power(Beta, 2.0))"
   ]
  },
  {
   "cell_type": "code",
   "execution_count": 9,
   "id": "f036a9a0",
   "metadata": {},
   "outputs": [],
   "source": [
    "def FindBeta(T, T0):\n",
    "    \"\"\"\n",
    "    @param - dilated time\n",
    "    @param - T0 for traveler\n",
    "    \"\"\"\n",
    "    b2 = T0/T\n",
    "    return np.sqrt(1-np.power(b2,2))"
   ]
  },
  {
   "cell_type": "code",
   "execution_count": 10,
   "id": "a8354fa6",
   "metadata": {},
   "outputs": [
    {
     "name": "stdout",
     "output_type": "stream",
     "text": [
      "Time elapsed for others:  7.4444444444444455  Minutes\n"
     ]
    }
   ],
   "source": [
    "T0 = 4.0*60 + 28  # number of elapsed seconds for Buzz\n",
    "Beta = 0.8\n",
    "T  = TimeDilation(T0, Beta)\n",
    "print(\"Time elapsed for others: \", T/60.0, \" Minutes\")"
   ]
  },
  {
   "cell_type": "code",
   "execution_count": 11,
   "id": "ee00f8c6",
   "metadata": {},
   "outputs": [
    {
     "data": {
      "text/plain": [
       "[<matplotlib.lines.Line2D at 0x7fdd0dbc7ee0>]"
      ]
     },
     "execution_count": 11,
     "metadata": {},
     "output_type": "execute_result"
    },
    {
     "data": {
      "image/png": "[encoded data removed]",
      "text/plain": [
       "<Figure size 432x288 with 1 Axes>"
      ]
     },
     "metadata": {
      "needs_background": "light"
     },
     "output_type": "display_data"
    }
   ],
   "source": [
    "T0 = np.arange(60, 5*60,1)\n",
    "Beta = 0.9\n",
    "T = TimeDilation(T0,Beta)\n",
    "plt.plot(T0, T)"
   ]
  },
  {
   "cell_type": "code",
   "execution_count": 12,
   "id": "276f2254",
   "metadata": {},
   "outputs": [
    {
     "name": "stdout",
     "output_type": "stream",
     "text": [
      "Beta should have been:  0.999999999997926\n"
     ]
    }
   ],
   "source": [
    "T0 = 4.0*60 + 28  # number of elapsed seconds for Buzz\n",
    "# 4 years 2 months and 3 days\n",
    "SecondsInDay = 24 * 60 *60\n",
    "SecondsInYear = SecondsInDay * 365\n",
    "T  = 4 * SecondsInYear + 63 * SecondsInDay\n",
    "B = FindBeta(T,T0)\n",
    "print(\"Beta should have been: \", B)"
   ]
  },
  {
   "cell_type": "code",
   "execution_count": null,
   "id": "fbe4bc82",
   "metadata": {},
   "outputs": [],
   "source": []
  }
 ],
 "metadata": {
  "kernelspec": {
   "display_name": "Python 3 (ipykernel)",
   "language": "python",
   "name": "python3"
  },
  "language_info": {
   "codemirror_mode": {
    "name": "ipython",
    "version": 3
   },
   "file_extension": ".py",
   "mimetype": "text/x-python",
   "name": "python",
   "nbconvert_exporter": "python",
   "pygments_lexer": "ipython3",
   "version": "3.10.6"
  }
 },
 "nbformat": 4,
 "nbformat_minor": 5
}
