{
 "cells": [
  {
   "cell_type": "markdown",
   "id": "006f5ee9",
   "metadata": {},
   "source": [
    "<hr>\n",
    "Skin Depth Calculator\n",
    "\n",
    "02-Dec-22   CBL   Original\n",
    "\n",
    "References\n",
    "https://onlinelibrary.wiley.com/doi/pdf/10.1002/9781118936160.app2\n",
    "\n",
    "<hr>"
   ]
  },
  {
   "cell_type": "code",
   "execution_count": 3,
   "id": "2a01de15",
   "metadata": {},
   "outputs": [],
   "source": [
    "import numpy as np\n",
    "import matplotlib.pyplot as plt"
   ]
  },
  {
   "cell_type": "code",
   "execution_count": 6,
   "id": "7a96c655",
   "metadata": {},
   "outputs": [],
   "source": [
    "def SkinDepth(f_0, rho, mu_r):\n",
    "    \"\"\"\n",
    "    Return the skin depth based on material properties\n",
    "    \n",
    "    @f_0 frequency of calculation\n",
    "    @rho - resisitivity\n",
    "    @mu_r - relative permability\n",
    "    \n",
    "    \"\"\"\n",
    "    mu_0 = 4.0*np.pi * 1.0e-7 # Free space permitivity\n",
    "    delta = np.sqrt(rho/(np.pi*f_0*mu_r*mu_0))  # micrometers\n",
    "    \n",
    "    return delta"
   ]
  },
  {
   "cell_type": "code",
   "execution_count": 12,
   "id": "0d8d239f",
   "metadata": {},
   "outputs": [
    {
     "name": "stdout",
     "output_type": "stream",
     "text": [
      "Delta =  8.451709178470703e-07\n"
     ]
    }
   ],
   "source": [
    "Material = 0\n",
    "f_0 = 10.0e9 # Hz\n",
    "if (Material == 0):   # Alumninum\n",
    "    rho = 2.82e-8     # ohm-m\n",
    "    mu_r = 1.00000065\n",
    "elif(Material == 1):  # Copper\n",
    "    rho = 1.68e-8     # ohm-m\n",
    "    mu_r = 0.999994\n",
    "elif (Material == 2): # Gold\n",
    "    rho = 2.44e-8     # ohm-m\n",
    "    mu_r = 0.999998\n",
    "else:\n",
    "    rho = 1.68e-8\n",
    "    mu_r = 1.0\n",
    "\n",
    "delta = SkinDepth(f_0, rho, mu_r)\n",
    "print(\"Delta = \", delta)"
   ]
  },
  {
   "cell_type": "code",
   "execution_count": null,
   "id": "6bb9df1e",
   "metadata": {},
   "outputs": [],
   "source": []
  }
 ],
 "metadata": {
  "kernelspec": {
   "display_name": "Python 3 (ipykernel)",
   "language": "python",
   "name": "python3"
  },
  "language_info": {
   "codemirror_mode": {
    "name": "ipython",
    "version": 3
   },
   "file_extension": ".py",
   "mimetype": "text/x-python",
   "name": "python",
   "nbconvert_exporter": "python",
   "pygments_lexer": "ipython3",
   "version": "3.10.6"
  }
 },
 "nbformat": 4,
 "nbformat_minor": 5
}
