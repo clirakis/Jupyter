{
 "cells": [
  {
   "cell_type": "code",
   "execution_count": 2,
   "metadata": {},
   "outputs": [],
   "source": [
    "import numpy as np\n",
    "import matplotlib.pyplot as plt\n",
    "import skrf as rf\n",
    "from skrf import Network\n",
    "from skrf.data import ring_slot_meas\n",
    "from skrf import plotting"
   ]
  },
  {
   "cell_type": "markdown",
   "metadata": {},
   "source": [
    "<hr>\n",
    "Modified   By   Reason <br>\n",
    "16-Jan-22  CBL  Original, https://scikit-rf.readthedocs.io/en/latest/tutorials/Circuit.html\n",
    "<hr>"
   ]
  },
  {
   "cell_type": "code",
   "execution_count": 3,
   "metadata": {},
   "outputs": [
    {
     "name": "stdout",
     "output_type": "stream",
     "text": [
      "1-Port Network: '',  1.0-2.0 GHz, 3 pts, z0=[50.+0.j]\n"
     ]
    }
   ],
   "source": [
    "rf.stylely()\n",
    "Z_0 = 50\n",
    "Z_L = 75\n",
    "theta = 0\n",
    "\n",
    "# the necessary Frequency description\n",
    "freq = rf.Frequency(start=1, stop=2, unit='GHz', npoints=3)\n",
    "\n",
    "# The combination of a transmission line + a load can be created\n",
    "# using the convenience delay_load method\n",
    "# important: all the Network must have the parameter \"name\" defined\n",
    "tline_media = rf.DefinedGammaZ0(freq, z0=Z_0)\n",
    "delay_load = tline_media.delay_load(rf.zl_2_Gamma0(Z_0, Z_L), theta, unit='deg', name='delay_load')\n",
    "\n",
    "# the input port of the circuit is defined with the Circuit.Port method\n",
    "# In order for Circuit() to recognize the Network as a \"port\", its name must contains the word 'port':\n",
    "port1 = rf.Circuit.Port(freq, 'port1', z0=Z_0)\n",
    "\n",
    "# connexion list\n",
    "cnx = [\n",
    "    [(port1, 0), (delay_load, 0)]\n",
    "]\n",
    "# building the circuit\n",
    "cir = rf.Circuit(cnx)\n",
    "\n",
    "# getting the resulting Network from the 'network' parameter:\n",
    "ntw = cir.network\n",
    "print(ntw)\n"
   ]
  },
  {
   "cell_type": "code",
   "execution_count": 4,
   "metadata": {},
   "outputs": [
    {
     "name": "stdout",
     "output_type": "stream",
     "text": [
      "[[0.2+0.j]]\n"
     ]
    }
   ],
   "source": [
    "# as expected the reflection coefficient is:\n",
    "print(ntw.s[0])"
   ]
  },
  {
   "cell_type": "code",
   "execution_count": 5,
   "metadata": {},
   "outputs": [
    {
     "name": "stdout",
     "output_type": "stream",
     "text": [
      "[[0.2+0.j]]\n"
     ]
    }
   ],
   "source": [
    "# Alternative to above\n",
    "port1 = rf.Circuit.Port(freq, 'port1', z0=Z_0)\n",
    "# piece of transmission line and series impedance\n",
    "trans_line = tline_media.line(theta, unit='deg', name='trans_line')\n",
    "load = tline_media.resistor(Z_L, name='delay_load')\n",
    "# ground network (short)\n",
    "ground = rf.Circuit.Ground(freq, name='ground')\n",
    "\n",
    "# connexion list\n",
    "cnx = [\n",
    "    [(port1, 0), (trans_line, 0)],\n",
    "    [(trans_line, 1), (load, 0)],\n",
    "    [(load, 1), (ground, 0)]\n",
    "]\n",
    "# building the circuit\n",
    "cir = rf.Circuit(cnx)\n",
    "# the result if the same :\n",
    "print(cir.network.s[0])\n"
   ]
  },
  {
   "cell_type": "code",
   "execution_count": null,
   "metadata": {},
   "outputs": [],
   "source": []
  }
 ],
 "metadata": {
  "kernelspec": {
   "display_name": "Python 3 (ipykernel)",
   "language": "python",
   "name": "python3"
  },
  "language_info": {
   "codemirror_mode": {
    "name": "ipython",
    "version": 3
   },
   "file_extension": ".py",
   "mimetype": "text/x-python",
   "name": "python",
   "nbconvert_exporter": "python",
   "pygments_lexer": "ipython3",
   "version": "3.10.6"
  }
 },
 "nbformat": 4,
 "nbformat_minor": 2
}
