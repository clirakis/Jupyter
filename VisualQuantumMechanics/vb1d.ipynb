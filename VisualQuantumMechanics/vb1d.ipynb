{
 "cells": [
  {
   "cell_type": "markdown",
   "id": "6ccc0fe2",
   "metadata": {},
   "source": [
    "Examples from the book series visual quantum mechanics. by Bernd Thaller <br>\n",
    "<br> \n",
    "Modified    By    Reason <br> \n",
    "--------    ---   ------ <br>\n",
    "01-Aug-23   CBL   Original <br> \n",
    "10-Aug-23   CBL   Modified to use A complex to hsv converter. \n",
    "<hr> \n",
    "References: <br> \n",
    "https://vqm.uni-graz.at/ <br> \n",
    "https://matplotlib.org/stable/gallery/mplot3d/surface3d.html <br>\n",
    "https://stackoverflow.com/questions/24897681/python-2d-color-map-with-imshow <br>\n",
    "https://matplotlib.org/3.1.0/gallery/images_contours_and_fields/pcolormesh_levels.html#sphx-glr-gallery-images-contours-and-fields-pcolormesh-levels-py <br>\n",
    "https://www.tutorialspoint.com/how-to-plot-a-smooth-2d-color-plot-for-z-f-x-y-in-matplotlib <br>\n",
    "https://stackoverflow.com/questions/37520251/plotting-hsv-values-with-imshow <br>\n",
    "https://docs.python.org/3/library/colorsys.html<br>\n",
    "https://matplotlib.org/stable/tutorials/colors/colormapnorms.html <br>\n",
    "https://en.wikipedia.org/wiki/HSL_and_HSV#:~:text=The%20difference%20between%20HSL%20and,red%2C%20just%20brighter%20and%20more <br> \n",
    "This process has a name: \"domain coloring\", https://en.wikipedia.org/wiki/Domain_coloring <br> \n",
    "<hr>"
   ]
  },
  {
   "cell_type": "code",
   "execution_count": 5,
   "id": "606fdc1f",
   "metadata": {},
   "outputs": [],
   "source": [
    "import numpy as np\n",
    "import matplotlib.pyplot as plt\n",
    "from   matplotlib.colors import hsv_to_rgb\n",
    "import colorsys as cs\n",
    "import matplotlib.colors as mcolors"
   ]
  },
  {
   "cell_type": "markdown",
   "id": "e0c917d3",
   "metadata": {},
   "source": [
    "What I did not appreciate is that Visual Quantum Mechanics uses HLS Hue, Lightness, Saturation as compared\n",
    "with HSV Hue, Saturation Value. In both instances Hue is described by an angle around a circle. Saturation is {0:100}% in both cases and is the magnitude of the vector representing the point on the \n",
    "circle. Value goes from {0 Black to 100% White}. HLS the Lightness is the {0Black to 1White} Which now that I write it seems the same. <br> \n",
    "https://support.ptc.com/help/mathcad/r9.0/en/index.html#page/PTC_Mathcad_Help/hls_and_hsv_color_representations.html\n",
    "<hr>\n",
    "In the book, poles = nan = white, zeros = 0 = black, lets implement this. "
   ]
  },
  {
   "cell_type": "markdown",
   "id": "2daaa888",
   "metadata": {},
   "source": [
    "Trying to create an HSV plot where: <br>\n",
    "$z = x + jy $ <br>\n",
    "A complex number z can be represented by its \"absolute value\" (or \"modulus\") $|z|$ and by its \"argument\" (or \"phase\") $arg(z)$. The absolute value is the distance of z from the origin in the complex plane, arg(z) is the angle between the line from (0,0) to (x,y) and the positive x-axis. The polar representation of z reads: <br>\n",
    "$Z = |z|e^{i*arg(z)}$<br>\n",
    "\n",
    "The color map uses the HLS color system (\"hue-lightness-saturation\"). The hue represents the argument arg(z) of the complex number z. The absolute value abs(z) is given by the lightness of the color. All colors of the color map have the maximal saturation (with respect to the given lightness)."
   ]
  },
  {
   "cell_type": "code",
   "execution_count": 6,
   "id": "2cf78de0",
   "metadata": {},
   "outputs": [],
   "source": [
    "def my_hls_to_rgb(h,l,s):\n",
    "    # Assume they are all the same length. \n",
    "    # allocate return array\n",
    "    rgb = np.zeros([len(h),3])\n",
    "    for i in range(len(h)):\n",
    "        rgb[i] = cs.hls_to_rgb(h[i],l[i],s[i])\n",
    "    return rgb"
   ]
  },
  {
   "cell_type": "code",
   "execution_count": 13,
   "id": "e9ab44a8",
   "metadata": {},
   "outputs": [],
   "source": [
    "def complex_to_rgb3(zz):\n",
    "    \"\"\"\n",
    "    input a complex number and return an rgb value\n",
    "    @param zz input complex value, assume a square matrix\n",
    "    This is going to be fed into hsv_to_rgb which claims that each input is bound between 0:1\n",
    "    This uses an HLS type of format which is in the book. HLS really only differs in that for HSV V{0:1}\n",
    "    HLS -127:128 or -.5 to .5\n",
    "    Normalizaton isn't quite right\n",
    "    \"\"\"\n",
    "    norm   = mcolors.Normalize()\n",
    "    norm2  = mcolors.PowerNorm(gamma=0.7)\n",
    "    #norm2  = mcolors.LogNorm(gamma=0.9)\n",
    "    #norm   = mcolors.CenteredNorm()\n",
    "    #norm   = mcolors.SymLogNorm(linthresh=0.03, linscale=0.03, vmin=-1.0, vmax=1.0, base=10)\n",
    "    if (zz.ndim>1):\n",
    "        # this works better than angle and gives a better reproduction\n",
    "        hue        = norm(np.arctan2(np.imag(zz),-np.real(zz)))\n",
    "        saturation = np.absolute(zz)\n",
    "        lightness  = np.ones(len(saturation))\n",
    "        rgb = my_hls_to_rgb(hue, saturation, lightness)\n",
    "        \n",
    "    return rgb"
   ]
  },
  {
   "cell_type": "code",
   "execution_count": 14,
   "id": "1d82e523",
   "metadata": {},
   "outputs": [],
   "source": [
    "def G(x, y):\n",
    "    s = x + 1j*y\n",
    "    return s"
   ]
  },
  {
   "cell_type": "code",
   "execution_count": 15,
   "id": "41f993c3",
   "metadata": {},
   "outputs": [
    {
     "ename": "ValueError",
     "evalue": "The truth value of an array with more than one element is ambiguous. Use a.any() or a.all()",
     "output_type": "error",
     "traceback": [
      "\u001b[0;31m---------------------------------------------------------------------------\u001b[0m",
      "\u001b[0;31mValueError\u001b[0m                                Traceback (most recent call last)",
      "\u001b[0;32m/tmp/ipykernel_69808/3345535426.py\u001b[0m in \u001b[0;36m<module>\u001b[0;34m\u001b[0m\n\u001b[1;32m      7\u001b[0m \u001b[0mi\u001b[0m\u001b[0;34m,\u001b[0m\u001b[0mj\u001b[0m \u001b[0;34m=\u001b[0m \u001b[0mnp\u001b[0m\u001b[0;34m.\u001b[0m\u001b[0mwhere\u001b[0m\u001b[0;34m(\u001b[0m\u001b[0mzz\u001b[0m\u001b[0;34m.\u001b[0m\u001b[0mreal\u001b[0m\u001b[0;34m==\u001b[0m\u001b[0;36m0\u001b[0m\u001b[0;34m)\u001b[0m\u001b[0;34m\u001b[0m\u001b[0;34m\u001b[0m\u001b[0m\n\u001b[1;32m      8\u001b[0m \u001b[0;34m\u001b[0m\u001b[0m\n\u001b[0;32m----> 9\u001b[0;31m \u001b[0mrgb\u001b[0m     \u001b[0;34m=\u001b[0m \u001b[0mcomplex_to_rgb3\u001b[0m\u001b[0;34m(\u001b[0m\u001b[0mzz\u001b[0m\u001b[0;34m)\u001b[0m\u001b[0;34m\u001b[0m\u001b[0;34m\u001b[0m\u001b[0m\n\u001b[0m\u001b[1;32m     10\u001b[0m \u001b[0mij\u001b[0m \u001b[0;34m=\u001b[0m \u001b[0mnp\u001b[0m\u001b[0;34m.\u001b[0m\u001b[0mwhere\u001b[0m\u001b[0;34m(\u001b[0m\u001b[0mrgb\u001b[0m\u001b[0;34m<\u001b[0m\u001b[0;36m0\u001b[0m\u001b[0;34m)\u001b[0m\u001b[0;34m\u001b[0m\u001b[0;34m\u001b[0m\u001b[0m\n\u001b[1;32m     11\u001b[0m \u001b[0mprint\u001b[0m\u001b[0;34m(\u001b[0m\u001b[0mnp\u001b[0m\u001b[0;34m.\u001b[0m\u001b[0mabs\u001b[0m\u001b[0;34m(\u001b[0m\u001b[0mzz\u001b[0m\u001b[0;34m[\u001b[0m\u001b[0;34m:\u001b[0m\u001b[0;34m,\u001b[0m\u001b[0;36m49\u001b[0m\u001b[0;34m]\u001b[0m\u001b[0;34m)\u001b[0m\u001b[0;34m)\u001b[0m\u001b[0;34m\u001b[0m\u001b[0;34m\u001b[0m\u001b[0m\n",
      "\u001b[0;32m/tmp/ipykernel_69808/4287363391.py\u001b[0m in \u001b[0;36mcomplex_to_rgb3\u001b[0;34m(zz)\u001b[0m\n\u001b[1;32m     18\u001b[0m         \u001b[0msaturation\u001b[0m \u001b[0;34m=\u001b[0m \u001b[0mnp\u001b[0m\u001b[0;34m.\u001b[0m\u001b[0mabsolute\u001b[0m\u001b[0;34m(\u001b[0m\u001b[0mzz\u001b[0m\u001b[0;34m)\u001b[0m\u001b[0;34m\u001b[0m\u001b[0;34m\u001b[0m\u001b[0m\n\u001b[1;32m     19\u001b[0m         \u001b[0mlightness\u001b[0m  \u001b[0;34m=\u001b[0m \u001b[0mnp\u001b[0m\u001b[0;34m.\u001b[0m\u001b[0mones\u001b[0m\u001b[0;34m(\u001b[0m\u001b[0mlen\u001b[0m\u001b[0;34m(\u001b[0m\u001b[0msaturation\u001b[0m\u001b[0;34m)\u001b[0m\u001b[0;34m)\u001b[0m\u001b[0;34m\u001b[0m\u001b[0;34m\u001b[0m\u001b[0m\n\u001b[0;32m---> 20\u001b[0;31m         \u001b[0mrgb\u001b[0m \u001b[0;34m=\u001b[0m \u001b[0mmy_hls_to_rgb\u001b[0m\u001b[0;34m(\u001b[0m\u001b[0mhue\u001b[0m\u001b[0;34m,\u001b[0m \u001b[0msaturation\u001b[0m\u001b[0;34m,\u001b[0m \u001b[0mlightness\u001b[0m\u001b[0;34m)\u001b[0m\u001b[0;34m\u001b[0m\u001b[0;34m\u001b[0m\u001b[0m\n\u001b[0m\u001b[1;32m     21\u001b[0m \u001b[0;34m\u001b[0m\u001b[0m\n\u001b[1;32m     22\u001b[0m     \u001b[0;32mreturn\u001b[0m \u001b[0mrgb\u001b[0m\u001b[0;34m\u001b[0m\u001b[0;34m\u001b[0m\u001b[0m\n",
      "\u001b[0;32m/tmp/ipykernel_69808/1371099510.py\u001b[0m in \u001b[0;36mmy_hls_to_rgb\u001b[0;34m(h, l, s)\u001b[0m\n\u001b[1;32m      4\u001b[0m     \u001b[0mrgb\u001b[0m \u001b[0;34m=\u001b[0m \u001b[0mnp\u001b[0m\u001b[0;34m.\u001b[0m\u001b[0mzeros\u001b[0m\u001b[0;34m(\u001b[0m\u001b[0;34m[\u001b[0m\u001b[0mlen\u001b[0m\u001b[0;34m(\u001b[0m\u001b[0mh\u001b[0m\u001b[0;34m)\u001b[0m\u001b[0;34m,\u001b[0m\u001b[0;36m3\u001b[0m\u001b[0;34m]\u001b[0m\u001b[0;34m)\u001b[0m\u001b[0;34m\u001b[0m\u001b[0;34m\u001b[0m\u001b[0m\n\u001b[1;32m      5\u001b[0m     \u001b[0;32mfor\u001b[0m \u001b[0mi\u001b[0m \u001b[0;32min\u001b[0m \u001b[0mrange\u001b[0m\u001b[0;34m(\u001b[0m\u001b[0mlen\u001b[0m\u001b[0;34m(\u001b[0m\u001b[0mh\u001b[0m\u001b[0;34m)\u001b[0m\u001b[0;34m)\u001b[0m\u001b[0;34m:\u001b[0m\u001b[0;34m\u001b[0m\u001b[0;34m\u001b[0m\u001b[0m\n\u001b[0;32m----> 6\u001b[0;31m         \u001b[0mrgb\u001b[0m\u001b[0;34m[\u001b[0m\u001b[0mi\u001b[0m\u001b[0;34m]\u001b[0m \u001b[0;34m=\u001b[0m \u001b[0mcs\u001b[0m\u001b[0;34m.\u001b[0m\u001b[0mhls_to_rgb\u001b[0m\u001b[0;34m(\u001b[0m\u001b[0mh\u001b[0m\u001b[0;34m[\u001b[0m\u001b[0mi\u001b[0m\u001b[0;34m]\u001b[0m\u001b[0;34m,\u001b[0m\u001b[0ml\u001b[0m\u001b[0;34m[\u001b[0m\u001b[0mi\u001b[0m\u001b[0;34m]\u001b[0m\u001b[0;34m,\u001b[0m\u001b[0ms\u001b[0m\u001b[0;34m[\u001b[0m\u001b[0mi\u001b[0m\u001b[0;34m]\u001b[0m\u001b[0;34m)\u001b[0m\u001b[0;34m\u001b[0m\u001b[0;34m\u001b[0m\u001b[0m\n\u001b[0m\u001b[1;32m      7\u001b[0m     \u001b[0;32mreturn\u001b[0m \u001b[0mrgb\u001b[0m\u001b[0;34m\u001b[0m\u001b[0;34m\u001b[0m\u001b[0m\n",
      "\u001b[0;32m/usr/lib/python3.10/colorsys.py\u001b[0m in \u001b[0;36mhls_to_rgb\u001b[0;34m(h, l, s)\u001b[0m\n\u001b[1;32m    100\u001b[0m     \u001b[0;32mif\u001b[0m \u001b[0ms\u001b[0m \u001b[0;34m==\u001b[0m \u001b[0;36m0.0\u001b[0m\u001b[0;34m:\u001b[0m\u001b[0;34m\u001b[0m\u001b[0;34m\u001b[0m\u001b[0m\n\u001b[1;32m    101\u001b[0m         \u001b[0;32mreturn\u001b[0m \u001b[0ml\u001b[0m\u001b[0;34m,\u001b[0m \u001b[0ml\u001b[0m\u001b[0;34m,\u001b[0m \u001b[0ml\u001b[0m\u001b[0;34m\u001b[0m\u001b[0;34m\u001b[0m\u001b[0m\n\u001b[0;32m--> 102\u001b[0;31m     \u001b[0;32mif\u001b[0m \u001b[0ml\u001b[0m \u001b[0;34m<=\u001b[0m \u001b[0;36m0.5\u001b[0m\u001b[0;34m:\u001b[0m\u001b[0;34m\u001b[0m\u001b[0;34m\u001b[0m\u001b[0m\n\u001b[0m\u001b[1;32m    103\u001b[0m         \u001b[0mm2\u001b[0m \u001b[0;34m=\u001b[0m \u001b[0ml\u001b[0m \u001b[0;34m*\u001b[0m \u001b[0;34m(\u001b[0m\u001b[0;36m1.0\u001b[0m\u001b[0;34m+\u001b[0m\u001b[0ms\u001b[0m\u001b[0;34m)\u001b[0m\u001b[0;34m\u001b[0m\u001b[0;34m\u001b[0m\u001b[0m\n\u001b[1;32m    104\u001b[0m     \u001b[0;32melse\u001b[0m\u001b[0;34m:\u001b[0m\u001b[0;34m\u001b[0m\u001b[0;34m\u001b[0m\u001b[0m\n",
      "\u001b[0;31mValueError\u001b[0m: The truth value of an array with more than one element is ambiguous. Use a.any() or a.all()"
     ]
    }
   ],
   "source": [
    "n = 100\n",
    "x = np.linspace(-3, 3, n)\n",
    "y = np.linspace(-3, 3, n)\n",
    "\n",
    "xx, yy = np.meshgrid(x, y)\n",
    "zz     = G(xx, yy)\n",
    "i,j = np.where(zz.real==0)\n",
    "\n",
    "rgb     = complex_to_rgb3(zz)\n",
    "ij = np.where(rgb<0)\n",
    "print(np.abs(zz[:,49]))\n",
    "# plotting\n",
    "plt.imshow(rgb, extent=[-3, 3, -3, 3])\n",
    "plt.grid()\n",
    "plt.show()"
   ]
  },
  {
   "cell_type": "markdown",
   "id": "d9ad540a",
   "metadata": {},
   "source": [
    "This matches the book.<br>\n",
    "<img src=\"photo/colormap.jpg\"> <br>\n",
    "I don't quite get the black in the center. also, the intensity is greater near zero. "
   ]
  },
  {
   "cell_type": "code",
   "execution_count": 105,
   "id": "937e5e1c",
   "metadata": {},
   "outputs": [
    {
     "name": "stdout",
     "output_type": "stream",
     "text": [
      "hue =  0.0  saturation =  0.0282842712474619  value =  0\n",
      "RGB :  (0, 0.0, 0.0)\n",
      "RGB from HLS  (0.0, 0.0, 0.0)\n"
     ]
    }
   ],
   "source": [
    "# fool around with hsv to rgb\n",
    "norm   = mcolors.Normalize()\n",
    "x = 2\n",
    "y = 2\n",
    "angle = np.arctan2(y,-x)\n",
    "hue   = norm(angle)\n",
    "r = np.sqrt(np.power(x,2)+np.power(y,2))\n",
    "saturation = r/100 #np.absolute(r)\n",
    "value = 0\n",
    "print(\"hue = \" , hue, \" saturation = \", saturation, \" value = \", value)\n",
    "rgb = cs.hsv_to_rgb(hue,saturation,value)\n",
    "print(\"RGB : \", rgb)\n",
    "print(\"RGB from HLS \", cs.hls_to_rgb(hue, value, saturation))"
   ]
  },
  {
   "cell_type": "code",
   "execution_count": null,
   "id": "b43ba0c8",
   "metadata": {},
   "outputs": [],
   "source": []
  }
 ],
 "metadata": {
  "kernelspec": {
   "display_name": "Python 3 (ipykernel)",
   "language": "python",
   "name": "python3"
  },
  "language_info": {
   "codemirror_mode": {
    "name": "ipython",
    "version": 3
   },
   "file_extension": ".py",
   "mimetype": "text/x-python",
   "name": "python",
   "nbconvert_exporter": "python",
   "pygments_lexer": "ipython3",
   "version": "3.10.12"
  }
 },
 "nbformat": 4,
 "nbformat_minor": 5
}
