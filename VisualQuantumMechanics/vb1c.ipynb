{
 "cells": [
  {
   "cell_type": "markdown",
   "id": "6ccc0fe2",
   "metadata": {},
   "source": [
    "Examples from the book series visual quantum mechanics. by Bernd Thaller <br>\n",
    "<br> \n",
    "Modified    By    Reason <br> \n",
    "--------    ---   ------ <br>\n",
    "01-Aug-23   CBL   Original <br> \n",
    "10-Aug-23   CBL   Modified to use A complex to hsv converter. \n",
    "<hr> \n",
    "References: <br> \n",
    "https://vqm.uni-graz.at/ <br> \n",
    "https://matplotlib.org/stable/gallery/mplot3d/surface3d.html <br>\n",
    "https://stackoverflow.com/questions/24897681/python-2d-color-map-with-imshow <br>\n",
    "https://matplotlib.org/3.1.0/gallery/images_contours_and_fields/pcolormesh_levels.html#sphx-glr-gallery-images-contours-and-fields-pcolormesh-levels-py <br>\n",
    "https://www.tutorialspoint.com/how-to-plot-a-smooth-2d-color-plot-for-z-f-x-y-in-matplotlib <br>\n",
    "https://stackoverflow.com/questions/37520251/plotting-hsv-values-with-imshow <br>\n",
    "https://docs.python.org/3/library/colorsys.html<br>\n",
    "https://matplotlib.org/stable/tutorials/colors/colormapnorms.html <br>\n",
    "https://en.wikipedia.org/wiki/HSL_and_HSV#:~:text=The%20difference%20between%20HSL%20and,red%2C%20just%20brighter%20and%20more <br> \n",
    "This process has a name: \"domain coloring\", https://en.wikipedia.org/wiki/Domain_coloring <br> \n",
    "<hr>"
   ]
  },
  {
   "cell_type": "code",
   "execution_count": 1,
   "id": "606fdc1f",
   "metadata": {},
   "outputs": [],
   "source": [
    "import numpy as np\n",
    "import matplotlib.pyplot as plt\n",
    "from   matplotlib.colors import hsv_to_rgb\n",
    "import colorsys as cs\n",
    "import matplotlib.colors as mcolors"
   ]
  },
  {
   "cell_type": "markdown",
   "id": "e0c917d3",
   "metadata": {},
   "source": [
    "What I did not appreciate is that Visual Quantum Mechanics uses HLS Hue, Lightness, Saturation as compared\n",
    "with HSV Hue, Saturation Value. In both instances Hue is described by an angle around a circle. Saturation is {0:100}% in both cases and is the magnitude of the vector representing the point on the \n",
    "circle. Value goes from {0 Black to 100% White}. HLS the Lightness is the {0Black to 1White} Which now that I write it seems the same. <br> \n",
    "https://support.ptc.com/help/mathcad/r9.0/en/index.html#page/PTC_Mathcad_Help/hls_and_hsv_color_representations.html\n",
    "<hr>\n",
    "In the book, poles = nan = white, zeros = 0 = black, lets implement this. "
   ]
  },
  {
   "cell_type": "markdown",
   "id": "2daaa888",
   "metadata": {},
   "source": [
    "Trying to create an HSV plot where: <br>\n",
    "$z = x + jy $ <br>\n",
    "A complex number z can be represented by its \"absolute value\" (or \"modulus\") $|z|$ and by its \"argument\" (or \"phase\") $arg(z)$. The absolute value is the distance of z from the origin in the complex plane, arg(z) is the angle between the line from (0,0) to (x,y) and the positive x-axis. The polar representation of z reads: <br>\n",
    "$Z = |z|e^{i*arg(z)}$<br>\n",
    "\n",
    "The color map uses the HLS color system (\"hue-lightness-saturation\"). The hue represents the argument arg(z) of the complex number z. The absolute value abs(z) is given by the lightness of the color. All colors of the color map have the maximal saturation (with respect to the given lightness)."
   ]
  },
  {
   "cell_type": "code",
   "execution_count": 58,
   "id": "e9ab44a8",
   "metadata": {},
   "outputs": [],
   "source": [
    "def complex_to_rgb2(zz):\n",
    "    \"\"\"\n",
    "    input a complex number and return an rgb value\n",
    "    @param zz input complex value, assume a square matrix\n",
    "    This is going to be fed into hsv_to_rgb which claims that each input is bound between 0:1\n",
    "    This uses an HLS type of format which is in the book. HLS really only differs in that for HSV V{0:1}\n",
    "    HLS -127:128 or -.5 to .5\n",
    "    Normalizaton isn't quite right\n",
    "    \"\"\"\n",
    "    norm   = mcolors.Normalize()\n",
    "    norm2  = mcolors.PowerNorm(gamma=0.7)\n",
    "    #norm2  = mcolors.LogNorm(gamma=0.9)\n",
    "    #norm   = mcolors.CenteredNorm()\n",
    "    #norm   = mcolors.SymLogNorm(linthresh=0.03, linscale=0.03, vmin=-1.0, vmax=1.0, base=10)\n",
    "    if (zz.ndim>1):\n",
    "        n1 = zz.shape[0]\n",
    "        n2 = zz.shape[1]\n",
    "        n3 = 3\n",
    "        rv = np.zeros([n1,n2,3])\n",
    "        # this works better than angle and gives a better reproduction\n",
    "        hue = np.arctan2(np.imag(zz),-np.real(zz))\n",
    "        rv[:,:,0]  = norm(hue)\n",
    "        saturation = np.absolute(zz)\n",
    "        # Saturation is a tiny bit too linear, the lightness allows the plot to go to black. \n",
    "        rv[:,:,1]  = 1.0 # norm(saturation)\n",
    "        #rv[:,:,1]  = saturation/np.max(saturation)\n",
    "        # VALUE has to be a function as well to make this work. \n",
    "        rv[:,:,2] = norm(saturation) #1.0\n",
    "        #rv[:,:,2]  = saturation/np.max(saturation)\n",
    "        rgb = hsv_to_rgb(rv)\n",
    "        \n",
    "    return rgb"
   ]
  },
  {
   "cell_type": "code",
   "execution_count": 59,
   "id": "1d82e523",
   "metadata": {},
   "outputs": [],
   "source": [
    "def G(x, y):\n",
    "    s = x + 1j*y\n",
    "    return s"
   ]
  },
  {
   "cell_type": "code",
   "execution_count": 60,
   "id": "41f993c3",
   "metadata": {},
   "outputs": [
    {
     "name": "stderr",
     "output_type": "stream",
     "text": [
      "Clipping input data to the valid range for imshow with RGB data ([0..1] for floats or [0..255] for integers).\n"
     ]
    },
    {
     "name": "stdout",
     "output_type": "stream",
     "text": [
      "[3.00015304 2.93955014 2.87894736 2.81834473 2.75774225 2.69713993\n",
      " 2.63653779 2.57593582 2.51533406 2.4547325  2.39413118 2.3335301\n",
      " 2.27292928 2.21232876 2.15172854 2.09112867 2.03052916 1.96993006\n",
      " 1.90933139 1.84873322 1.78813557 1.72753852 1.66694213 1.60634646\n",
      " 1.54575161 1.48515767 1.42456476 1.36397302 1.30338262 1.24279374\n",
      " 1.18220662 1.12162155 1.06103887 1.00045903 0.93988257 0.87931019\n",
      " 0.81874279 0.75818158 0.69762815 0.63708473 0.57655447 0.51604201\n",
      " 0.45555444 0.39510318 0.33470791 0.27440561 0.21427478 0.15451574\n",
      " 0.0958266  0.04285496 0.04285496 0.0958266  0.15451574 0.21427478\n",
      " 0.27440561 0.33470791 0.39510318 0.45555444 0.51604201 0.57655447\n",
      " 0.63708473 0.69762815 0.75818158 0.81874279 0.87931019 0.93988257\n",
      " 1.00045903 1.06103887 1.12162155 1.18220662 1.24279374 1.30338262\n",
      " 1.36397302 1.42456476 1.48515767 1.54575161 1.60634646 1.66694213\n",
      " 1.72753852 1.78813557 1.84873322 1.90933139 1.96993006 2.03052916\n",
      " 2.09112867 2.15172854 2.21232876 2.27292928 2.3335301  2.39413118\n",
      " 2.4547325  2.51533406 2.57593582 2.63653779 2.69713993 2.75774225\n",
      " 2.81834473 2.87894736 2.93955014 3.00015304]\n"
     ]
    },
    {
     "data": {
      "image/png": "[encoded data removed]",
      "text/plain": [
       "<Figure size 432x288 with 1 Axes>"
      ]
     },
     "metadata": {
      "needs_background": "light"
     },
     "output_type": "display_data"
    }
   ],
   "source": [
    "n = 100\n",
    "x = np.linspace(-3, 3, n)\n",
    "y = np.linspace(-3, 3, n)\n",
    "\n",
    "xx, yy = np.meshgrid(x, y)\n",
    "zz     = G(xx, yy)\n",
    "i,j = np.where(zz.real==0)\n",
    "\n",
    "rgb     = complex_to_rgb2(zz)\n",
    "ij = np.where(rgb<0)\n",
    "print(np.abs(zz[:,49]))\n",
    "# plotting\n",
    "plt.imshow(rgb, extent=[-3, 3, -3, 3])\n",
    "plt.grid()\n",
    "plt.show()"
   ]
  },
  {
   "cell_type": "markdown",
   "id": "d9ad540a",
   "metadata": {},
   "source": [
    "This matches the book.<br>\n",
    "<img src=\"photo/colormap.jpg\"> <br>\n",
    "I don't quite get the black in the center. also, the intensity is greater near zero. "
   ]
  },
  {
   "cell_type": "code",
   "execution_count": 105,
   "id": "937e5e1c",
   "metadata": {},
   "outputs": [
    {
     "name": "stdout",
     "output_type": "stream",
     "text": [
      "hue =  0.0  saturation =  0.0282842712474619  value =  0\n",
      "RGB :  (0, 0.0, 0.0)\n",
      "RGB from HLS  (0.0, 0.0, 0.0)\n"
     ]
    }
   ],
   "source": [
    "# fool around with hsv to rgb\n",
    "norm   = mcolors.Normalize()\n",
    "x = 2\n",
    "y = 2\n",
    "angle = np.arctan2(y,-x)\n",
    "hue   = norm(angle)\n",
    "r = np.sqrt(np.power(x,2)+np.power(y,2))\n",
    "saturation = r/100 #np.absolute(r)\n",
    "value = 0\n",
    "print(\"hue = \" , hue, \" saturation = \", saturation, \" value = \", value)\n",
    "rgb = cs.hsv_to_rgb(hue,saturation,value)\n",
    "print(\"RGB : \", rgb)\n",
    "print(\"RGB from HLS \", cs.hls_to_rgb(hue, value, saturation))"
   ]
  },
  {
   "cell_type": "code",
   "execution_count": null,
   "id": "b43ba0c8",
   "metadata": {},
   "outputs": [],
   "source": []
  }
 ],
 "metadata": {
  "kernelspec": {
   "display_name": "Python 3 (ipykernel)",
   "language": "python",
   "name": "python3"
  },
  "language_info": {
   "codemirror_mode": {
    "name": "ipython",
    "version": 3
   },
   "file_extension": ".py",
   "mimetype": "text/x-python",
   "name": "python",
   "nbconvert_exporter": "python",
   "pygments_lexer": "ipython3",
   "version": "3.10.12"
  }
 },
 "nbformat": 4,
 "nbformat_minor": 5
}
