{
 "cells": [
  {
   "cell_type": "markdown",
   "id": "6ccc0fe2",
   "metadata": {},
   "source": [
    "Examples from the book series visual quantum mechanics. by Bernd Thaller <br>\n",
    "<br> \n",
    "Modified    By    Reason <br> \n",
    "--------    ---   ------ <br>\n",
    "01-Aug-23   CBL   Original <br> \n",
    "10-Aug-23   CBL   Modified to use A complex to hsv converter. \n",
    "<hr> \n",
    "References: <br> \n",
    "https://vqm.uni-graz.at/ <br> \n",
    "https://matplotlib.org/stable/gallery/mplot3d/surface3d.html <br>\n",
    "https://stackoverflow.com/questions/24897681/python-2d-color-map-with-imshow <br>\n",
    "https://matplotlib.org/3.1.0/gallery/images_contours_and_fields/pcolormesh_levels.html#sphx-glr-gallery-images-contours-and-fields-pcolormesh-levels-py <br>\n",
    "https://www.tutorialspoint.com/how-to-plot-a-smooth-2d-color-plot-for-z-f-x-y-in-matplotlib <br>\n",
    "https://stackoverflow.com/questions/37520251/plotting-hsv-values-with-imshow <br>\n",
    "https://docs.python.org/3/library/colorsys.html<br>\n",
    "<hr>"
   ]
  },
  {
   "cell_type": "code",
   "execution_count": 21,
   "id": "606fdc1f",
   "metadata": {},
   "outputs": [],
   "source": [
    "import numpy as np\n",
    "import matplotlib.pyplot as plt\n",
    "from   matplotlib.colors import hsv_to_rgb\n",
    "from   colorsys import hls_to_rgb\n",
    "import matplotlib.colors as mcolors"
   ]
  },
  {
   "cell_type": "markdown",
   "id": "e0c917d3",
   "metadata": {},
   "source": [
    "What I did not appreciate is that Visual Quantum Mechanics uses HLS Hue, Lightness, Saturation as compared\n",
    "with HSV Hue, Saturation Value. In both instances Hue is described by an angle around a circle. Saturation is {0:100}% in both cases and is the magnitude of the vector representing the point on the \n",
    "circle. Value goes from {0 Black to 100% White}. HLS the Lightness is the {0Black to 1White} Which now that I write it seems the same. <br> \n",
    "https://support.ptc.com/help/mathcad/r9.0/en/index.html#page/PTC_Mathcad_Help/hls_and_hsv_color_representations.html"
   ]
  },
  {
   "cell_type": "markdown",
   "id": "2daaa888",
   "metadata": {},
   "source": [
    "Trying to create an HSV plot where: <br>\n",
    "$z = x + jy $ <br>\n",
    "A complex number z can be represented by its \"absolute value\" (or \"modulus\") $|z|$ and by its \"argument\" (or \"phase\") $arg(z)$. The absolute value is the distance of z from the origin in the complex plane, arg(z) is the angle between the line from (0,0) to (x,y) and the positive x-axis. The polar representation of z reads: <br>\n",
    "$Z = |z|e^{i*arg(z)}$<br>\n",
    "\n",
    "The color map uses the HLS color system (\"hue-lightness-saturation\"). The hue represents the argument arg(z) of the complex number z. The absolute value abs(z) is given by the lightness of the color. All colors of the color map have the maximal saturation (with respect to the given lightness)."
   ]
  },
  {
   "cell_type": "code",
   "execution_count": 22,
   "id": "b1de5a53",
   "metadata": {},
   "outputs": [],
   "source": [
    "def complex_to_rgb1(zz):\n",
    "    \"\"\"\n",
    "    input a complex number and return an rgb value\n",
    "    @param zz input complex value, assume a square matrix\n",
    "    This is going to be fed into hsv_to_rgb which claims that each input is bound between 0:1\n",
    "    This uses an HSV type of format. The book uses HLS, what is the real difference?\n",
    "    \"\"\"\n",
    "    norm   = mcolors.Normalize()\n",
    "    if (zz.ndim>1):\n",
    "        n1 = zz.shape[0]\n",
    "        n2 = zz.shape[1]\n",
    "        n3 = 3\n",
    "        rv = np.zeros([n1,n2,3])\n",
    "        # angle has range (-pi:pi) \n",
    "        hue = np.angle(zz)\n",
    "        rv[:,:,0]  = norm(hue)\n",
    "        saturation = np.absolute(zz)\n",
    "        rv[:,:,1]  = norm(saturation)\n",
    "        rv[:,:,2]  = 1.0\n",
    "    return hsv_to_rgb(rv)"
   ]
  },
  {
   "cell_type": "code",
   "execution_count": 66,
   "id": "e9ab44a8",
   "metadata": {},
   "outputs": [],
   "source": [
    "def complex_to_rgb2(zz):\n",
    "    \"\"\"\n",
    "    input a complex number and return an rgb value\n",
    "    @param zz input complex value, assume a square matrix\n",
    "    This is going to be fed into hsv_to_rgb which claims that each input is bound between 0:1\n",
    "    This uses an HLS type of format which is in the book. HLS really only differs in that for HSV V{0:1}\n",
    "    HLS -127:128 or -.5 to .5\n",
    "    \"\"\"\n",
    "    norm   = mcolors.Normalize()\n",
    "    if (zz.ndim>1):\n",
    "        n1 = zz.shape[0]\n",
    "        n2 = zz.shape[1]\n",
    "        n3 = 3\n",
    "        rv = np.zeros([n1,n2,3])\n",
    "        # angle has range (-pi:pi) \n",
    "        #hue = np.angle(np.conjugate(zz))\n",
    "        hue = np.arctan2(np.imag(zz),-np.real(zz))\n",
    "        #hue = np.angle(zz)\n",
    "        rv[:,:,0]  = norm(hue)\n",
    "        saturation = np.absolute(zz)\n",
    "        rv[:,:,1]  = norm(saturation)\n",
    "        rv[:,:,2]  = 1.0\n",
    "    return hsv_to_rgb(rv)"
   ]
  },
  {
   "cell_type": "code",
   "execution_count": 67,
   "id": "1d82e523",
   "metadata": {},
   "outputs": [],
   "source": [
    "def G(x, y):\n",
    "    s = x + 1j*y\n",
    "    return s"
   ]
  },
  {
   "cell_type": "code",
   "execution_count": 68,
   "id": "41f993c3",
   "metadata": {},
   "outputs": [
    {
     "name": "stderr",
     "output_type": "stream",
     "text": [
      "Clipping input data to the valid range for imshow with RGB data ([0..1] for floats or [0..255] for integers).\n"
     ]
    },
    {
     "data": {
      "image/png": "[encoded data removed]",
      "text/plain": [
       "<Figure size 432x288 with 1 Axes>"
      ]
     },
     "metadata": {
      "needs_background": "light"
     },
     "output_type": "display_data"
    }
   ],
   "source": [
    "n = 1000\n",
    "x = np.linspace(-3, 3, n)\n",
    "y = np.linspace(-3, 3, n)\n",
    "\n",
    "xx, yy = np.meshgrid(x, y)\n",
    "zz     = G(xx, yy)\n",
    "rgb     = complex_to_rgb2(zz)\n",
    "# plotting\n",
    "plt.imshow(rgb, extent=[-3, 3, -3, 3])\n",
    "plt.grid()\n",
    "plt.show()"
   ]
  },
  {
   "cell_type": "markdown",
   "id": "d9ad540a",
   "metadata": {},
   "source": [
    "This matches the book.<br>\n",
    "<img src=\"photo/colormap.jpg\"> <br>\n",
    "I don't quite get the black in the center. "
   ]
  },
  {
   "cell_type": "code",
   "execution_count": null,
   "id": "937e5e1c",
   "metadata": {},
   "outputs": [],
   "source": []
  }
 ],
 "metadata": {
  "kernelspec": {
   "display_name": "Python 3 (ipykernel)",
   "language": "python",
   "name": "python3"
  },
  "language_info": {
   "codemirror_mode": {
    "name": "ipython",
    "version": 3
   },
   "file_extension": ".py",
   "mimetype": "text/x-python",
   "name": "python",
   "nbconvert_exporter": "python",
   "pygments_lexer": "ipython3",
   "version": "3.10.12"
  }
 },
 "nbformat": 4,
 "nbformat_minor": 5
}
