{
 "cells": [
  {
   "cell_type": "markdown",
   "id": "6ccc0fe2",
   "metadata": {},
   "source": [
    "Examples from the book series visual quantum mechanics. by Bernd Thaller <br>\n",
    "<br> \n",
    "Modified    By    Reason <br> \n",
    "--------    ---   ------ <br>\n",
    "01-Aug-23   CBL   Original <br> \n",
    "10-Aug-23   CBL   Modified, still trying to figure out how to do an HSV correctly so I can can get phase \n",
    "                  magnitude\n",
    "<hr> \n",
    "References: <br> \n",
    "https://vqm.uni-graz.at/ <br> \n",
    "https://matplotlib.org/stable/gallery/mplot3d/surface3d.html <br>\n",
    "https://stackoverflow.com/questions/24897681/python-2d-color-map-with-imshow <br>\n",
    "https://matplotlib.org/3.1.0/gallery/images_contours_and_fields/pcolormesh_levels.html#sphx-glr-gallery-images-contours-and-fields-pcolormesh-levels-py <br>\n",
    "https://www.tutorialspoint.com/how-to-plot-a-smooth-2d-color-plot-for-z-f-x-y-in-matplotlib <br>\n",
    "https://stackoverflow.com/questions/37520251/plotting-hsv-values-with-imshow <br>\n",
    "<hr>"
   ]
  },
  {
   "cell_type": "code",
   "execution_count": 1,
   "id": "606fdc1f",
   "metadata": {},
   "outputs": [],
   "source": [
    "import numpy as np\n",
    "import matplotlib.pyplot as plt\n",
    "from matplotlib.colors import hsv_to_rgb\n",
    "import matplotlib.colors as mcolors"
   ]
  },
  {
   "cell_type": "markdown",
   "id": "e0c917d3",
   "metadata": {},
   "source": [
    "What I did not appreciate is that Visual Quantum Mechanics uses HLS Hue, Lightness, Saturation as compared\n",
    "with HSV Hue, Saturation Value. In both instances Hue is described by an angle around a circle. Saturation is {0:100}% in both cases and is the magnitude of the vector representing the point on the \n",
    "circle. Value goes from {0 Black to 100% White}. HLS the Lightness is the {0Black to 1White} Which now that I write it seems the same. <br> \n",
    "https://support.ptc.com/help/mathcad/r9.0/en/index.html#page/PTC_Mathcad_Help/hls_and_hsv_color_representations.html"
   ]
  },
  {
   "cell_type": "code",
   "execution_count": 50,
   "id": "f39d2804",
   "metadata": {},
   "outputs": [
    {
     "name": "stdout",
     "output_type": "stream",
     "text": [
      "[[[0.   0.   0.  ]\n",
      "  [0.   0.5  0.25]]\n",
      "\n",
      " [[0.5  0.   0.25]\n",
      "  [0.5  0.5  0.5 ]]]\n"
     ]
    },
    {
     "data": {
      "image/png": "[encoded data removed]",
      "text/plain": [
       "<Figure size 432x288 with 1 Axes>"
      ]
     },
     "metadata": {
      "needs_background": "light"
     },
     "output_type": "display_data"
    }
   ],
   "source": [
    "xyz = np.zeros([2,2,3])\n",
    "for i in [0, 1]:\n",
    "    for j in [0, 1]:\n",
    "        xyz[i,j]=[i/2,j/2,(i+j)/4]\n",
    "print(xyz)\n",
    "plt.imshow(xyz)\n",
    "plt.show()"
   ]
  },
  {
   "cell_type": "code",
   "execution_count": 51,
   "id": "faabe273",
   "metadata": {},
   "outputs": [
    {
     "name": "stdout",
     "output_type": "stream",
     "text": [
      "[1.  0.6 0. ]\n"
     ]
    }
   ],
   "source": [
    "z = np.zeros(3)\n",
    "z[0] = .1\n",
    "z[1] = 1.0\n",
    "z[2] = 1.0\n",
    "out = hsv_to_rgb(z)\n",
    "print(out)"
   ]
  },
  {
   "cell_type": "code",
   "execution_count": 52,
   "id": "0a583445",
   "metadata": {},
   "outputs": [
    {
     "name": "stderr",
     "output_type": "stream",
     "text": [
      "Clipping input data to the valid range for imshow with RGB data ([0..1] for floats or [0..255] for integers).\n"
     ]
    },
    {
     "data": {
      "image/png": "[encoded data removed]",
      "text/plain": [
       "<Figure size 432x288 with 1 Axes>"
      ]
     },
     "metadata": {
      "needs_background": "light"
     },
     "output_type": "display_data"
    }
   ],
   "source": [
    "# try hsv\n",
    "n = 4\n",
    "n2 = 2*n\n",
    "hue = np.arange(0,np.pi,np.pi/n2) # angular value\n",
    "saturation = np.arange(0,1,1/n2)\n",
    "#\n",
    "xyz = np.zeros([n,n,3])\n",
    "for i in range(0,n):\n",
    "    for j in range(0,n) :\n",
    "        xyz[i,j,0] = hue[i]\n",
    "        xyz[i,j,1] = saturation[j]\n",
    "        xyz[i,j,2] = 1.0\n",
    "z = hsv_to_rgb(xyz)\n",
    "#print(xyz)\n",
    "plt.imshow(xyz)\n",
    "plt.show()"
   ]
  },
  {
   "cell_type": "code",
   "execution_count": null,
   "id": "b1de5a53",
   "metadata": {},
   "outputs": [],
   "source": []
  }
 ],
 "metadata": {
  "kernelspec": {
   "display_name": "Python 3 (ipykernel)",
   "language": "python",
   "name": "python3"
  },
  "language_info": {
   "codemirror_mode": {
    "name": "ipython",
    "version": 3
   },
   "file_extension": ".py",
   "mimetype": "text/x-python",
   "name": "python",
   "nbconvert_exporter": "python",
   "pygments_lexer": "ipython3",
   "version": "3.10.12"
  }
 },
 "nbformat": 4,
 "nbformat_minor": 5
}
