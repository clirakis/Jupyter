{
 "cells": [
  {
   "cell_type": "markdown",
   "id": "6ccc0fe2",
   "metadata": {},
   "source": [
    "Examples from the book series visual quantum mechanics. by Bernd Thaller <br>\n",
    "<br> \n",
    "Modified    By    Reason <br> \n",
    "--------    ---   ------ <br>\n",
    "01-Aug-23.  CBL.  Original <br> \n",
    "<hr> \n",
    "References: <br> \n",
    "https://vqm.uni-graz.at/ <br> \n",
    "https://matplotlib.org/stable/gallery/mplot3d/surface3d.html <br>\n",
    "https://stackoverflow.com/questions/24897681/python-2d-color-map-with-imshow <br>\n",
    "https://matplotlib.org/3.1.0/gallery/images_contours_and_fields/pcolormesh_levels.html#sphx-glr-gallery-images-contours-and-fields-pcolormesh-levels-py <br>\n",
    "https://www.tutorialspoint.com/how-to-plot-a-smooth-2d-color-plot-for-z-f-x-y-in-matplotlib <br>\n",
    "https://stackoverflow.com/questions/37520251/plotting-hsv-values-with-imshow <br>\n",
    "<hr>"
   ]
  },
  {
   "cell_type": "code",
   "execution_count": 2,
   "id": "606fdc1f",
   "metadata": {},
   "outputs": [],
   "source": [
    "import numpy as np\n",
    "import matplotlib.pyplot as plt\n",
    "from matplotlib.colors import hsv_to_rgb\n",
    "import matplotlib.colors as mcolors"
   ]
  },
  {
   "cell_type": "markdown",
   "id": "e0c917d3",
   "metadata": {},
   "source": [
    "What I did not appreciate is that Visual Quantum Mechanics uses HLS Hue, Lightness, Saturation as compared\n",
    "with HSV Hue, Saturation Value. In both instances Hue is described by an angle around a circle. Saturation is {0:100}% in both cases and is the magnitude of the vector representing the point on the \n",
    "circle. Value goes from {0 Black to 100% White}. HLS the Lightness is the {0Black to 1White} Which now that I write it seems the same. <br> \n",
    "https://support.ptc.com/help/mathcad/r9.0/en/index.html#page/PTC_Mathcad_Help/hls_and_hsv_color_representations.html"
   ]
  },
  {
   "cell_type": "markdown",
   "id": "2daaa888",
   "metadata": {},
   "source": [
    "Trying to create an HSV plot where: <br>\n",
    "$z = x + jy $ <br>\n",
    "A complex number z can be represented by its \"absolute value\" (or \"modulus\") $|z|$ and by its \"argument\" (or \"phase\") $arg(z)$. The absolute value is the distance of z from the origin in the complex plane, arg(z) is the angle between the line from (0,0) to (x,y) and the positive x-axis. The polar representation of z reads: <br>\n",
    "$Z = |z|e^{i*arg(z)}$<br>\n",
    "\n",
    "The color map uses the HLS color system (\"hue-lightness-saturation\"). The hue represents the argument arg(z) of the complex number z. The absolute value abs(z) is given by the lightness of the color. All colors of the color map have the maximal saturation (with respect to the given lightness)."
   ]
  },
  {
   "cell_type": "code",
   "execution_count": 123,
   "id": "b1de5a53",
   "metadata": {},
   "outputs": [],
   "source": [
    "def complex_to_hsv(zz):\n",
    "    \"\"\"\n",
    "    input a complex number and return an hsv value\n",
    "    @param zz input complex value, assume a square matrix\n",
    "    This is going to be fed into hsv_to_rgb which claims that each input is bound between 0:1\n",
    "    \"\"\"\n",
    "    if (zz.ndim>1):\n",
    "        n1 = zz.shape[0]\n",
    "        n2 = zz.shape[1]\n",
    "        n3 = 3\n",
    "        rv = np.zeros([n1,n2,3])\n",
    "        # angle has range (-pi:pi) add pi\n",
    "        hue = np.angle(zz) + np.pi\n",
    "        rv[:,:,0]  = hue/np.max(hue)\n",
    "        saturation = np.absolute(zz)\n",
    "        rv[:,:,1]  = saturation/np.max(saturation)\n",
    "        rv[:,:,2]  = 1.0\n",
    "        #print(rv[:,:,1])\n",
    "    else:\n",
    "        ## This part does not work. A single value does not have a dimension\n",
    "        rv[0] = np.angle(zz)     # hue, angle in radians {0:2pi}\n",
    "        rv[1] = np.absolute(zz)  # magnitude of complex number {0:1}\n",
    "        rv[2] = 1.0              # normalize value to {0:1}, I don't quite know how to determine the normalization\n",
    "    return rv"
   ]
  },
  {
   "cell_type": "code",
   "execution_count": 62,
   "id": "32e15611",
   "metadata": {},
   "outputs": [
    {
     "ename": "NameError",
     "evalue": "name 'dimension' is not defined",
     "output_type": "error",
     "traceback": [
      "\u001b[0;31m---------------------------------------------------------------------------\u001b[0m",
      "\u001b[0;31mNameError\u001b[0m                                 Traceback (most recent call last)",
      "\u001b[0;32m/tmp/ipykernel_50270/4026736490.py\u001b[0m in \u001b[0;36m<module>\u001b[0;34m\u001b[0m\n\u001b[1;32m      1\u001b[0m \u001b[0mz\u001b[0m \u001b[0;34m=\u001b[0m \u001b[0mcomplex\u001b[0m\u001b[0;34m(\u001b[0m\u001b[0;36m1\u001b[0m \u001b[0;34m+\u001b[0m \u001b[0;36m1j\u001b[0m\u001b[0;34m)\u001b[0m\u001b[0;34m\u001b[0m\u001b[0;34m\u001b[0m\u001b[0m\n\u001b[0;32m----> 2\u001b[0;31m \u001b[0mprint\u001b[0m \u001b[0;34m(\u001b[0m\u001b[0mdimension\u001b[0m\u001b[0;34m(\u001b[0m\u001b[0mz\u001b[0m\u001b[0;34m)\u001b[0m\u001b[0;34m)\u001b[0m\u001b[0;34m\u001b[0m\u001b[0;34m\u001b[0m\u001b[0m\n\u001b[0m\u001b[1;32m      3\u001b[0m \u001b[0mhsv\u001b[0m \u001b[0;34m=\u001b[0m \u001b[0mcomplex_to_hsv\u001b[0m\u001b[0;34m(\u001b[0m\u001b[0mz\u001b[0m\u001b[0;34m)\u001b[0m\u001b[0;34m\u001b[0m\u001b[0;34m\u001b[0m\u001b[0m\n\u001b[1;32m      4\u001b[0m \u001b[0;31m#print(hsv)\u001b[0m\u001b[0;34m\u001b[0m\u001b[0;34m\u001b[0m\u001b[0m\n",
      "\u001b[0;31mNameError\u001b[0m: name 'dimension' is not defined"
     ]
    }
   ],
   "source": [
    "z = complex(1 + 1j)\n",
    "print (z)\n",
    "#hsv = complex_to_hsv(z)\n",
    "#print(hsv)"
   ]
  },
  {
   "cell_type": "code",
   "execution_count": 126,
   "id": "b8450f87",
   "metadata": {},
   "outputs": [
    {
     "data": {
      "image/png": "[encoded data removed]",
      "text/plain": [
       "<Figure size 432x288 with 1 Axes>"
      ]
     },
     "metadata": {
      "needs_background": "light"
     },
     "output_type": "display_data"
    }
   ],
   "source": [
    "def G(x, y):\n",
    "    s = x + 1j*y\n",
    "    return (s+2)/(s**2 + s + 1)\n",
    "n = 25\n",
    "x = np.linspace(-3, 3, n)\n",
    "y = np.linspace(-3, 3, n)\n",
    "\n",
    "xx, yy = np.meshgrid(x, y)\n",
    "zz     = G(xx, yy)\n",
    "hsv2   = complex_to_hsv(zz)\n",
    "rgb    = hsv_to_rgb(hsv2)\n",
    "#print(hsv2)\n",
    "plt.imshow(rgb)\n",
    "plt.hsv()\n",
    "plt.show()"
   ]
  },
  {
   "cell_type": "markdown",
   "id": "cd66e787",
   "metadata": {},
   "source": [
    "The normalization of the vectors is non-linear. This is linear and gives a bad image. "
   ]
  },
  {
   "cell_type": "code",
   "execution_count": null,
   "id": "94012924",
   "metadata": {},
   "outputs": [],
   "source": []
  }
 ],
 "metadata": {
  "kernelspec": {
   "display_name": "Python 3 (ipykernel)",
   "language": "python",
   "name": "python3"
  },
  "language_info": {
   "codemirror_mode": {
    "name": "ipython",
    "version": 3
   },
   "file_extension": ".py",
   "mimetype": "text/x-python",
   "name": "python",
   "nbconvert_exporter": "python",
   "pygments_lexer": "ipython3",
   "version": "3.10.12"
  }
 },
 "nbformat": 4,
 "nbformat_minor": 5
}
