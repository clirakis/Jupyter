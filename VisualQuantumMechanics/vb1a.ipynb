{
 "cells": [
  {
   "cell_type": "markdown",
   "id": "6ccc0fe2",
   "metadata": {},
   "source": [
    "Examples from the book series visual quantum mechanics. by Bernd Thaller <br>\n",
    "<br> \n",
    "Modified    By    Reason <br> \n",
    "--------    ---   ------ <br>\n",
    "01-Aug-23   CBL   Original <br> \n",
    "10-Aug-23   CBL   Modified to use A complex to hsv converter. \n",
    "<hr> \n",
    "References: <br> \n",
    "https://vqm.uni-graz.at/ <br> \n",
    "https://matplotlib.org/stable/gallery/mplot3d/surface3d.html <br>\n",
    "https://stackoverflow.com/questions/24897681/python-2d-color-map-with-imshow <br>\n",
    "https://matplotlib.org/3.1.0/gallery/images_contours_and_fields/pcolormesh_levels.html#sphx-glr-gallery-images-contours-and-fields-pcolormesh-levels-py <br>\n",
    "https://www.tutorialspoint.com/how-to-plot-a-smooth-2d-color-plot-for-z-f-x-y-in-matplotlib <br>\n",
    "https://stackoverflow.com/questions/37520251/plotting-hsv-values-with-imshow <br>\n",
    "https://docs.python.org/3/library/colorsys.html<br> \n",
    "It appears that colorsys does not deal well with vectors!\n",
    "<hr>"
   ]
  },
  {
   "cell_type": "code",
   "execution_count": 1,
   "id": "606fdc1f",
   "metadata": {},
   "outputs": [],
   "source": [
    "import numpy as np\n",
    "import matplotlib.pyplot as plt\n",
    "from   colorsys import hsv_to_rgb\n",
    "import matplotlib.colors as mcolors"
   ]
  },
  {
   "cell_type": "markdown",
   "id": "e0c917d3",
   "metadata": {},
   "source": [
    "What I did not appreciate is that Visual Quantum Mechanics uses HLS Hue, Lightness, Saturation as compared\n",
    "with HSV Hue, Saturation Value. In both instances Hue is described by an angle around a circle. Saturation is {0:100}% in both cases and is the magnitude of the vector representing the point on the \n",
    "circle. Value goes from {0 Black to 100% White}. HLS the Lightness is the {0Black to 1White} Which now that I write it seems the same. <br> \n",
    "https://support.ptc.com/help/mathcad/r9.0/en/index.html#page/PTC_Mathcad_Help/hls_and_hsv_color_representations.html"
   ]
  },
  {
   "cell_type": "markdown",
   "id": "2daaa888",
   "metadata": {},
   "source": [
    "Trying to create an HSV plot where: <br>\n",
    "$z = x + jy $ <br>\n",
    "A complex number z can be represented by its \"absolute value\" (or \"modulus\") $|z|$ and by its \"argument\" (or \"phase\") $arg(z)$. The absolute value is the distance of z from the origin in the complex plane, arg(z) is the angle between the line from (0,0) to (x,y) and the positive x-axis. The polar representation of z reads: <br>\n",
    "$Z = |z|e^{i*arg(z)}$<br>\n",
    "\n",
    "The color map uses the HLS color system (\"hue-lightness-saturation\"). The hue represents the argument arg(z) of the complex number z. The absolute value abs(z) is given by the lightness of the color. All colors of the color map have the maximal saturation (with respect to the given lightness)."
   ]
  },
  {
   "cell_type": "code",
   "execution_count": 33,
   "id": "b1de5a53",
   "metadata": {},
   "outputs": [],
   "source": [
    "def complex_to_rgb(zz):\n",
    "    \"\"\"\n",
    "    input a complex number and return an rgb value\n",
    "    @param zz input complex value, assume a square matrix\n",
    "    This is going to be fed into hsv_to_rgb which claims that each input is bound between 0:1\n",
    "    \"\"\"\n",
    "    norm   = mcolors.Normalize()\n",
    "    if (zz.ndim>1):\n",
    "        n1 = zz.shape[0]\n",
    "        value = np.ones([n1,n1])\n",
    "        # angle has range (-pi:pi) \n",
    "        hue = np.angle(zz)\n",
    "        a   = norm(hue)\n",
    "        saturation = np.absolute(zz)\n",
    "        b = norm(saturation)\n",
    "        i,j = np.where(b>1)\n",
    "        b[i,j] = 1.0\n",
    "        print(b)\n",
    "    return hsv_to_rgb(a, b, value)"
   ]
  },
  {
   "cell_type": "code",
   "execution_count": 34,
   "id": "1d82e523",
   "metadata": {},
   "outputs": [],
   "source": [
    "def G(x, y):\n",
    "    s = x + 1j*y\n",
    "    return s"
   ]
  },
  {
   "cell_type": "code",
   "execution_count": 35,
   "id": "41f993c3",
   "metadata": {},
   "outputs": [
    {
     "name": "stdout",
     "output_type": "stream",
     "text": [
      "[[1.         1.         1.         1.         0.99794227 0.99794227\n",
      "  1.         1.         1.         1.        ]\n",
      " [1.         1.         0.97302917 0.91878012 0.88882758 0.88882758\n",
      "  0.91878012 0.97302917 1.         1.        ]\n",
      " [1.         0.97302917 0.88882758 0.82063544 0.78038756 0.78038756\n",
      "  0.82063544 0.88882758 0.97302917 1.        ]\n",
      " [1.         0.91878012 0.82063544 0.73329655 0.67388898 0.67388898\n",
      "  0.73329655 0.82063544 0.91878012 1.        ]\n",
      " [0.99794227 0.88882758 0.78038756 0.67388898 0.57776552 0.57776552\n",
      "  0.67388898 0.78038756 0.88882758 0.99794227]\n",
      " [0.99794227 0.88882758 0.78038756 0.67388898 0.57776552 0.57776552\n",
      "  0.67388898 0.78038756 0.88882758 0.99794227]\n",
      " [1.         0.91878012 0.82063544 0.73329655 0.67388898 0.67388898\n",
      "  0.73329655 0.82063544 0.91878012 1.        ]\n",
      " [1.         0.97302917 0.88882758 0.82063544 0.78038756 0.78038756\n",
      "  0.82063544 0.88882758 0.97302917 1.        ]\n",
      " [1.         1.         0.97302917 0.91878012 0.88882758 0.88882758\n",
      "  0.91878012 0.97302917 1.         1.        ]\n",
      " [1.         1.         1.         1.         0.99794227 0.99794227\n",
      "  1.         1.         1.         1.        ]]\n"
     ]
    },
    {
     "ename": "ValueError",
     "evalue": "The truth value of an array with more than one element is ambiguous. Use a.any() or a.all()",
     "output_type": "error",
     "traceback": [
      "\u001b[0;31m---------------------------------------------------------------------------\u001b[0m",
      "\u001b[0;31mValueError\u001b[0m                                Traceback (most recent call last)",
      "\u001b[0;32m/tmp/ipykernel_50452/1260937977.py\u001b[0m in \u001b[0;36m<module>\u001b[0;34m\u001b[0m\n\u001b[1;32m      5\u001b[0m \u001b[0mxx\u001b[0m\u001b[0;34m,\u001b[0m \u001b[0myy\u001b[0m \u001b[0;34m=\u001b[0m \u001b[0mnp\u001b[0m\u001b[0;34m.\u001b[0m\u001b[0mmeshgrid\u001b[0m\u001b[0;34m(\u001b[0m\u001b[0mx\u001b[0m\u001b[0;34m,\u001b[0m \u001b[0my\u001b[0m\u001b[0;34m)\u001b[0m\u001b[0;34m\u001b[0m\u001b[0;34m\u001b[0m\u001b[0m\n\u001b[1;32m      6\u001b[0m \u001b[0mzz\u001b[0m     \u001b[0;34m=\u001b[0m \u001b[0mG\u001b[0m\u001b[0;34m(\u001b[0m\u001b[0mxx\u001b[0m\u001b[0;34m,\u001b[0m \u001b[0myy\u001b[0m\u001b[0;34m)\u001b[0m\u001b[0;34m\u001b[0m\u001b[0;34m\u001b[0m\u001b[0m\n\u001b[0;32m----> 7\u001b[0;31m \u001b[0mrgb\u001b[0m     \u001b[0;34m=\u001b[0m \u001b[0mcomplex_to_rgb\u001b[0m\u001b[0;34m(\u001b[0m\u001b[0mzz\u001b[0m\u001b[0;34m)\u001b[0m\u001b[0;34m\u001b[0m\u001b[0;34m\u001b[0m\u001b[0m\n\u001b[0m\u001b[1;32m      8\u001b[0m \u001b[0;31m# plotting\u001b[0m\u001b[0;34m\u001b[0m\u001b[0;34m\u001b[0m\u001b[0m\n\u001b[1;32m      9\u001b[0m \u001b[0;31m#plt.imshow(rgb, extent=[-3, 3, -3, 3])\u001b[0m\u001b[0;34m\u001b[0m\u001b[0;34m\u001b[0m\u001b[0m\n",
      "\u001b[0;32m/tmp/ipykernel_50452/1783198165.py\u001b[0m in \u001b[0;36mcomplex_to_rgb\u001b[0;34m(zz)\u001b[0m\n\u001b[1;32m     17\u001b[0m         \u001b[0mb\u001b[0m\u001b[0;34m[\u001b[0m\u001b[0mi\u001b[0m\u001b[0;34m,\u001b[0m\u001b[0mj\u001b[0m\u001b[0;34m]\u001b[0m \u001b[0;34m=\u001b[0m \u001b[0;36m1.0\u001b[0m\u001b[0;34m\u001b[0m\u001b[0;34m\u001b[0m\u001b[0m\n\u001b[1;32m     18\u001b[0m         \u001b[0mprint\u001b[0m\u001b[0;34m(\u001b[0m\u001b[0mb\u001b[0m\u001b[0;34m)\u001b[0m\u001b[0;34m\u001b[0m\u001b[0;34m\u001b[0m\u001b[0m\n\u001b[0;32m---> 19\u001b[0;31m     \u001b[0;32mreturn\u001b[0m \u001b[0mhsv_to_rgb\u001b[0m\u001b[0;34m(\u001b[0m\u001b[0ma\u001b[0m\u001b[0;34m,\u001b[0m \u001b[0mb\u001b[0m\u001b[0;34m,\u001b[0m \u001b[0mvalue\u001b[0m\u001b[0;34m)\u001b[0m\u001b[0;34m\u001b[0m\u001b[0;34m\u001b[0m\u001b[0m\n\u001b[0m",
      "\u001b[0;32m/usr/lib/python3.10/colorsys.py\u001b[0m in \u001b[0;36mhsv_to_rgb\u001b[0;34m(h, s, v)\u001b[0m\n\u001b[1;32m    143\u001b[0m \u001b[0;34m\u001b[0m\u001b[0m\n\u001b[1;32m    144\u001b[0m \u001b[0;32mdef\u001b[0m \u001b[0mhsv_to_rgb\u001b[0m\u001b[0;34m(\u001b[0m\u001b[0mh\u001b[0m\u001b[0;34m,\u001b[0m \u001b[0ms\u001b[0m\u001b[0;34m,\u001b[0m \u001b[0mv\u001b[0m\u001b[0;34m)\u001b[0m\u001b[0;34m:\u001b[0m\u001b[0;34m\u001b[0m\u001b[0;34m\u001b[0m\u001b[0m\n\u001b[0;32m--> 145\u001b[0;31m     \u001b[0;32mif\u001b[0m \u001b[0ms\u001b[0m \u001b[0;34m==\u001b[0m \u001b[0;36m0.0\u001b[0m\u001b[0;34m:\u001b[0m\u001b[0;34m\u001b[0m\u001b[0;34m\u001b[0m\u001b[0m\n\u001b[0m\u001b[1;32m    146\u001b[0m         \u001b[0;32mreturn\u001b[0m \u001b[0mv\u001b[0m\u001b[0;34m,\u001b[0m \u001b[0mv\u001b[0m\u001b[0;34m,\u001b[0m \u001b[0mv\u001b[0m\u001b[0;34m\u001b[0m\u001b[0;34m\u001b[0m\u001b[0m\n\u001b[1;32m    147\u001b[0m     \u001b[0mi\u001b[0m \u001b[0;34m=\u001b[0m \u001b[0mint\u001b[0m\u001b[0;34m(\u001b[0m\u001b[0mh\u001b[0m\u001b[0;34m*\u001b[0m\u001b[0;36m6.0\u001b[0m\u001b[0;34m)\u001b[0m \u001b[0;31m# XXX assume int() truncates!\u001b[0m\u001b[0;34m\u001b[0m\u001b[0;34m\u001b[0m\u001b[0m\n",
      "\u001b[0;31mValueError\u001b[0m: The truth value of an array with more than one element is ambiguous. Use a.any() or a.all()"
     ]
    }
   ],
   "source": [
    "n = 10\n",
    "x = np.linspace(-3, 3, n)\n",
    "y = np.linspace(-3, 3, n)\n",
    "\n",
    "xx, yy = np.meshgrid(x, y)\n",
    "zz     = G(xx, yy)\n",
    "rgb     = complex_to_rgb(zz)\n",
    "# plotting\n",
    "#plt.imshow(rgb, extent=[-3, 3, -3, 3])\n",
    "#plt.grid()\n",
    "#plt.show()"
   ]
  },
  {
   "cell_type": "markdown",
   "id": "d9ad540a",
   "metadata": {},
   "source": [
    "This is not quite what is in the book: <br>\n",
    "<img src=\"photo/colormap.jpg\"> <br> \n",
    "Damn close though, mirror about y. "
   ]
  },
  {
   "cell_type": "code",
   "execution_count": null,
   "id": "937e5e1c",
   "metadata": {},
   "outputs": [],
   "source": []
  }
 ],
 "metadata": {
  "kernelspec": {
   "display_name": "Python 3 (ipykernel)",
   "language": "python",
   "name": "python3"
  },
  "language_info": {
   "codemirror_mode": {
    "name": "ipython",
    "version": 3
   },
   "file_extension": ".py",
   "mimetype": "text/x-python",
   "name": "python",
   "nbconvert_exporter": "python",
   "pygments_lexer": "ipython3",
   "version": "3.10.12"
  }
 },
 "nbformat": 4,
 "nbformat_minor": 5
}
