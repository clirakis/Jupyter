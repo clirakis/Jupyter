{
 "cells": [
  {
   "cell_type": "markdown",
   "id": "d053a444-e57b-490c-85aa-0df4459c40a4",
   "metadata": {},
   "source": [
    "Calculations to design a charge amplifier. See companion LTSpice model. This is for use with  a photomultiplier. \n",
    "You will see references to things that approprate to to that model. \n",
    "<hr> \n",
    "Modified  BY   Reason <br> \n",
    "21-Nov-23 CBL  Original, based on the following\n",
    "<br> \n",
    "<a href = https://en.m.wikipedia.org/wiki/Charge_amplifier > Charge Amplifier </a>"
   ]
  },
  {
   "cell_type": "code",
   "execution_count": 1,
   "id": "189a9229-b4e9-4f12-8a1a-8cc31670c9af",
   "metadata": {},
   "outputs": [],
   "source": [
    "import numpy as np\n",
    "import matplotlib.pyplot as plt\n",
    "import math\n",
    "import scipy.constants as konst"
   ]
  },
  {
   "cell_type": "code",
   "execution_count": 2,
   "id": "04cbba76-0e50-4a57-98b0-11da54dc9bf6",
   "metadata": {},
   "outputs": [],
   "source": [
    "def LowerFrequencyResponse(Rf, Cf):\n",
    "    \"\"\"\n",
    "    Determine the lower frequency response in Hz based on:\n",
    "    @param Rf - the feedback resistor in Ohms\n",
    "    @param Cf - the feedback capacitor in Farads\n",
    "    \"\"\"\n",
    "    return 1.0/(2.0 * np.pi * Rf * Cf)"
   ]
  },
  {
   "cell_type": "code",
   "execution_count": 3,
   "id": "1ab94cf5-ea23-40f2-bc32-6e4826568e80",
   "metadata": {},
   "outputs": [],
   "source": [
    "def QuantumEfficeiency(Lambda):\n",
    "    \"\"\"\n",
    "    @param Lambda input wavelength in nm\n",
    "    returns QE in % at that value. \n",
    "    https://psec.uchicago.edu/library/photomultipliers/Photonis_PMT_basics.pdf\n",
    "    \"\"\"\n",
    "    RadiantSensitivity = 13 # for 550nm light (green) output of most crystals/scintillators\n",
    "    QE = 124.0/Lambda * RadiantSensivity \n",
    "    return QE"
   ]
  },
  {
   "cell_type": "code",
   "execution_count": 4,
   "id": "0617fbb7-01d8-4a06-9029-1dc34fa4025d",
   "metadata": {},
   "outputs": [
    {
     "name": "stdout",
     "output_type": "stream",
     "text": [
      "current:  0.0002  number electrons:  1248301814892152.8\n"
     ]
    }
   ],
   "source": [
    "# for a photomultiplier say there are:\n",
    "nstage = 10\n",
    "n_electrons = np.power(4,nstage) # number of electrons produced, doesn't quite match up with what is seen in a 50 ohm load. \n",
    "gain = 1.0e8\n",
    "# I don't think we need a quantum efficeny yet, but at best it is 0.3\n",
    "# assume a 10mV pulse into 50 ohms then \n",
    "I = 0.01/50\n",
    "ne = I/konst.e\n",
    "print(\"current: \", I, \" number electrons: \", ne)"
   ]
  },
  {
   "cell_type": "code",
   "execution_count": 12,
   "id": "c4dd6d49-0e82-4ca6-9eff-bb35de9b1aa1",
   "metadata": {},
   "outputs": [
    {
     "name": "stdout",
     "output_type": "stream",
     "text": [
      "F_low:  159154.94309189534\n"
     ]
    }
   ],
   "source": [
    "# plot the frequency response. \n",
    "Rf   = 1.0e6   # ohms\n",
    "Cf   = 1.0e-12 # farads\n",
    "Cinp = 3.1e-12 # farads, LT6200 opamp, depends on mode. \n",
    "Cdev = 1.0e-12 # guess on PMT cathode capacitance\n",
    "print(\"F_low: \", LowerFrequencyResponse(Rf, Cf))"
   ]
  },
  {
   "cell_type": "markdown",
   "id": "3d13f0ef-8503-4aea-a1ce-41fcba4b1c36",
   "metadata": {},
   "source": []
  }
 ],
 "metadata": {
  "kernelspec": {
   "display_name": "Python 3 (ipykernel)",
   "language": "python",
   "name": "python3"
  },
  "language_info": {
   "codemirror_mode": {
    "name": "ipython",
    "version": 3
   },
   "file_extension": ".py",
   "mimetype": "text/x-python",
   "name": "python",
   "nbconvert_exporter": "python",
   "pygments_lexer": "ipython3",
   "version": "3.9.6"
  }
 },
 "nbformat": 4,
 "nbformat_minor": 5
}
