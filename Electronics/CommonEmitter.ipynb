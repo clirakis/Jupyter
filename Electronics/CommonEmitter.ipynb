{
 "cells": [
  {
   "cell_type": "code",
   "execution_count": 1,
   "id": "86b3df23",
   "metadata": {},
   "outputs": [],
   "source": [
    "\"\"\"\n",
    "Do some of the examples found here: \n",
    "https://www.electronics-tutorials.ws/category/amplifier\n",
    "https://www.electronics-tutorials.ws/amplifier/common-collector-amplifier.html\n",
    "\n",
    "27-Nov-22   CBL Original\n",
    "\"\"\"\n",
    "import numpy as np\n",
    "import matplotlib.pyplot as plt\n",
    "import math"
   ]
  },
  {
   "cell_type": "markdown",
   "id": "da8104c5",
   "metadata": {},
   "source": [
    "This is the circuit we are trying to analyze:\n",
    "<img src=\"pics/amp113.gif\"> \n",
    "This is a common emitter amplifier with some NPN transistor. We could use something like a 2N3904 for a test. "
   ]
  },
  {
   "cell_type": "code",
   "execution_count": 7,
   "id": "aabc7238",
   "metadata": {},
   "outputs": [],
   "source": [
    "def VoltageDivider(Vcc, R1, R2):\n",
    "    \"\"\" \n",
    "    Returns the voltage going into the base of the above diagram. \n",
    "    Total resistance is R1+R2. The current through this chain is Vcc/(R1+R2). This ignores the base current. \n",
    "    The design should have the current through R2 ~ 10x Ib at min. \n",
    "    \"\"\"\n",
    "    V_b = Vcc * R2/(R1+R2)\n",
    "    return V_b"
   ]
  },
  {
   "cell_type": "markdown",
   "id": "5c1b5224",
   "metadata": {},
   "source": [
    "Overall the transistor is treated as an ideal device. As such $I_E = I_C + I_B$. However, the beta involved should be such that $I_B$ should be very low relative to $I_C$ or $I_E$. Roughly there is a 0.6 to 0.7 volt forward bias required to get this running, $V_{BE}$ <br>\n",
    "\n",
    "The resistance can be modeled by $r_e = 25mV/I_e $ where the 25 is the thermal voltage at room temperture. $I_b$ flows through the Base-Emitter junction and will act like a voltage divider with $R_E$ as the second resistor. In this case the ratio is so low that $V_{out} ~ V_{in}$ and this makes an emitter follower. \n",
    "<hr>\n",
    "Common collector Voltage gain: <br> \n",
    "$V_{out} = {V_{in} R_E \\over {r_e + R_E}} $\n",
    "<br> \n",
    "therefore: <br> \n",
    "$A_V = {V_{out}\\over{V_{in}}} = {I_e R_E\\over{I_e(r_e + R_E)}}$\n",
    "<br> but $R_E >> r_e$ <br>\n",
    "$A_V \\approx 1$"
   ]
  },
  {
   "cell_type": "code",
   "execution_count": 47,
   "id": "40872159",
   "metadata": {},
   "outputs": [],
   "source": [
    "def EmitterResistance(VB, VC, RE):\n",
    "    \"\"\"\n",
    "    @VB - Base voltage\n",
    "    @VC - Collector voltage\n",
    "    \"\"\"\n",
    "    V_BE = 0.7    # Volts, kinda fixed based on transistor fabrication\n",
    "    VE = VB - V_BE\n",
    "    print(\"VE = \", VE)\n",
    "    V_CE = VC - VE\n",
    "    IE = VE/RE\n",
    "    rv = 25.0e-3/IE + RE  # thermal voltage value plus emitter resistor value\n",
    "    #print(\"Emitter current = \", IE, \" Emitter Resistance = \", RE)\n",
    "    return rv"
   ]
  },
  {
   "cell_type": "code",
   "execution_count": 48,
   "id": "70d99210",
   "metadata": {},
   "outputs": [],
   "source": [
    "def Example1():\n",
    "    Vcc = 12.  # volts\n",
    "    R1 = 5600  # ohms\n",
    "    R2 = 6800  # ohms\n",
    "    RE = 4700. # ohms\n",
    "    VB = VoltageDivider(Vcc, R1, R2)\n",
    "    print(\"VB = \", VB)\n",
    "    \"\"\" \n",
    "    VC basically is VCC\n",
    "    We are defining the forward voltage as 0.7V\n",
    "    \"\"\"\n",
    "    RE = EmitterResistance(VB, Vcc, RE)\n",
    "    IC = VB/RE\n",
    "    print(\"Collector Current = \", IC)\n"
   ]
  },
  {
   "cell_type": "code",
   "execution_count": 49,
   "id": "82c54c2e",
   "metadata": {},
   "outputs": [
    {
     "name": "stdout",
     "output_type": "stream",
     "text": [
      "VB =  6.580645161290323\n",
      "VE =  5.880645161290323\n",
      "Collector Current =  0.0013942101544283105\n"
     ]
    }
   ],
   "source": [
    "Example1()"
   ]
  },
  {
   "cell_type": "code",
   "execution_count": 50,
   "id": "ea2cfee7",
   "metadata": {},
   "outputs": [
    {
     "name": "stdout",
     "output_type": "stream",
     "text": [
      "VE =  [-0.7 -0.2  0.3  0.8  1.3  1.8  2.3  2.8  3.3  3.8  4.3  4.8  5.3  5.8\n",
      "  6.3  6.8  7.3  7.8  8.3  8.8  9.3  9.8 10.3 10.8]\n"
     ]
    },
    {
     "data": {
      "text/plain": [
       "Text(0, 0.5, 'Collector Current(A)')"
      ]
     },
     "execution_count": 50,
     "metadata": {},
     "output_type": "execute_result"
    },
    {
     "data": {
      "image/png": "[encoded data removed]",
      "text/plain": [
       "<Figure size 432x288 with 1 Axes>"
      ]
     },
     "metadata": {
      "needs_background": "light"
     },
     "output_type": "display_data"
    }
   ],
   "source": [
    "# Plot a load line based on varying the base voltage. \n",
    "Vcc = 12.0\n",
    "RE  = 4700.0 \n",
    "IC_sat = Vcc/RE\n",
    "vin = np.arange(0,Vcc, 0.5)\n",
    "re  = EmitterResistance(vin, Vcc, RE)\n",
    "ic  = vin/re\n",
    "plt.plot(vin,IC_sat-ic)\n",
    "plt.grid(True)\n",
    "plt.xlabel(\"Base Voltage (V)\")\n",
    "plt.ylabel(\"Collector Current(A)\")"
   ]
  },
  {
   "cell_type": "markdown",
   "id": "5eed7e0a",
   "metadata": {},
   "source": [
    "This is the equivalent of a load line. all of the above has been for a DC operation. <br> \n",
    "Lets try an ac analysis. But we will add a capacitor at the base and at the emitter as DC blocks. In AC operation, what does the input impedance loo like? Should be high.<br>\n",
    "From the prespective of impedance - everything is in parallel. We will also introduce a load resistance $R_L$ after the output blocking capacitor.<br> \n",
    "When starting the analysis, we assume that C1 (input) and C2 (output) are shorts. (Assume that ${1\\over{\\omega C}} << 1$) Under these conditions then...<br>\n",
    "$R_B = R_1 \\parallel R_2$ <br>\n",
    "$R_e = R_E \\parallel R_L $ <br>\n",
    "$\\beta = {I_C\\over{I_B}} \\therefore I_C = \\beta I_B$ <br> \n",
    "$I_E \\sim I_C = \\beta I_B$ <br>\n",
    "$V_{IN} = V_B = V_{BE} + V_E $ <br>\n",
    "... using approximations... <br> \n",
    "$Z_{base} = \\beta (R_e + r_e) $"
   ]
  },
  {
   "cell_type": "code",
   "execution_count": 85,
   "id": "55be7cb8",
   "metadata": {},
   "outputs": [],
   "source": [
    "def Example2():\n",
    "    Vcc = 12.  # volts\n",
    "    R1 = 5600  # ohms\n",
    "    R2 = 6800  # ohms\n",
    "    RE = 4700. # ohms\n",
    "    RL = 1.0e4 # ohms\n",
    "    Beta = 100 # unitless\n",
    "    #\n",
    "    VB = VoltageDivider(Vcc, R1, R2)\n",
    "    RE = EmitterResistance(VB, Vcc, RE)\n",
    "    IC = VB/RE\n",
    "    r_e = 25e-3/IC\n",
    "    print(\"r_e\", r_e)\n",
    "    # Equivalent load resistance Parallel\n",
    "    Re = RE*RL/(RE+RL)\n",
    "    print(\"Equivalant load resistance: \", Re)\n",
    "    Z_base = Beta * (r_e+Re)\n",
    "    print(\"base impedence:\", Z_base)\n",
    "    # Amplifier input impedance RBias parallel with Zbase\n",
    "    Rbias = R1*R2/(R1+R2) \n",
    "    Zin = Rbias * Z_base/(Rbias + Z_base)\n",
    "    print(\"input impedence:\", Rbias, \" \", Zin)\n",
    "    #\n",
    "    # and finally output impedance. \n",
    "    #\n",
    "    Z_device = r_e + (Rbias/(Beta+1.0))\n",
    "    Zout = Re * Z_device/(Re+Z_device)\n",
    "    print(\"output Impedance:\", Zout)"
   ]
  },
  {
   "cell_type": "code",
   "execution_count": 86,
   "id": "04eece9a",
   "metadata": {},
   "outputs": [
    {
     "name": "stdout",
     "output_type": "stream",
     "text": [
      "VE =  5.880645161290323\n",
      "r_e 17.93129961117744\n",
      "Equivalant load resistance:  3206.5128784653357\n",
      "base impedence: 322444.41780765133\n",
      "input impedence: 3070.967741935484   3041.995707768541\n",
      "output Impedance: 47.619081883242195\n"
     ]
    }
   ],
   "source": [
    "Example2()"
   ]
  },
  {
   "cell_type": "code",
   "execution_count": null,
   "id": "7f7107a0",
   "metadata": {},
   "outputs": [],
   "source": []
  }
 ],
 "metadata": {
  "kernelspec": {
   "display_name": "Python 3 (ipykernel)",
   "language": "python",
   "name": "python3"
  },
  "language_info": {
   "codemirror_mode": {
    "name": "ipython",
    "version": 3
   },
   "file_extension": ".py",
   "mimetype": "text/x-python",
   "name": "python",
   "nbconvert_exporter": "python",
   "pygments_lexer": "ipython3",
   "version": "3.10.6"
  }
 },
 "nbformat": 4,
 "nbformat_minor": 5
}
