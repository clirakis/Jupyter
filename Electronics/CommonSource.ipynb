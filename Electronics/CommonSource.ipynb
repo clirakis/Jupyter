{
 "cells": [
  {
   "cell_type": "code",
   "execution_count": 1,
   "id": "40bb2eee",
   "metadata": {},
   "outputs": [],
   "source": [
    "\"\"\"\n",
    "Do some of the examples found here: \n",
    "https://www.electronics-tutorials.ws/category/amplifier\n",
    "https://www.electronics-tutorials.ws/amplifier/amp_3.html\n",
    "\n",
    "Common Source - using an JFET\n",
    "\n",
    "27-Nov-22   CBL Original\n",
    "\"\"\"\n",
    "import numpy as np\n",
    "import matplotlib.pyplot as plt\n",
    "import math"
   ]
  },
  {
   "cell_type": "markdown",
   "id": "ed10c697",
   "metadata": {},
   "source": [
    "This is the circuit we are trying to analyze:\n",
    "<img src=\"pics/amp14.gif\"> \n",
    "This is a common source amplifier with some JFET transistor. This is an N-channel JFET, such as 2N547. "
   ]
  },
  {
   "cell_type": "code",
   "execution_count": 1,
   "id": "afb3af13",
   "metadata": {},
   "outputs": [],
   "source": [
    "def VoltageDivider(Vdd, R1, R2):\n",
    "    \"\"\" \n",
    "    Returns the voltage going into the base of the above diagram. \n",
    "    Total resistance is R1+R2. The current through this chain is Vcc/(R1+R2). The gate current really is zero.\n",
    "    The very high input impedance of the JFET mandates that we use R1 and R2 in the megohm range. \n",
    "    \"\"\"\n",
    "    V_g = Vdd * R2/(R1+R2)\n",
    "    return V_g"
   ]
  },
  {
   "cell_type": "markdown",
   "id": "c7683f5c",
   "metadata": {},
   "source": [
    "$V_S > V_G$ to keep $V_{GS}$ reverse biased.  Therefore: $V_S = I_D R_S = V_G - V_{GS}$ <br> \n",
    "Since no current enters the gate $I_S = I_D$ and $I_D = {V_S\\over{R_S}} = {V_{DD}\\over{R_D + R_S}}$ <br>\n",
    "<br>\n",
    "This is an N channel device and is normally on. The condition where $V_g < V_s$ determines how off the ciruit is. <br>\n",
    "In this circuit, the voltage can be given as: <br> \n",
    "$V_S = (I_D * R_S) = V_G - V_{GS}$\n",
    "<br>\n",
    "$I_D = {V_S \\over R_S} = {V_{DD} \\over {R_D + R_S}}$ <br>\n",
    "Introduce transconductance gm - the gain coeficient. <br> \n",
    "Rules: <br> \n",
    "<list> \n",
    "    <li> $I_d=0:(V_{dd} = V_{ds}) $ </li>\n",
    "    <li> $V_{ds}=0:(I_d = V_{dd}/R_L) $ </li>\n",
    "</list>\n",
    "This forms the DC load line. <br>\n",
    "<hr>\n",
    "$g_m$ is the transconductance gain. <br> \n",
    "$ R_{DS} = {\\Delta V_{DS} \\over {\\Delta I_D}} = 1/g_m$ \n",
    "<hr>\n",
    "Equations governing amplifier operation: <br> \n",
    "$V_S = I_D R_S = {V_{DD}\\over 4} $ <br> \n",
    "$V_S = V_G - V_{GS}$ <br>\n",
    "$V_G = ({R_2 \\over {R_1 + R_2}})V_{DD} $ <br> \n",
    "$I_D = {V_S \\over {R_S}} = {{V_G-V_{GS}} \\over {R_S}} $ <br>\n",
    "<hr>\n",
    "All of this was for JFETS. There are MOSFETS (higher input resistance). <br> \n",
    "<img src = \"pics/transistor-tran20a.gif\">\n",
    "<hr> \n",
    "Amplifier example with n-channel enhanced mode.<br> \n",
    "<img src = \"pics/transistor-tran55.gif\">\n",
    "<hr> \n",
    "What I want to do is measure $I_D$ vs $V_{DS}$ for a variety of $V_{GS}$ <br> "
   ]
  },
  {
   "cell_type": "code",
   "execution_count": null,
   "id": "21f73991",
   "metadata": {},
   "outputs": [],
   "source": []
  }
 ],
 "metadata": {
  "kernelspec": {
   "display_name": "Python 3 (ipykernel)",
   "language": "python",
   "name": "python3"
  },
  "language_info": {
   "codemirror_mode": {
    "name": "ipython",
    "version": 3
   },
   "file_extension": ".py",
   "mimetype": "text/x-python",
   "name": "python",
   "nbconvert_exporter": "python",
   "pygments_lexer": "ipython3",
   "version": "3.10.6"
  }
 },
 "nbformat": 4,
 "nbformat_minor": 5
}
