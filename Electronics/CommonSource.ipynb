{
 "cells": [
  {
   "cell_type": "code",
   "execution_count": 1,
   "id": "40bb2eee",
   "metadata": {},
   "outputs": [],
   "source": [
    "\"\"\"\n",
    "Do some of the examples found here: \n",
    "https://www.electronics-tutorials.ws/category/amplifier\n",
    "https://www.electronics-tutorials.ws/amplifier/amp_3.html\n",
    "\n",
    "Common Source - using an JFET\n",
    "\n",
    "27-Nov-22   CBL Original\n",
    "\"\"\"\n",
    "import numpy as np\n",
    "import matplotlib.pyplot as plt\n",
    "import math"
   ]
  },
  {
   "cell_type": "markdown",
   "id": "ed10c697",
   "metadata": {},
   "source": [
    "This is the circuit we are trying to analyze:\n",
    "<img src=\"pics/amp14.gif\"> \n",
    "This is a common source amplifier with some JFET transistor. This is an N-channel JFET, such as 2N547. "
   ]
  },
  {
   "cell_type": "code",
   "execution_count": 2,
   "id": "afb3af13",
   "metadata": {},
   "outputs": [],
   "source": [
    "def VoltageDivider(Vcc, R1, R2):\n",
    "    \"\"\" \n",
    "    Returns the voltage going into the base of the above diagram. \n",
    "    Total resistance is R1+R2. The current through this chain is Vcc/(R1+R2). The gate current really is zero.\n",
    "    The very high input impedance of the JFET mandates that we use R1 and R2 in the megohm range. \n",
    "    \"\"\"\n",
    "    V_b = Vcc * R2/(R1+R2)\n",
    "    return V_b"
   ]
  },
  {
   "cell_type": "markdown",
   "id": "c7683f5c",
   "metadata": {},
   "source": [
    "$V_S > V_G$ to keep $V_{GS}$ reverse biased.  Therefore: $V_S = I_D R_S = V_G - V_{GS}$ <br> \n",
    "Since no current enters the gate $I_S = I_D$ and $I_D = {V_S\\over{R_S}} = {V_{DD}\\over{R_D + R_S}}$"
   ]
  },
  {
   "cell_type": "code",
   "execution_count": null,
   "id": "062a2b6a",
   "metadata": {},
   "outputs": [],
   "source": []
  }
 ],
 "metadata": {
  "kernelspec": {
   "display_name": "Python 3 (ipykernel)",
   "language": "python",
   "name": "python3"
  },
  "language_info": {
   "codemirror_mode": {
    "name": "ipython",
    "version": 3
   },
   "file_extension": ".py",
   "mimetype": "text/x-python",
   "name": "python",
   "nbconvert_exporter": "python",
   "pygments_lexer": "ipython3",
   "version": "3.10.6"
  }
 },
 "nbformat": 4,
 "nbformat_minor": 5
}
