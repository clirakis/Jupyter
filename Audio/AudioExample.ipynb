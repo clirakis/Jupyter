{
 "cells": [
  {
   "cell_type": "markdown",
   "id": "ca14f493-4ac8-4c94-aaaa-30e7a9407517",
   "metadata": {},
   "source": [
    "<H1> AudioExample </H1> <br> \n",
    " Gin up method for looking at accelerometer data using standard usb audio port.  <br> \n",
    " Original exploration. \n",
    "<hr> \n",
    "<H2>Modification history </H2>\n",
    "<table>\n",
    "    <tr>\n",
    "        <th> Modified </th>\n",
    "        <th> BY </th>\n",
    "        <th> Reason </th>\n",
    "    </tr>\n",
    "    <tr>\n",
    "        <td> 18-Feb-25</td>\n",
    "        <td> CBL </td>\n",
    "        <td> Original </td>\n",
    "    </tr>\n",
    "    <tr>\n",
    "        <td> 24-Mar-25</td>\n",
    "        <td> CBL </td>\n",
    "        <td> Added in drive capability, drive the Modal 2000E device </td>\n",
    "    </tr>\n",
    "    <tr>\n",
    "        <td> 19-May-25</td>\n",
    "        <td> CBL </td>\n",
    "        <td> Play Riken Data </td>\n",
    "    </tr>\n",
    "</table>\n",
    "\n",
    "<hr> \n",
    "<H2> References </H2> \n",
    "<a href=\"https://people.csail.mit.edu/hubert/pyaudio/docs/\">  Documentation </a> <br> \n",
    "<a href=\"https://stackoverflow.com/questions/40704026/voice-recording-using-pyaudio\"> example recording</a> <br> \n",
    "<a href=\"https://github.com/jleb/pyaudio/blob/master/test/record.py\"> example 2 </a><br> \n",
    "<a href=\"https://stackoverflow.com/questions/4623572/how-do-i-get-a-list-of-my-devices-audio-sample-rates-using-pyaudio-or-portaudio\"> Get Sound device properties. </a><br> \n",
    "<a href=\"https://python-sounddevice.readthedocs.io/en/0.5.1/installation.html\"> Sounddevice documentation</a>\n",
    "<H2> Pre-requisites</H2> \n",
    "numpy<br>\n",
    "matplotlib<br>\n",
    "pyaudio<br>\n",
    "scipy<br>\n",
    "sounddevice - which returns data in numpy arrays!<br> \n",
    "<H3> Modal 2000E information</H3>\n",
    "<a href=\"https://www.modalshop.com/vibration-test/products/vibration-test-shakers/2-lbf-mini-inertial-shaker\"> Modal 2000E</a> <br> \n",
    "Force rating 9N <br> \n",
    "Max Frequency 3000Hz <br> \n",
    "Max stroke 8.9mm <br> \n",
    "Shaker Model: 2002E <br> \n",
    "Input voltage to Drive Amplifier: 0-1 V<br> \n",
    "<hr>"
   ]
  },
  {
   "cell_type": "code",
   "execution_count": 1,
   "id": "a7dba94a-c4bc-4c01-8dca-ddc7f56475f0",
   "metadata": {},
   "outputs": [],
   "source": [
    "import numpy as np\n",
    "import matplotlib.pyplot as plt\n",
    "import scipy.constants as konst\n",
    "import pyaudio\n",
    "import wave\n",
    "import sounddevice as sd\n",
    "import scipy  as sp"
   ]
  },
  {
   "cell_type": "code",
   "execution_count": 2,
   "id": "14e10903-5afc-49f8-929b-0d47b49ab3e5",
   "metadata": {},
   "outputs": [],
   "source": [
    "def RecordInput(DeviceIndex, RECORD_SECONDS=1):\n",
    "    \"\"\"\n",
    "    input data using pyaudio\n",
    "    @param DeviceIndex - index to actual device based on ShowDevices. \n",
    "    This returns a length of sample frames, not quite what I want. \n",
    "    \"\"\"\n",
    "    CHUNK = 1024\n",
    "    FORMAT = pyaudio.paInt16\n",
    "    CHANNELS = 1\n",
    "    RATE = 1024          # Don't need so many samples/second for what we intend to do. \n",
    "    WAVE_OUTPUT_FILENAME = \"output.wav\"\n",
    "\n",
    "    p = pyaudio.PyAudio()\n",
    "    devinfo = p.get_device_info_by_index(DeviceIndex)  # Or whatever device you care about.\n",
    "    print(\"Devinfo: \", devinfo)\n",
    "\n",
    "    stream = p.open(format=FORMAT,\n",
    "                          channels = devinfo['maxInputChannels'],\n",
    "                          rate     = RATE,\n",
    "                          input    = True,\n",
    "                          input_device_index=DeviceIndex,\n",
    "                          frames_per_buffer=CHUNK)\n",
    "\n",
    "    print(\"* recording\")\n",
    "\n",
    "    frames = []\n",
    "    TotalFrames = int(RATE / CHUNK * RECORD_SECONDS)\n",
    "    print(' Total frames: ', TotalFrames)\n",
    "    for i in range(0, TotalFrames):\n",
    "        data = stream.read(CHUNK)\n",
    "        frames.append(data)\n",
    "\n",
    "    print(\"* done recording\")\n",
    "\n",
    "    stream.stop_stream()\n",
    "    stream.close()\n",
    "    p.terminate()\n",
    "    # Convert byte array to NumPy array\n",
    "    audio_data_bytes = b''.join(frames)  # Concatenate all frames\n",
    "    audio_array = np.frombuffer(audio_data_bytes, dtype=np.int16)\n",
    "    return audio_array"
   ]
  },
  {
   "cell_type": "code",
   "execution_count": 2,
   "id": "96049110-e74a-4775-9888-b99d8da3e21d",
   "metadata": {},
   "outputs": [],
   "source": [
    "def PlayWav(filename):\n",
    "    CHUNK = 1024\n",
    "\n",
    "    with wave.open(filename, 'rb') as wf:\n",
    "        # Instantiate PyAudio and initialize PortAudio system resources (1)\n",
    "        p = pyaudio.PyAudio()\n",
    "\n",
    "        # Open stream (2)\n",
    "        stream = p.open(format=p.get_format_from_width(wf.getsampwidth()),\n",
    "                        channels=wf.getnchannels(),\n",
    "                        rate=wf.getframerate(),\n",
    "                        output=True)\n",
    "\n",
    "        # Play samples from the wave file (3)\n",
    "        while len(data := wf.readframes(CHUNK)):  # Requires Python 3.8+ for :=\n",
    "            stream.write(data)\n",
    "\n",
    "        # Close stream (4)\n",
    "        stream.close()\n",
    "\n",
    "        # Release PortAudio system resources (5)\n",
    "        p.terminate()\n",
    "        "
   ]
  },
  {
   "cell_type": "code",
   "execution_count": 3,
   "id": "c72fa027-620a-4920-af0f-fe1b87adf3ef",
   "metadata": {},
   "outputs": [],
   "source": [
    "def ConvertWaveform(yin):\n",
    "    \"\"\"\n",
    "    @param yin - mono input, analog values {0:1}\n",
    "    @return vector of L,R alternating pairs. Same output on both. Assume 16 bit resolution as output. \n",
    "    \"\"\"\n",
    "    y  = yin * 65535          # make 16 bit max value. \n",
    "    IY = y.astype(np.int16) # convert to integer\n",
    "    # allocate output array\n",
    "    N = len(IY)\n",
    "    rv = np.zeros(2*N+1, dtype=np.int16)\n",
    "    for i in range(0,N):\n",
    "        rv[2*i] = IY[i]\n",
    "        rv[2*i+1] = IY[i]\n",
    "    return rv"
   ]
  },
  {
   "cell_type": "code",
   "execution_count": 17,
   "id": "484f74c5-86e3-4718-8c61-770e651b6321",
   "metadata": {},
   "outputs": [],
   "source": [
    "def PlayWaveform(DeviceIndex, Waveform, SampleRate):\n",
    "    \"\"\"\n",
    "    @brief - Play provided waveform to device, ostensibly the shaker\n",
    "    @param DeviceIndex - choose output device\n",
    "    @param Waveform - waveform to play. \n",
    "    \"\"\"\n",
    "    print(\"Play waveform, SampleRate:\", SampleRate)\n",
    "    # Instantiate PyAudio and initialize PortAudio system resources (1)\n",
    "    p = pyaudio.PyAudio()\n",
    "    devinfo = p.get_device_info_by_index(DeviceIndex)  # Or whatever device you care about.\n",
    "    print(\"Devinfo: \", devinfo)\n",
    "\n",
    "    # Open stream (2)\n",
    "    stream = p.open(format=p.get_format_from_width(2),\n",
    "                    channels=2,                       # assume a stereo output\n",
    "                    rate=SampleRate,\n",
    "                    output_device_index = DeviceIndex,\n",
    "                    output=True)\n",
    "\n",
    "    # Play samples from the wave file (3)\n",
    "    stream.write(Waveform)\n",
    "\n",
    "    # Close stream (4)\n",
    "    stream.close()\n",
    "\n",
    "    # Release PortAudio system resources (5)\n",
    "    p.terminate()\n"
   ]
  },
  {
   "cell_type": "code",
   "execution_count": 15,
   "id": "c5dc84ba-bf18-4c8b-97bb-ffce77aac4b6",
   "metadata": {},
   "outputs": [],
   "source": [
    "def ShowDevices():\n",
    "    p = pyaudio.PyAudio()\n",
    "    info = p.get_host_api_info_by_index(0)\n",
    "    numdevices = info.get('deviceCount')\n",
    "\n",
    "    print('Number of devices: ', numdevices)\n",
    "\n",
    "    for i in range(0, numdevices):\n",
    "        in_channels = p.get_device_info_by_host_api_device_index(0, i).get('maxInputChannels')\n",
    "        out_channels = p.get_device_info_by_host_api_device_index(0, i).get('maxOutputChannels')\n",
    "        print(\"Input Device id \", i, \" - \", p.get_device_info_by_host_api_device_index(0, i).get('name'), \" inputs: \", in_channels,\n",
    "             \" outputs: \", out_channels)\n"
   ]
  },
  {
   "cell_type": "code",
   "execution_count": 7,
   "id": "49fea69b-0543-495e-a979-9be20e391712",
   "metadata": {},
   "outputs": [],
   "source": [
    "def PlotWelch(yin, norm=1.0, SampleRate=1024):\n",
    "    # Try this welch method.\n",
    "    N = len(yin)\n",
    "    NFrames = N/SampleRate\n",
    "    print(\"Welch:\", N, ' NFrames = ', NFrames)\n",
    "    # returns a vector of frequencies used by fft, inputs are sample rate and 1/sample rate. \n",
    "    freq  = np.fft.fftfreq(SampleRate, 1.0/SampleRate)\n",
    "    # power spectrum, via scipy welch. 'boxcar' means no window, nperseg=len(y) so that fft computed on the whole signal.\n",
    "    freq2,power2=sp.signal.welch(yin, \n",
    "                                 fs = SampleRate,        # Sampling rate\n",
    "                                 window  = 'hamming',\n",
    "                                 nperseg = SampleRate,   # length of each segment\n",
    "                                 scaling = 'spectrum', \n",
    "                                 axis=-1, \n",
    "                                 average='mean')\n",
    "    # Normalization \n",
    "    p = np.sqrt(power2/norm)\n",
    "    # OVERRIDE for plotting if desired. \n",
    "    #N = 100\n",
    "    # plot supresses DC component. \n",
    "    plt.semilogy(freq2[1:N],p[1:N])\n",
    "    #plt.xlim(0,np.max(freq[0:NP]))\n",
    "    plt.grid()\n",
    "    plt.xlabel(\"Frequency (Hz)\")\n",
    "    plt.ylabel(\"Amplitude (m/s^2)\") \n",
    "    #plt.ylim((LowerLimit, UpperLimit))\n",
    "    plt.title('FFT')"
   ]
  },
  {
   "cell_type": "code",
   "execution_count": 108,
   "id": "819e7757-9325-4fa7-b742-2f6044b3e7d8",
   "metadata": {},
   "outputs": [],
   "source": [
    "# Lets hear what the accelerometer sounds like. \n",
    "Path     = '/Users/clirakis/Documents/Acc/Basque/Vibration_test_raw_data_2025-02-12_1444/'\n",
    "Filename  = 'VM_001_20250110_191000_0108_0000_ST0007.wav'\n",
    "Filespec  = Path + Filename\n",
    "#PlayWav(Filespec) # Can't do this unless we restructure the input --- 3 channels!!"
   ]
  },
  {
   "cell_type": "code",
   "execution_count": 9,
   "id": "86715c9c-288a-4000-a0bc-e0cf9b1bbe27",
   "metadata": {},
   "outputs": [
    {
     "ename": "NameError",
     "evalue": "name 'WebDAQ704' is not defined",
     "output_type": "error",
     "traceback": [
      "\u001b[31m---------------------------------------------------------------------------\u001b[39m",
      "\u001b[31mNameError\u001b[39m                                 Traceback (most recent call last)",
      "\u001b[36mCell\u001b[39m\u001b[36m \u001b[39m\u001b[32mIn[9]\u001b[39m\u001b[32m, line 11\u001b[39m\n\u001b[32m      9\u001b[39m \u001b[38;5;66;03m# Start log file for read. \u001b[39;00m\n\u001b[32m     10\u001b[39m log_fd = \u001b[38;5;28mopen\u001b[39m(\u001b[33m\"\u001b[39m\u001b[33mWebDAQ.log\u001b[39m\u001b[33m\"\u001b[39m, \u001b[33m'\u001b[39m\u001b[33mw\u001b[39m\u001b[33m'\u001b[39m, encoding=\u001b[33m'\u001b[39m\u001b[33mutf-8\u001b[39m\u001b[33m'\u001b[39m)\n\u001b[32m---> \u001b[39m\u001b[32m11\u001b[39m wd = \u001b[43mWebDAQ704\u001b[49m(Filespec, log_fd)\n\u001b[32m     12\u001b[39m z = ReadBlock(wd)   \u001b[38;5;66;03m# z axis only. \u001b[39;00m\n\u001b[32m     13\u001b[39m wd.Close()\n",
      "\u001b[31mNameError\u001b[39m: name 'WebDAQ704' is not defined"
     ]
    }
   ],
   "source": [
    "# Riken Data Path \n",
    "FilePath = '/Users/clirakis/Documents/Acc/Riken/RIKEN-Boltdown-FridgeRunning-2/'\n",
    "FileName = 'Accel_2025-05-13T11-56-22-680.wdd'    # This is kind of a baseline. \n",
    "#FileName = 'Accel_2025-05-13T13-56-22-972.wdd'    # a blip in the first 500 seconds\n",
    "#FileName = 'Accel_2025-05-13T14-56-23-115.wdd'    # Starts to get noisy at 1000 seconds\n",
    "#FileName = 'Accel_2025-05-13T15-56-23-292.wdd'    # Pretty much noisy the whole way through .\n",
    "#FileName = 'Accel_2025-05-13T16-56-23-440.wdd'    # about 30dB above baseline. \n",
    "Filespec = FilePath + FileName\n",
    "# Start log file for read. \n",
    "log_fd = open(\"WebDAQ.log\", 'w', encoding='utf-8')\n",
    "wd = WebDAQ704(Filespec, log_fd)\n",
    "z = ReadBlock(wd)   # z axis only. \n",
    "wd.Close()\n",
    "# Play the waveform. \n",
    "DeviceIndex = 2\n",
    "SampleRate = 2048\n",
    "PlayWaveform(DeviceIndex, z, SampleRate)"
   ]
  },
  {
   "cell_type": "code",
   "execution_count": 21,
   "id": "6d1d47f6-c617-496a-98a9-b621c8ed5687",
   "metadata": {},
   "outputs": [
    {
     "name": "stdout",
     "output_type": "stream",
     "text": [
      "Number of devices:  5\n",
      "Input Device id  0  -  Cable Creation  inputs:  1  outputs:  2\n",
      "Input Device id  1  -  MacBook Pro Microphone  inputs:  1  outputs:  0\n",
      "Input Device id  2  -  MacBook Pro Speakers  inputs:  0  outputs:  2\n",
      "Input Device id  3  -  Microsoft Teams Audio  inputs:  1  outputs:  1\n",
      "Input Device id  4  -  ZoomAudioDevice  inputs:  2  outputs:  2\n"
     ]
    }
   ],
   "source": [
    "ShowDevices()"
   ]
  },
  {
   "cell_type": "code",
   "execution_count": 7,
   "id": "2f1c38fd-65e5-45f6-aa28-68f8839637cf",
   "metadata": {},
   "outputs": [
    {
     "name": "stdout",
     "output_type": "stream",
     "text": [
      "Devinfo:  {'index': 1, 'structVersion': 2, 'name': 'Cable Creation', 'hostApi': 0, 'maxInputChannels': 1, 'maxOutputChannels': 2, 'defaultLowInputLatency': 0.01, 'defaultLowOutputLatency': 0.0038541666666666668, 'defaultHighInputLatency': 0.1, 'defaultHighOutputLatency': 0.0131875, 'defaultSampleRate': 48000.0}\n",
      "* recording\n",
      " Total frames:  2\n",
      "* done recording\n"
     ]
    }
   ],
   "source": [
    "Y = RecordInput(1,2)"
   ]
  },
  {
   "cell_type": "code",
   "execution_count": 25,
   "id": "ff4b5f51-2969-4401-9851-5d1bfa098267",
   "metadata": {},
   "outputs": [],
   "source": [
    "#\n",
    "# Make a waveform\n",
    "# \n",
    "F0 = 400  # Hz\n",
    "W  = 2.0 * konst.pi*F0\n",
    "SampleRate = 48000\n",
    "NSeconds = 5*60\n",
    "t = np.arange(0,NSeconds*SampleRate)/SampleRate\n",
    "y = 0.25*(1.0 + np.sin(W*t))\n",
    "#plt.plot(y)\n",
    "#PlotWelch(y, 1.0, SampleRate)\n",
    "# turn into a short\n",
    "# Scale to short\n",
    "#plt.plot(IY[:400])"
   ]
  },
  {
   "cell_type": "code",
   "execution_count": 26,
   "id": "533007ce-8faf-4da4-aa79-3a1138711a12",
   "metadata": {},
   "outputs": [
    {
     "name": "stdout",
     "output_type": "stream",
     "text": [
      "Play waveform, SampleRate: 48000\n",
      "Devinfo:  {'index': 0, 'structVersion': 2, 'name': 'Cable Creation', 'hostApi': 0, 'maxInputChannels': 1, 'maxOutputChannels': 2, 'defaultLowInputLatency': 0.01, 'defaultLowOutputLatency': 0.0038541666666666668, 'defaultHighInputLatency': 0.1, 'defaultHighOutputLatency': 0.0131875, 'defaultSampleRate': 48000.0}\n"
     ]
    }
   ],
   "source": [
    "IY = ConvertWaveform(y)\n",
    "#plt.plot(IY[0:400])\n",
    "# Mac speakers 4\n",
    "# \n",
    "PlayWaveform(0, IY, SampleRate)"
   ]
  },
  {
   "cell_type": "code",
   "execution_count": 35,
   "id": "59736628-29a7-4752-a264-c2c84234ca07",
   "metadata": {},
   "outputs": [
    {
     "name": "stdout",
     "output_type": "stream",
     "text": [
      "Play waveform, SampleRate: 48000\n",
      "Devinfo:  {'index': 1, 'structVersion': 2, 'name': 'Cable Creation', 'hostApi': 0, 'maxInputChannels': 1, 'maxOutputChannels': 2, 'defaultLowInputLatency': 0.01, 'defaultLowOutputLatency': 0.0038541666666666668, 'defaultHighInputLatency': 0.1, 'defaultHighOutputLatency': 0.0131875, 'defaultSampleRate': 48000.0}\n"
     ]
    }
   ],
   "source": [
    "PlayWaveform(1, IY, SampleRate)"
   ]
  },
  {
   "cell_type": "code",
   "execution_count": 9,
   "id": "196be846-4dbf-49c4-a4d2-973249244b65",
   "metadata": {},
   "outputs": [
    {
     "name": "stdout",
     "output_type": "stream",
     "text": [
      "2048 2048\n"
     ]
    },
    {
     "data": {
      "image/png": "[encoded data removed]",
      "text/plain": [
       "<Figure size 640x480 with 1 Axes>"
      ]
     },
     "metadata": {},
     "output_type": "display_data"
    }
   ],
   "source": [
    "X = np.arange(len(Y))\n",
    "print(len(Y), len(X))\n",
    "plt.plot(Y)\n",
    "plt.grid()"
   ]
  },
  {
   "cell_type": "code",
   "execution_count": 10,
   "id": "cc27c91b-1725-4efe-824a-c717a7b22bb8",
   "metadata": {},
   "outputs": [
    {
     "name": "stdout",
     "output_type": "stream",
     "text": [
      "Welch: 2048  NFrames =  2.0\n"
     ]
    },
    {
     "data": {
      "image/png": "[encoded data removed]",
      "text/plain": [
       "<Figure size 640x480 with 1 Axes>"
      ]
     },
     "metadata": {},
     "output_type": "display_data"
    }
   ],
   "source": [
    "PlotWelch(X)"
   ]
  },
  {
   "cell_type": "code",
   "execution_count": 43,
   "id": "9c6b57ff-05d0-40f4-b2f3-29ff7da17c1d",
   "metadata": {},
   "outputs": [],
   "source": [
    "def ScanRates(device):\n",
    "    \"\"\"\n",
    "    Using sounddevice\n",
    "    @param device - integer index to device\n",
    "    \"\"\"\n",
    "    samplerates = 16000,32000, 44100, 48000, 96000, 128000\n",
    "\n",
    "    supported_samplerates = []\n",
    "    for fs in samplerates:\n",
    "        try:\n",
    "            sd.check_output_settings(device=device, samplerate=fs)\n",
    "        except Exception as e:\n",
    "            print('Exception: ',fs, e)\n",
    "        else:\n",
    "            supported_samplerates.append(fs)\n",
    "    print(supported_samplerates)\n"
   ]
  },
  {
   "cell_type": "code",
   "execution_count": 11,
   "id": "63df407a-e5b9-405f-a69e-c37191455292",
   "metadata": {},
   "outputs": [],
   "source": [
    "def CheckInfo(DeviceIndex=1):\n",
    "    \"\"\"\n",
    "    pyaudio version\n",
    "    @param DeviceIndex - index into which device we should select. \n",
    "    pyaudio version. \n",
    "    \"\"\"\n",
    "    # sample rates we want to check. \n",
    "    samplerates = 1024, 2048, 4096, 8192, 16000,32000, 44100, 48000, 96000, 128000\n",
    "    \n",
    "    supported_samplerates = []\n",
    "   \n",
    "    p = pyaudio.PyAudio()\n",
    "    devinfo = p.get_device_info_by_index(DeviceIndex)  # Or whatever device you care about.\n",
    "    print(\"Devinfo: \", devinfo)\n",
    "    #\n",
    "    # The macbook documentation says that the internal ADC can only support\n",
    "    # \n",
    "    for fs in samplerates:\n",
    "        if p.is_format_supported( fs,  # Sample rate\n",
    "                                 input_device=devinfo['index'],\n",
    "                                 input_channels=devinfo['maxInputChannels'],\n",
    "                                 input_format=pyaudio.paInt16):\n",
    "            supported_samplerates.append(fs)\n",
    "\n",
    "    print(supported_samplerates)\n"
   ]
  },
  {
   "cell_type": "code",
   "execution_count": 12,
   "id": "44cf78aa-3abc-4856-8c0e-5cdfc0ce499e",
   "metadata": {},
   "outputs": [
    {
     "name": "stdout",
     "output_type": "stream",
     "text": [
      "Devinfo:  {'index': 1, 'structVersion': 2, 'name': 'Cable Creation', 'hostApi': 0, 'maxInputChannels': 1, 'maxOutputChannels': 2, 'defaultLowInputLatency': 0.01, 'defaultLowOutputLatency': 0.0038541666666666668, 'defaultHighInputLatency': 0.1, 'defaultHighOutputLatency': 0.0131875, 'defaultSampleRate': 48000.0}\n",
      "[1024, 2048, 4096, 8192, 16000, 32000, 44100, 48000, 96000, 128000]\n"
     ]
    }
   ],
   "source": [
    "CheckInfo(1)"
   ]
  },
  {
   "cell_type": "code",
   "execution_count": null,
   "id": "d1ce4250-cf9b-4d2c-96a8-2199e599b70a",
   "metadata": {},
   "outputs": [],
   "source": []
  }
 ],
 "metadata": {
  "kernelspec": {
   "display_name": "Python 3 (ipykernel)",
   "language": "python",
   "name": "python3"
  },
  "language_info": {
   "codemirror_mode": {
    "name": "ipython",
    "version": 3
   },
   "file_extension": ".py",
   "mimetype": "text/x-python",
   "name": "python",
   "nbconvert_exporter": "python",
   "pygments_lexer": "ipython3",
   "version": "3.13.3"
  }
 },
 "nbformat": 4,
 "nbformat_minor": 5
}
