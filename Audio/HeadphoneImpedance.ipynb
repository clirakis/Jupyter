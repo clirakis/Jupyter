{
 "cells": [
  {
   "cell_type": "markdown",
   "id": "799e0fc7",
   "metadata": {},
   "source": [
    "Measuring and calculating Headphone impedance.  <br>\n",
    "<hr>\n",
    "09-Jul-23      CBL       Original \n",
    "<hr>\n",
    "references: <br>\n",
    "<hr>\n",
    "descripton: <br>\n",
    "<ul>\n",
    "    <li>Put a precision resistor in the return line (ground side) of the headphones under test. </li>\n",
    "    <li> put a scope across the source and record the voltage/phase into the circuit. </li>\n",
    "    <li> put a scope across the resistor and record the voltage/phase across the resistor. </li> \n",
    "    <li> sweep the frequencies and measure the response.</li>\n",
    "</ul>\n",
    "<hr> "
   ]
  },
  {
   "cell_type": "code",
   "execution_count": 4,
   "id": "1d350741",
   "metadata": {},
   "outputs": [],
   "source": [
    "import numpy as np\n",
    "import matplotlib.pyplot as plt\n",
    "import math\n",
    "import scipy.constants   as konst"
   ]
  },
  {
   "cell_type": "markdown",
   "id": "a99ff811",
   "metadata": {},
   "source": [
    "For the circuit we have the following relation: <br> \n",
    "$V_{source} = I Z + I R $ where I is the current running through the loop. <br> \n",
    "The voltage measured across the resistor is $V_{out} = IR $, solving for Z we have: <br>\n",
    "$Z = {V_{source}-V_{out}\\over{I}} $ and solving for I: $I = {V_{out}\\over{R}} $ and substituting: <br> \n",
    "$Z = ({V_{source}\\over{V_{out}} }  - 1) R $"
   ]
  },
  {
   "cell_type": "code",
   "execution_count": 5,
   "id": "7de4e85d",
   "metadata": {},
   "outputs": [],
   "source": [
    "def StraightResistance(Vin, Vout, RSeries):\n",
    "    \"\"\"\n",
    "    Look at the unknown resistance based on the voltage drop across the resistor. \n",
    "    @param Vin  - input voltage across the 2 terminal system\n",
    "    @param Vout - voltage across the resistor\n",
    "    @param RSeries - Series resistor\n",
    "    \"\"\"\n",
    "    Z = (Vin/Vout -1) * RSeries\n",
    "    return Z"
   ]
  },
  {
   "cell_type": "code",
   "execution_count": 17,
   "id": "a1831721",
   "metadata": {},
   "outputs": [],
   "source": [
    "def XFromPhase(Resistance, Phase):\n",
    "    \"\"\" \n",
    "    determine X from the phase angle and the resistance. \n",
    "    @param Resistance in ohms\n",
    "    @param Phase in radians\n",
    "    tan(phase) = X/R\n",
    "    \"\"\"\n",
    "    return Resistance * np.tan(Phase)\n",
    "    "
   ]
  },
  {
   "cell_type": "code",
   "execution_count": 6,
   "id": "dc8a2935",
   "metadata": {},
   "outputs": [
    {
     "name": "stdout",
     "output_type": "stream",
     "text": [
      "[136.         185.18518519 360.         493.33333333 752.38095238]\n"
     ]
    }
   ],
   "source": [
    "# Harvey Ellis Electromagnetics\n",
    "# voltages measured are pp on the scope. \n",
    "# noise level is about 10mV\n",
    "#\n",
    "f       = np.array([400, 1000, 2000, 5000, 10000]) # Hz\n",
    "RSeries = 40 # ohms\n",
    "Vin     = np.array([352, 304, 400, 400, 416]) # millivolts\n",
    "Vout    = np.array([80, 54, 40, 30, 21])      # millivolts\n",
    "Z       = StraightResistance(Vin, Vout, RSeries)\n",
    "print(Z)"
   ]
  },
  {
   "cell_type": "markdown",
   "id": "033ae2e6",
   "metadata": {},
   "source": [
    "<hr>\n",
    "Western Electric 194W headphones <br>\n",
    "https://oldheadphones.com/crystal/gallery/gallerywe.html <br>\n",
    "<hr>\n",
    "1918 vintage <br> \n",
    "The impedance is given in AC ohms at 22,700 ohms as well as DC resistance at 2,200 ohms."
   ]
  },
  {
   "cell_type": "code",
   "execution_count": 8,
   "id": "bacb619a",
   "metadata": {},
   "outputs": [
    {
     "name": "stdout",
     "output_type": "stream",
     "text": [
      "[1624. 1624. 1624.]\n"
     ]
    }
   ],
   "source": [
    "# Western Electric 194W\n",
    "f       = np.array([2000, 5000, 10000]) #Hz\n",
    "RSeries = 40 # ohms \n",
    "Vin     = np.array([416, 416, 416])     # mV\n",
    "Vout    = np.array([10,10,10])          # mV\n",
    "# This is inconclusive\n",
    "Z       = StraightResistance(Vin, Vout, RSeries)\n",
    "print(Z)"
   ]
  },
  {
   "cell_type": "code",
   "execution_count": 9,
   "id": "0bfbfec0",
   "metadata": {},
   "outputs": [
    {
     "name": "stdout",
     "output_type": "stream",
     "text": [
      "[3753.6        5564.65116279 6891.42857143 8080.        ]\n"
     ]
    }
   ],
   "source": [
    "# Western Electric 194W, second time around with new resistor\n",
    "f       = np.array([400, 1000, 2000, 5000]) # Hz\n",
    "RSeries = 240 # ohms\n",
    "Vin     = np.array([416, 416, 416, 416])    # mV\n",
    "Vout    = np.array([25, 17.2, 14, 12])      # mV\n",
    "# This is inconclusive\n",
    "Z       = StraightResistance(Vin, Vout, RSeries)\n",
    "print(Z)"
   ]
  },
  {
   "cell_type": "code",
   "execution_count": 10,
   "id": "3d60e921",
   "metadata": {},
   "outputs": [
    {
     "name": "stdout",
     "output_type": "stream",
     "text": [
      "[4200.         7666.66666667]\n"
     ]
    }
   ],
   "source": [
    "# Western Electric 194W, second time around with new resistor\n",
    "f       = np.array([400, 1000]) # Hz\n",
    "RSeries = 1000 # ohms\n",
    "Vin     = np.array([416, 416])    # mV\n",
    "Vout    = np.array([80, 48])      # mV\n",
    "# This is inconclusive\n",
    "Z       = StraightResistance(Vin, Vout, RSeries)\n",
    "print(Z)"
   ]
  },
  {
   "cell_type": "markdown",
   "id": "9f542466",
   "metadata": {},
   "source": [
    "Federal Type 53W <br> \n",
    "https://www.radiomuseum.org/r/federal_ra_liberty_headphones_53_w.html <br> \n",
    "1921<br>\n",
    "2200 ohms <br>"
   ]
  },
  {
   "cell_type": "code",
   "execution_count": 13,
   "id": "3515a516",
   "metadata": {},
   "outputs": [
    {
     "name": "stdout",
     "output_type": "stream",
     "text": [
      "[2097.75011752 3731.95245626 5774.70537969 5774.70537969]\n"
     ]
    }
   ],
   "source": [
    "# Federal Type 53W, has 2200 ohms printed on it. \n",
    "f       = np.array([400, 1000, 2000, 5000]) # Hz\n",
    "RSeries = 1000 # ohms\n",
    "Vin     = np.array([416, 416, 416, 416])    # mV\n",
    "Vout    = np.array([60, 36, 24, 24])      # mV\n",
    "Z       = StraightResistance(Vin, Vout, RSeries)/(2*np.sqrt(2))\n",
    "print(Z)"
   ]
  },
  {
   "cell_type": "markdown",
   "id": "6419e7b7",
   "metadata": {},
   "source": [
    "DCM H-43 B/U <br>\n",
    "https://buyaircraftparts.com/part-number/h-43bu_00-651-7372 <br>\n",
    "Impedance: 22,000 ohms <br>\n",
    "1940's WWII vintage <br> "
   ]
  },
  {
   "cell_type": "code",
   "execution_count": 14,
   "id": "e6c1bf11",
   "metadata": {},
   "outputs": [
    {
     "name": "stdout",
     "output_type": "stream",
     "text": [
      "[1633.98999436 2421.50718463 2989.13321138 3323.40187158]\n"
     ]
    }
   ],
   "source": [
    "# DCM H-43 B/U \n",
    "f       = np.array([400, 1000, 2000, 5000]) # Hz\n",
    "RSeries = 1000 # ohms\n",
    "Vin     = np.array([416, 416, 416, 416])    # mV\n",
    "Vout    = np.array([74, 53, 44, 40])      # mV\n",
    "Z       = StraightResistance(Vin, Vout, RSeries)/(2*np.sqrt(2))\n",
    "print(Z)"
   ]
  },
  {
   "cell_type": "code",
   "execution_count": 18,
   "id": "0e44cc7e",
   "metadata": {},
   "outputs": [
    {
     "name": "stdout",
     "output_type": "stream",
     "text": [
      "DUT phase shift:  0.2  radians and resulting reactance:  202.7100355086725\n"
     ]
    }
   ],
   "source": [
    "# Finally, for the Western Electric 194W look at the phases. \n",
    "R  = 1000.0     # ohms\n",
    "dt = 200.0e-6   # seconds\n",
    "f  = 1000.0     # Hz\n",
    "T  = 1.0/f      # seconds\n",
    "phase = dt/T\n",
    "print(\"DUT phase shift: \", phase, \" radians and resulting reactance: \", XFromPhase(R,phase))"
   ]
  },
  {
   "cell_type": "markdown",
   "id": "43bcdbba",
   "metadata": {},
   "source": [
    "Overall none of these measurements worked!"
   ]
  },
  {
   "cell_type": "code",
   "execution_count": null,
   "id": "c2a277f5",
   "metadata": {},
   "outputs": [],
   "source": []
  }
 ],
 "metadata": {
  "kernelspec": {
   "display_name": "Python 3 (ipykernel)",
   "language": "python",
   "name": "python3"
  },
  "language_info": {
   "codemirror_mode": {
    "name": "ipython",
    "version": 3
   },
   "file_extension": ".py",
   "mimetype": "text/x-python",
   "name": "python",
   "nbconvert_exporter": "python",
   "pygments_lexer": "ipython3",
   "version": "3.10.6"
  }
 },
 "nbformat": 4,
 "nbformat_minor": 5
}
