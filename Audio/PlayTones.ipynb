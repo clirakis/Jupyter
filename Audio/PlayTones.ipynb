{
 "cells": [
  {
   "cell_type": "markdown",
   "id": "ca14f493-4ac8-4c94-aaaa-30e7a9407517",
   "metadata": {},
   "source": [
    "<H1> PlayTones </H1> <br> \n",
    "Look for a way to play tones using portaudio. \n",
    "<hr> \n",
    "<H2>Modification history </H2>\n",
    "<table>\n",
    "    <tr>\n",
    "        <th> Modified </th>\n",
    "        <th> BY </th>\n",
    "        <th> Reason </th>\n",
    "    </tr>\n",
    "    <tr>\n",
    "        <td> 18-Feb-25</td>\n",
    "        <td> CBL </td>\n",
    "        <td> Original </td>\n",
    "    </tr>\n",
    "    <tr>\n",
    "        <td> 24-Mar-25</td>\n",
    "        <td> CBL </td>\n",
    "        <td> Added in drive capability, drive the Modal 2000E device </td>\n",
    "    </tr>\n",
    "    <tr>\n",
    "        <td> 19-May-25</td>\n",
    "        <td> CBL </td>\n",
    "        <td> Play Riken Data </td>\n",
    "    </tr>\n",
    "    <tr>\n",
    "        <td> 21-Aug-25</td>\n",
    "        <td> CBL </td>\n",
    "        <td> fooling around with audio control </td>\n",
    "    </tr>\n",
    "</table>\n",
    "\n",
    "<hr> \n",
    "<H2> References </H2> \n",
    "<a href=\"https://people.csail.mit.edu/hubert/pyaudio/docs/\">  Documentation </a> <br> \n",
    "<a href=\"https://stackoverflow.com/questions/40704026/voice-recording-using-pyaudio\"> example recording</a> <br> \n",
    "<a href=\"https://github.com/jleb/pyaudio/blob/master/test/record.py\"> example 2 </a><br> \n",
    "<a href=\"https://stackoverflow.com/questions/4623572/how-do-i-get-a-list-of-my-devices-audio-sample-rates-using-pyaudio-or-portaudio\"> Get Sound device properties. </a><br> \n",
    "<a href=\"https://python-sounddevice.readthedocs.io/en/0.5.1/installation.html\"> Sounddevice documentation</a>\n",
    "<H2> Pre-requisites</H2> \n",
    "numpy<br>\n",
    "matplotlib<br>\n",
    "pyaudio<br>\n",
    "scipy<br>\n",
    "sounddevice - which returns data in numpy arrays!<br> \n",
    "<H3> Modal 2000E information</H3>\n",
    "<a href=\"https://www.modalshop.com/vibration-test/products/vibration-test-shakers/2-lbf-mini-inertial-shaker\"> Modal 2000E</a> <br> \n",
    "Force rating 9N <br> \n",
    "Max Frequency 3000Hz <br> \n",
    "Max stroke 8.9mm <br> \n",
    "Shaker Model: 2002E <br> \n",
    "Input voltage to Drive Amplifier: 0-1 V<br> \n",
    "<hr>"
   ]
  },
  {
   "cell_type": "code",
   "execution_count": 1,
   "id": "a7dba94a-c4bc-4c01-8dca-ddc7f56475f0",
   "metadata": {},
   "outputs": [],
   "source": [
    "import numpy as np\n",
    "import matplotlib.pyplot as plt\n",
    "import scipy.constants as konst\n",
    "import pyaudio\n",
    "import wave\n",
    "import sounddevice as sd\n",
    "import scipy  as sp"
   ]
  },
  {
   "cell_type": "code",
   "execution_count": 2,
   "id": "c72fa027-620a-4920-af0f-fe1b87adf3ef",
   "metadata": {},
   "outputs": [],
   "source": [
    "def ConvertWaveform(yin):\n",
    "    \"\"\"\n",
    "    @param yin - mono input, analog values {0:1}\n",
    "    @return vector of L,R alternating pairs. Same output on both. Assume 16 bit resolution as output. \n",
    "    \"\"\"\n",
    "    y  = yin * 65535          # make 16 bit max value. \n",
    "    IY = y.astype(np.int16) # convert to integer\n",
    "    # allocate output array\n",
    "    N = len(IY)\n",
    "    rv = np.zeros(2*N+1, dtype=np.int16)\n",
    "    for i in range(0,N):\n",
    "        rv[2*i] = IY[i]\n",
    "        rv[2*i+1] = IY[i]\n",
    "    return rv"
   ]
  },
  {
   "cell_type": "code",
   "execution_count": 3,
   "id": "484f74c5-86e3-4718-8c61-770e651b6321",
   "metadata": {},
   "outputs": [],
   "source": [
    "def PlayWaveform(DeviceIndex, Waveform, SampleRate):\n",
    "    \"\"\"\n",
    "    @brief - Play provided waveform to device, ostensibly the shaker\n",
    "    @param DeviceIndex - choose output device\n",
    "    @param Waveform - waveform to play. \n",
    "    \"\"\"\n",
    "    print(\"Play waveform, SampleRate:\", SampleRate)\n",
    "    # Instantiate PyAudio and initialize PortAudio system resources (1)\n",
    "    p = pyaudio.PyAudio()\n",
    "    devinfo = p.get_device_info_by_index(DeviceIndex)  # Or whatever device you care about.\n",
    "    print(\"Devinfo: \", devinfo)\n",
    "\n",
    "    # Open stream (2)\n",
    "    stream = p.open(format=p.get_format_from_width(2),\n",
    "                    channels=2,                       # assume a stereo output\n",
    "                    rate=SampleRate,\n",
    "                    output_device_index = DeviceIndex,\n",
    "                    output=True)\n",
    "\n",
    "    # Play samples from the wave file (3)\n",
    "    stream.write(Waveform)\n",
    "\n",
    "    # Close stream (4)\n",
    "    stream.close()\n",
    "\n",
    "    # Release PortAudio system resources (5)\n",
    "    p.terminate()\n"
   ]
  },
  {
   "cell_type": "code",
   "execution_count": 4,
   "id": "c5dc84ba-bf18-4c8b-97bb-ffce77aac4b6",
   "metadata": {},
   "outputs": [],
   "source": [
    "def ShowDevices():\n",
    "    p = pyaudio.PyAudio()\n",
    "    info = p.get_host_api_info_by_index(0)\n",
    "    numdevices = info.get('deviceCount')\n",
    "\n",
    "    print('Number of devices: ', numdevices)\n",
    "\n",
    "    for i in range(0, numdevices):\n",
    "        in_channels = p.get_device_info_by_host_api_device_index(0, i).get('maxInputChannels')\n",
    "        out_channels = p.get_device_info_by_host_api_device_index(0, i).get('maxOutputChannels')\n",
    "        print(\"Input Device id \", i, \" - \", p.get_device_info_by_host_api_device_index(0, i).get('name'), \" inputs: \", in_channels,\n",
    "             \" outputs: \", out_channels)\n"
   ]
  },
  {
   "cell_type": "code",
   "execution_count": 5,
   "id": "9c6b57ff-05d0-40f4-b2f3-29ff7da17c1d",
   "metadata": {},
   "outputs": [],
   "source": [
    "def ScanRates(device):\n",
    "    \"\"\"\n",
    "    Using sounddevice\n",
    "    @param device - integer index to device\n",
    "    \"\"\"\n",
    "    samplerates = 16000,32000, 44100, 48000, 96000, 128000\n",
    "\n",
    "    supported_samplerates = []\n",
    "    for fs in samplerates:\n",
    "        try:\n",
    "            sd.check_output_settings(device=device, samplerate=fs)\n",
    "        except Exception as e:\n",
    "            print('Exception: ',fs, e)\n",
    "        else:\n",
    "            supported_samplerates.append(fs)\n",
    "    print(supported_samplerates)\n"
   ]
  },
  {
   "cell_type": "code",
   "execution_count": 6,
   "id": "63df407a-e5b9-405f-a69e-c37191455292",
   "metadata": {},
   "outputs": [],
   "source": [
    "def CheckInfoOutput(DeviceIndex=1):\n",
    "    \"\"\"\n",
    "    pyaudio version\n",
    "    @param DeviceIndex - index into which device we should select. \n",
    "    pyaudio version. \n",
    "    \"\"\"\n",
    "    # sample rates we want to check. \n",
    "    samplerates = 1024, 2048, 4096, 8192, 16000,32000, 44100, 48000, 96000, 128000\n",
    "    \n",
    "    supported_samplerates = []\n",
    "    \n",
    "    p = pyaudio.PyAudio()\n",
    "    devinfo = p.get_device_info_by_index(DeviceIndex)  # Or whatever device you care about.\n",
    "    print(\"Devinfo: \", devinfo)\n",
    "    input_N  = devinfo['maxInputChannels']\n",
    "    output_N = devinfo['maxOutputChannels']\n",
    "    print('Max output: ', output_N)\n",
    "    if (output_N <1):\n",
    "        print('No output device at this index.')\n",
    "        return\n",
    "    #\n",
    "    # The macbook documentation says that the internal ADC can only support\n",
    "    # \n",
    "    for fs in samplerates:\n",
    "        if p.is_format_supported( fs,  # Sample rate\n",
    "                                 output_device=devinfo['index'],\n",
    "                                 output_channels=devinfo['maxOutputChannels'],\n",
    "                                 output_format=pyaudio.paInt16):\n",
    "            supported_samplerates.append(fs)\n",
    "\n",
    "    print(supported_samplerates)\n"
   ]
  },
  {
   "cell_type": "code",
   "execution_count": 27,
   "id": "6d1d47f6-c617-496a-98a9-b621c8ed5687",
   "metadata": {},
   "outputs": [
    {
     "name": "stdout",
     "output_type": "stream",
     "text": [
      "Number of devices:  4\n",
      "Input Device id  0  -  MacBook Pro Microphone  inputs:  1  outputs:  0\n",
      "Input Device id  1  -  MacBook Pro Speakers  inputs:  0  outputs:  2\n",
      "Input Device id  2  -  Microsoft Teams Audio  inputs:  1  outputs:  1\n",
      "Input Device id  3  -  ZoomAudioDevice  inputs:  2  outputs:  2\n"
     ]
    }
   ],
   "source": [
    "ShowDevices()"
   ]
  },
  {
   "cell_type": "code",
   "execution_count": 8,
   "id": "ff4b5f51-2969-4401-9851-5d1bfa098267",
   "metadata": {},
   "outputs": [],
   "source": [
    "#\n",
    "# Make a waveform\n",
    "# \n",
    "F0 = 400  # Hz\n",
    "W  = 2.0 * konst.pi*F0\n",
    "SampleRate = 48000\n",
    "NSeconds = 5*60\n",
    "t = np.arange(0,NSeconds*SampleRate)/SampleRate\n",
    "y = 0.25*(1.0 + np.sin(W*t))\n",
    "#plt.plot(y)\n",
    "#PlotWelch(y, 1.0, SampleRate)\n",
    "# turn into a short\n",
    "# Scale to short\n",
    "#plt.plot(IY[:400])"
   ]
  },
  {
   "cell_type": "code",
   "execution_count": null,
   "id": "533007ce-8faf-4da4-aa79-3a1138711a12",
   "metadata": {},
   "outputs": [
    {
     "name": "stdout",
     "output_type": "stream",
     "text": [
      "Play waveform, SampleRate: 48000\n",
      "Devinfo:  {'index': 0, 'structVersion': 2, 'name': 'G257HU', 'hostApi': 0, 'maxInputChannels': 0, 'maxOutputChannels': 2, 'defaultLowInputLatency': 0.01, 'defaultLowOutputLatency': 0.009833333333333333, 'defaultHighInputLatency': 0.1, 'defaultHighOutputLatency': 0.019166666666666665, 'defaultSampleRate': 48000.0}\n"
     ]
    }
   ],
   "source": [
    "IY = ConvertWaveform(y)\n",
    "#plt.plot(IY[0:400])\n",
    "# Mac speakers 4\n",
    "# \n",
    "PlayWaveform(0, IY, SampleRate)"
   ]
  },
  {
   "cell_type": "code",
   "execution_count": 35,
   "id": "59736628-29a7-4752-a264-c2c84234ca07",
   "metadata": {},
   "outputs": [
    {
     "name": "stdout",
     "output_type": "stream",
     "text": [
      "Play waveform, SampleRate: 48000\n",
      "Devinfo:  {'index': 1, 'structVersion': 2, 'name': 'Cable Creation', 'hostApi': 0, 'maxInputChannels': 1, 'maxOutputChannels': 2, 'defaultLowInputLatency': 0.01, 'defaultLowOutputLatency': 0.0038541666666666668, 'defaultHighInputLatency': 0.1, 'defaultHighOutputLatency': 0.0131875, 'defaultSampleRate': 48000.0}\n"
     ]
    }
   ],
   "source": [
    "PlayWaveform(1, IY, SampleRate)"
   ]
  },
  {
   "cell_type": "code",
   "execution_count": 16,
   "id": "44cf78aa-3abc-4856-8c0e-5cdfc0ce499e",
   "metadata": {},
   "outputs": [
    {
     "name": "stdout",
     "output_type": "stream",
     "text": [
      "Devinfo:  {'index': 0, 'structVersion': 2, 'name': 'G257HU', 'hostApi': 0, 'maxInputChannels': 0, 'maxOutputChannels': 2, 'defaultLowInputLatency': 0.01, 'defaultLowOutputLatency': 0.009833333333333333, 'defaultHighInputLatency': 0.1, 'defaultHighOutputLatency': 0.019166666666666665, 'defaultSampleRate': 48000.0}\n",
      "Max output:  2\n",
      "[1024, 2048, 4096, 8192, 16000, 32000, 44100, 48000, 96000, 128000]\n"
     ]
    }
   ],
   "source": [
    "CheckInfoOutput(0)"
   ]
  },
  {
   "cell_type": "code",
   "execution_count": 24,
   "id": "d1ce4250-cf9b-4d2c-96a8-2199e599b70a",
   "metadata": {},
   "outputs": [],
   "source": [
    "# read back random numbers and play them as tones\n",
    "def ReadRandom():\n",
    "    \"\"\"\n",
    "    Read back random numbers\n",
    "    \"\"\"\n",
    "    fd = open('../qiskit/numbers.txt','r')\n",
    "    x = fd.read()\n",
    "    fd.close()\n",
    "    count = x.count('\\n')\n",
    "    rv = np.zeros(count)\n",
    "    NList = x.split('\\n')\n",
    "    index = 0\n",
    "    for val in NList:\n",
    "        if (len(val)>0):\n",
    "            rv[index] = float(val)\n",
    "            index = index+1\n",
    "    return rv"
   ]
  },
  {
   "cell_type": "code",
   "execution_count": 29,
   "id": "e37f375e-cd35-4833-b5e0-8591353e3f64",
   "metadata": {},
   "outputs": [],
   "source": [
    "def MakeTone(F, NSeconds = 0.25, SampleRate=48000):\n",
    "    \"\"\"\n",
    "    Make a waveform\n",
    "    \"\"\" \n",
    "    W  = 2.0 * konst.pi*F\n",
    "    t = np.arange(0,NSeconds*SampleRate)/SampleRate\n",
    "    y = 0.25*(1.0 + np.sin(W*t))\n",
    "    return y"
   ]
  },
  {
   "cell_type": "code",
   "execution_count": 30,
   "id": "e0bddaaa-ab33-442e-bbe8-4357bda000e9",
   "metadata": {},
   "outputs": [],
   "source": [
    "def ConvertToFreq(val, FUpper=10000.0, NBits=16):\n",
    "    \"\"\"\n",
    "    Convert number to frequency, assume FLower = 0.0\n",
    "    16 bit number and over what frequency range. Top out at 10k\n",
    "    \"\"\"\n",
    "    conversion = FUpper/np.power(2.0, NBits)\n",
    "    rv = conversion * val\n",
    "    return rv"
   ]
  },
  {
   "cell_type": "code",
   "execution_count": 36,
   "id": "95e813ac-fac9-4363-aa7c-c5614d9f9136",
   "metadata": {},
   "outputs": [
    {
     "name": "stdout",
     "output_type": "stream",
     "text": [
      "Play waveform, SampleRate: 48000\n",
      "Devinfo:  {'index': 1, 'structVersion': 2, 'name': 'MacBook Pro Speakers', 'hostApi': 0, 'maxInputChannels': 0, 'maxOutputChannels': 2, 'defaultLowInputLatency': 0.01, 'defaultLowOutputLatency': 0.018708333333333334, 'defaultHighInputLatency': 0.1, 'defaultHighOutputLatency': 0.028041666666666666, 'defaultSampleRate': 48000.0}\n"
     ]
    }
   ],
   "source": [
    "# tie these all together\n",
    "SampleRate = 48000\n",
    "RN = ReadRandom()\n",
    "freqs = ConvertToFreq(RN)\n",
    "index = 0\n",
    "for f in freqs:\n",
    "    wav = MakeTone(f)\n",
    "    IY = ConvertWaveform(wav)\n",
    "    if (index == 0):\n",
    "        IZ = IY\n",
    "    else:\n",
    "        IZ = np.concatenate((IZ,IY))\n",
    "    index = index + 1\n",
    "PlayWaveform(1, IZ, SampleRate)"
   ]
  },
  {
   "cell_type": "code",
   "execution_count": 35,
   "id": "2a4c3b77-04f0-4181-b99a-21d869079877",
   "metadata": {},
   "outputs": [
    {
     "name": "stdout",
     "output_type": "stream",
     "text": [
      "[0. 0. 0. 0. 0. 1. 1. 1. 1. 1.]\n"
     ]
    }
   ],
   "source": [
    "x = np.zeros(5)\n",
    "y = np.ones(5)\n",
    "z = np.concatenate((x,y))\n",
    "print(z)"
   ]
  },
  {
   "cell_type": "code",
   "execution_count": null,
   "id": "7f2ac5eb-c778-4433-b6a2-9eceaab07fff",
   "metadata": {},
   "outputs": [],
   "source": []
  }
 ],
 "metadata": {
  "kernelspec": {
   "display_name": "Python 3 (ipykernel)",
   "language": "python",
   "name": "python3"
  },
  "language_info": {
   "codemirror_mode": {
    "name": "ipython",
    "version": 3
   },
   "file_extension": ".py",
   "mimetype": "text/x-python",
   "name": "python",
   "nbconvert_exporter": "python",
   "pygments_lexer": "ipython3",
   "version": "3.13.5"
  }
 },
 "nbformat": 4,
 "nbformat_minor": 5
}
