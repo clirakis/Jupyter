{
 "cells": [
  {
   "cell_type": "code",
   "execution_count": 2,
   "id": "7cbd19be-bd77-4128-a19e-d3389c7abb35",
   "metadata": {},
   "outputs": [
    {
     "name": "stdout",
     "output_type": "stream",
     "text": [
      "Mass:  2243.568393561151  grams\n"
     ]
    }
   ],
   "source": [
    "\"\"\"\n",
    "base for lamp\n",
    "\"\"\"\n",
    "import numpy as np\n",
    "rho = 2.7 # g/cm^3 for aluminum\n",
    "D = 23.0  # cm\n",
    "H = 2.0   # cm\n",
    "A = np.pi * np.power(D/2,2)\n",
    "Vol = A*H\n",
    "print('Mass: ', Vol*rho, ' grams')"
   ]
  },
  {
   "cell_type": "code",
   "execution_count": null,
   "id": "6adbb5ed-4273-4634-bb05-f5e81c3b8950",
   "metadata": {},
   "outputs": [],
   "source": []
  }
 ],
 "metadata": {
  "kernelspec": {
   "display_name": "Python 3 (ipykernel)",
   "language": "python",
   "name": "python3"
  },
  "language_info": {
   "codemirror_mode": {
    "name": "ipython",
    "version": 3
   },
   "file_extension": ".py",
   "mimetype": "text/x-python",
   "name": "python",
   "nbconvert_exporter": "python",
   "pygments_lexer": "ipython3",
   "version": "3.13.5"
  }
 },
 "nbformat": 4,
 "nbformat_minor": 5
}
