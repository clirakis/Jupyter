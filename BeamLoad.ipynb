{
 "cells": [
  {
   "cell_type": "markdown",
   "id": "073b6055-09f8-46b2-8bf1-24bda62e3d31",
   "metadata": {},
   "source": [
    "<H1> Beam Load </H1> <br> \n",
    "Determine the beam height to support a 12' span with a specific load  <br> \n",
    "<hr> \n",
    "<H2>Modification history </H2>\n",
    "<table>\n",
    "    <tr>\n",
    "        <th> Modified </th>\n",
    "        <th> BY </th>\n",
    "        <th> Reason </th>\n",
    "    </tr>\n",
    "    <tr>\n",
    "        <td> 01-July-24</td>\n",
    "        <td> CBL </td>\n",
    "        <td> Original </td>\n",
    "    </tr>\n",
    "    <tr>\n",
    "        <td> 02-Jul-24</td>\n",
    "        <td> CBL</td>\n",
    "        <td> Validated formulas, values looking correct.</td>\n",
    "    </tr>\n",
    "</table>\n",
    "\n",
    "<hr> \n",
    "<H2> References </H2> \n",
    "<a href=\"https://en.m.wikipedia.org/wiki/Section_modulus\"> Section Modulus for various geometries </a> <br>\n",
    "<a href=\"https://skyciv.com/docs/tutorials/section-tutorials/moment-of-inertia-of-a-rectangle/#:~:text=In%20summary%2C%20the%20formula%20for,%E2%81%84%2012%20–%20bd³%20%E2%81%84%2012.\"> Area moment of inerta for rectangle </a><br> \n",
    "<a href=\"https://www.engineeringtoolbox.com/area-moment-inertia-d_1328.html\"> Area moment of inerta for rectangular beam </a><br>\n",
    "<a href=\"https://www.weyerhaeuser.com/blog/how-to-easily-calculate-allowable-deflection/\"> Allowable deflections </a><br>\n",
    "<a href=\"https://www.engineeringtoolbox.com/timber-mechanical-properties-d_1789.html\"> Youngs modulus for timber </a><br>\n",
    "<a href=\"https://skyciv.com/steel-i-beam-sizes/\"> Steel I-Beam cross section values </a><br>\n",
    "<a href=\"https://www.omnicalculator.com/construction/beam-deflection\"> Deflections </a><br>\n",
    "<a href=\"https://amesweb.info/section/i-beam-moment-of-inertia-calculator.aspx\"> Area moment of intertia for i-beam </a>\n",
    "<hr> \n",
    "This is an exterior wall, the deflection should be no more than: ${L\\over{120}}$ to ${H\\over{240}}$"
   ]
  },
  {
   "cell_type": "code",
   "execution_count": 1,
   "id": "ca819a85-c891-405a-8858-557d5a8d33c2",
   "metadata": {},
   "outputs": [],
   "source": [
    "# includes\n",
    "import numpy as np\n",
    "import matplotlib.pyplot as plt\n",
    "import math"
   ]
  },
  {
   "cell_type": "markdown",
   "id": "6ccad599-9d2e-40a6-ad49-1ce27a55e3c3",
   "metadata": {},
   "source": [
    "Area moment of inertia for rectangle: <br> \n",
    "<center> $I_{xx}={BD^3\\over{12}} , I_{yy}={B^3D\\over{12}}$ </center>\n",
    "<br>\n",
    "where: B is width and D is height. <br> \n",
    "<img src=\"https://www.engineeringtoolbox.com/docs/documents/1328/geometric_sections_rectangle-Model.png\"> "
   ]
  },
  {
   "cell_type": "code",
   "execution_count": 2,
   "id": "e75e609b-b8ea-4443-b1ab-62303f25c470",
   "metadata": {},
   "outputs": [],
   "source": [
    "def AreaMomentBeam(W, H):\n",
    "    \"\"\"\n",
    "    This is for a retangular homogenious beam\n",
    "    @param W - width\n",
    "    @param H - height\n",
    "    Returns Area moment of inertia section properties. in units^4 \n",
    "    TESTED: 01-Jul-24\n",
    "    \"\"\"\n",
    "    rv_xx = W * np.power(H,3)/12\n",
    "    rv_yy = np.power(W,3) * H/12\n",
    "    return rv_xx,rv_yy"
   ]
  },
  {
   "cell_type": "markdown",
   "id": "aad3fb5f-953f-4df4-9a24-5eec6565f508",
   "metadata": {},
   "source": [
    "For an I-Beam the Area Moment of inertia is: <br>\n",
    "<center> $I_x = ({ah^3\\over{12}} + {b\\over{12}}(H^3-h^3)$</center><br>\n",
    "<center> $I_y = ({a^3h\\over{12}} + {b^3\\over{12}}(H-h)$</center>\n",
    "<hr> \n",
    "<img src=\"https://www.engineeringtoolbox.com/docs/documents/1328/geometric_sections_symmetrical_shape-Model.png\">"
   ]
  },
  {
   "cell_type": "code",
   "execution_count": 3,
   "id": "af3d6bd2-f5b1-4804-b84b-c054c8950514",
   "metadata": {},
   "outputs": [],
   "source": [
    "def AreaMomentIBeam(H1, H2, a, b ):\n",
    "    \"\"\"\n",
    "    This is for an I-beam\n",
    "    @param H1 - outer face to face height\n",
    "    @param H2 - web height\n",
    "    @param a  - web thickness\n",
    "    @param b  - base width\n",
    "    Returns Area moment of inertia section properties. in units^4 \n",
    "    this reference is different. https://amesweb.info/section/i-beam-moment-of-inertia-calculator.aspx\n",
    "    TESTED: \n",
    "    \"\"\"\n",
    "    rv_xx = a * np.power(H2,3)/12 + (b/12) * (np.power(H1,3) - np.power(H2,3))\n",
    "    rv_yy = np.power(a,3) * H2/12 + (np.power(b,3)/12)*(H1-H2)\n",
    "    return rv_xx,rv_yy"
   ]
  },
  {
   "cell_type": "markdown",
   "id": "93eff3f9-3766-498b-92c2-2a1db7901c2a",
   "metadata": {},
   "source": [
    "Uniformly loaded homogenious beam formula: <br> \n",
    "<center> $\\delta_{max} = {5wL^4\\over{384EI}}$</center><br> \n",
    "where: <br> \n",
    "<ul>\n",
    "    <li> w - total weight </li>\n",
    "    <li> L - span (watch your units) </li>\n",
    "    <li> E - youngs modulus </li>\n",
    "    <li> I - could be $I_{xx}$ or $I_{yy}$ depending on orientation. </li>\n",
    "</ul>\n",
    "<hr> "
   ]
  },
  {
   "cell_type": "code",
   "execution_count": 4,
   "id": "e9c7f77e-019a-4900-bc23-4d2b1bf7c53e",
   "metadata": {},
   "outputs": [],
   "source": [
    "def Deflection(load, Length, E, I):\n",
    "    \"\"\"\n",
    "    Deflection in parent units from\n",
    "    @param load in kips per inch\n",
    "    @param Length in inches of span\n",
    "    @param E - Youngs modulus in psi\n",
    "    @param I - Area moment of inertia\n",
    "    @return deflection in inches, note have to divide by 1000 to get units right\n",
    "    Checked 02-Jul-24\n",
    "    \"\"\"\n",
    "    delta = 5 * load *np.power(Length,4)/(384*E*I) * 1000\n",
    "    print(\" load \", '{:.4f}'.format(load), \" kips/in, Length: \", Length, \" Youngs \", E, \" Area Inertia: \",'{:.4f}'.format(I), \n",
    "          \" result = \", '{:.4f}'.format(delta))\n",
    "    return delta\n"
   ]
  },
  {
   "cell_type": "code",
   "execution_count": 5,
   "id": "3698866e-2a65-44e6-b779-aa83a951b2a6",
   "metadata": {},
   "outputs": [],
   "source": [
    "def BeamDeflection(W,H, Length, load):\n",
    "    \"\"\"\n",
    "    Calculage deflection given a uniformly distributed load per unit length and supported at both ends.\n",
    "    @param W - width\n",
    "    @param H - height\n",
    "    @param Length - span\n",
    "    @param load - kips (kilo-lbs/in)\n",
    "    Returns maximum deflection at Length/2\n",
    "    TESTED: 01-Jul-24\n",
    "    \"\"\"\n",
    "    YM_Wood = 9.0 # Gigapascal 9-14.5 for engineerd lumber\n",
    "    # convert to PSI\n",
    "    GPa2PSI = 145038\n",
    "    E = YM_Wood * GPa2PSI\n",
    "    I_xx,I_yy = AreaMomentBeam(W,H) # use I_yy since calculating the vertical deflection\n",
    "    print(\"Engineered Lumber\")\n",
    "    delta = Deflection(load, Length, E, I_xx)\n",
    "    return delta"
   ]
  },
  {
   "cell_type": "code",
   "execution_count": 6,
   "id": "24fc4b5c-3c9e-422e-a65e-1a486ddd49f1",
   "metadata": {},
   "outputs": [],
   "source": [
    "def IBeamDeflection(H1, H2, a, b , Length, load):\n",
    "    \"\"\"\n",
    "    This is for an I-beam, evenly distributed load and supported at ends. \n",
    "    @param H1 - outer face to face height\n",
    "    @param H2 - web height\n",
    "    @param a  - web thickness\n",
    "    @param b  - base width\n",
    "    @param Length - span\n",
    "    @param load - load in kips (kilo-lbs/in)\n",
    "    Returns Area moment of inertia section properties. in units^4 \n",
    "    TESTED: 02-Jul-24\n",
    "    \"\"\"\n",
    "    YM_Steel = 200     # GPa\n",
    "    # convert to PSI\n",
    "    GPa2PSI = 145038\n",
    "    E = YM_Steel * GPa2PSI\n",
    "    I_xx,I_yy = AreaMomentIBeam(H1, H2, a,b)\n",
    "    print(\"steel I-beam, Ixx: \", '{:.4f}'.format(I_xx), \" Iyy: \", '{:.4f}'.format(I_yy))\n",
    "    delta = Deflection(load, Length, E, I_xx)\n",
    "    return delta"
   ]
  },
  {
   "cell_type": "code",
   "execution_count": 7,
   "id": "eac441c3-021d-4d4b-a18f-1cbb8a601b4f",
   "metadata": {},
   "outputs": [
    {
     "name": "stdout",
     "output_type": "stream",
     "text": [
      "Total weight:  28970.6\n",
      "Force per beam:  14485.3  W:  0.41  (kips/ft)  0.034166666666666665  (kips/in)\n",
      "Span:  12  feet\n",
      "Beam Width:  3.5  inches, Height:  12.0 inches\n",
      "Engineered Lumber\n",
      " load  0.0342  kips/in, Length:  144  Youngs  1305342.0  Area Inertia:  504.0000  result =  0.2908\n",
      "steel I-beam, Ixx:  41.7672  Iyy:  2.9052\n",
      " load  0.0342  kips/in, Length:  144  Youngs  29007600  Area Inertia:  41.7672  result =  0.1579\n"
     ]
    }
   ],
   "source": [
    "# Problem\n",
    "# Second floor area is ~1200 ft^2 half of which is supported by the outer wall. \n",
    "# The outer wall is ~35 4\" feet\n",
    "# The span we want is 12'\n",
    "# household floor loading is 40lbs/ft^2 + weight of materials. Call it 60lbs/ft^2\n",
    "Loading = 60        # pounds per square foot\n",
    "Length  = 35.33     # feet\n",
    "Width   = 13 + 8/12 # feet on the side of the house we are interested in. \n",
    "Area    = Length * Width \n",
    "Force   = Area * Loading # force on West side\n",
    "print(\"Total weight: \", Force)\n",
    "Force   = Force/2.0      # half of which is borne by center beam\n",
    "kipsPERft = Force/Length/1000\n",
    "kipsPERin = kipsPERft / 12\n",
    "print(\"Force per beam: \", Force, \" W: \", kipsPERft, \" (kips/ft) \", kipsPERin,\" (kips/in)\") \n",
    "#\n",
    "# Assume this is linearly loaded. \n",
    "Span    = 12        # span in feet for the window. \n",
    "print(\"Span: \", Span, \" feet\")\n",
    "Span = Span*12      # convert to inches\n",
    "#\n",
    "# Beam parameters\n",
    "B_W     = 3.5       # beam width, constrained, it has to fit in the wall. \n",
    "B_H     = 12.0      # beam height\n",
    "print(\"Beam Width: \", B_W, \" inches, Height: \", B_H, \"inches\")\n",
    "delta   = BeamDeflection(B_W, B_H, Span, kipsPERin)\n",
    "# Tables for steel parameters\n",
    "idx = 1\n",
    "H1 = [6.0, 8.0, 12.0, 14.0, 24.0]\n",
    "a  = [0.232, 0.271, 0.2, 0.25, 0.395]\n",
    "b  = [3.332, 4.001, 3.97, 5.5, 7.0]\n",
    "#\n",
    "# steel i-beam 12\" high\n",
    "# a = 0.2\n",
    "# b = 3.97\n",
    "# d ends up as 3\" over 12' span\n",
    "#\n",
    "# 14 inch high\n",
    "# a = 0.250, b = 5.50\n",
    "#\n",
    "# 24\" \n",
    "# a = 0.395\n",
    "# b = 7.0\n",
    "#\n",
    "# these dimensions are pretty fixed\n",
    "\n",
    "H2 = H1[idx] - 2*a[idx] # nominally\n",
    "delta   = IBeamDeflection(H1[idx], H2, a[idx], b[idx] , Span, kipsPERin)\n",
    "#print(\"Steel I-beam of height: \",H1,\" inches, Deflection is: \", delta, \" inches, for a span of: \", Span, \" inches\")"
   ]
  },
  {
   "cell_type": "code",
   "execution_count": 8,
   "id": "c2f3b911-7158-4f08-89a4-481601f5450a",
   "metadata": {},
   "outputs": [
    {
     "name": "stdout",
     "output_type": "stream",
     "text": [
      " load  0.0342  kips/in, Length:  144  Youngs  1305342  Area Inertia:  42.8750  result =  3.4179\n",
      "1.0000005754668444\n"
     ]
    }
   ],
   "source": [
    "x = Deflection(kipsPERin, Span, 1305342, 42.875)\n",
    "d = 5 * kipsPERin * np.power(Span,4)/384/1305342/42.875\n",
    "print(3.41793/x)"
   ]
  },
  {
   "cell_type": "code",
   "execution_count": 9,
   "id": "8947d4ea-24d1-46b6-b50e-6e5129c24ec8",
   "metadata": {},
   "outputs": [
    {
     "name": "stdout",
     "output_type": "stream",
     "text": [
      "WL =  0.24\n",
      "Engineered Lumber\n",
      " load  0.0007  kips/in, Length:  77  Youngs  1305342.0  Area Inertia:  252.0000  result =  0.0010\n",
      "Joist wood Deflection is:  0.0009939139641430424  inches, for a span of:  77  inches\n"
     ]
    }
   ],
   "source": [
    "# quick calculation on wood member 7.5 x 1.5 inches \n",
    "# https://amesweb.info/Materials/Youngs-Modulus-of-Wood.aspx\n",
    "YM_wood = 1.6e6        # psi\n",
    "B_W     = 1.75         # beam width, constrained, it has to fit in the wall. \n",
    "B_H     = 12          # beam height\n",
    "Span    = 77           # inches\n",
    "WL      = 40.0 * 6 * 28/28/1000  # pounds per unit length 40lbs/sq/ft  28 foot span.  Should be in pounds\n",
    "print(\"WL = \", WL)\n",
    "WL  = WL/(28*12)       # pounds per inch, off by factor of 4??\n",
    "delta   = BeamDeflection(B_W, B_H, Span, WL)\n",
    "print(\"Joist wood Deflection is: \", delta, \" inches, for a span of: \", Span, \" inches\")"
   ]
  },
  {
   "cell_type": "code",
   "execution_count": 10,
   "id": "d592944a-e2ef-4dd1-bf51-f8afe476b12c",
   "metadata": {},
   "outputs": [
    {
     "data": {
      "text/plain": [
       "0.21388888888888888"
      ]
     },
     "execution_count": 10,
     "metadata": {},
     "output_type": "execute_result"
    }
   ],
   "source": [
    "Span/360 # rule of thumb for maximum allowable deflection 40lbs/sq ft"
   ]
  },
  {
   "cell_type": "code",
   "execution_count": 11,
   "id": "f6d7da1e-6f2f-4e46-92c2-53f607013364",
   "metadata": {},
   "outputs": [],
   "source": [
    "#Plot both on the same basic parameters\n",
    "load = np.arange(20,50,1) # pounds point load. "
   ]
  },
  {
   "cell_type": "code",
   "execution_count": null,
   "id": "2bd4c13f-4d93-435b-9ef3-f13a0790bbb6",
   "metadata": {},
   "outputs": [],
   "source": []
  },
  {
   "cell_type": "code",
   "execution_count": null,
   "id": "b8484bc7-df08-4408-8e6a-d505b7c4eff5",
   "metadata": {},
   "outputs": [],
   "source": []
  },
  {
   "cell_type": "code",
   "execution_count": null,
   "id": "87c12f45-1edb-4375-9ebc-5d41c64e03bd",
   "metadata": {},
   "outputs": [],
   "source": []
  }
 ],
 "metadata": {
  "kernelspec": {
   "display_name": "Python 3 (ipykernel)",
   "language": "python",
   "name": "python3"
  },
  "language_info": {
   "codemirror_mode": {
    "name": "ipython",
    "version": 3
   },
   "file_extension": ".py",
   "mimetype": "text/x-python",
   "name": "python",
   "nbconvert_exporter": "python",
   "pygments_lexer": "ipython3",
   "version": "3.12.8"
  }
 },
 "nbformat": 4,
 "nbformat_minor": 5
}
