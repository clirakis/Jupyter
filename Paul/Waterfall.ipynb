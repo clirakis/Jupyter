{
 "cells": [
  {
   "cell_type": "markdown",
   "id": "ef14a38a-8e94-4752-969e-8a7ac84603b3",
   "metadata": {},
   "source": [
    "<H1> Paul's Example </H1>\n",
    "\n",
    "<hr> \n",
    "<H2>Modification history </H2><br> \n",
    "<table>\n",
    "    <tr>\n",
    "        <th> Modified </th>\n",
    "        <th> By </th>\n",
    "        <th> Reason </th>\n",
    "    </tr>\n",
    "    <tr> \n",
    "        <td> 07-Jul-25 </td>\n",
    "        <td> CBL </td> \n",
    "        <td> Imported from Paul and commented </td>\n",
    "    </tr>\n",
    "</table>\n",
    "<hr> \n",
    "<H2> References </H2> \n",
    "<hr>\n",
    "<H2> Notes </H2>\n",
    "The objective here is to make a waterfall display showing sweeps as they occur. The display should be Frequency on the X axis\n",
    "and time on the Y. \n",
    "<hr>"
   ]
  },
  {
   "cell_type": "code",
   "execution_count": 1,
   "id": "cc0700d7-2fae-460c-8c3f-bfd8ed9d5c08",
   "metadata": {},
   "outputs": [],
   "source": [
    "import numpy as np\n",
    "import matplotlib.pyplot as plt"
   ]
  },
  {
   "cell_type": "code",
   "execution_count": 3,
   "id": "89653d7c-c85b-4c09-9412-64cfe278cddf",
   "metadata": {},
   "outputs": [
    {
     "name": "stdout",
     "output_type": "stream",
     "text": [
      "initial\n",
      "[]\n",
      "[1, 1, 1, 1, 0.5, 0.9, 0.5, 1, 1, 1, 0.5, 0, 0.5, 1, 1, 1, 1]\n",
      "first step\n",
      "[1, 1, 1, 1, 0.5, 0.9, 0.5, 1, 1, 1, 0.5, 0, 0.5, 1, 1, 1, 1]\n",
      "[1, 1, 1, 1, 0.5, 0.9, 0.5, 1, 1, 1, 0.5, 0, 0.5, 1, 1, 1, 1]\n",
      "result\n",
      "[1, 1, 1, 1, 0.5, 0.9, 0.5, 1, 1, 1, 0.5, 0, 0.5, 1, 1, 1, 1]\n",
      "[1, 1, 1, 1, 0.5, 0.855, 0.5, 1, 1, 1, 0.5, 0, 0.5, 1, 1, 1, 1]\n",
      "first step\n",
      "[1, 1, 1, 1, 0.5, 0.9, 0.5, 1, 1, 1, 0.5, 0, 0.5, 1, 1, 1, 1, 1, 1, 1, 1, 0.5, 0.855, 0.5, 1, 1, 1, 0.5, 0, 0.5, 1, 1, 1, 1]\n",
      "[1, 1, 1, 1, 0.5, 0.855, 0.5, 1, 1, 1, 0.5, 0, 0.5, 1, 1, 1, 1]\n",
      "result\n",
      "[1, 1, 1, 1, 0.5, 0.9, 0.5, 1, 1, 1, 0.5, 0, 0.5, 1, 1, 1, 1, 1, 1, 1, 1, 0.5, 0.855, 0.5, 1, 1, 1, 0.5, 0, 0.5, 1, 1, 1, 1]\n",
      "[1, 1, 1, 1, 0.5, 0.8122499999999999, 0.5, 1, 1, 1, 0.5, 0, 0.5, 1, 1, 1, 1]\n",
      "Append test\n",
      "initial\n",
      "[]\n",
      "[1, 1, 1, 1, 0.5, 0.9, 0.5, 1, 1, 1, 0.5, 0, 0.5, 1, 1, 1, 1]\n",
      "first step\n",
      "[[1, 1, 1, 1, 0.5, 0.9, 0.5, 1, 1, 1, 0.5, 0, 0.5, 1, 1, 1, 1]]\n",
      "[1, 1, 1, 1, 0.5, 0.9, 0.5, 1, 1, 1, 0.5, 0, 0.5, 1, 1, 1, 1]\n",
      "result\n",
      "[[1, 1, 1, 1, 0.5, 0.855, 0.5, 1, 1, 1, 0.5, 0, 0.5, 1, 1, 1, 1]]\n",
      "[1, 1, 1, 1, 0.5, 0.855, 0.5, 1, 1, 1, 0.5, 0, 0.5, 1, 1, 1, 1]\n",
      "first step\n",
      "[[1, 1, 1, 1, 0.5, 0.855, 0.5, 1, 1, 1, 0.5, 0, 0.5, 1, 1, 1, 1], [1, 1, 1, 1, 0.5, 0.855, 0.5, 1, 1, 1, 0.5, 0, 0.5, 1, 1, 1, 1]]\n",
      "[1, 1, 1, 1, 0.5, 0.855, 0.5, 1, 1, 1, 0.5, 0, 0.5, 1, 1, 1, 1]\n",
      "result\n",
      "[[1, 1, 1, 1, 0.5, 0.8122499999999999, 0.5, 1, 1, 1, 0.5, 0, 0.5, 1, 1, 1, 1], [1, 1, 1, 1, 0.5, 0.8122499999999999, 0.5, 1, 1, 1, 0.5, 0, 0.5, 1, 1, 1, 1]]\n",
      "[1, 1, 1, 1, 0.5, 0.8122499999999999, 0.5, 1, 1, 1, 0.5, 0, 0.5, 1, 1, 1, 1]\n"
     ]
    }
   ],
   "source": [
    "# Paul's original code. \n",
    "# this is a test for append vs extend.  \n",
    "#the extend method adds the new elements at the end but as values in the list.\n",
    "#the append method adds a list to the list but the result is the same last element in all elements\n",
    "#this was not the expected behavior of append.\n",
    "spec_data = []\n",
    "voltage   =  [1,1,1,1,0.5,0.9,0.5,1,1,1,0.5, 0, 0.5, 1, 1, 1, 1]\n",
    "#\n",
    "# original, \n",
    "#time_array=[0,1,2,3,4,5,6,7,8,9,10,11,12,13,14,15,16]\n",
    "# CBL change\n",
    "time_array = np.arange(0.0,4.0,0.25)\n",
    "#time_array=np.multiply(time_array, 0.25) #Ghz example for NV\n",
    "print('initial')\n",
    "print (spec_data)\n",
    "print (voltage)\n",
    "spec_data.extend(voltage)  # this was needed  to fix the invalid shape error\n",
    "print('first step')\n",
    "print (spec_data)\n",
    "print (voltage)\n",
    "voltage[5] = .95* voltage[5]\n",
    "print('result')\n",
    "print(spec_data)\n",
    "print (voltage)\n",
    "#\n",
    "spec_data.extend(voltage)  # this was needed  to fix the invalid shape error\n",
    "print('first step')\n",
    "print (spec_data)\n",
    "print (voltage)\n",
    "voltage[5] = .95* voltage[5]\n",
    "print('result')\n",
    "print(spec_data)\n",
    "print (voltage)\n",
    "\n",
    "print('Append test')\n",
    "spec_data = []\n",
    "\n",
    "voltage =  [1,1,1,1,0.5,0.9,0.5,1,1,1,0.5, 0, 0.5, 1, 1, 1, 1]\n",
    "time_array=[0,1,2,3,  4,  5,  6,7,8,9, 10,11,  12,13,14,15,16]\n",
    "time_array=np.multiply(time_array, 0.25) #Ghz example for NV\n",
    "print('initial')\n",
    "print (spec_data)\n",
    "print (voltage)\n",
    "spec_data.append(voltage)  # this was needed  to fix the invalid shape error\n",
    "print('first step')\n",
    "print (spec_data)\n",
    "print (voltage)\n",
    "voltage[5] = .95* voltage[5]\n",
    "print('result')\n",
    "print(spec_data)\n",
    "print (voltage)\n",
    "#\n",
    "spec_data.append(voltage)  # this was needed  to fix the invalid shape error\n",
    "print('first step')\n",
    "print (spec_data)\n",
    "print (voltage)\n",
    "voltage[5] = .95* voltage[5]\n",
    "print('result')\n",
    "print(spec_data)\n",
    "print (voltage)"
   ]
  },
  {
   "cell_type": "code",
   "execution_count": 6,
   "id": "07f4c419-90bb-4237-885a-47334ed75590",
   "metadata": {},
   "outputs": [
    {
     "data": {
      "text/plain": [
       "<matplotlib.image.AxesImage at 0x119aa6990>"
      ]
     },
     "execution_count": 6,
     "metadata": {},
     "output_type": "execute_result"
    },
    {
     "data": {
      "image/png": "[encoded data removed]",
      "text/plain": [
       "<Figure size 640x480 with 1 Axes>"
      ]
     },
     "metadata": {},
     "output_type": "display_data"
    }
   ],
   "source": [
    "#\n",
    "# a very different approach. \n",
    "# Create the figure we want to display, determine the frequency and time window we want a\n",
    "# along with the decimation. \n",
    "#\n",
    "fig, ax = plt.subplots()\n",
    "Data2D = np.zeros((10, 10), dtype=float)\n",
    "ax.imshow(Data2D)"
   ]
  },
  {
   "cell_type": "code",
   "execution_count": null,
   "id": "ade4d01f-44a1-42a7-bd5d-43244dad61ed",
   "metadata": {},
   "outputs": [],
   "source": []
  }
 ],
 "metadata": {
  "kernelspec": {
   "display_name": "Python 3 (ipykernel)",
   "language": "python",
   "name": "python3"
  },
  "language_info": {
   "codemirror_mode": {
    "name": "ipython",
    "version": 3
   },
   "file_extension": ".py",
   "mimetype": "text/x-python",
   "name": "python",
   "nbconvert_exporter": "python",
   "pygments_lexer": "ipython3",
   "version": "3.13.5"
  }
 },
 "nbformat": 4,
 "nbformat_minor": 5
}
