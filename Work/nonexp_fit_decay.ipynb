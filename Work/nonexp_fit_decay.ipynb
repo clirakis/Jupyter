{
 "cells": [
  {
   "cell_type": "code",
   "execution_count": 30,
   "metadata": {},
   "outputs": [],
   "source": [
    "%matplotlib inline"
   ]
  },
  {
   "cell_type": "code",
   "execution_count": 100,
   "metadata": {},
   "outputs": [],
   "source": [
    "import numpy as np\n",
    "import scipy.optimize\n",
    "import copy\n",
    "def tls_fidecay(x, y, yvar=None, shape='osc_double_exp'):\n",
    "    \"\"\" Fit an decaying function, double exp with cosine.\n",
    "    If other decay shape, pass on to expt_fitter.fidecay()\n",
    "      return (fit_parameters, f(x, **fp) from fit)\n",
    "      parameters are offset, amplitude, decay constant \"\"\"\n",
    "    if shape != 'osc_double_exp':\n",
    "        (fit, ffunc) = fidecay(x, y, yvar=None, shape=shape)\n",
    "    else:\n",
    "        iguess = {'amp': 0.95,\n",
    "                  'tau': np.mean(x),\n",
    "                  'tau2': np.mean(x)/100., #0.01,\n",
    "                  'tau3': np.mean(x)/5.}\n",
    "        ffunc = lambda x, amp, tau, tau2, tau3: amp*np.exp(-(x/tau)) + (1-amp)*np.exp(-x/tau2)*np.cos((2*np.pi*x)/tau3)\n",
    "        fit_bounds = ([0,0,0,2],[1,5000,200,x[-1]])\n",
    "        fit = fitwrap_osc_double_exp(ffunc, x, y, iguess, fit_bounds, yvar=yvar)\n",
    "        #calculate T1/e and T90\n",
    "#        fit['fp']['tau'] = np.abs(fit['fp']['tau'])\n",
    "#       fit['fp']['tau2'] = np.abs(fit['fp']['tau2'])\n",
    "        def targetf(x, target):\n",
    "            return (ffunc(x, **fit['fp']) - target)**2\n",
    "        t1_e = 0.0\n",
    "        for n in range(1,5):\n",
    "            guess = [[n*fit['fp']['tau']], [1.001*n*fit['fp']['tau']]]\n",
    "            result = scipy.optimize.fmin(lambda x: targetf(x, np.exp(-1)), 3*fit['fp']['tau'], disp=False, full_output=True, initial_simplex=guess)\n",
    "            t1_e_try = result[0]\n",
    "            minval = result[1]\n",
    "            if (t1_e_try > t1_e) and (minval < 0.01):\n",
    "                t1_e = t1_e_try\n",
    "        t90 = scipy.optimize.fmin(lambda x: targetf(x, 0.9), 0., disp=False)[0]\n",
    "        def parameter_error(t, pars, parvars):\n",
    "            a = pars['amp']\n",
    "            c = 0.0 # pars['offset']\n",
    "            Tc = pars['tau']\n",
    "            Ta = pars['tau2']\n",
    "            Tb = pars['tau3']\n",
    "            var_a = parvars['amp']\n",
    "            var_c = 0.0 #parvars['offset']\n",
    "            var_Tc = parvars['tau']\n",
    "            var_Ta = parvars['tau2']\n",
    "            var_Tb = parvars['tau3']\n",
    "            dyda = np.exp(-(t/Tc)) - np.cos((2*np.pi*t)/Tb)/np.exp(t/Ta)\n",
    "            dydc = 1 - np.cos((2*np.pi*t)/Tb)/np.exp(t/Ta)\n",
    "            dydTa = -(((a + c-1)*t*np.cos((2*np.pi*t)/Tb))/(np.exp(t/Ta)*Ta**2))\n",
    "            dydTb = (-2* (a + c-1)*np.pi*t*np.sin((2*np.pi*t)/Tb))/(np.exp(t/Ta)*Tb**2)\n",
    "            dydTc = (a*t)/(np.exp(t/Tc)*Tc**2)\n",
    "            dydt = -(a/(np.exp(t/Tc)*Tc)) - ((1 - a - c)*np.cos((2*np.pi*t)/Tb))/(np.exp(t/Ta)*Ta) - (2*(1 - a - c)*np.pi*np.sin((2*np.pi*t)/Tb))/(np.exp(t/Ta)*Tb)    \n",
    "    \n",
    "            dy = np.sqrt(dyda*dyda*var_a + dydc*dydc*var_c + dydTa*dydTa*var_Ta + \n",
    "                 dydTb*dydTb*var_Tb + dydTc*dydTc*var_Tc)\n",
    "    \n",
    "            err_t = np.abs(dy/dydt)\n",
    "    \n",
    "            return err_t\n",
    "        t1_e_var = (parameter_error(t1_e, fit['fp'], fit['var']))**2\n",
    "        t90_var = (parameter_error(t90, fit['fp'], fit['var']))**2\n",
    "        nonexp = 9.4912*t90/t1_e\n",
    "        fit['extra'] ={'t1_e': t1_e, 't90': t90, 't1_e_var': t1_e_var, 't90_var': t90_var, 'nonexp': nonexp}\n",
    "    return (fit, ffunc)\n",
    "\n",
    "def fitwrap_osc_double_exp(fn, x, y, p0,fit_bounds, yvar=None):\n",
    "    \"\"\" Simplied version of fitwrap to handle the oscillating double exponential fit\n",
    "    used for fitting non-exponential T1 decays (i.e., where there is strong TLS\n",
    "    interaction. Uses scipy.optimize.curve_fit instead of scipy.optimize.leastsq\n",
    "    to conveniently bound some of the parameters.\n",
    "    \n",
    "  \n",
    "    returns (p, pcov, chisq)\"\"\"\n",
    "# fit_bounds are to limit the range of parameters: amp, tau, tau2 and tau3 (in that order)\n",
    "# Try 0<amp<1, 0<tau<5000 us, 0<tau2<200 us, 2<tau3<200 us\n",
    "\n",
    "    if yvar is not None:\n",
    "        sigma = np.sqrt(yvar)\n",
    "        good_inds = np.isfinite(y) & np.isfinite(sigma)\n",
    "        sigma = sigma[good_inds]\n",
    "    else:\n",
    "        sigma = None        \n",
    "        good_inds = np.isfinite(y)\n",
    "\n",
    "    x = x[good_inds]\n",
    "    y = y[good_inds]\n",
    "    # Note: exactly one extra point is ok and still get variances:\n",
    "    if np.sum(good_inds) < len(p0) + 1:\n",
    "        log.warning('Not enough data to fit parameters.  Returning bogus data')\n",
    "        return {'fp': p0, 'cov': None,\n",
    "                'var': {k: np.nan for k in p0},\n",
    "                'chisq': np.nan}\n",
    "    # p0 is a dict.. mask is a dict...  protect p0\n",
    "    p0 = copy.deepcopy(p0)\n",
    "\n",
    "\n",
    "    # fix namespace collision if htere's a fit param named x\n",
    "    fit_func_x = x\n",
    "    ffn = fn\n",
    "    fy = y \n",
    "    mask = list(p0.keys())\n",
    "\n",
    "    try:\n",
    "        popt, pcov = scipy.optimize.curve_fit(\n",
    "            ffn,fit_func_x,fy,[p0[k] for k in mask], bounds = fit_bounds)\n",
    "    except:\n",
    "        popt = [p0[k] for k in mask]\n",
    "        pcov = np.diagflat([0,0,0,0])\n",
    "        \n",
    "    if sigma is None:\n",
    "        chisq = np.sum((ffn(fit_func_x,*popt)-fy)**2)\n",
    "    else:\n",
    "        chisq = np.sum(((ffn(fit_func_x,*popt)-fy)/sigma)**2)\n",
    "\n",
    "\n",
    "    # Calculate reduced chi^2\n",
    "    dof = len(x)-len(popt)\n",
    "    chisq /= dof\n",
    "\n",
    "\n",
    "\n",
    "    # construct results dictionary\n",
    "    opt_params = dict(zip(mask, popt))\n",
    "    p0.update(opt_params)\n",
    "\n",
    "\n",
    "    cov = {}\n",
    "    for ind1, field1 in enumerate(mask):\n",
    "        if field1 not in cov:\n",
    "            cov[field1] = {}\n",
    "        for ind2, field2 in enumerate(mask):\n",
    "            cov[field1][field2] = pcov[ind1, ind2]\n",
    "    var = {}\n",
    "    for field in mask:\n",
    "        var[field] = cov[field][field]\n",
    "    retval = {'fp': p0, 'cov': cov, 'var': var, 'chisq': chisq}\n",
    "\n",
    "    return retval\n"
   ]
  },
  {
   "cell_type": "code",
   "execution_count": 101,
   "metadata": {},
   "outputs": [],
   "source": [
    "import matplotlib.pyplot as plt\n",
    "%matplotlib inline\n"
   ]
  },
  {
   "cell_type": "code",
   "execution_count": 105,
   "metadata": {},
   "outputs": [
    {
     "data": {
      "text/plain": [
       "({'fp': {'amp': 0.9786518145779667,\n",
       "   'tau': 203.56593497239197,\n",
       "   'tau2': 115.17779394065968,\n",
       "   'tau3': 999.9999999999974},\n",
       "  'cov': {'amp': {'amp': 0.0005905335178883775,\n",
       "    'tau': -0.056761728556041155,\n",
       "    'tau2': -0.20167274191307752,\n",
       "    'tau3': -19.988528787763588},\n",
       "   'tau': {'amp': -0.056761728556041155,\n",
       "    'tau': 5.622267181484662,\n",
       "    'tau2': 21.262465741687368,\n",
       "    'tau3': 1835.7236434397164},\n",
       "   'tau2': {'amp': -0.20167274191307752,\n",
       "    'tau': 21.262465741687365,\n",
       "    'tau2': 257.59692817212647,\n",
       "    'tau3': 4983.367289699076},\n",
       "   'tau3': {'amp': -19.988528787763588,\n",
       "    'tau': 1835.7236434397164,\n",
       "    'tau2': 4983.3672896990765,\n",
       "    'tau3': 737971.3650038517}},\n",
       "  'var': {'amp': 0.0005905335178883775,\n",
       "   'tau': 5.622267181484662,\n",
       "   'tau2': 257.59692817212647,\n",
       "   'tau3': 737971.3650038517},\n",
       "  'chisq': 1.5322868606235076e-06,\n",
       "  'extra': {'t1_e': array([199.8203665]),\n",
       "   't90': 21.080312500000026,\n",
       "   't1_e_var': array([27.66071265]),\n",
       "   't90_var': 0.23839447445296238,\n",
       "   'nonexp': array([1.00128663])}},\n",
       " <function __main__.tls_fidecay.<locals>.<lambda>(x, amp, tau, tau2, tau3)>)"
      ]
     },
     "execution_count": 105,
     "metadata": {},
     "output_type": "execute_result"
    },
    {
     "data": {
      "image/png": "[encoded data removed]",
      "text/plain": [
       "<Figure size 432x288 with 1 Axes>"
      ]
     },
     "metadata": {
      "needs_background": "light"
     },
     "output_type": "display_data"
    }
   ],
   "source": [
    "x=np.linspace(0,1000,31)\n",
    "noise = 0.001\n",
    "y=(1+np.random.normal()*noise)*(np.exp(-x/200.0) + noise*np.random.normal(size=x.shape))+np.random.normal()*noise\n",
    "plt.plot(x,y,'.r-')\n",
    "tls_fidecay(x,y)"
   ]
  },
  {
   "cell_type": "code",
   "execution_count": 117,
   "metadata": {},
   "outputs": [
    {
     "name": "stderr",
     "output_type": "stream",
     "text": [
      "/Users/odial/anaconda3/lib/python3.7/site-packages/ipykernel_launcher.py:23: RuntimeWarning: overflow encountered in square\n",
      "/Users/odial/anaconda3/lib/python3.7/site-packages/ipykernel_launcher.py:47: RuntimeWarning: overflow encountered in double_scalars\n",
      "/Users/odial/anaconda3/lib/python3.7/site-packages/ipykernel_launcher.py:49: RuntimeWarning: overflow encountered in double_scalars\n"
     ]
    },
    {
     "name": "stdout",
     "output_type": "stream",
     "text": [
      "mean 0.9341809102753128\n",
      "median 0.9631123778252553\n"
     ]
    },
    {
     "data": {
      "image/png": "[encoded data removed]",
      "text/plain": [
       "<Figure size 432x288 with 1 Axes>"
      ]
     },
     "metadata": {
      "needs_background": "light"
     },
     "output_type": "display_data"
    }
   ],
   "source": [
    "# Look at many fits for bias\n",
    "ans=[]\n",
    "for ii in range(100):\n",
    "    p=1  # larger p puts more points near beginning.\n",
    "    x=np.linspace(0,1000**(1/p),21)**(p)\n",
    "    noise = 0.01\n",
    "    scalenoise=noise\n",
    "    y=(1+np.random.normal()*scalenoise)*(np.exp(-x/200.0) + noise*np.random.normal(size=x.shape))+np.random.normal()*scalenoise\n",
    "    #plt.plot(x,y,'.r-')\n",
    "    ans.append(tls_fidecay(x,y))\n",
    "ne = [a[0]['extra']['nonexp'][0] for a in ans];\n",
    "plt.hist(ne,range=(0,1.1),bins=41)\n",
    "print('mean', np.mean(ne))\n",
    "print('median', np.median(ne))"
   ]
  },
  {
   "cell_type": "code",
   "execution_count": 87,
   "metadata": {},
   "outputs": [
    {
     "data": {
      "text/plain": [
       "{'fp': {'amp': 0.976547505955013,\n",
       "  'tau': 497.0568475922144,\n",
       "  'tau2': 165.9726203096751,\n",
       "  'tau3': 28.19776546200504},\n",
       " 'cov': {'amp': {'amp': 1.3220197312942947e-05,\n",
       "   'tau': -0.007981360869647361,\n",
       "   'tau2': 0.09582659730857102,\n",
       "   'tau3': 3.4535536259433377e-06},\n",
       "  'tau': {'amp': -0.007981360869647361,\n",
       "   'tau': 9.375768967630483,\n",
       "   'tau2': -57.7008448798127,\n",
       "   'tau3': -0.002184450750017506},\n",
       "  'tau2': {'amp': 0.095826597308571,\n",
       "   'tau': -57.7008448798127,\n",
       "   'tau2': 4766.533763836674,\n",
       "   'tau3': 0.03421365053759965},\n",
       "  'tau3': {'amp': 3.4535536259433373e-06,\n",
       "   'tau': -0.002184450750017506,\n",
       "   'tau2': 0.03421365053759965,\n",
       "   'tau3': 0.0858931275458552}},\n",
       " 'var': {'amp': 1.3220197312942947e-05,\n",
       "  'tau': 9.375768967630483,\n",
       "  'tau2': 4766.533763836674,\n",
       "  'tau3': 0.0858931275458552},\n",
       " 'chisq': 8.427909754850871e-05,\n",
       " 'extra': {'t1_e': array([485.57557466]),\n",
       "  't90': 15.826625000000021,\n",
       "  't1_e_var': array([8.40459475]),\n",
       "  't90_var': 6519292226220.484,\n",
       "  'nonexp': array([0.30935177])}}"
      ]
     },
     "execution_count": 87,
     "metadata": {},
     "output_type": "execute_result"
    }
   ],
   "source": []
  },
  {
   "cell_type": "code",
   "execution_count": null,
   "metadata": {},
   "outputs": [],
   "source": []
  },
  {
   "cell_type": "code",
   "execution_count": null,
   "metadata": {},
   "outputs": [],
   "source": []
  }
 ],
 "metadata": {
  "kernelspec": {
   "display_name": "Python 3",
   "language": "python",
   "name": "python3"
  },
  "language_info": {
   "codemirror_mode": {
    "name": "ipython",
    "version": 3
   },
   "file_extension": ".py",
   "mimetype": "text/x-python",
   "name": "python",
   "nbconvert_exporter": "python",
   "pygments_lexer": "ipython3",
   "version": "3.6.8"
  }
 },
 "nbformat": 4,
 "nbformat_minor": 2
}
