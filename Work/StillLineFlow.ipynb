{
 "cells": [
  {
   "cell_type": "markdown",
   "id": "9174b0c1",
   "metadata": {},
   "source": [
    "Answer the question what is the effect of lenghening the still line for a BF refrigerator. <br> \n",
    "<hr>\n",
    "24-Feb-23    CBL Original, Equations based on conversations with Shawn Hall. The conversation is included here. \n",
    "<hr>\n",
    "From Shawn Hall: <br> \n",
    "In our discussion yesterday of pressure drop in the still line, I mentioned the classic computation of pressure loss $\\Delta p$ in a pipe using the <a href=\"https://en.wikipedia.org/wiki/Moody_chart\">Moody diagram </a>, which is a plot of the so-called <a href=\"https://en.wikipedia.org/wiki/Darcy_friction_factor_formulae\"> Darcy friction factor f </a> as a function of Reynolds number $ Re = {\\rho UD \\over{\\mu}} $ and normalized pipe-wall roughness ${e\\over{D}}, where: <br>\n",
    " \n",
    "$\\rho$ = Density of fluid $[{kg\\over{m^3}}]$ <br>\n",
    "U = Bulk velocity of fluid in pipe $[{m\\over{s}}]$ <br>\n",
    "D = Pipe diameter [m] <br>\n",
    "$\\mu$ = Absolute viscosity of fluid $[{kg\\over{m-s}}]$ <br>\n",
    "e = Pipe-wall roughness [m] <br>\n",
    "<br>\n",
    "The basic formula is: <br>\n",
    "$\\Delta p = (0.5 \\rho U^2 ) ({L\\over{D}}) f $ <br>\n",
    " \n",
    "where the grouping in the first parentheses is called the “dynamic pressure” of the flow. <br>\n",
    " \n",
    "Note that for laminar flow, which occurs at low Reynolds number (Re < 2000), the formula for f is very simple: <br>\n",
    " \n",
    "$f = {64 \\over{Re}} $ <br>\n",
    " \n",
    "The functional relationship for $f = f(Re, {e\\over{D}})$ in the turbulent regime (higher Reynolds number) is more complicated.  As you can see from the formulae in the second link above, many people have taken stabs at fitting the data represented by the Moody diagram. <br>\n",
    "<br> \n",
    "Chris’s question -- about whether this classic pipe flow analysis is valid for rarefied gas – is a good one.  I seem to recall that, when I asked myself that question some years ago and poked around on the internet, and answer was yes, but please don’t bank on my memory. <br>\n",
    "\n",
    "27-Feb-23 <br> \n",
    "PressureAtTurbo = 0.015 - 0.2 mbar <br>\n",
    "If the pressure is that high, it’s not a rarefied gas, so normal fluid mechanics should apply.<br> \n",
    "<br>\n",
    "I found this, which says that for helium, the relation between pressure p and mean-free path L is: <br> \n",
    "<br> \n",
    "$ L p = 17.5 \\times 10^{-3}$  [m-Pa] <br>\n",
    " <br>\n",
    "For the pressure you cite of 50,000 Pa, L = 0.35 um.  Assuming a characteristic length of the pipe diameter D = 100 mm, the Knudsen number is <br> \n",
    "$ K_{n} = {L\\over{D}} =  3.5 \\times 10^{-6}$. <br> \n",
    "According to the Wikipedia article, this is well in the range of continuum flow.\n",
    " \n",
    "<br> \n",
    "<h1> Moody Diagram </h1>\n",
    "<img src=\"Pics/Moody_diagram.jpg\">\n",
    "\n"
   ]
  },
  {
   "cell_type": "code",
   "execution_count": 133,
   "id": "1ddf5e7e",
   "metadata": {},
   "outputs": [],
   "source": [
    "\"\"\"\n",
    "For our systems the still line pipe OD = 4\", ID = ?\n",
    "\"\"\"\n",
    "import numpy as np\n",
    "import matplotlib.pyplot as plt\n",
    "import math"
   ]
  },
  {
   "cell_type": "code",
   "execution_count": 134,
   "id": "fa4aa550",
   "metadata": {},
   "outputs": [],
   "source": [
    "def HeDensity(Pressure):\n",
    "    \"\"\"\n",
    "    He4 density as function of pressure. \n",
    "    @param Pressure in bar\n",
    "    \"\"\"\n",
    "    STP_rho = 0.166 # Kg/m^3\n",
    "    # 1 bar STP    \n",
    "    rho = STP_rho * Pressure  # ideal gas law n1/n2 = p1/p2\n",
    "    return rho"
   ]
  },
  {
   "cell_type": "code",
   "execution_count": 135,
   "id": "ef9764d4",
   "metadata": {},
   "outputs": [],
   "source": [
    "def Reynolds(Pressure, Diameter, U):\n",
    "    \"\"\"\n",
    "    Calculate Reynolds Number:\n",
    "    @param Pressure - Pressure of mix in bar for the Still line\n",
    "    @param Diameter - Diamater of pipe in meters\n",
    "    @param U - Velocity of fluid in pipe m/s\n",
    "    \"\"\"\n",
    "    # https://www.engineeringtoolbox.com/gases-absolute-dynamic-viscosity-d_1888.html\n",
    "    # https://journals.lww.com/anesthesia-analgesia/fulltext/1993/02000/helium_and_gas_flow.50.aspx\n",
    "    mu = 1.95e-5 # Pa - s, also Kg/(m-s)\n",
    "    rv = HeDensity(Pressure) * U * Diameter/mu\n",
    "    return rv"
   ]
  },
  {
   "cell_type": "code",
   "execution_count": 136,
   "id": "54935524",
   "metadata": {},
   "outputs": [],
   "source": [
    "def VelocityFromMMpersec(MMperSec, Pressure):\n",
    "    \"\"\"\n",
    "    calculate the velocity from the mmol/second.\n",
    "    @param MMperSec - milli-mols per second of mix  (0.4 to 0.9 mmol/s)\n",
    "    @param Pressure - in bar\n",
    "    \"\"\"\n",
    "    throat = 4.0 * 0.0254           # 4 inches OD, don't know ID, into meters\n",
    "    LitersPerMol = (22.4/Pressure)  # 22.4 L/mol at STP, higher pressure means lower volume\n",
    "    M3PerLiter   = 0.001            # cubic meters per Liter\n",
    "    ThroatCrossSection = 2.0 * np.pi * throat  # square meters\n",
    "    # \n",
    "    # Mols/s /Mols/\n",
    "    Velocity = (MMperSec*1.0e-3)* LitersPerMol * M3PerLiter/ThroatCrossSection\n",
    "    return Velocity"
   ]
  },
  {
   "cell_type": "code",
   "execution_count": 150,
   "id": "45afb479",
   "metadata": {},
   "outputs": [],
   "source": [
    "def DeltaP(U, Length, Diameter, Pressure):\n",
    "    \"\"\"\n",
    "    @param U        - bulk velocity in pipe\n",
    "    @param Length   - Length of pipe (same units as Diameter)\n",
    "    @param Diameter - Diameter of pipe in same units as length. \n",
    "    \"\"\"\n",
    "    f  = 64/Reynolds(Pressure,Diameter,U) # Darcy Friction Factor\n",
    "    rv = 0.5 * HeDensity(Pressure) * np.power(U,2.0) * Length/Diameter * f\n",
    "    return rv"
   ]
  },
  {
   "cell_type": "code",
   "execution_count": 151,
   "id": "5c74190e",
   "metadata": {},
   "outputs": [],
   "source": [
    "def PascalFromBar(Bar):\n",
    "    return 1.0e5*Bar"
   ]
  },
  {
   "cell_type": "code",
   "execution_count": 152,
   "id": "5bbe7050",
   "metadata": {},
   "outputs": [
    {
     "name": "stdout",
     "output_type": "stream",
     "text": [
      "2.4900000000000003e-06   0.012443010951850795\n"
     ]
    }
   ],
   "source": [
    "PressureAtTurbo = 0.015*1.0e-3 # in Bar, Pressure varies (0.015 - 0.2 mbar)\n",
    "Diameter = 4.0 * 0.0254 # meters\n",
    "Length   = 4.0          # meters\n",
    "U = VelocityFromMMpersec(0.41, PressureAtTurbo)\n",
    "#\n",
    "print(HeDensity(PressureAtTurbo), ' ', Reynolds(PressureAtTurbo, Diameter, U))\n",
    "#print(VelocityFromMMsec(0.41, PressureAtTurbo))"
   ]
  },
  {
   "cell_type": "code",
   "execution_count": 153,
   "id": "3752707d",
   "metadata": {},
   "outputs": [
    {
     "data": {
      "image/png": "[encoded data removed]",
      "text/plain": [
       "<Figure size 640x480 with 1 Axes>"
      ]
     },
     "metadata": {},
     "output_type": "display_data"
    }
   ],
   "source": [
    "RN = np.arange(1e3, 1e4, 100)\n",
    "f = 64.0/RN\n",
    "plt.semilogy(RN, f)\n",
    "plt.grid()\n",
    "# this repeats the above "
   ]
  },
  {
   "cell_type": "code",
   "execution_count": 160,
   "id": "e3d35f40",
   "metadata": {},
   "outputs": [
    {
     "name": "stdout",
     "output_type": "stream",
     "text": [
      "0.05797813130414199\n"
     ]
    }
   ],
   "source": [
    "# debug reynolds number\n",
    "PressureAtTurbo = 0.015*1.0e-3 # in Bar, Pressure varies (0.015 - 0.2 mbar)\n",
    "#PressureAtTurbo = np.arange(0.01e-3, 0.2e-3, 0.005e-3 )\n",
    "#PressureAtTurbo = 1.0\n",
    "Diameter = 4.0 * 0.0254         # meters\n",
    "Length = 1\n",
    "#Length   = 4.0                  # meters\n",
    "#Length = np.arange(4.0, 8.0, 0.1)\n",
    "U   = VelocityFromMMpersec(0.41, PressureAtTurbo)\n",
    "#U   = np.arange(0.1,1.0, 0.05)\n",
    "Re   = Reynolds(PressureAtTurbo, Diameter, U)\n",
    "#\n",
    "#print(HeDensity(PressureAtTurbo), ' ', Reynolds(PressureAtTurbo, Diameter, U))\n",
    "DP = DeltaP(U, Length, Diameter, PressureAtTurbo)\n",
    "print(DP)\n",
    "#plt.plot(PressureAtTurbo*1.0e3, DP)\n",
    "#plt.plot(Length, DP)\n",
    "#plt.grid()"
   ]
  },
  {
   "cell_type": "code",
   "execution_count": 161,
   "id": "c2cb528e",
   "metadata": {},
   "outputs": [
    {
     "data": {
      "text/plain": [
       "0.057978131304142"
      ]
     },
     "execution_count": 161,
     "metadata": {},
     "output_type": "execute_result"
    }
   ],
   "source": [
    "0.5*HeDensity(PressureAtTurbo)*np.power(U,2.0)*Length/Diameter*64/Re"
   ]
  },
  {
   "cell_type": "code",
   "execution_count": 165,
   "id": "9522ec0d",
   "metadata": {},
   "outputs": [
    {
     "data": {
      "text/plain": [
       "0.9591069536456475"
      ]
     },
     "execution_count": 165,
     "metadata": {},
     "output_type": "execute_result"
    }
   ],
   "source": [
    "U"
   ]
  },
  {
   "cell_type": "code",
   "execution_count": null,
   "id": "0ce33c8c",
   "metadata": {},
   "outputs": [],
   "source": []
  }
 ],
 "metadata": {
  "kernelspec": {
   "display_name": "Python 3 (ipykernel)",
   "language": "python",
   "name": "python3"
  },
  "language_info": {
   "codemirror_mode": {
    "name": "ipython",
    "version": 3
   },
   "file_extension": ".py",
   "mimetype": "text/x-python",
   "name": "python",
   "nbconvert_exporter": "python",
   "pygments_lexer": "ipython3",
   "version": "3.9.6"
  }
 },
 "nbformat": 4,
 "nbformat_minor": 5
}
