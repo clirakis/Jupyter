{
 "cells": [
  {
   "cell_type": "markdown",
   "id": "714dcc64",
   "metadata": {},
   "source": [
    "17-Feb-23  CBL Plot buildng data\n",
    "<hr>\n",
    "https://pandas.pydata.org/docs/user_guide/visualization.html"
   ]
  },
  {
   "cell_type": "code",
   "execution_count": 10,
   "id": "6d72e924",
   "metadata": {},
   "outputs": [],
   "source": [
    "import numpy as np\n",
    "import matplotlib.pyplot as plt\n",
    "import pandas as pd"
   ]
  },
  {
   "cell_type": "code",
   "execution_count": 12,
   "id": "00f504fb",
   "metadata": {},
   "outputs": [
    {
     "name": "stdout",
     "output_type": "stream",
     "text": [
      "                    Unnamed: 0 CW SUP TMP MER6 CW TOTAL FLOW CW SUP PSI MER6  \\\n",
      "01-Jan-21 00:00:00   45.734375     1805.249512     46.921875     29.38125038   \n",
      "01-Jan-21 01:00:00   45.328125     1716.247192     46.921875     29.38125038   \n",
      "01-Jan-21 02:00:00  44.7478447     1630.369751     46.921875     29.38125038   \n",
      "01-Jan-21 03:00:00   44.515625     1789.136597     46.921875     29.38125038   \n",
      "01-Jan-21 04:00:00   44.109375     1751.550659     46.921875     29.38125038   \n",
      "\n",
      "                   CHW RET PSI MER6 CHW  TOTAL TONS CHW FREE COOLING TONS  \\\n",
      "01-Jan-21 00:00:00      564.5534668     564.5534668              59.28125   \n",
      "01-Jan-21 01:00:00      557.6937866     557.6937866              59.28125   \n",
      "01-Jan-21 02:00:00      559.9803467     559.9803467              59.28125   \n",
      "01-Jan-21 03:00:00      578.7306519      571.413208              59.28125   \n",
      "01-Jan-21 04:00:00      581.0172119     581.0172119              59.28125   \n",
      "\n",
      "                   MER11 NCCW SUP TEMP MER11 NCCW SUP PSI MER11 NCCW RET PSI  \\\n",
      "01-Jan-21 00:00:00             90.9375         20.1421051        652.9141846   \n",
      "01-Jan-21 01:00:00             90.9375        20.93717957        665.9316406   \n",
      "01-Jan-21 02:00:00               90.75         21.8409214        657.5947266   \n",
      "01-Jan-21 03:00:00               90.75        20.96802139        664.8186035   \n",
      "01-Jan-21 04:00:00               90.75        20.75107574        649.7767334   \n",
      "\n",
      "                    MER11 NCCW RET FLOW  \n",
      "01-Jan-21 00:00:00                  NaN  \n",
      "01-Jan-21 01:00:00                  NaN  \n",
      "01-Jan-21 02:00:00                  NaN  \n",
      "01-Jan-21 03:00:00                  NaN  \n",
      "01-Jan-21 04:00:00                  NaN  \n"
     ]
    }
   ],
   "source": [
    "df = pd.read_csv('NCCW_TRENDS.csv')\n",
    "df.dropna()\n",
    "top = df.head()\n",
    "print(top)"
   ]
  },
  {
   "cell_type": "code",
   "execution_count": 13,
   "id": "0d121365",
   "metadata": {},
   "outputs": [
    {
     "name": "stdout",
     "output_type": "stream",
     "text": [
      "Unnamed: 0\n",
      "CW SUP TMP MER6\n",
      "CW TOTAL FLOW\n",
      "CW SUP PSI MER6\n",
      "CHW RET PSI MER6\n",
      "CHW  TOTAL TONS\n",
      "CHW FREE COOLING TONS\n",
      "MER11 NCCW SUP TEMP\n",
      "MER11 NCCW SUP PSI\n",
      "MER11 NCCW RET PSI\n",
      "MER11 NCCW RET FLOW\n"
     ]
    }
   ],
   "source": [
    "for col in df.columns:\n",
    "    print(col)"
   ]
  },
  {
   "cell_type": "code",
   "execution_count": 14,
   "id": "467f7e53",
   "metadata": {},
   "outputs": [
    {
     "data": {
      "text/plain": [
       "<Axes: >"
      ]
     },
     "execution_count": 14,
     "metadata": {},
     "output_type": "execute_result"
    },
    {
     "data": {
      "image/png": "[encoded data removed]",
      "text/plain": [
       "<Figure size 640x480 with 1 Axes>"
      ]
     },
     "metadata": {},
     "output_type": "display_data"
    }
   ],
   "source": [
    "MeasurementTime = df['Unnamed: 0']  # This is in string format. \n",
    "MER6T  = df['CW SUP TMP MER6']\n",
    "MER11T = df['MER11 NCCW SUP TEMP']\n",
    "#print(len(MER11T))\n",
    "#df.plot(kind='scatter', x='Unnamed: 0', y='MER11 NCCW SUP TEMP')\n",
    "#print(MER11T)\n",
    "#plt.plot(MER11T)\n",
    "df.plot()"
   ]
  },
  {
   "cell_type": "code",
   "execution_count": 15,
   "id": "654e3369",
   "metadata": {},
   "outputs": [
    {
     "data": {
      "text/plain": [
       "array([['45.734375', '1805.249512', '46.921875', ..., '20.1421051',\n",
       "        '652.9141846', nan],\n",
       "       ['45.328125', '1716.247192', '46.921875', ..., '20.93717957',\n",
       "        '665.9316406', nan],\n",
       "       ['44.7478447', '1630.369751', '46.921875', ..., '21.8409214',\n",
       "        '657.5947266', nan],\n",
       "       ...,\n",
       "       ['47.9765625', '2084.349365', '50.671875', ..., '19.35257912',\n",
       "        '297.5721436', nan],\n",
       "       ['48.390625', '2116.985596', '51.5625', ..., '21.03559113',\n",
       "        '293.5990601', nan],\n",
       "       ['48.1124649', '2128.22998', '51.5625', ..., '20.39521217',\n",
       "        '297.4803772', nan]], dtype=object)"
      ]
     },
     "execution_count": 15,
     "metadata": {},
     "output_type": "execute_result"
    }
   ],
   "source": [
    "data = df.to_numpy()\n",
    "data"
   ]
  },
  {
   "cell_type": "code",
   "execution_count": null,
   "id": "9202c25d",
   "metadata": {},
   "outputs": [],
   "source": []
  }
 ],
 "metadata": {
  "kernelspec": {
   "display_name": "Python 3 (ipykernel)",
   "language": "python",
   "name": "python3"
  },
  "language_info": {
   "codemirror_mode": {
    "name": "ipython",
    "version": 3
   },
   "file_extension": ".py",
   "mimetype": "text/x-python",
   "name": "python",
   "nbconvert_exporter": "python",
   "pygments_lexer": "ipython3",
   "version": "3.9.6"
  }
 },
 "nbformat": 4,
 "nbformat_minor": 5
}
