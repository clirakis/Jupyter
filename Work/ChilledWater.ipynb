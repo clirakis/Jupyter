{
 "cells": [
  {
   "cell_type": "code",
   "execution_count": 1,
   "id": "b95816a7",
   "metadata": {},
   "outputs": [],
   "source": [
    "\"\"\"\n",
    "Calculate the effect of changing inlet temperature on chilled water system. \n",
    "\n",
    "13-Jan-23   CBL Original\n",
    "\"\"\"\n",
    "import numpy as np\n",
    "import matplotlib.pyplot as plt\n",
    "import math"
   ]
  },
  {
   "cell_type": "code",
   "execution_count": 2,
   "id": "c98228be",
   "metadata": {},
   "outputs": [],
   "source": [
    "def FtoC(F):\n",
    "    \"\"\"\n",
    "    Convert Fahenheit to C\n",
    "    \"\"\"\n",
    "    return (F-32.0)*5.0/9.0"
   ]
  },
  {
   "cell_type": "code",
   "execution_count": 3,
   "id": "828bf4e4",
   "metadata": {},
   "outputs": [],
   "source": [
    "def Carnot(T1, T2):\n",
    "    \"\"\"\n",
    "    return Carnot efficiency with input temperatures. \n",
    "    https://en.wikipedia.org/wiki/Carnot_heat_engine\n",
    "    \"\"\"\n",
    "    if (T2>T1):\n",
    "        eta = (T2-T1)/T2\n",
    "    else:\n",
    "        eta = (T1-T2)/T1\n",
    "    return np.abs(eta)"
   ]
  },
  {
   "cell_type": "code",
   "execution_count": 4,
   "id": "b73de81b",
   "metadata": {},
   "outputs": [
    {
     "name": "stdout",
     "output_type": "stream",
     "text": [
      "eta 1: 0.675  eta 2: 0.3\n"
     ]
    }
   ],
   "source": [
    "DesiredOperatingTemperature = FtoC(72.0)\n",
    "ChilledWaterTemperature = FtoC(45.0)\n",
    "IntermediateTemperature = FtoC(60.0)\n",
    "\n",
    "eta1 = Carnot(DesiredOperatingTemperature, ChilledWaterTemperature)\n",
    "eta2 = Carnot(DesiredOperatingTemperature, IntermediateTemperature)\n",
    "print(\"eta 1:\", eta1, \" eta 2:\", eta2)"
   ]
  },
  {
   "cell_type": "code",
   "execution_count": null,
   "id": "f32dc7ad",
   "metadata": {},
   "outputs": [],
   "source": []
  }
 ],
 "metadata": {
  "kernelspec": {
   "display_name": "Python 3 (ipykernel)",
   "language": "python",
   "name": "python3"
  },
  "language_info": {
   "codemirror_mode": {
    "name": "ipython",
    "version": 3
   },
   "file_extension": ".py",
   "mimetype": "text/x-python",
   "name": "python",
   "nbconvert_exporter": "python",
   "pygments_lexer": "ipython3",
   "version": "3.9.18"
  }
 },
 "nbformat": 4,
 "nbformat_minor": 5
}
