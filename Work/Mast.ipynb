{
 "cells": [
  {
   "cell_type": "markdown",
   "id": "67aa090f-2e47-4e4e-92aa-a6c3ca93ec69",
   "metadata": {},
   "source": [
    "<H1> Mast</H1> <br> \n",
    "Deterine mast diameter as function of height and load based on a hollow tube. <br> \n",
    "<hr> \n",
    "<H2>Modification history </H2><br> \n",
    "25-May-24   CBL Original <br> \n",
    "<hr> \n",
    "<H2> References </H2> \n",
    "<ul>\n",
    "    <li> <a href=\"https://en.m.wikipedia.org/wiki/Section_modulus\"> Section Modulus </a> </li>\n",
    "    <li> <a href=\"https://www.physicsforums.com/threads/calculate-deflection-for-aluminium-tube-beam-inertia-mass-d.1009958/\"> deflection </a</li>\n",
    "    <li> <a href=\"http://nguyen.hong.hai.free.fr/EBOOKS/SCIENCE%20AND%20ENGINEERING/MECANIQUE/THEORIE%20DE%20BASE/Roark's%20Formulas%20For%20Stress%20And%20Strain.pdf\"> Stress and Strain </a></li>\n",
    "    <li> <a href=\"https://www.engineersedge.com/calculators/section_square_case_12.htm\" > TUBE Equations </li>\n",
    "    <li> <a href=\"https://www.youtube.com/watch?v=MvBqCeZllpQ\"> Video</a></li>\n",
    "    <li> <a href=\"https://www.ilearnengineering.com/civil/what-is-a-cantilever-beam-and-how-can-we-calculate-its-deflection\" > Cantilever beam</a></li>\n",
    "    <li> <a href=\"https://www.britannica.com/science/catenary\"> Catenary Equation </a></li>\n",
    "</ul>\n",
    "<hr> \n",
    "<H2> Equations </H2>\n",
    "<H3> Hollow tube deflection </H3>\n",
    "$ Deflection = {{WL^3}\\over{4EI}}$ <br> \n",
    "Where: <br> \n",
    "<ul>\n",
    "    <li> W = Load</li>\n",
    "    <li> L = length </li>\n",
    "    <li> E = Young's modulus</li>\n",
    "    <li> I = Moment of inertia </li>\n",
    "</ul>\n",
    "<H3> Mass Moment of Inertia </H3>\n",
    "Not to be confused with the Area Moment. <br> \n",
    "$ I = {M\\over 2} ({R_1}^2 + {R_2}^2) $ <br> \n",
    "Where: <br> \n",
    "<ul>\n",
    "    <li> M = mass</li>\n",
    "    <li> $R_1$ = bore radius</li>\n",
    "    <li> $R_2$ = Tube radius </li>\n",
    "</ul>"
   ]
  },
  {
   "cell_type": "code",
   "execution_count": 26,
   "id": "16a9592b-af17-46ed-b75f-7761684d93c2",
   "metadata": {},
   "outputs": [],
   "source": [
    "# includes\n",
    "import numpy as np\n",
    "import matplotlib.pyplot as plt\n",
    "import math\n",
    "# Constants used in the equations below. \n",
    "rho_Al = 2.7        # density of aluminum value in g/cm^3 \n",
    "E_Al   = 68.9e9     # Youngs modulus of Alumimum in Pa  - Pascal is in N/m^2\n",
    "rho_Fe = 7.85       # density of common steel value in g/cm^3 \n",
    "E_Fe   = 200e9      # Youngs modulus of Steel in Pa  - Pascal is in N/m^2\n",
    "rho_Cu = 8.96       # density of copper in g/cm^3\n",
    "rho_cgs_to_MKS = 1.0e-3 * 1.0e6 # convert to kg/m^3"
   ]
  },
  {
   "cell_type": "code",
   "execution_count": 2,
   "id": "c5e460ff-0210-4be0-b6c6-347924f961f1",
   "metadata": {},
   "outputs": [],
   "source": [
    "def AreaMoment(OD, ID):\n",
    "    \"\"\"\n",
    "    @param OD - outer diameter of pipe \n",
    "    @param ID - inner diameter of pipe \n",
    "    Returns Area moment of inertia section properties. in units^4 \n",
    "    TESTED: 31-May-24\n",
    "    \"\"\"\n",
    "    rv = np.pi * (np.power(OD,4) - np.power(ID,4))/64\n",
    "    return rv"
   ]
  },
  {
   "cell_type": "code",
   "execution_count": 12,
   "id": "79563cac-563f-42d7-869f-36b773bf0e73",
   "metadata": {},
   "outputs": [],
   "source": [
    "def SectionModulus(OD, ID):\n",
    "    \"\"\"\n",
    "    @param OD - outer diameter of pipe\n",
    "    @param ID - inner diameter of pipe\n",
    "    Returns Section modulus in units^3\n",
    "    TESTED: 31-May-24\n",
    "    \"\"\"\n",
    "    rv = np.pi * (np.power(OD,4) - np.power(ID,4))/(32*OD)\n",
    "    return rv"
   ]
  },
  {
   "cell_type": "code",
   "execution_count": 13,
   "id": "1b1996fc-5a59-4461-bc53-9bfacda1f453",
   "metadata": {},
   "outputs": [],
   "source": [
    "def RadiusOfGyration(OD, ID):\n",
    "    \"\"\"\n",
    "    @param OD - outer diameter of pipe\n",
    "    @param ID - inner diameter of pipe\n",
    "    Returns Radius of gyration in units\n",
    "    TESTED: 31-May-24\n",
    "    \"\"\"\n",
    "    rv = np.sqrt(np.power(OD,2) + np.power(ID,2))/4\n",
    "    return rv"
   ]
  },
  {
   "cell_type": "code",
   "execution_count": 14,
   "id": "2dbfaac5-5155-47ec-aa52-6b5496bbc5a6",
   "metadata": {},
   "outputs": [],
   "source": [
    "def TArea(OD, ID):\n",
    "    \"\"\"\n",
    "    @param OD - outer diameter of pipe\n",
    "    @param ID - inner diameter of pipe\n",
    "    Returns Area in units^2\n",
    "    TESTED: 31-May-24\n",
    "    \"\"\"\n",
    "    rv = np.pi*(np.power(OD,2) - np.power(ID,2))/4\n",
    "    return rv"
   ]
  },
  {
   "cell_type": "code",
   "execution_count": 15,
   "id": "9b0ca950-6baf-4eab-a45e-11fab7a384da",
   "metadata": {},
   "outputs": [],
   "source": [
    "def Inertia(Mass, R1, R2):\n",
    "    \"\"\"\n",
    "    Return the moment of inertia of a hollow tube.  Return value is kg m^2\n",
    "    @param Mass - mass of tube (kg)\n",
    "    @param R1 - Inner radius (m)\n",
    "    @param R2 - Outer radius (m) \n",
    "    Returns Inertia in kg m^2\n",
    "    \"\"\"\n",
    "    I = 0.5*Mass*(np.power(R1,2)+np.power(R2,2))\n",
    "    return I"
   ]
  },
  {
   "cell_type": "markdown",
   "id": "b6dd17f6-5d78-4ff6-afef-c7d9170383c2",
   "metadata": {},
   "source": [
    "Equation for deflection of a Force at a given point X along the beam.<br> \n",
    "<a href = https://www.ilearnengineering.com/civil/what-is-a-cantilever-beam-and-how-can-we-calculate-its-deflection\" > Deflection </a> \n",
    "<br> \n",
    "$ y = {{P X^2}\\over{6 E I}} (3L - X) $ <br> "
   ]
  },
  {
   "cell_type": "code",
   "execution_count": 16,
   "id": "48f68120-73ac-458a-a8b0-247466f46cf0",
   "metadata": {},
   "outputs": [],
   "source": [
    "def Deflection2(X, Force, Length, Youngs, OD, ID):\n",
    "    \"\"\"\n",
    "    @param X - distance from the fixed point on the beam \n",
    "    @param Force in Newtons at the point X. \n",
    "    @param Length of the tube in meters\n",
    "    @param Youngs modulus in Pa\n",
    "    @param OD - outer diameter in meters\n",
    "    @param ID - inner diameter in meters\n",
    "    Returns the defelection in meters for the force (Force) applied at X. \n",
    "    \"\"\"\n",
    "    I = AreaMoment(OD, ID)\n",
    "    print(\"Area Moment: \", I, \" Meters^4\")\n",
    "    ir = Force*np.power(X,2)/(6*Youngs*I)\n",
    "    rv = ir * (3*Length-X)\n",
    "    return rv"
   ]
  },
  {
   "cell_type": "code",
   "execution_count": 17,
   "id": "239728a0-3b66-4515-a3c5-bcd81400101c",
   "metadata": {},
   "outputs": [],
   "source": [
    "def Deflection(X, Force, Length, Youngs, OD, ID):\n",
    "    \"\"\"\n",
    "    Return the deflection in m at the top of the mast given: \n",
    "    @param X - distance along beam of length L. \n",
    "    @param Force in Newtons at X\n",
    "    @param Length in meters of mast\n",
    "    @param Youngs - Youngs modulus in GPa \n",
    "    Returns deflection in m assuming one end is fixed and the other free. \n",
    "    \"\"\"\n",
    "    I = AreaMoment(OD, ID)\n",
    "    print(\"Area moment: \", np.power(X,3))\n",
    "    Deflection = Force/(6*Youngs*I) * (-1.0*np.power(X,3.0) + 3*np.power(Length,2)*X - 2*np.power(Length,3)) \n",
    "    return Deflection"
   ]
  },
  {
   "cell_type": "code",
   "execution_count": 32,
   "id": "eae838fb-7a78-45e6-8a1f-29ae0b9276b6",
   "metadata": {},
   "outputs": [],
   "source": [
    "def MassofWire(Length, OD):\n",
    "    \"\"\"\n",
    "    Determine the overall force due to gravity due to a copper wire of length L\n",
    "    @param Length - in meters\n",
    "    @param OD     - outer diameter in meters\n",
    "    \"\"\"\n",
    "    return rho_Cu * rho_cgs_to_MKS * np.pi * np.power(OD/2,2) * Length"
   ]
  },
  {
   "cell_type": "markdown",
   "id": "0ee90d34-376e-4b86-8769-1156f3754665",
   "metadata": {},
   "source": [
    "Catenary equation <br> \n",
    "<a href = \"https://www.britannica.com/science/length-of-a-curve\"> Catenary </a> <br> \n",
    "<a href = \"https://math.stackexchange.com/questions/3502513/when-a-cable-is-suspended-from-two-points-it-hangs-in-the-form-of-a-catenary-t\" Between two points. </a> <br> \n",
    "$y = ({a\\over2})(e^{x\\over a} + e^{-x\\over a})$  or <br> \n",
    "$y = a \\times cosh({x\\over a})$ <br> \n",
    "where <br> \n",
    "a is the lowest height <br> \n",
    "x = 0 gives y = a <br> "
   ]
  },
  {
   "cell_type": "code",
   "execution_count": 34,
   "id": "00eca4f4-05fb-416f-ac29-3d6b118cb5e7",
   "metadata": {},
   "outputs": [],
   "source": [
    "def CatenarySag(x, a):\n",
    "    \"\"\"\n",
    "    Calculate the catenary sag of a wire in the absence of wind, gravity field only. \n",
    "    @param x distance from lowest point\n",
    "    @param a lowest point \n",
    "    \"\"\"\n",
    "    return a * (np.cosh(x/a)-1)\n",
    "    "
   ]
  },
  {
   "cell_type": "code",
   "execution_count": 35,
   "id": "9a558037-f04a-4505-8fe6-7059bddbaa8d",
   "metadata": {},
   "outputs": [],
   "source": [
    "def CatenaryLength(x,a):\n",
    "    \"\"\"\n",
    "    Calculate the catenary length of a wire in the absence of wind, gravity field only. \n",
    "    @param x distance from lowest point\n",
    "    @param a lowest point \n",
    "    \"\"\"\n",
    "    return 2*a * np.sinh(x/a)\n",
    "  "
   ]
  },
  {
   "cell_type": "code",
   "execution_count": 18,
   "id": "10069c59-5e1a-4ad5-8d20-b5c297b79b2c",
   "metadata": {},
   "outputs": [
    {
     "name": "stdout",
     "output_type": "stream",
     "text": [
      "OD:  0.0254  ID:  0.022224999999999998\n",
      "Area Moment:  8.455017673929566e-09\n",
      "Section Modulus:  6.657494231440604e-07\n",
      "Radius of gyration:  0.008437678238858128\n",
      "Area:  0.00011875956541347607\n"
     ]
    }
   ],
   "source": [
    "#\n",
    "# Section Modulus aluminum\n",
    "# Getting data from online metals: https://www.onlinemetals.com/en/buy/aluminum-round-tube-6061\n",
    "OD = 1.0 *0.0254        # m\n",
    "Wall   = 0.125 *0.0254     # m\n",
    "ID = OD - Wall\n",
    "print(\"OD: \", OD, \" ID: \", ID)\n",
    "MArea = AreaMoment(OD, ID)\n",
    "print(\"Area Moment: \", MArea)\n",
    "SM = SectionModulus(OD, ID)\n",
    "print(\"Section Modulus: \", SM)\n",
    "RG = RadiusOfGyration(OD,ID)\n",
    "print(\"Radius of gyration: \", RG)\n",
    "A = TArea(OD, ID)\n",
    "print(\"Area: \", A)"
   ]
  },
  {
   "cell_type": "code",
   "execution_count": 25,
   "id": "4638eaa0-5e24-4890-ba8b-ab03ad691407",
   "metadata": {},
   "outputs": [
    {
     "name": "stdout",
     "output_type": "stream",
     "text": [
      "Tube parameters, Length:  10.0  OD:  0.0508  ID:  0.047625  meters\n",
      "XS:  6.135910879696256e-05  m^2\n",
      "Area Moment:  7.437921447549479e-08  Meters^4\n"
     ]
    },
    {
     "data": {
      "text/plain": [
       "Text(0.5, 1.0, 'Tube of diameter: 0.0508 and wall thickness: 0.003175')"
      ]
     },
     "execution_count": 25,
     "metadata": {},
     "output_type": "execute_result"
    },
    {
     "data": {
      "image/png": "[encoded data removed]",
      "text/plain": [
       "<Figure size 640x480 with 1 Axes>"
      ]
     },
     "metadata": {},
     "output_type": "display_data"
    }
   ],
   "source": [
    "#\n",
    "# test for T6061 aluminum\n",
    "# Getting data from online metals: https://www.onlinemetals.com/en/buy/aluminum-round-tube-6061\n",
    "OD      = 2.0 * 0.0254        # inches converted to meters\n",
    "Wall    = 0.125 * 0.0254\n",
    "ID      = OD - Wall\n",
    "Length  = 10.0       # meters\n",
    "print(\"Tube parameters, Length: \", Length, \" OD: \", OD, \" ID: \", ID, \" meters\")\n",
    "Density = 2.7        # value in g/cm^3 \n",
    "Density = Density * 1.0e-3 * 1.0e6 # convert to kg/m^3\n",
    "Youngs  = 68.9e9     # Pa  - Pascal is in N/m^2 Aluminum\n",
    "#Youngs  = 200e9  # Steel\n",
    "CrossSection = TArea(OD/2, ID/2)\n",
    "print (\"XS: \", CrossSection, \" m^2\")\n",
    "Force   = 1.0 * 9.8    # Newtons\n",
    "X = np.arange(0.1, Length, 0.1)\n",
    "#X = Length # distance from fixed point. \n",
    "Def     = Deflection2(X, Force, Length, Youngs, OD, ID)\n",
    "#print(\"Deflection: \", Def, \" Meters\")\n",
    "plt.plot(X, Def)\n",
    "plt.grid()\n",
    "plt.xlabel('Distance along tube (meters)')\n",
    "plt.ylabel('Deflection (meters)')\n",
    "title = 'Tube of diameter: ' + str(OD) + ' and wall thickness: ' + str(Wall)\n",
    "plt.title(title)"
   ]
  },
  {
   "cell_type": "markdown",
   "id": "200d06a9-8fdf-4007-992c-ddbe0a7c1c2b",
   "metadata": {},
   "source": [
    "Now that this appears to be working, if we want any altitude we will have to step the\n",
    "tubes. The question is: for a specific load, height and maximum deflection\n",
    "how do we step. Lets makes some assumptions. Since I expect this to hang an antenna or a flag what is the expected load. "
   ]
  },
  {
   "cell_type": "code",
   "execution_count": 33,
   "id": "3cda5ce6-fcda-4025-9ba4-559fd6badcfc",
   "metadata": {},
   "outputs": [
    {
     "name": "stdout",
     "output_type": "stream",
     "text": [
      "Mass due to wire.  0.5408437634908958  kg\n"
     ]
    }
   ],
   "source": [
    "Wire_Length = 60.0 * 12.0 * 0.0254 # wire length 60 feet to meters\n",
    "Wire_OD     = 0.00205    # AWG 12 in M\n",
    "Weight = MassofWire(Wire_Length, Wire_OD)\n",
    "print(\"Mass due to wire. \", Weight, \" kg\")"
   ]
  },
  {
   "cell_type": "code",
   "execution_count": 36,
   "id": "2eaa0ba3-db28-4c31-bdb7-ffaf7d9485a3",
   "metadata": {},
   "outputs": [
    {
     "data": {
      "text/plain": [
       "Text(0.5, 1.0, 'Catenary between two poles.')"
      ]
     },
     "execution_count": 36,
     "metadata": {},
     "output_type": "execute_result"
    },
    {
     "data": {
      "image/png": "[encoded data removed]",
      "text/plain": [
       "<Figure size 640x480 with 1 Axes>"
      ]
     },
     "metadata": {},
     "output_type": "display_data"
    }
   ],
   "source": [
    "# apparently the catenary does not depend on mass. \n",
    "StartingHeight = 30.0 * 12.0 * 0.0254  # highest point x = 0\n",
    "EndingHeight   = 10.0 * 12.0 * 0.0254  # lowest point x = L\n",
    "L = 60.0 * 12.0 * 0.0254  # distance between both points\n",
    "a = StartingHeight - EndingHeight\n",
    "x = np.arange(0, L, 0.5)\n",
    "y = CatenarySag(x, a)\n",
    "plt.plot(x,y)\n",
    "plt.grid()\n",
    "plt.xlabel('Distance between poles (meters)')\n",
    "plt.ylabel('sag (meters)')\n",
    "plt.title('Catenary between two poles.')"
   ]
  },
  {
   "cell_type": "code",
   "execution_count": null,
   "id": "17564118-2a34-43ff-a3fd-1c309a322a49",
   "metadata": {},
   "outputs": [],
   "source": []
  }
 ],
 "metadata": {
  "kernelspec": {
   "display_name": "Python 3 (ipykernel)",
   "language": "python",
   "name": "python3"
  },
  "language_info": {
   "codemirror_mode": {
    "name": "ipython",
    "version": 3
   },
   "file_extension": ".py",
   "mimetype": "text/x-python",
   "name": "python",
   "nbconvert_exporter": "python",
   "pygments_lexer": "ipython3",
   "version": "3.11.6"
  }
 },
 "nbformat": 4,
 "nbformat_minor": 5
}
