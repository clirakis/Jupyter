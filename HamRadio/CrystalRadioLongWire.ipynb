{
 "cells": [
  {
   "cell_type": "markdown",
   "id": "7e139b2d",
   "metadata": {},
   "source": [
    "Longwire antenna as used for a crystal radio <br>\n",
    "<hr>\n",
    "09-Jul-23      CBL       Original \n",
    "<hr>\n",
    "references: \n",
    "Also look at my longwire ipynb <br>\n",
    "http://electronbunker.ca/eb/AntennaMatch.html <br> \n",
    "These formulas, or equivalent versions of them can be found in Electrically Small Superdirective and Superconducting Antennas by R.C. Hansen; Wiley, 2006. <br> \n",
    "<hr>\n",
    "Antenna Equivalent Circuit: <br> \n",
    "<img src=\"Pic/AntennaEquivCct.jpg\">"
   ]
  },
  {
   "cell_type": "code",
   "execution_count": 46,
   "id": "1f8f5b75",
   "metadata": {},
   "outputs": [],
   "source": [
    "import numpy as np\n",
    "import matplotlib.pyplot as plt\n",
    "import math\n",
    "import scipy.constants   as konst"
   ]
  },
  {
   "cell_type": "markdown",
   "id": "538f9cc7",
   "metadata": {},
   "source": [
    "Solenoid calculation: <br>\n",
    "$ L = {N^2 \\mu_{0} A \\over{l}}$ <br> \n",
    "if $R_2$ is wire radius and $R_1$ is the form radius then: <br> \n",
    "$A = \\pi ({(R_1 + R_2)\\over{2}})^2$"
   ]
  },
  {
   "cell_type": "code",
   "execution_count": 47,
   "id": "e847e203",
   "metadata": {},
   "outputs": [],
   "source": [
    "def SolenoidInductance(length, form_radius, wire_radius, NTurns):\n",
    "    \"\"\"\n",
    "    @param length - length in m of coil (defines spacing)\n",
    "    @param form_radius - in meters\n",
    "    @param wire_radius - in meters\n",
    "    @param NTurns - unitless\n",
    "    \n",
    "    reference: https://quickfield.com/advanced/long_solenoid_inductance.htm\n",
    "    \"\"\"\n",
    "    Area = np.pi*np.power((2*form_radius+wire_radius)/2.0,2.0) \n",
    "    L = np.power(NTurns, 2.0) * konst.mu_0 * Area/length\n",
    "    return L"
   ]
  },
  {
   "cell_type": "code",
   "execution_count": 48,
   "id": "16cfda6e",
   "metadata": {},
   "outputs": [],
   "source": [
    "def Freq(L,C):\n",
    "    return 1.0/(2.0*np.pi*np.sqrt(L*C))"
   ]
  },
  {
   "cell_type": "markdown",
   "id": "a1fcfc05",
   "metadata": {},
   "source": [
    "$ L_{a} = {\\mu_{0} h_{a}\\over{2\\pi}} (ln({4h_{a}\\over{d_{a}}})-0.75)$"
   ]
  },
  {
   "cell_type": "code",
   "execution_count": 49,
   "id": "f2fe1598",
   "metadata": {},
   "outputs": [],
   "source": [
    "def LW_Inductance(Height, Diameter):\n",
    "    \"\"\"\n",
    "    From the webpage, the claim is that the inductance is given by the height above the ground and \n",
    "    wire diameter. value returned is in micro Henries\n",
    "    @param Height   - height of wire above ground in meters\n",
    "    @param Diameter - Diameter of wire used in meters\n",
    "    \"\"\"\n",
    "    L = konst.mu_0 * Height/(2.0*konst.pi) * (np.log(4*Height/Diameter)-0.75)\n",
    "    return L"
   ]
  },
  {
   "cell_type": "markdown",
   "id": "17fda940",
   "metadata": {},
   "source": [
    "$X_{a} = 60(1-ln({2h_{a}\\over{d_{a}}}))cot({2\\pi h_{a}\\over{\\lambda}})$"
   ]
  },
  {
   "cell_type": "code",
   "execution_count": 50,
   "id": "8779b97b",
   "metadata": {},
   "outputs": [],
   "source": [
    "def LW_Reactance(Height, Diameter, Wavelength):\n",
    "    \"\"\"\n",
    "    return reactance in ohms fro height above ground, wire diameter and wavelength\n",
    "    @param Height   - height of wire above ground in meters\n",
    "    @param Diameter - Diameter of wire used in meters\n",
    "    @param Wavelength - of RF signal in meters\n",
    "    \"\"\"\n",
    "    X = 60.0*(1.0 - np.log(2.0*Height/Diameter))/np.tan(2.0*konst.pi*Height/Wavelength)\n",
    "    return X"
   ]
  },
  {
   "cell_type": "markdown",
   "id": "cb814d7f",
   "metadata": {},
   "source": [
    "Antenna loss resistance $r_a$ : <br> \n",
    "$r_{a} = {h_{a}\\over{3 \\pi d_{a} \\sigma}} \\sqrt{\\pi f \\mu_{0} \\sigma}$ <br> \n",
    "<ul>\n",
    "    <li> $r_{a}$ is the radiation loss of the antenna in ohms. </li>\n",
    "    <li> $d_{a}$ is the diameter of the wire used in meters. </li>\n",
    "    <li> $\\sigma$ is the conductivity of the wire used in mho/meter, for copper this is 59600000 siemens/meter </li>\n",
    "        <li> f is the Frequency in Hertz </li>\n",
    "</ul>"
   ]
  },
  {
   "cell_type": "code",
   "execution_count": 51,
   "id": "b7b0ca4b",
   "metadata": {},
   "outputs": [],
   "source": [
    "def AntennaLoss(Height, Diameter, Sigma, Frequency):\n",
    "    \"\"\"\n",
    "    return resistive loss in ohms fro height above ground, wire diameter and wavelength\n",
    "    @param Height   - height of wire above ground in meters\n",
    "    @param Diameter - Diameter of wire used in meters\n",
    "    @param Sigma    - conductivity of wire in mho/meter\n",
    "    @param Frequency - Frequency in Hz\n",
    "    \"\"\"\n",
    "    r_a = Height/(3*konst.pi*Diameter*Sigma)*np.sqrt(konst.pi * Frequency * konst.mu_0 * Sigma)\n",
    "    return r_a"
   ]
  },
  {
   "cell_type": "markdown",
   "id": "ee034f4f",
   "metadata": {},
   "source": [
    "$r_{R} = 40 ({\\pi h_{a} \\over {\\lambda}})^2 $ <br> \n",
    "<ul> \n",
    "    <li> $r_{R}$ is the radiation resistance of the antenna. </li>\n",
    "    <li> $h_{a}$ is the height of the antenna above the ground in meters. </li>\n",
    "    <li> $\\lambda$ is the wavelength of the desired frequency of interest. \n",
    "</ul>"
   ]
  },
  {
   "cell_type": "code",
   "execution_count": 52,
   "id": "d8fde658",
   "metadata": {},
   "outputs": [],
   "source": [
    "def RadiationResistance(Height, Wavelength):\n",
    "    \"\"\"\n",
    "    return radiation resistnace in ohms fro height above ground, wire diameter and wavelength\n",
    "    @param Height   - height of wire above ground in meters\n",
    "    @param Wavelength - Frequency in meters\n",
    "    \"\"\"\n",
    "    r_R = 40.0*np.power(konst.pi * Height/Wavelength,2.0)\n",
    "    return r_R\n"
   ]
  },
  {
   "cell_type": "code",
   "execution_count": 53,
   "id": "5d1b55b1",
   "metadata": {},
   "outputs": [
    {
     "name": "stdout",
     "output_type": "stream",
     "text": [
      "Frequency:  1000000.0  Hz and Wavelength:  299.792458  meters\n",
      "antenna loss, r_a:  0.039913857283411715  ohms\n",
      "Radiation resistance, r_R:  0.0395330972043568  ohms\n",
      "Reactance X_a:  -6652.452879389353  ohms\n",
      "LW Inductance L_a:  4.754162022443465e-06  H\n"
     ]
    }
   ],
   "source": [
    "# \n",
    "# AWG wire sizes: https://pbxbook.com/other/awgsizes.html\n",
    "# 22 gauge wire\n",
    "awg_22 = 0.64516e-3        # diameter in meters\n",
    "awg_12 = 0.0020525         # diameter in meters as per webpage example\n",
    "Height = 3.0               # meters\n",
    "F      = 1.0e6             # Hz\n",
    "Lambda = konst.c/F         # meters\n",
    "Sigma  = 59600000          # siemens/meter\n",
    "r_G    = 0.5               # ohms, assumed\n",
    "#\n",
    "LW_L = LW_Inductance(Height, awg_12)\n",
    "X_a  = LW_Reactance(Height, awg_12, Lambda)\n",
    "r_a  = AntennaLoss(Height, awg_12, Sigma, F)\n",
    "r_R  = RadiationResistance(Height, Lambda)\n",
    "print(\"Frequency: \", F, \" Hz and Wavelength: \", Lambda, \" meters\")\n",
    "print(\"antenna loss, r_a: \", r_a, \" ohms\")\n",
    "print(\"Radiation resistance, r_R: \", r_R, \" ohms\")\n",
    "print(\"Reactance X_a: \", X_a, \" ohms\")\n",
    "print(\"LW Inductance L_a: \", LW_L, \" H\")"
   ]
  },
  {
   "cell_type": "code",
   "execution_count": 54,
   "id": "80eead80",
   "metadata": {},
   "outputs": [
    {
     "name": "stdout",
     "output_type": "stream",
     "text": [
      "Total Antenna reactance:  -6652.452849518072  ohms\n",
      "And the total antenna response is:  0.5794469544877685  +  -6652.452849518072 j ohms\n"
     ]
    }
   ],
   "source": [
    "#combine X_a and L_a for total reactance. \n",
    "# calculate the inductave reactance. \n",
    "X_L = 2.0*konst.pi*LW_L\n",
    "X_sum = X_a + X_L\n",
    "R_sum = r_a + r_R + r_G\n",
    "print(\"Total Antenna reactance: \", X_sum, \" ohms\")\n",
    "print(\"And the total antenna response is: \", R_sum, \" + \", X_sum,  \"j ohms\")"
   ]
  },
  {
   "cell_type": "code",
   "execution_count": 55,
   "id": "54a0d57e",
   "metadata": {},
   "outputs": [
    {
     "name": "stdout",
     "output_type": "stream",
     "text": [
      "Balance inductance:  0.0010587707546865657  H\n"
     ]
    }
   ],
   "source": [
    "# And what inductance will cancel this out? \n",
    "L_fix = -X_sum/(2*konst.pi*F)\n",
    "print(\"Balance inductance: \", L_fix, \" H\")"
   ]
  },
  {
   "cell_type": "code",
   "execution_count": 56,
   "id": "e9b15e13",
   "metadata": {},
   "outputs": [
    {
     "data": {
      "text/plain": [
       "Text(0, 0.5, 'Ohms')"
      ]
     },
     "execution_count": 56,
     "metadata": {},
     "output_type": "execute_result"
    },
    {
     "data": {
      "image/png": "[encoded data removed]",
      "text/plain": [
       "<Figure size 432x288 with 1 Axes>"
      ]
     },
     "metadata": {
      "needs_background": "light"
     },
     "output_type": "display_data"
    }
   ],
   "source": [
    "# Lets see how this behaves as a function of frequency\n",
    "fsweep  = np.arange(500.0e3,2.0e6,1.0e3)\n",
    "omega   = 2.0*np.pi*fsweep\n",
    "LS      = konst.c/fsweep\n",
    "Xsweep  = LW_Reactance(Height, awg_12, LS)\n",
    "plt.plot(fsweep, Xsweep)\n",
    "plt.grid()\n",
    "plt.title(\"Longwire reactacnce for BC Band\")\n",
    "plt.xlabel(\"Frequency (Hz)\")\n",
    "plt.ylabel(\"Ohms\")\n"
   ]
  },
  {
   "cell_type": "code",
   "execution_count": 57,
   "id": "494215bc",
   "metadata": {},
   "outputs": [
    {
     "data": {
      "text/plain": [
       "Text(0, 0.5, 'Henries')"
      ]
     },
     "execution_count": 57,
     "metadata": {},
     "output_type": "execute_result"
    },
    {
     "data": {
      "image/png": "[encoded data removed]",
      "text/plain": [
       "<Figure size 432x288 with 1 Axes>"
      ]
     },
     "metadata": {
      "needs_background": "light"
     },
     "output_type": "display_data"
    }
   ],
   "source": [
    "# and the sweep of corrective inductance:\n",
    "Lsweep = -Xsweep/omega\n",
    "plt.plot(fsweep, Lsweep)\n",
    "plt.grid()\n",
    "plt.title(\"inductor needed for BC Band\")\n",
    "plt.xlabel(\"Frequency (Hz)\")\n",
    "plt.ylabel(\"Henries\")\n"
   ]
  },
  {
   "cell_type": "markdown",
   "id": "14f12f4d",
   "metadata": {},
   "source": [
    "The variable inductor I have is 3.25\" in diameter wound with AWG22 wire closely spaced. \n",
    "The overall length of the inductor is 6\" and is air. Using https://crystalradio.net/professorcoyle/professorcoylecyl.shtml I get for the full \n",
    "length of the inductor: 3184.7 uH. So this should work fine. <br> \n",
    "\n",
    "If we assume that all of the reactance of the downstream system is dominated by the \n",
    "headphones. Lets have a look."
   ]
  },
  {
   "cell_type": "code",
   "execution_count": 58,
   "id": "f2c171dc",
   "metadata": {},
   "outputs": [
    {
     "data": {
      "text/plain": [
       "Text(0, 0.5, 'Ohms')"
      ]
     },
     "execution_count": 58,
     "metadata": {},
     "output_type": "execute_result"
    },
    {
     "data": {
      "image/png": "[encoded data removed]",
      "text/plain": [
       "<Figure size 432x288 with 1 Axes>"
      ]
     },
     "metadata": {
      "needs_background": "light"
     },
     "output_type": "display_data"
    }
   ],
   "source": [
    "# I have a capacitor after the diode. \n",
    "C_det = 0.01e-6      # farads\n",
    "X_det = -1.0/(omega*C_det)\n",
    "plt.plot(fsweep, X_det)\n",
    "plt.grid()\n",
    "plt.title(\"assumed detector impedence. \")\n",
    "plt.xlabel(\"Frequency (Hz)\")\n",
    "plt.ylabel(\"Ohms\")\n",
    "# Woof, this is pretty low. \n",
    "# but assume my headphones are 2k ohms. "
   ]
  },
  {
   "cell_type": "markdown",
   "id": "2b4215df",
   "metadata": {},
   "source": [
    "Impedance of Parallel RLC circuit. https://www.omnicalculator.com/physics/rlc-impedance <br> \n",
    "$Z = {1.0\\over{\\sqrt{({1.0\\over{R^2}}) + ({1.0\\over{\\omega L}}-\\omega C)^2}}}$"
   ]
  },
  {
   "cell_type": "code",
   "execution_count": 59,
   "id": "b45cbf3d",
   "metadata": {},
   "outputs": [],
   "source": [
    "def ParallelResonantImpedance(R,L,C,omega):\n",
    "    \"\"\"\n",
    "    Return the magnitude of the impedance of a parallel tuned RLC circuit. \n",
    "    @param R - resistance in Ohms\n",
    "    @param L - inductance in heneries\n",
    "    @param C - capacitance in Farads\n",
    "    @param omega - Frequency in radians/s\n",
    "    Ref: https://www.omnicalculator.com/physics/rlc-impedance\n",
    "    \"\"\"\n",
    "    Denom2 = 1.0/np.power(R,2.0) + np.power((1.0/(omega*L)-omega*C),2.0) \n",
    "    return 1.0/np.sqrt(Denom2)"
   ]
  },
  {
   "cell_type": "code",
   "execution_count": 60,
   "id": "bc08d5dd",
   "metadata": {},
   "outputs": [
    {
     "name": "stdout",
     "output_type": "stream",
     "text": [
      " Expected impedence:  1955.288072195972  ohms\n"
     ]
    }
   ],
   "source": [
    "# test\n",
    "# Use the actual values. \n",
    "L = 262.0e-6       # Henries on the air core inductor, 2\" coil form\n",
    "C = 60.0e-12       # Farads\n",
    "F = 1420.0e3       # Hz\n",
    "R = 2000.0         # assumed on headphones\n",
    "omega = 2*konst.pi*F\n",
    "Z = ParallelResonantImpedance(R,L,C,omega)\n",
    "print(\" Expected impedence: \", Z, \" ohms\")"
   ]
  },
  {
   "cell_type": "markdown",
   "id": "e38494d2",
   "metadata": {},
   "source": [
    "This is really dominated by the impedence of the headphones! Looking at the plot above of the antenna reactance\n",
    "this is like 5:2 ratio for 1420KHz, assume a 2K impedence as the dominant value and plot the ratio of the\n",
    "antenna reactance to the input impedance. "
   ]
  },
  {
   "cell_type": "code",
   "execution_count": 61,
   "id": "b6150308",
   "metadata": {},
   "outputs": [
    {
     "data": {
      "text/plain": [
       "Text(0, 0.5, 'Ratio')"
      ]
     },
     "execution_count": 61,
     "metadata": {},
     "output_type": "execute_result"
    },
    {
     "data": {
      "image/png": "[encoded data removed]",
      "text/plain": [
       "<Figure size 432x288 with 1 Axes>"
      ]
     },
     "metadata": {
      "needs_background": "light"
     },
     "output_type": "display_data"
    }
   ],
   "source": [
    "plt.plot(fsweep, -Xsweep/2000.0)\n",
    "plt.grid()\n",
    "plt.title(\"Transformer needed\")\n",
    "plt.xlabel(\"Frequency (Hz)\")\n",
    "plt.ylabel(\"Ratio\")\n"
   ]
  },
  {
   "cell_type": "code",
   "execution_count": null,
   "id": "6d56d3ad",
   "metadata": {},
   "outputs": [],
   "source": []
  }
 ],
 "metadata": {
  "kernelspec": {
   "display_name": "Python 3 (ipykernel)",
   "language": "python",
   "name": "python3"
  },
  "language_info": {
   "codemirror_mode": {
    "name": "ipython",
    "version": 3
   },
   "file_extension": ".py",
   "mimetype": "text/x-python",
   "name": "python",
   "nbconvert_exporter": "python",
   "pygments_lexer": "ipython3",
   "version": "3.10.6"
  }
 },
 "nbformat": 4,
 "nbformat_minor": 5
}
