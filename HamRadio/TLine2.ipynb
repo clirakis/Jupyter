{
 "cells": [
  {
   "cell_type": "code",
   "execution_count": 3,
   "metadata": {},
   "outputs": [],
   "source": [
    "import numpy as np\n",
    "import matplotlib.pyplot as plt\n",
    "import skrf as rf\n",
    "from skrf import Network\n",
    "from skrf import plotting\n",
    "# The example uses pylab - I think this further encourages sloppy usage. \n",
    "# from pylab import *"
   ]
  },
  {
   "cell_type": "markdown",
   "metadata": {},
   "source": [
    "<hr>\n",
    "Modified   By   Reason <br>\n",
    "17-Jan-22  CBL  Original <br>\n",
    "Online docs: <br>\n",
    "<ul>\n",
    "<li> https://scikit-rf.readthedocs.io/en/latest/tutorials/Plotting.html </li>\n",
    "<li> github associated with this: https://github.com/scikit-rf/ </li>\n",
    "<li> https://scikit-rf.readthedocs.io/en/latest/examples/networktheory/Transmission%20Line%20Properties%20and%20Manipulations.html </li>\n",
    "</ul>\n",
    "<img src=\"transmission_line_properties.svg\" />\n",
    "<hr>"
   ]
  },
  {
   "cell_type": "code",
   "execution_count": 4,
   "metadata": {},
   "outputs": [],
   "source": [
    "# skrf figure styling\n",
    "rf.stylely()"
   ]
  },
  {
   "cell_type": "code",
   "execution_count": 6,
   "metadata": {},
   "outputs": [],
   "source": [
    "freq = rf.Frequency(250, npoints=1, unit='MHz')\n",
    "Z_0 = 75  # Ohm\n",
    "Z_L = 150  # Ohm\n",
    "d   = 12  # m\n",
    "VF  = 0.67\n",
    "att = 0.02 # Np/m. Equivalent to 0.1737 dB/m"
   ]
  },
  {
   "cell_type": "markdown",
   "metadata": {},
   "source": [
    "In order to get the RF parameters of the transmission line, it is necessary to derive the propagation constant of the line. The propagation constant $\\gamma$ of the line is defined in scikit-rf as $\\gamma = \\alpha + j \\beta $ where $\\alpha $ is the attenuation (in Neper/m) and $\\beta = {2\\pi \\over {\\lambda}} = {\\omega \\over{c}}//VF =  {\\omega \\over{c}} \\sqrt{\\epsilon_r}$ <br> \n",
    "The Wavelength of the coaxial cable is: <br> \n",
    "<center> \n",
    "$\\lambda = {c\\over{f \\sqrt{\\epsilon_r}}} = {c \\over{f}}VF $\n",
    "</center>"
   ]
  },
  {
   "cell_type": "code",
   "execution_count": 8,
   "metadata": {},
   "outputs": [
    {
     "name": "stdout",
     "output_type": "stream",
     "text": [
      "VF= 0.67  and Wavelength:  [0.80344379] m\n"
     ]
    }
   ],
   "source": [
    "lambd = rf.c/freq.f * VF\n",
    "print('VF=',VF, ' and Wavelength: ', lambd, 'm')"
   ]
  },
  {
   "cell_type": "markdown",
   "metadata": {},
   "source": [
    "As the attenuation is already given in Np/m, the propagation constant is:"
   ]
  },
  {
   "cell_type": "code",
   "execution_count": 9,
   "metadata": {},
   "outputs": [
    {
     "name": "stdout",
     "output_type": "stream",
     "text": [
      "Transmission line propagation constant: gamma =  [0.02+7.82031725j] rad/m\n"
     ]
    }
   ],
   "source": [
    "alpha = att  # Np/m !\n",
    "beta = freq.w/rf.c/VF\n",
    "gamma = alpha + 1j*beta\n",
    "print('Transmission line propagation constant: gamma = ', gamma, 'rad/m')"
   ]
  },
  {
   "cell_type": "markdown",
   "metadata": {},
   "source": [
    "If the attenuation would have been given in other units, scikit-rf provides the necessary tools to convert units. "
   ]
  },
  {
   "cell_type": "code",
   "execution_count": 10,
   "metadata": {},
   "outputs": [
    {
     "name": "stdout",
     "output_type": "stream",
     "text": [
      "Attenuation dB/m: 0.1737177927613007\n",
      "Line attenuation in dB/100m: 17.37177927613007\n",
      "Line attenuation in dB/100ft: 5.2949183233644455\n"
     ]
    }
   ],
   "source": [
    "# db/m\n",
    "print('Attenuation dB/m:', rf.np_2_db(att))\n",
    "# db per 100m\n",
    "print('Line attenuation in dB/100m:', rf.np_2_db(att)*100)\n",
    "# feet\n",
    "print('Line attenuation in dB/100ft:', rf.np_2_db(att)*100*rf.feet_2_meter())"
   ]
  },
  {
   "cell_type": "markdown",
   "metadata": {},
   "source": [
    "and its associated Standing Wave Ratio (SWR) is obtained from"
   ]
  },
  {
   "cell_type": "code",
   "execution_count": 11,
   "metadata": {},
   "outputs": [
    {
     "data": {
      "text/plain": [
       "array([2.])"
      ]
     },
     "execution_count": 11,
     "metadata": {},
     "output_type": "execute_result"
    }
   ],
   "source": [
    "rf.zl_2_swr(Z_0, Z_L)"
   ]
  },
  {
   "cell_type": "markdown",
   "metadata": {},
   "source": [
    "After propagating by a distance, d, in the transmission line of propagation constant $\\gamma$ (having travelled an electrical length $\\theta = \\gamma d $ )  the reflection coefficient at the line input is obtained from"
   ]
  },
  {
   "cell_type": "code",
   "execution_count": 12,
   "metadata": {},
   "outputs": [
    {
     "name": "stdout",
     "output_type": "stream",
     "text": [
      "|Gamma_in|= [0.20626113] phase= [46.2918563]\n"
     ]
    }
   ],
   "source": [
    "Gamma_in = rf.zl_2_Gamma_in(Z_0, Z_L, theta=gamma*d)\n",
    "print('|Gamma_in|=', abs(Gamma_in), 'phase=', 180/rf.pi*angle(Gamma_in))"
   ]
  },
  {
   "cell_type": "markdown",
   "metadata": {},
   "source": [
    "The input impedance $Z_{in}$ is given by"
   ]
  },
  {
   "cell_type": "code",
   "execution_count": 13,
   "metadata": {},
   "outputs": [
    {
     "name": "stdout",
     "output_type": "stream",
     "text": [
      "Input impedance Z_in= [94.79804694+29.52482706j]\n"
     ]
    }
   ],
   "source": [
    "Z_in = rf.zl_2_zin(Z_0, Z_L, gamma * d)\n",
    "print('Input impedance Z_in=', Z_in)"
   ]
  },
  {
   "cell_type": "markdown",
   "metadata": {},
   "source": [
    "Like previously, the SWR at the line input is:"
   ]
  },
  {
   "cell_type": "code",
   "execution_count": 14,
   "metadata": {},
   "outputs": [
    {
     "data": {
      "text/plain": [
       "array([1.51972037])"
      ]
     },
     "execution_count": 14,
     "metadata": {},
     "output_type": "execute_result"
    }
   ],
   "source": [
    "rf.zl_2_swr(Z_0, Z_in)"
   ]
  },
  {
   "cell_type": "markdown",
   "metadata": {},
   "source": [
    "The total line loss in dB is get from"
   ]
  },
  {
   "cell_type": "code",
   "execution_count": 15,
   "metadata": {},
   "outputs": [
    {
     "data": {
      "text/plain": [
       "array([2.40732856])"
      ]
     },
     "execution_count": 15,
     "metadata": {},
     "output_type": "execute_result"
    }
   ],
   "source": [
    "rf.mag_2_db10(rf.zl_2_total_loss(Z_0, Z_L, gamma*d))"
   ]
  },
  {
   "cell_type": "code",
   "execution_count": null,
   "metadata": {},
   "outputs": [],
   "source": []
  }
 ],
 "metadata": {
  "kernelspec": {
   "display_name": "Python 3 (ipykernel)",
   "language": "python",
   "name": "python3"
  },
  "language_info": {
   "codemirror_mode": {
    "name": "ipython",
    "version": 3
   },
   "file_extension": ".py",
   "mimetype": "text/x-python",
   "name": "python",
   "nbconvert_exporter": "python",
   "pygments_lexer": "ipython3",
   "version": "3.10.6"
  }
 },
 "nbformat": 4,
 "nbformat_minor": 2
}
