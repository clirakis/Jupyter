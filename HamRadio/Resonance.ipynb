{
 "cells": [
  {
   "cell_type": "code",
   "execution_count": 54,
   "id": "a0412708",
   "metadata": {},
   "outputs": [],
   "source": [
    "\"\"\"\n",
    "Calculate impedence and resonant frequency of various LC \n",
    "\n",
    "17-Dec-22   CBL Original\n",
    "\"\"\"\n",
    "import numpy as np\n",
    "import matplotlib.pyplot as plt\n",
    "import math"
   ]
  },
  {
   "cell_type": "code",
   "execution_count": 84,
   "id": "447696d9",
   "metadata": {},
   "outputs": [],
   "source": [
    "# define a global constant\n",
    "mPerIn = 0.0254  # meters per inch\n",
    "\n",
    "def F0(L,C):\n",
    "    \"\"\" \n",
    "    return resonant frequency from L and C inputs\n",
    "    @L input inductance (Henrys)\n",
    "    @C input capacitance (Farads)\n",
    "    \"\"\"\n",
    "    F = 1.0/(2.0 * np.pi * np.sqrt(L*C))\n",
    "    return F*1.0e-6   # in MHz\n",
    "\n",
    "def Z0(L,C):\n",
    "    \"\"\" \n",
    "    return impedence from L and C inputs\n",
    "    @L input inductance (Henrys)\n",
    "    @C input capacitance (Farads)\n",
    "    \"\"\"\n",
    "    return np.sqrt(L/C)  # in ohms\n",
    "\n",
    "def Z_L(F, L):\n",
    "    \"\"\"\n",
    "    return Z from L\n",
    "    @F input frequency in Hz\n",
    "    @L input inductance (Henrys)\n",
    "    \"\"\"\n",
    "    return 2.0*np.pi*L\n",
    "\n",
    "\n",
    "def Z_C(F, C):\n",
    "    \"\"\"\n",
    "    return Z from C\n",
    "    @F input frequency in Hz\n",
    "    @C input capacitance in Farads\n",
    "    \"\"\"\n",
    "    return 1.0/(2.0*np.pi*C)\n",
    "\n",
    "def Q( R, L, C):\n",
    "    \"\"\" return Q\n",
    "    @R - resistance in Ohms\n",
    "    @L - inductance in Henrys\n",
    "    @C - capacitance in Farads\n",
    "    \"\"\"\n",
    "    return 1.0/(R*np.sqrt(C/L))\n",
    "    \n",
    "def LoopInductance(R, wd):\n",
    "    \"\"\"\n",
    "    Calculate the inductance of a loop. \n",
    "    @R - radius of ring in meters\n",
    "    @wd - diameter of wire in meters\n",
    "    Taken from \"Reference Data for Radio Engineers, third edition\", 1943, Page 90\n",
    "    AWG - https://www.powerstream.com/Wire_Size.htm\n",
    "    \"\"\"\n",
    "    a = R/mPerIn       # convert from meters to inches for loop radius\n",
    "    d = wd/mPerIn/2.0  #\n",
    "    L = a/100.0 * (7.353 * np.log10(16.0*a/d) - 6.386) # microhenrys\n",
    "    return L\n",
    "\n",
    "def CFromFL(F,L):\n",
    "    \"\"\" \n",
    "    return C in Farads \n",
    "    @F - frequency (Hz)\n",
    "    @L - Inductance (H)\n",
    "    \"\"\"\n",
    "    return 1.0/(L*np.power(2.0*np.pi*F,2.0))\n",
    "\n",
    "def LoopArea(R):\n",
    "    \"\"\"\n",
    "    Return the Loop area in M. \n",
    "    R - radius of loop in meters\n",
    "    \"\"\"\n",
    "    return np.pi*np.power(R,2.0)\n"
   ]
  },
  {
   "cell_type": "markdown",
   "id": "acc3897d",
   "metadata": {},
   "source": [
    "Taken from \"Reference Data for Radio Engineers, third edition\", 1943, Page 90. Self inductance of a circular Ring\n",
    "of round wire at radio frequencies. <br>\n",
    "$L = {a\\over{100}} [7.353 log_{10}({16a\\over{d}}-6.386)]$\n",
    "<br>\n",
    "where:\n",
    "a = mean radius of ring in inches\n",
    "d = diameter of wire in inches and\n",
    "$ {a\\over{d}} > 2.5 $\n",
    "<br>"
   ]
  },
  {
   "cell_type": "code",
   "execution_count": 73,
   "id": "62748360",
   "metadata": {},
   "outputs": [
    {
     "name": "stdout",
     "output_type": "stream",
     "text": [
      "0  L:  0.001  F high:  0.8896987307889387  F Low:  0.2753878191362461\n",
      "1  L:  0.00018  F high:  2.0969922553777574  F Low:  0.6490805302621865\n",
      "2  L:  2.2e-05  F high:  5.9970148079148515  F Low:  1.8562517536863028\n",
      "3  L:  3.3e-06  F high:  15.464331313136897  F Low:  4.786663538284187\n",
      "4  L:  0  F high:  281.34884879909566  F Low:  87.08571025898972\n"
     ]
    }
   ],
   "source": [
    "\"\"\"\n",
    "Looking at active antenna design. \n",
    "\"\"\"\n",
    "Cinline  = 12.0e-12\n",
    "CLow     = 20.0e-12 \n",
    "CHigh    = 322.0e-12 \n",
    "L        = [ 1000.0e-6, 180e-6, 22e-6, 3.3e-6, 0] # Henrys, I don't really know the last one\n",
    "L_inline = 1.0e-8\n",
    "\n",
    "for i in range(5):\n",
    "    print(i, ' L: ', L[i], ' F high: ', F0(L[i]+L_inline,CLow+Cinline), ' F Low: ', F0(L[i]+L_inline, CHigh+Cinline))"
   ]
  },
  {
   "cell_type": "markdown",
   "id": "14d37499",
   "metadata": {},
   "source": [
    "not quite right but doesn't take into account parasitic capacitances. This is all based on the input to a MFJ-1020C\n",
    "active antenna. Discontinued. "
   ]
  },
  {
   "cell_type": "code",
   "execution_count": 74,
   "id": "3f55b15a",
   "metadata": {},
   "outputs": [
    {
     "name": "stdout",
     "output_type": "stream",
     "text": [
      "Loop inductance:  1.5969046697822843e-06  Henrys, Frequency:  28.16213904263174  Impedence:  282.5689889020276\n",
      "N:  34\n"
     ]
    },
    {
     "data": {
      "text/plain": [
       "Text(0, 0.5, 'Frequency (Mhz)')"
      ]
     },
     "execution_count": 74,
     "metadata": {},
     "output_type": "execute_result"
    },
    {
     "data": {
      "image/png": "[encoded data removed]",
      "text/plain": [
       "<Figure size 432x288 with 1 Axes>"
      ]
     },
     "metadata": {
      "needs_background": "light"
     },
     "output_type": "display_data"
    }
   ],
   "source": [
    "# Look at a loop antenna \n",
    "# https://l-36.com/Copper_tube.php\n",
    "D5  = 0.625 * mPerIn # 1/2 copper type K in inches\n",
    "D25 = 0.265 * mPerIn # 1/4 copper type K in inches\n",
    "R   = 0.25  # radius of loop in meters\n",
    "\n",
    "a = R/mPerIn       # convert from meters to inches for loop radius\n",
    "d = D25/mPerIn/2.0  #\n",
    "\n",
    "L = LoopInductance(R, D25) * 1.0e-6\n",
    "C = 20.0e-12\n",
    "print('Loop inductance: ', L, ' Henrys, Frequency: ', F0(L,C), ' Impedence: ', Z0(L,C))\n",
    "start = 20.0\n",
    "stop  = 360.0\n",
    "step  = 10.0\n",
    "N     = int((stop-start)/step)\n",
    "print('N: ', N)\n",
    "Fs = np.zeros(N)\n",
    "C0 = np.zeros(N)\n",
    "Z  = np.zeros(N)\n",
    "Q0 = np.zeros(N)\n",
    "x  = start\n",
    "\n",
    "for i in range(N):\n",
    "    Ct    = x * 1.0e-12\n",
    "    C0[i] = Ct\n",
    "    Fs[i] = F0(L, Ct)\n",
    "    Z[i]  = Z0(L,Ct)\n",
    "    Q0[i] = Q(0.1, L, Ct)\n",
    "    #print(\"Z \", Z[i])\n",
    "    x = x + step\n",
    "\n",
    "plt.plot(C0, Fs)\n",
    "plt.grid(True)\n",
    "plt.xlabel('Capacitance(F)')\n",
    "plt.ylabel('Frequency (Mhz)')"
   ]
  },
  {
   "cell_type": "code",
   "execution_count": 75,
   "id": "2c20cdaa",
   "metadata": {},
   "outputs": [
    {
     "data": {
      "text/plain": [
       "Text(0.5, 0, 'Frequency (Mhz)')"
      ]
     },
     "execution_count": 75,
     "metadata": {},
     "output_type": "execute_result"
    },
    {
     "data": {
      "image/png": "[encoded data removed]",
      "text/plain": [
       "<Figure size 432x288 with 1 Axes>"
      ]
     },
     "metadata": {
      "needs_background": "light"
     },
     "output_type": "display_data"
    }
   ],
   "source": [
    "plt.plot(Fs,Z)\n",
    "plt.grid(True)\n",
    "plt.ylabel('Impedence(Ohms)')\n",
    "plt.xlabel('Frequency (Mhz)')"
   ]
  },
  {
   "cell_type": "markdown",
   "id": "fad96029",
   "metadata": {},
   "source": []
  },
  {
   "cell_type": "code",
   "execution_count": 76,
   "id": "417daafa",
   "metadata": {},
   "outputs": [
    {
     "data": {
      "text/plain": [
       "Text(0.5, 0, 'Frequency (Mhz)')"
      ]
     },
     "execution_count": 76,
     "metadata": {},
     "output_type": "execute_result"
    },
    {
     "data": {
      "image/png": "[encoded data removed]",
      "text/plain": [
       "<Figure size 432x288 with 1 Axes>"
      ]
     },
     "metadata": {
      "needs_background": "light"
     },
     "output_type": "display_data"
    }
   ],
   "source": [
    "plt.plot(Fs,Q0)\n",
    "plt.grid(True)\n",
    "plt.ylabel('Q')\n",
    "plt.xlabel('Frequency (Mhz)')"
   ]
  },
  {
   "cell_type": "markdown",
   "id": "2a25e1be",
   "metadata": {},
   "source": [
    "Q is definitely not correct."
   ]
  },
  {
   "cell_type": "code",
   "execution_count": 92,
   "id": "4fc8cfd1",
   "metadata": {},
   "outputs": [
    {
     "name": "stdout",
     "output_type": "stream",
     "text": [
      "F1:  88000000.0  C:  1.49900110928032e-11  Z:  120.65227220811384\n",
      "F2:  108000000.0  C:  9.9522158695703e-12  Z: 148.07324316450337\n",
      "Transformed Z: 49.41917069644342\n"
     ]
    }
   ],
   "source": [
    "# What would C be for FM broadcast band for a loop? \n",
    "R   = 0.05  # radius of loop in meters\n",
    "LFM = LoopInductance(R, D25) * 1.0e-6\n",
    "F1 = 88.0e6\n",
    "F2 = 108.0e6\n",
    "C1 = CFromFL(F1,LFM)\n",
    "Z1 = Z0(LFM, C1)\n",
    "print('F1: ', F1, \" C: \", C1, ' Z: ',Z1)\n",
    "C2 = CFromFL(F2,LFM)\n",
    "Z2 = Z0(LFM, C2)\n",
    "print('F2: ', F2, \" C: \", C2,' Z:', Z2)\n",
    "A1 = LoopArea(R)\n",
    "A2 = LoopArea(0.032)\n",
    "print('Transformed Z:',Z1*A2/A1)"
   ]
  },
  {
   "cell_type": "code",
   "execution_count": null,
   "id": "2cce4b2f",
   "metadata": {},
   "outputs": [],
   "source": []
  }
 ],
 "metadata": {
  "kernelspec": {
   "display_name": "Python 3 (ipykernel)",
   "language": "python",
   "name": "python3"
  },
  "language_info": {
   "codemirror_mode": {
    "name": "ipython",
    "version": 3
   },
   "file_extension": ".py",
   "mimetype": "text/x-python",
   "name": "python",
   "nbconvert_exporter": "python",
   "pygments_lexer": "ipython3",
   "version": "3.10.6"
  }
 },
 "nbformat": 4,
 "nbformat_minor": 5
}
