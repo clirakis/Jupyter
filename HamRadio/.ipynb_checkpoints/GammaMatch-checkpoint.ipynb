{
 "cells": [
  {
   "cell_type": "code",
   "execution_count": 2,
   "metadata": {},
   "outputs": [],
   "source": [
    "import numpy as np\n",
    "import matplotlib.pyplot as plt\n",
    "import math"
   ]
  },
  {
   "cell_type": "markdown",
   "metadata": {},
   "source": [
    "Modified       By     Reason\n",
    "15-Jan-22      CBL    Original - taken from: https://ea5nd.com/wp-content/uploads/2017/11/Gamma-Match.pdf"
   ]
  },
  {
   "cell_type": "code",
   "execution_count": 12,
   "metadata": {},
   "outputs": [],
   "source": [
    "def FNCSH(x):\n",
    "    return np.log(x+np.sqrt(x*x-1))"
   ]
  },
  {
   "cell_type": "code",
   "execution_count": 13,
   "metadata": {},
   "outputs": [],
   "source": [
    "Frequency = 145.0 # MHz\n",
    "Feed_R = 50.0     # Feedpoint resistance in ohms (RA)\n",
    "Feed_X = 0.0      # Feedpoint reactance ohms (XA)\n",
    "FeedLine = 50.0   # FeedLine impedence ohms (RO)\n",
    "DE_D     = 0.25   # Driven Element diameter in inches (DE)\n",
    "Gamma_D  = 0.25   # Gamma match rod diameter in inches (DR)\n",
    "Gamma_S  = 1.0    # Gamma rod spacing in inches (S)"
   ]
  },
  {
   "cell_type": "code",
   "execution_count": 15,
   "metadata": {},
   "outputs": [
    {
     "name": "stdout",
     "output_type": "stream",
     "text": [
      "Gamma Length (Degrees): 0.6609957273976862\n",
      "Gamma Length in Feet: 0.012460149344048337\n",
      "Gamma Capacitor (pF): 1.9521749294441504\n"
     ]
    }
   ],
   "source": [
    "A = (4.0*Gamma_S*Gamma_S - DE_D*DE_D + Gamma_D*Gamma_D)/(4.0*Gamma_S*Gamma_D)\n",
    "B = (4.0*Gamma_S*Gamma_S + DE_D*DE_D + Gamma_D*Gamma_D)/(4.0*DE_D*Gamma_D)\n",
    "HZ = np.power(1 + FNCSH(A)/FNCSH(B),2.0)\n",
    "Z0 = 60.0 * FNCSH(4.0*Gamma_S*Gamma_S - DE_D*DE_D - Gamma_D*Gamma_D)/(2.0*DE_D*Gamma_D)\n",
    "T = HZ/Z0\n",
    "A = (FeedLine*Feed_X)/(HZ*Feed_R-FeedLine)\n",
    "B = FeedLine*(np.power(Feed_R,2.0)+np.power(Feed_X,2.0))/(HZ*Feed_R*FeedLine)\n",
    "Q = A + np.sqrt(A*A+B)\n",
    "XS = HZ * ((FeedLine*Feed_X+np.sqrt(np.power(FeedLine*Feed_X,2.0)+FeedLine*(HZ*Feed_R-FeedLine)*\n",
    "                                    (np.power(Feed_R,2.0)+np.power(Feed_X,2.0))))/(HZ*Feed_R-FeedLine))\n",
    "LDRA = np.arctan(Q*T)\n",
    "LDR = np.rad2deg(LDRA)\n",
    "E = FeedLine/Feed_R * (np.power(Feed_R,2.0)+np.power(Feed_X,2.0))/Q\n",
    "G = FeedLine/Feed_R * Feed_X\n",
    "CR = 1.0E6/(2.0*np.pi*Frequency*(E+G))\n",
    "print('Gamma Length (Degrees):',LDR)\n",
    "FT = (984.0/Frequency)*(LDR/360.0)\n",
    "print('Gamma Length in Feet:', FT)\n",
    "print('Gamma Capacitor (pF):', CR)"
   ]
  },
  {
   "cell_type": "code",
   "execution_count": null,
   "metadata": {},
   "outputs": [],
   "source": []
  }
 ],
 "metadata": {
  "kernelspec": {
   "display_name": "Python 3",
   "language": "python",
   "name": "python3"
  },
  "language_info": {
   "codemirror_mode": {
    "name": "ipython",
    "version": 3
   },
   "file_extension": ".py",
   "mimetype": "text/x-python",
   "name": "python",
   "nbconvert_exporter": "python",
   "pygments_lexer": "ipython3",
   "version": "3.6.9"
  }
 },
 "nbformat": 4,
 "nbformat_minor": 2
}
