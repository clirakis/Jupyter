{
 "cells": [
  {
   "cell_type": "markdown",
   "id": "f6c9e498",
   "metadata": {},
   "source": [
    "<hr> \n",
    "25-Feb-23 CBL Original.\n",
    "<hr>\n",
    "Future work, play with antennas. <br>\n",
    "https://pypi.org/project/PyNEC/\n",
    "<br> "
   ]
  }
 ],
 "metadata": {
  "kernelspec": {
   "display_name": "Python 3 (ipykernel)",
   "language": "python",
   "name": "python3"
  },
  "language_info": {
   "codemirror_mode": {
    "name": "ipython",
    "version": 3
   },
   "file_extension": ".py",
   "mimetype": "text/x-python",
   "name": "python",
   "nbconvert_exporter": "python",
   "pygments_lexer": "ipython3",
   "version": "3.10.6"
  }
 },
 "nbformat": 4,
 "nbformat_minor": 5
}
