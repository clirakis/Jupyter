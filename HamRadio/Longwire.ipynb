{
 "cells": [
  {
   "cell_type": "markdown",
   "id": "7e139b2d",
   "metadata": {},
   "source": [
    "Thoughts on a longwire antenna. <br>\n",
    "<hr>\n",
    "28-Jan-23      CBL       Original \n",
    "<hr>\n",
    "references: \n",
    "Inductance of a long wire: <br> \n",
    "https://www.electronics-notes.com/articles/basic_concepts/inductance/inductance-of-straight-wire-coils.php <br> \n",
    "https://physics.stackexchange.com/questions/11799/derivation-of-self-inductance-of-a-long-wire <br>\n",
    "$ L = {\\Phi \\over{I}}$ <br>\n",
    "<br>\n",
    "Capacitance of a long wire over a conducting plane: <br> \n",
    "https://www.emisoftware.com/calculator/wire-over-ground-plane-capacitance/ <br> \n",
    "scipi.constants have all the physical constants in it. <br>\n",
    "https://docs.scipy.org/doc/scipy/reference/constants.html <br>\n"
   ]
  },
  {
   "cell_type": "code",
   "execution_count": 2,
   "id": "1f8f5b75",
   "metadata": {},
   "outputs": [],
   "source": [
    "import numpy as np\n",
    "import matplotlib.pyplot as plt\n",
    "import math\n",
    "import scipy.constants   as konst"
   ]
  },
  {
   "cell_type": "code",
   "execution_count": 2,
   "id": "e1675c43",
   "metadata": {},
   "outputs": [],
   "source": [
    "def Inductance(length, radius):\n",
    "    \"\"\"\n",
    "    Compute low frequency inductance of a long wire in Heneries\n",
    "    @param length - length of wire in m\n",
    "    @param radius - radius of wire in m\n",
    "    \n",
    "    https://www.electronics-notes.com/articles/basic_concepts/inductance/inductance-of-straight-wire-coils.php\n",
    "    \"\"\"\n",
    "    L_dc = 2.0*length*1.0e2*(np.log(2*length/radius)-0.75) * 1.0e-9\n",
    "    \n",
    "    return L_dc"
   ]
  },
  {
   "cell_type": "markdown",
   "id": "f0fef43e",
   "metadata": {},
   "source": [
    "Grover Calculation: <br> \n",
    "$ L_{wire} = 2l\\{ ln \\left[ ({2L \\over{D}}) (1+\\sqrt{1+({D \\over{2L}})^2})\\right] -  \\sqrt{1+({D \\over{2L}})^2} +{\\mu \\over{4}} +({D\\over{2L}})\\}$"
   ]
  },
  {
   "cell_type": "code",
   "execution_count": 30,
   "id": "93bf0824",
   "metadata": {},
   "outputs": [],
   "source": [
    "def Inductance2(length, Diameter):\n",
    "    \"\"\"\n",
    "    more accurate calculation based on grover\n",
    "    @param length - length of wire in cm\n",
    "    @param Diameter - of wire in cm\n",
    "    \n",
    "    https://www.allaboutcircuits.com/tools/wire-self-inductance-calculator/\n",
    "    \n",
    "    \"\"\"\n",
    "    D_2L    = Diameter/(2.0*length)           # D/2L appears often calculate it here\n",
    "    sqrtval = np.sqrt(1.0+(D_2L*D_2L))        # sqrt (1+(D/2L)^2) also appears often\n",
    "    L = 2.0 * length * (np.log((1.0+sqrtval)/D_2L) - sqrtval + konst.mu_0/4.0 + D_2L)\n",
    "    return L*1.0e-9                           # scale to Henries"
   ]
  },
  {
   "cell_type": "code",
   "execution_count": 49,
   "id": "dcaae9af",
   "metadata": {},
   "outputs": [],
   "source": [
    "def InductanceOverGP(length, Diameter, height):\n",
    "    \"\"\"\n",
    "    Still assuming the earth is a decent conductor. \n",
    "    https://www.allaboutcircuits.com/tools/wire-over-plane-inductance-calculator/\n",
    "    @param length\n",
    "    @param Diameter\n",
    "    @param height\n",
    "    \"\"\"\n",
    "    L = konst.mu_0 * length/(2.0*np.pi) * np.arccosh(height/Diameter) \n",
    "    return L"
   ]
  },
  {
   "cell_type": "code",
   "execution_count": 43,
   "id": "610bbfe1",
   "metadata": {},
   "outputs": [],
   "source": [
    "def Capacitance(length, height, radius):\n",
    "    \"\"\"\n",
    "    determine the capacitance per length of a wire over a ground plane. This does not take\n",
    "    into account the conductivity of the ground plane. \n",
    "    @param length - m \n",
    "    @param height - m height above ground plane\n",
    "    \"\"\"\n",
    "    #e_0 =  8.854187812813e-12    # F/m\n",
    "    C = 2.0 * np.pi * length * konst.epsilon_0/(np.arccosh(height/radius)) # in Farads\n",
    "    \n",
    "    return C"
   ]
  },
  {
   "cell_type": "code",
   "execution_count": 65,
   "id": "16cfda6e",
   "metadata": {},
   "outputs": [],
   "source": [
    "def Freq(L,C):\n",
    "    return 1.0/(2.0*np.pi*np.sqrt(L*C))"
   ]
  },
  {
   "cell_type": "code",
   "execution_count": 66,
   "id": "5d1b55b1",
   "metadata": {},
   "outputs": [
    {
     "name": "stdout",
     "output_type": "stream",
     "text": [
      "Cap:  2.9511843289966395e-10\n",
      "L:  0.0001189432957646333\n",
      "L2:  0.00011644336342212189\n",
      "F:  849477.6942447078\n",
      "Z:  634.8510116564031\n"
     ]
    }
   ],
   "source": [
    "# \n",
    "# AWG wire sizes: https://pbxbook.com/other/awgsizes.html\n",
    "# 22 gauge wire\n",
    "awg_22 = 0.64516e-3        # diameter in meters\n",
    "r = awg_22/2  # * 1.0e-3   # AWG radius in meters\n",
    "Len = 50.0                 # Length of longwire meters\n",
    "h = 2.0                    # height above the ground plane in meters\n",
    "OnlineResult_L = 1.19e-4\n",
    "Cwop = Capacitance( Len, h, r)\n",
    "L = Inductance (Len, r)\n",
    "print(\"Cap: \", C)\n",
    "print(\"L: \", L)\n",
    "# convert from m to cm, input is in cm\n",
    "print(\"L2: \", Inductance2(Len*100,awg_22*100))\n",
    "print(\"F: \", 1.0/(2.0*np.pi*np.sqrt(L*Cwop)))\n",
    "print(\"Z: \", np.sqrt(L/Cwop))\n",
    "# something is not quite right. \n",
    "# having a resonant frequency of 850kHz seems odd."
   ]
  },
  {
   "cell_type": "code",
   "execution_count": 45,
   "id": "08450f98",
   "metadata": {},
   "outputs": [
    {
     "name": "stdout",
     "output_type": "stream",
     "text": [
      "Lambda:  352.91415541562634  meters\n",
      " Requred Capacitance:  2.9511891527763054e-10\n"
     ]
    }
   ],
   "source": [
    "# lets do the inverse calculation\n",
    "F0 = 849477.0 # Hz\n",
    "Lambda = konst.c/F0\n",
    "print (\"Lambda: \", Lambda, \" meters\")\n",
    "#\n",
    "# For the given inductance, what capacitance would we get\n",
    "#\n",
    "C_calc = 1.0/(np.power(2.0*np.pi*F0, 2)*L)\n",
    "print(\" Requred Capacitance: \", C_calc)"
   ]
  },
  {
   "cell_type": "code",
   "execution_count": 46,
   "id": "a31e40c1",
   "metadata": {},
   "outputs": [
    {
     "name": "stdout",
     "output_type": "stream",
     "text": [
      "Dipole length:  5.35343675  meters\n"
     ]
    }
   ],
   "source": [
    "# Lets try this for a 10m dipole. \n",
    "F10 = 28.0e6               # Hz\n",
    "Lambda10 = konst.c/F10/2.  # dipole length\n",
    "print(\"Dipole length: \", Lambda10, \" meters\")"
   ]
  },
  {
   "cell_type": "code",
   "execution_count": 64,
   "id": "70004f86",
   "metadata": {},
   "outputs": [
    {
     "name": "stdout",
     "output_type": "stream",
     "text": [
      " Results:  8.732306549774375e-08\n"
     ]
    }
   ],
   "source": [
    "# test wire over ground plane. \n",
    "# online results\n",
    "wop_result = 0.0000943       # Henries\n",
    "Lwop       = InductanceOverGP(0.05, awg_22, h)\n",
    "print(\" Results: \", Lwop)\n",
    "# Off by 7% or so, "
   ]
  },
  {
   "cell_type": "code",
   "execution_count": 71,
   "id": "f0a38374",
   "metadata": {},
   "outputs": [
    {
     "name": "stdout",
     "output_type": "stream",
     "text": [
      "New Freq:  31.351438828657283\n"
     ]
    }
   ],
   "source": [
    "#Recalculate based on this\n",
    "RFreq = Freq(Lwop, Cwop)\n",
    "print(\"New Freq: \", RFreq*1.0e-6)"
   ]
  },
  {
   "cell_type": "markdown",
   "id": "0599a9e4",
   "metadata": {},
   "source": [
    "This makes a hell of a lot more sense. <br>\n",
    "I should look into what is the derivation of inductance and capacitance of wire over conductor such that I\n",
    "can add in the conductivity. Take a look at Kraichman that has a lot of calculations in conductive media. Also\n",
    "https://www.hindawi.com/journals/js/2016/2765812/"
   ]
  },
  {
   "cell_type": "code",
   "execution_count": 74,
   "id": "2f11ac33",
   "metadata": {},
   "outputs": [
    {
     "name": "stdout",
     "output_type": "stream",
     "text": [
      "Zwop:  17.201499954058033\n"
     ]
    }
   ],
   "source": [
    "omega = 2*np.pi*RFreq\n",
    "print(\"Zwop: \", np.sqrt(Lwop/Cwop))"
   ]
  },
  {
   "cell_type": "code",
   "execution_count": 83,
   "id": "e9b15e13",
   "metadata": {},
   "outputs": [
    {
     "data": {
      "text/plain": [
       "Text(0, 0.5, 'Ohms')"
      ]
     },
     "execution_count": 83,
     "metadata": {},
     "output_type": "execute_result"
    },
    {
     "data": {
      "image/png": "[encoded data removed]",
      "text/plain": [
       "<Figure size 432x288 with 1 Axes>"
      ]
     },
     "metadata": {
      "needs_background": "light"
     },
     "output_type": "display_data"
    }
   ],
   "source": [
    "# Lets see how this behaves as a function of frequency\n",
    "fsweep = np.arange(500.0e3,2.0e6,1.0e3)\n",
    "omega = 2.0*np.pi*fsweep\n",
    "XLsweep = omega*Lwop\n",
    "XCsweep = 1.0/(omega*Cwop)\n",
    "plt.plot(fsweep, XLsweep)\n",
    "plt.grid()\n",
    "plt.title(\"Longwire inductive reactacnce for BC Band\")\n",
    "plt.xlabel(\"Distance(meters)\")\n",
    "plt.ylabel(\"Ohms\")\n"
   ]
  },
  {
   "cell_type": "code",
   "execution_count": 82,
   "id": "56621885",
   "metadata": {},
   "outputs": [
    {
     "data": {
      "text/plain": [
       "Text(0, 0.5, 'Ohms')"
      ]
     },
     "execution_count": 82,
     "metadata": {},
     "output_type": "execute_result"
    },
    {
     "data": {
      "image/png": "[encoded data removed]",
      "text/plain": [
       "<Figure size 432x288 with 1 Axes>"
      ]
     },
     "metadata": {
      "needs_background": "light"
     },
     "output_type": "display_data"
    }
   ],
   "source": [
    "plt.plot(fsweep, XCsweep)\n",
    "plt.grid()\n",
    "plt.title(\"Longwire capacitive reactacnce for BC Band\")\n",
    "plt.xlabel(\"Distance(meters)\")\n",
    "plt.ylabel(\"Ohms\")\n"
   ]
  },
  {
   "cell_type": "markdown",
   "id": "7d2b0eb9",
   "metadata": {},
   "source": [
    "This is all for an endfed wire (Zepp). This changes pretty dramatically for a dipole due to boundry conditions. A 9:1 balun will bring this down some. "
   ]
  },
  {
   "cell_type": "code",
   "execution_count": 84,
   "id": "f58683e2",
   "metadata": {},
   "outputs": [
    {
     "data": {
      "text/plain": [
       "Text(0, 0.5, 'Ohms')"
      ]
     },
     "execution_count": 84,
     "metadata": {},
     "output_type": "execute_result"
    },
    {
     "data": {
      "image/png": "[encoded data removed]",
      "text/plain": [
       "<Figure size 432x288 with 1 Axes>"
      ]
     },
     "metadata": {
      "needs_background": "light"
     },
     "output_type": "display_data"
    }
   ],
   "source": [
    "plt.plot(fsweep, XCsweep/9.0)\n",
    "plt.grid()\n",
    "plt.title(\"Longwire capacitive reactacnce for BC Band with 9:1\")\n",
    "plt.xlabel(\"Distance(meters)\")\n",
    "plt.ylabel(\"Ohms\")\n"
   ]
  },
  {
   "cell_type": "code",
   "execution_count": 3,
   "id": "78cefd8f",
   "metadata": {},
   "outputs": [
    {
     "data": {
      "text/plain": [
       "8.753521870054244e-05"
      ]
     },
     "execution_count": 3,
     "metadata": {},
     "output_type": "execute_result"
    }
   ],
   "source": [
    "550/(2.0*np.pi*1.0e6)"
   ]
  },
  {
   "cell_type": "code",
   "execution_count": null,
   "id": "6e4b4e88",
   "metadata": {},
   "outputs": [],
   "source": []
  }
 ],
 "metadata": {
  "kernelspec": {
   "display_name": "Python 3 (ipykernel)",
   "language": "python",
   "name": "python3"
  },
  "language_info": {
   "codemirror_mode": {
    "name": "ipython",
    "version": 3
   },
   "file_extension": ".py",
   "mimetype": "text/x-python",
   "name": "python",
   "nbconvert_exporter": "python",
   "pygments_lexer": "ipython3",
   "version": "3.10.6"
  }
 },
 "nbformat": 4,
 "nbformat_minor": 5
}
